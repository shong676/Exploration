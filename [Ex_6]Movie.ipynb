{
  "nbformat": 4,
  "nbformat_minor": 0,
  "metadata": {
    "colab": {
      "name": "이제진짜찐.ipynb",
      "provenance": [],
      "collapsed_sections": []
    },
    "kernelspec": {
      "name": "python3",
      "display_name": "Python 3"
    },
    "language_info": {
      "name": "python"
    }
  },
  "cells": [
    {
      "cell_type": "markdown",
      "source": [
        "# Exploration 06"
      ],
      "metadata": {
        "id": "KrDqwb2hQm0f"
      }
    },
    {
      "cell_type": "markdown",
      "source": [
        "# 데이터 준비와 확인"
      ],
      "metadata": {
        "id": "0k9X1tNqWMN6"
      }
    },
    {
      "cell_type": "code",
      "source": [
        "import pandas as pd\n",
        "from google.colab import drive\n",
        "drive.mount('/content/drive')\n",
        "\n",
        "# 데이터를 읽어봅시다. \n",
        "train_data = pd.read_table('/content/drive/MyDrive/LMS/Exploration/Ex.6/data/ratings_train.txt')\n",
        "test_data = pd.read_table('/content/drive/MyDrive/LMS/Exploration/Ex.6/data/ratings_test.txt')\n",
        "\n",
        "print(len(train_data))\n",
        "train_data.head()\n"
      ],
      "metadata": {
        "colab": {
          "base_uri": "https://localhost:8080/",
          "height": 243
        },
        "id": "6vyLV3qnWXAa",
        "outputId": "f51ab947-8b48-45f0-d317-5c4e858e2c5f"
      },
      "execution_count": 461,
      "outputs": [
        {
          "output_type": "stream",
          "name": "stdout",
          "text": [
            "Drive already mounted at /content/drive; to attempt to forcibly remount, call drive.mount(\"/content/drive\", force_remount=True).\n",
            "150000\n"
          ]
        },
        {
          "output_type": "execute_result",
          "data": {
            "text/html": [
              "\n",
              "  <div id=\"df-50cb2478-f41c-4f1d-84fc-5cd1224cc20a\">\n",
              "    <div class=\"colab-df-container\">\n",
              "      <div>\n",
              "<style scoped>\n",
              "    .dataframe tbody tr th:only-of-type {\n",
              "        vertical-align: middle;\n",
              "    }\n",
              "\n",
              "    .dataframe tbody tr th {\n",
              "        vertical-align: top;\n",
              "    }\n",
              "\n",
              "    .dataframe thead th {\n",
              "        text-align: right;\n",
              "    }\n",
              "</style>\n",
              "<table border=\"1\" class=\"dataframe\">\n",
              "  <thead>\n",
              "    <tr style=\"text-align: right;\">\n",
              "      <th></th>\n",
              "      <th>id</th>\n",
              "      <th>document</th>\n",
              "      <th>label</th>\n",
              "    </tr>\n",
              "  </thead>\n",
              "  <tbody>\n",
              "    <tr>\n",
              "      <th>0</th>\n",
              "      <td>9976970</td>\n",
              "      <td>아 더빙.. 진짜 짜증나네요 목소리</td>\n",
              "      <td>0</td>\n",
              "    </tr>\n",
              "    <tr>\n",
              "      <th>1</th>\n",
              "      <td>3819312</td>\n",
              "      <td>흠...포스터보고 초딩영화줄....오버연기조차 가볍지 않구나</td>\n",
              "      <td>1</td>\n",
              "    </tr>\n",
              "    <tr>\n",
              "      <th>2</th>\n",
              "      <td>10265843</td>\n",
              "      <td>너무재밓었다그래서보는것을추천한다</td>\n",
              "      <td>0</td>\n",
              "    </tr>\n",
              "    <tr>\n",
              "      <th>3</th>\n",
              "      <td>9045019</td>\n",
              "      <td>교도소 이야기구먼 ..솔직히 재미는 없다..평점 조정</td>\n",
              "      <td>0</td>\n",
              "    </tr>\n",
              "    <tr>\n",
              "      <th>4</th>\n",
              "      <td>6483659</td>\n",
              "      <td>사이몬페그의 익살스런 연기가 돋보였던 영화!스파이더맨에서 늙어보이기만 했던 커스틴 ...</td>\n",
              "      <td>1</td>\n",
              "    </tr>\n",
              "  </tbody>\n",
              "</table>\n",
              "</div>\n",
              "      <button class=\"colab-df-convert\" onclick=\"convertToInteractive('df-50cb2478-f41c-4f1d-84fc-5cd1224cc20a')\"\n",
              "              title=\"Convert this dataframe to an interactive table.\"\n",
              "              style=\"display:none;\">\n",
              "        \n",
              "  <svg xmlns=\"http://www.w3.org/2000/svg\" height=\"24px\"viewBox=\"0 0 24 24\"\n",
              "       width=\"24px\">\n",
              "    <path d=\"M0 0h24v24H0V0z\" fill=\"none\"/>\n",
              "    <path d=\"M18.56 5.44l.94 2.06.94-2.06 2.06-.94-2.06-.94-.94-2.06-.94 2.06-2.06.94zm-11 1L8.5 8.5l.94-2.06 2.06-.94-2.06-.94L8.5 2.5l-.94 2.06-2.06.94zm10 10l.94 2.06.94-2.06 2.06-.94-2.06-.94-.94-2.06-.94 2.06-2.06.94z\"/><path d=\"M17.41 7.96l-1.37-1.37c-.4-.4-.92-.59-1.43-.59-.52 0-1.04.2-1.43.59L10.3 9.45l-7.72 7.72c-.78.78-.78 2.05 0 2.83L4 21.41c.39.39.9.59 1.41.59.51 0 1.02-.2 1.41-.59l7.78-7.78 2.81-2.81c.8-.78.8-2.07 0-2.86zM5.41 20L4 18.59l7.72-7.72 1.47 1.35L5.41 20z\"/>\n",
              "  </svg>\n",
              "      </button>\n",
              "      \n",
              "  <style>\n",
              "    .colab-df-container {\n",
              "      display:flex;\n",
              "      flex-wrap:wrap;\n",
              "      gap: 12px;\n",
              "    }\n",
              "\n",
              "    .colab-df-convert {\n",
              "      background-color: #E8F0FE;\n",
              "      border: none;\n",
              "      border-radius: 50%;\n",
              "      cursor: pointer;\n",
              "      display: none;\n",
              "      fill: #1967D2;\n",
              "      height: 32px;\n",
              "      padding: 0 0 0 0;\n",
              "      width: 32px;\n",
              "    }\n",
              "\n",
              "    .colab-df-convert:hover {\n",
              "      background-color: #E2EBFA;\n",
              "      box-shadow: 0px 1px 2px rgba(60, 64, 67, 0.3), 0px 1px 3px 1px rgba(60, 64, 67, 0.15);\n",
              "      fill: #174EA6;\n",
              "    }\n",
              "\n",
              "    [theme=dark] .colab-df-convert {\n",
              "      background-color: #3B4455;\n",
              "      fill: #D2E3FC;\n",
              "    }\n",
              "\n",
              "    [theme=dark] .colab-df-convert:hover {\n",
              "      background-color: #434B5C;\n",
              "      box-shadow: 0px 1px 3px 1px rgba(0, 0, 0, 0.15);\n",
              "      filter: drop-shadow(0px 1px 2px rgba(0, 0, 0, 0.3));\n",
              "      fill: #FFFFFF;\n",
              "    }\n",
              "  </style>\n",
              "\n",
              "      <script>\n",
              "        const buttonEl =\n",
              "          document.querySelector('#df-50cb2478-f41c-4f1d-84fc-5cd1224cc20a button.colab-df-convert');\n",
              "        buttonEl.style.display =\n",
              "          google.colab.kernel.accessAllowed ? 'block' : 'none';\n",
              "\n",
              "        async function convertToInteractive(key) {\n",
              "          const element = document.querySelector('#df-50cb2478-f41c-4f1d-84fc-5cd1224cc20a');\n",
              "          const dataTable =\n",
              "            await google.colab.kernel.invokeFunction('convertToInteractive',\n",
              "                                                     [key], {});\n",
              "          if (!dataTable) return;\n",
              "\n",
              "          const docLinkHtml = 'Like what you see? Visit the ' +\n",
              "            '<a target=\"_blank\" href=https://colab.research.google.com/notebooks/data_table.ipynb>data table notebook</a>'\n",
              "            + ' to learn more about interactive tables.';\n",
              "          element.innerHTML = '';\n",
              "          dataTable['output_type'] = 'display_data';\n",
              "          await google.colab.output.renderOutput(dataTable, element);\n",
              "          const docLink = document.createElement('div');\n",
              "          docLink.innerHTML = docLinkHtml;\n",
              "          element.appendChild(docLink);\n",
              "        }\n",
              "      </script>\n",
              "    </div>\n",
              "  </div>\n",
              "  "
            ],
            "text/plain": [
              "         id                                           document  label\n",
              "0   9976970                                아 더빙.. 진짜 짜증나네요 목소리      0\n",
              "1   3819312                  흠...포스터보고 초딩영화줄....오버연기조차 가볍지 않구나      1\n",
              "2  10265843                                  너무재밓었다그래서보는것을추천한다      0\n",
              "3   9045019                      교도소 이야기구먼 ..솔직히 재미는 없다..평점 조정      0\n",
              "4   6483659  사이몬페그의 익살스런 연기가 돋보였던 영화!스파이더맨에서 늙어보이기만 했던 커스틴 ...      1"
            ]
          },
          "metadata": {},
          "execution_count": 461
        }
      ]
    },
    {
      "cell_type": "code",
      "source": [
        "print(len(test_data))\n",
        "test_data.head()"
      ],
      "metadata": {
        "colab": {
          "base_uri": "https://localhost:8080/",
          "height": 225
        },
        "id": "WRsNipreW98R",
        "outputId": "d53e6f3a-acb6-44b3-d602-5a62b4092ae4"
      },
      "execution_count": 462,
      "outputs": [
        {
          "output_type": "stream",
          "name": "stdout",
          "text": [
            "50000\n"
          ]
        },
        {
          "output_type": "execute_result",
          "data": {
            "text/html": [
              "\n",
              "  <div id=\"df-6e522222-bfad-4eae-9b59-a1da5ab5dc7f\">\n",
              "    <div class=\"colab-df-container\">\n",
              "      <div>\n",
              "<style scoped>\n",
              "    .dataframe tbody tr th:only-of-type {\n",
              "        vertical-align: middle;\n",
              "    }\n",
              "\n",
              "    .dataframe tbody tr th {\n",
              "        vertical-align: top;\n",
              "    }\n",
              "\n",
              "    .dataframe thead th {\n",
              "        text-align: right;\n",
              "    }\n",
              "</style>\n",
              "<table border=\"1\" class=\"dataframe\">\n",
              "  <thead>\n",
              "    <tr style=\"text-align: right;\">\n",
              "      <th></th>\n",
              "      <th>id</th>\n",
              "      <th>document</th>\n",
              "      <th>label</th>\n",
              "    </tr>\n",
              "  </thead>\n",
              "  <tbody>\n",
              "    <tr>\n",
              "      <th>0</th>\n",
              "      <td>6270596</td>\n",
              "      <td>굳 ㅋ</td>\n",
              "      <td>1</td>\n",
              "    </tr>\n",
              "    <tr>\n",
              "      <th>1</th>\n",
              "      <td>9274899</td>\n",
              "      <td>GDNTOPCLASSINTHECLUB</td>\n",
              "      <td>0</td>\n",
              "    </tr>\n",
              "    <tr>\n",
              "      <th>2</th>\n",
              "      <td>8544678</td>\n",
              "      <td>뭐야 이 평점들은.... 나쁘진 않지만 10점 짜리는 더더욱 아니잖아</td>\n",
              "      <td>0</td>\n",
              "    </tr>\n",
              "    <tr>\n",
              "      <th>3</th>\n",
              "      <td>6825595</td>\n",
              "      <td>지루하지는 않은데 완전 막장임... 돈주고 보기에는....</td>\n",
              "      <td>0</td>\n",
              "    </tr>\n",
              "    <tr>\n",
              "      <th>4</th>\n",
              "      <td>6723715</td>\n",
              "      <td>3D만 아니었어도 별 다섯 개 줬을텐데.. 왜 3D로 나와서 제 심기를 불편하게 하죠??</td>\n",
              "      <td>0</td>\n",
              "    </tr>\n",
              "  </tbody>\n",
              "</table>\n",
              "</div>\n",
              "      <button class=\"colab-df-convert\" onclick=\"convertToInteractive('df-6e522222-bfad-4eae-9b59-a1da5ab5dc7f')\"\n",
              "              title=\"Convert this dataframe to an interactive table.\"\n",
              "              style=\"display:none;\">\n",
              "        \n",
              "  <svg xmlns=\"http://www.w3.org/2000/svg\" height=\"24px\"viewBox=\"0 0 24 24\"\n",
              "       width=\"24px\">\n",
              "    <path d=\"M0 0h24v24H0V0z\" fill=\"none\"/>\n",
              "    <path d=\"M18.56 5.44l.94 2.06.94-2.06 2.06-.94-2.06-.94-.94-2.06-.94 2.06-2.06.94zm-11 1L8.5 8.5l.94-2.06 2.06-.94-2.06-.94L8.5 2.5l-.94 2.06-2.06.94zm10 10l.94 2.06.94-2.06 2.06-.94-2.06-.94-.94-2.06-.94 2.06-2.06.94z\"/><path d=\"M17.41 7.96l-1.37-1.37c-.4-.4-.92-.59-1.43-.59-.52 0-1.04.2-1.43.59L10.3 9.45l-7.72 7.72c-.78.78-.78 2.05 0 2.83L4 21.41c.39.39.9.59 1.41.59.51 0 1.02-.2 1.41-.59l7.78-7.78 2.81-2.81c.8-.78.8-2.07 0-2.86zM5.41 20L4 18.59l7.72-7.72 1.47 1.35L5.41 20z\"/>\n",
              "  </svg>\n",
              "      </button>\n",
              "      \n",
              "  <style>\n",
              "    .colab-df-container {\n",
              "      display:flex;\n",
              "      flex-wrap:wrap;\n",
              "      gap: 12px;\n",
              "    }\n",
              "\n",
              "    .colab-df-convert {\n",
              "      background-color: #E8F0FE;\n",
              "      border: none;\n",
              "      border-radius: 50%;\n",
              "      cursor: pointer;\n",
              "      display: none;\n",
              "      fill: #1967D2;\n",
              "      height: 32px;\n",
              "      padding: 0 0 0 0;\n",
              "      width: 32px;\n",
              "    }\n",
              "\n",
              "    .colab-df-convert:hover {\n",
              "      background-color: #E2EBFA;\n",
              "      box-shadow: 0px 1px 2px rgba(60, 64, 67, 0.3), 0px 1px 3px 1px rgba(60, 64, 67, 0.15);\n",
              "      fill: #174EA6;\n",
              "    }\n",
              "\n",
              "    [theme=dark] .colab-df-convert {\n",
              "      background-color: #3B4455;\n",
              "      fill: #D2E3FC;\n",
              "    }\n",
              "\n",
              "    [theme=dark] .colab-df-convert:hover {\n",
              "      background-color: #434B5C;\n",
              "      box-shadow: 0px 1px 3px 1px rgba(0, 0, 0, 0.15);\n",
              "      filter: drop-shadow(0px 1px 2px rgba(0, 0, 0, 0.3));\n",
              "      fill: #FFFFFF;\n",
              "    }\n",
              "  </style>\n",
              "\n",
              "      <script>\n",
              "        const buttonEl =\n",
              "          document.querySelector('#df-6e522222-bfad-4eae-9b59-a1da5ab5dc7f button.colab-df-convert');\n",
              "        buttonEl.style.display =\n",
              "          google.colab.kernel.accessAllowed ? 'block' : 'none';\n",
              "\n",
              "        async function convertToInteractive(key) {\n",
              "          const element = document.querySelector('#df-6e522222-bfad-4eae-9b59-a1da5ab5dc7f');\n",
              "          const dataTable =\n",
              "            await google.colab.kernel.invokeFunction('convertToInteractive',\n",
              "                                                     [key], {});\n",
              "          if (!dataTable) return;\n",
              "\n",
              "          const docLinkHtml = 'Like what you see? Visit the ' +\n",
              "            '<a target=\"_blank\" href=https://colab.research.google.com/notebooks/data_table.ipynb>data table notebook</a>'\n",
              "            + ' to learn more about interactive tables.';\n",
              "          element.innerHTML = '';\n",
              "          dataTable['output_type'] = 'display_data';\n",
              "          await google.colab.output.renderOutput(dataTable, element);\n",
              "          const docLink = document.createElement('div');\n",
              "          docLink.innerHTML = docLinkHtml;\n",
              "          element.appendChild(docLink);\n",
              "        }\n",
              "      </script>\n",
              "    </div>\n",
              "  </div>\n",
              "  "
            ],
            "text/plain": [
              "        id                                           document  label\n",
              "0  6270596                                                굳 ㅋ      1\n",
              "1  9274899                               GDNTOPCLASSINTHECLUB      0\n",
              "2  8544678             뭐야 이 평점들은.... 나쁘진 않지만 10점 짜리는 더더욱 아니잖아      0\n",
              "3  6825595                   지루하지는 않은데 완전 막장임... 돈주고 보기에는....      0\n",
              "4  6723715  3D만 아니었어도 별 다섯 개 줬을텐데.. 왜 3D로 나와서 제 심기를 불편하게 하죠??      0"
            ]
          },
          "metadata": {},
          "execution_count": 462
        }
      ]
    },
    {
      "cell_type": "markdown",
      "source": [
        "# 데이터로더 구성"
      ],
      "metadata": {
        "id": "n0sLV_51Xy7p"
      }
    },
    {
      "cell_type": "markdown",
      "source": [
        "## Konlpy 환경 설치"
      ],
      "metadata": {
        "id": "ZvrUpG4ZddEG"
      }
    },
    {
      "cell_type": "code",
      "source": [
        "%%bash\n",
        "apt-get update\n",
        "apt-get install g++ openjdk-8-jdk python-dev python3-dev\n",
        "pip3 install JPype1\n",
        "pip3 install konlpy"
      ],
      "metadata": {
        "colab": {
          "base_uri": "https://localhost:8080/"
        },
        "id": "z6St0y5VcRmG",
        "outputId": "881ba07b-0220-4ea2-d1cd-801727481ee7"
      },
      "execution_count": 463,
      "outputs": [
        {
          "output_type": "stream",
          "name": "stdout",
          "text": [
            "Hit:1 https://cloud.r-project.org/bin/linux/ubuntu bionic-cran40/ InRelease\n",
            "Ign:2 https://developer.download.nvidia.com/compute/cuda/repos/ubuntu1804/x86_64  InRelease\n",
            "Hit:3 http://archive.ubuntu.com/ubuntu bionic InRelease\n",
            "Get:4 http://security.ubuntu.com/ubuntu bionic-security InRelease [88.7 kB]\n",
            "Hit:5 http://ppa.launchpad.net/c2d4u.team/c2d4u4.0+/ubuntu bionic InRelease\n",
            "Ign:6 https://developer.download.nvidia.com/compute/machine-learning/repos/ubuntu1804/x86_64  InRelease\n",
            "Hit:7 https://developer.download.nvidia.com/compute/cuda/repos/ubuntu1804/x86_64  Release\n",
            "Hit:8 https://developer.download.nvidia.com/compute/machine-learning/repos/ubuntu1804/x86_64  Release\n",
            "Get:9 http://archive.ubuntu.com/ubuntu bionic-updates InRelease [88.7 kB]\n",
            "Hit:10 http://ppa.launchpad.net/cran/libgit2/ubuntu bionic InRelease\n",
            "Hit:11 http://ppa.launchpad.net/deadsnakes/ppa/ubuntu bionic InRelease\n",
            "Get:12 http://archive.ubuntu.com/ubuntu bionic-backports InRelease [74.6 kB]\n",
            "Hit:13 http://ppa.launchpad.net/graphics-drivers/ppa/ubuntu bionic InRelease\n",
            "Fetched 252 kB in 2s (104 kB/s)\n",
            "Reading package lists...\n",
            "Reading package lists...\n",
            "Building dependency tree...\n",
            "Reading state information...\n",
            "python-dev is already the newest version (2.7.15~rc1-1).\n",
            "g++ is already the newest version (4:7.4.0-1ubuntu2.3).\n",
            "python3-dev is already the newest version (3.6.7-1~18.04).\n",
            "openjdk-8-jdk is already the newest version (8u312-b07-0ubuntu1~18.04).\n",
            "0 upgraded, 0 newly installed, 0 to remove and 62 not upgraded.\n",
            "Requirement already satisfied: JPype1 in /usr/local/lib/python3.7/dist-packages (1.3.0)\n",
            "Requirement already satisfied: typing-extensions in /usr/local/lib/python3.7/dist-packages (from JPype1) (3.10.0.2)\n",
            "Requirement already satisfied: konlpy in /usr/local/lib/python3.7/dist-packages (0.6.0)\n",
            "Requirement already satisfied: lxml>=4.1.0 in /usr/local/lib/python3.7/dist-packages (from konlpy) (4.2.6)\n",
            "Requirement already satisfied: numpy>=1.6 in /usr/local/lib/python3.7/dist-packages (from konlpy) (1.19.5)\n",
            "Requirement already satisfied: JPype1>=0.7.0 in /usr/local/lib/python3.7/dist-packages (from konlpy) (1.3.0)\n",
            "Requirement already satisfied: typing-extensions in /usr/local/lib/python3.7/dist-packages (from JPype1>=0.7.0->konlpy) (3.10.0.2)\n"
          ]
        }
      ]
    },
    {
      "cell_type": "code",
      "source": [
        "%env JAVA_HOME \"/usr/lib/jvm/java-8-openjdk-amd64\""
      ],
      "metadata": {
        "colab": {
          "base_uri": "https://localhost:8080/"
        },
        "id": "vczxOj8wcjz-",
        "outputId": "977810f4-8a05-420c-b670-dbc3311c9776"
      },
      "execution_count": 464,
      "outputs": [
        {
          "output_type": "stream",
          "name": "stdout",
          "text": [
            "env: JAVA_HOME=\"/usr/lib/jvm/java-8-openjdk-amd64\"\n"
          ]
        }
      ]
    },
    {
      "cell_type": "code",
      "source": [
        "%%bash\n",
        "bash <(curl -s https://raw.githubusercontent.com/konlpy/konlpy/master/scripts/mecab.sh)\n",
        "pip3 install /tmp/mecab-python-0.996"
      ],
      "metadata": {
        "colab": {
          "base_uri": "https://localhost:8080/"
        },
        "id": "EWt8kkibcpee",
        "outputId": "75f4d70f-c532-4254-d103-3041ab48598f"
      },
      "execution_count": 465,
      "outputs": [
        {
          "output_type": "stream",
          "name": "stdout",
          "text": [
            "mecab-ko is already installed\n",
            "mecab-ko-dic is already installed\n",
            "mecab-python is already installed\n",
            "Done.\n",
            "Processing /tmp/mecab-python-0.996\n",
            "Building wheels for collected packages: mecab-python\n",
            "  Building wheel for mecab-python (setup.py): started\n",
            "  Building wheel for mecab-python (setup.py): finished with status 'done'\n",
            "  Created wheel for mecab-python: filename=mecab_python-0.996_ko_0.9.2-cp37-cp37m-linux_x86_64.whl size=141812 sha256=13f51358be9f5be36ef7bd941e9200459661d5dff89b41f114e4f1da59aaf670\n",
            "  Stored in directory: /root/.cache/pip/wheels/40/7b/9f/2922869bef86c3354ae7034f7a3647c573ee1997c2dad0290a\n",
            "Failed to build mecab-python\n",
            "Installing collected packages: mecab-python\n",
            "  Attempting uninstall: mecab-python\n",
            "    Found existing installation: mecab-python 0.996-ko-0.9.2\n",
            "    Uninstalling mecab-python-0.996-ko-0.9.2:\n",
            "      Successfully uninstalled mecab-python-0.996-ko-0.9.2\n",
            "    Running setup.py install for mecab-python: started\n",
            "    Running setup.py install for mecab-python: finished with status 'done'\n",
            "Successfully installed mecab-python-0.996-ko-0.9.2\n"
          ]
        },
        {
          "output_type": "stream",
          "name": "stderr",
          "text": [
            "  DEPRECATION: A future pip version will change local packages to be built in-place without first copying to a temporary directory. We recommend you use --use-feature=in-tree-build to test your packages with this new behavior before it becomes the default.\n",
            "   pip 21.3 will remove support for this functionality. You can find discussion regarding this at https://github.com/pypa/pip/issues/7555.\n",
            "  WARNING: Built wheel for mecab-python is invalid: Metadata 1.2 mandates PEP 440 version, but '0.996-ko-0.9.2' is not\n",
            "  DEPRECATION: mecab-python was installed using the legacy 'setup.py install' method, because a wheel could not be built for it. A possible replacement is to fix the wheel build issue reported above. You can find discussion regarding this at https://github.com/pypa/pip/issues/8368.\n"
          ]
        }
      ]
    },
    {
      "cell_type": "markdown",
      "source": [
        "## 나만의 data_loader 구성"
      ],
      "metadata": {
        "id": "uWusQJe-d2we"
      }
    },
    {
      "cell_type": "markdown",
      "source": [
        "- 데이터의 중복 제거\n",
        "- NaN 결측치 제거\n",
        "- 한국어 토크나이저로 토큰화\n",
        "- 불용어(Stopwords) 제거\n",
        "- 사전`word_to_index` 구성\n",
        "- 텍스트 스트링을 사전 인덱스 스트링으로 변환\n",
        "- `X_train`, `y_train`, `X_test`, `y_test`, `word_to_index` 리턴"
      ],
      "metadata": {
        "id": "8wb0OjmJdxRV"
      }
    },
    {
      "cell_type": "code",
      "source": [
        "from konlpy.tag import Mecab\n",
        "import numpy as np\n",
        "from collections import Counter\n",
        "import tensorflow as tf\n",
        "from tensorflow import keras\n",
        "from tensorflow.keras.preprocessing.text import Tokenizer\n",
        "\n",
        "tokenizer = Mecab()\n",
        "stopwords = ['의','가','이','은','들','는','좀','잘','걍','과','도','를','으로','자','에','와','한','하다']\n",
        "\n",
        "def load_data(train_data, test_data, num_words=10000):\n",
        "    # 데이터 중복 제거\n",
        "    train_data.drop_duplicates(subset=['document'], inplace=True)\n",
        "    \n",
        "    # NaN 결측치 제거\n",
        "    train_data = train_data.dropna(how = 'any') \n",
        "    test_data.drop_duplicates(subset=['document'], inplace=True)\n",
        "    test_data = test_data.dropna(how = 'any') \n",
        "    \n",
        "    X_train = []\n",
        "    for sentence in train_data['document']:\n",
        "        temp_X = tokenizer.morphs(sentence) # 토큰화\n",
        "        temp_X = [word for word in temp_X if not word in stopwords] # 불용어 제거\n",
        "        X_train.append(temp_X)\n",
        "\n",
        "    X_test = []\n",
        "    for sentence in test_data['document']:\n",
        "        temp_X = tokenizer.morphs(sentence) # 토큰화\n",
        "        temp_X = [word for word in temp_X if not word in stopwords] # 불용어 제거\n",
        "        X_test.append(temp_X)\n",
        "    \n",
        "    words = np.concatenate(X_train).tolist()\n",
        "    counter = Counter(words)\n",
        "    counter = counter.most_common(10000-4)\n",
        "    vocab = ['', '', '', ''] + [key for key, _ in counter]\n",
        "    #사전 word_to_index구성    \n",
        "    word_to_index = {word:index for index, word in enumerate(vocab)}\n",
        "\n",
        "    #텍스트 스트링을 사전 인덱스 스트링으로 변환    \n",
        "    def wordlist_to_indexlist(wordlist):\n",
        "        return [word_to_index[word] if word in word_to_index else word_to_index[''] for word in wordlist]\n",
        "        \n",
        "    X_train = list(map(wordlist_to_indexlist, X_train))\n",
        "    X_test = list(map(wordlist_to_indexlist, X_test))\n",
        "        \n",
        "    return X_train, np.array(list(train_data['label'])), X_test, np.array(list(test_data['label'])), word_to_index\n",
        "    \n",
        "X_train, y_train, X_test, y_test, word_to_index = load_data(train_data, test_data)"
      ],
      "metadata": {
        "id": "__L0QffWX5Ux"
      },
      "execution_count": 466,
      "outputs": []
    },
    {
      "cell_type": "markdown",
      "source": [
        "숫자에서 문자 딕셔너리 생성"
      ],
      "metadata": {
        "id": "_Ra5rXkFN-Nn"
      }
    },
    {
      "cell_type": "code",
      "source": [
        "word_to_index[\"<PAD>\"] = 0 # 패딩용 단어\n",
        "word_to_index[\"<BOS>\"] = 1 # 문장의 시작지점\n",
        "word_to_index[\"<UNK>\"] = 2 # 사전에 없는(Unknown) 단어\n",
        "\n",
        "index_to_word = {index:word for word, index in word_to_index.items()}"
      ],
      "metadata": {
        "id": "AAyBkxiBKnb8"
      },
      "execution_count": 467,
      "outputs": []
    },
    {
      "cell_type": "markdown",
      "source": [
        "### \\<PAD>, \\<BOS>, \\<UNK> 추가"
      ],
      "metadata": {
        "id": "jPBTAFRbLyx7"
      }
    },
    {
      "cell_type": "code",
      "source": [
        "# 문장 1개를 활용할 딕셔너리와 함께 주면, 단어 인덱스 리스트 벡터로 변환해 주는 함수입니다. \n",
        "# 단, 모든 문장은 <BOS>로 시작하는 것으로 합니다. \n",
        "def get_encoded_sentence(sentence, word_to_index):\n",
        "    return [word_to_index['<BOS>']]+[word_to_index[word] if word in word_to_index else word_to_index['<UNK>'] for word in sentence.split()]\n",
        "\n",
        "# 여러 개의 문장 리스트를 한꺼번에 단어 인덱스 리스트 벡터로 encode해 주는 함수입니다. \n",
        "def get_encoded_sentences(sentences, word_to_index):\n",
        "    return [get_encoded_sentence(sentence, word_to_index) for sentence in sentences]\n",
        "\n",
        "# 숫자 벡터로 encode된 문장을 원래대로 decode하는 함수입니다. \n",
        "def get_decoded_sentence(encoded_sentence, index_to_word):\n",
        "    return ' '.join(index_to_word[index] if index in index_to_word else '<UNK>' for index in encoded_sentence[1:])  #[1:]를 통해 <BOS>를 제외\n",
        "\n",
        "# 여러 개의 숫자 벡터로 encode된 문장을 한꺼번에 원래대로 decode하는 함수입니다. \n",
        "def get_decoded_sentences(encoded_sentences, index_to_word):\n",
        "    return [get_decoded_sentence(encoded_sentence, index_to_word) for encoded_sentence in encoded_sentences]"
      ],
      "metadata": {
        "id": "a7xenb6_Kn40"
      },
      "execution_count": 468,
      "outputs": []
    },
    {
      "cell_type": "code",
      "source": [
        "print(get_decoded_sentence(X_train[0], index_to_word))\n",
        "print(\"라벨: \",y_train[0])"
      ],
      "metadata": {
        "colab": {
          "base_uri": "https://localhost:8080/"
        },
        "id": "_dPyRXOSPXV1",
        "outputId": "5d64729e-c984-471c-862c-6c699b731465"
      },
      "execution_count": 469,
      "outputs": [
        {
          "output_type": "stream",
          "name": "stdout",
          "text": [
            "더 빙 . . 진짜 짜증 나 네요 목소리\n",
            "라벨:  0\n"
          ]
        }
      ]
    },
    {
      "cell_type": "markdown",
      "source": [
        "# 모델 구성을 위한 데이터 분석 및 가공"
      ],
      "metadata": {
        "id": "IDjX5TP7LsKk"
      }
    },
    {
      "cell_type": "markdown",
      "source": [
        "- 데이터셋 내 문장 길이 분포\n",
        "- 적절한 최대 문장 길이 지정\n",
        "- keras.preprocessing.sequence.pad_sequences를 활용한 패딩 추가"
      ],
      "metadata": {
        "id": "b639hVtRWC4v"
      }
    },
    {
      "cell_type": "markdown",
      "source": [
        "### 데이터셋 내 문장 길이 분포"
      ],
      "metadata": {
        "id": "7fP-dCHt7tkS"
      }
    },
    {
      "cell_type": "code",
      "source": [
        "import matplotlib.pyplot as plt\n",
        "\n",
        "len_by_token = [len(t) for t in list(X_train)+list(X_train)]\n",
        "plt.figure(figsize = (12,5))\n",
        "\n",
        "plt.hist(len_by_token, bins = 30, alpha = 0.3, color = 'b', label = 'word')\n",
        "\n",
        "plt.yscale('log', nonposy = 'clip')\n",
        "plt.title('Length Histogram')\n",
        "plt.xlabel('length')\n",
        "plt.ylabel('number of elements')"
      ],
      "metadata": {
        "colab": {
          "base_uri": "https://localhost:8080/",
          "height": 368
        },
        "id": "hf7zYt-tX0mu",
        "outputId": "b9546cdb-7909-4063-bca7-d2011b340ae6"
      },
      "execution_count": 470,
      "outputs": [
        {
          "output_type": "execute_result",
          "data": {
            "text/plain": [
              "Text(0, 0.5, 'number of elements')"
            ]
          },
          "metadata": {},
          "execution_count": 470
        },
        {
          "output_type": "display_data",
          "data": {
            "image/png": "[encoded data removed]",
            "text/plain": [
              "<Figure size 864x360 with 1 Axes>"
            ]
          },
          "metadata": {
            "needs_background": "light"
          }
        }
      ]
    },
    {
      "cell_type": "markdown",
      "source": [
        "### 적절한 문장 길이 선정"
      ],
      "metadata": {
        "id": "5ZQV6e_z7zpq"
      }
    },
    {
      "cell_type": "code",
      "source": [
        "import numpy as np\n",
        "len_by_token = np.array(len_by_token)\n",
        "\n",
        "print('문장 최대 길이: ',np.max(len_by_token))\n",
        "print('문장 최소 길이 : ',np.min(len_by_token))\n",
        "print('문장 평균 길이 : ',np.mean(len_by_token))\n",
        "print('문장 길이 표준편차: ', np.std(len_by_token))\n",
        "print('문장 중간 길이: ', np.median(len_by_token))\n",
        "print('제 1사분위 길이 : ',np.percentile(len_by_token, 25))\n",
        "print('제 3사분위 길이 : ',np.percentile(len_by_token, 75))\n",
        "\n",
        "# 적절한 문장길이 - 최대길이 평균 + 2*표준편차\n",
        "max_len = int(np.mean(len_by_token)+2*np.std(len_by_token))\n",
        "print('\\n적절한 문장길이 : {}'.format(max_len))\n",
        "\n",
        "def below_threshold_len(max_len, nested_list):\n",
        "  count = 0\n",
        "  for sentence in nested_list:\n",
        "    if(len(sentence) <= max_len):\n",
        "        count = count + 1\n",
        "  print('전체 샘플 중 길이가 %s 이하인 샘플의 비율: %s'%(max_len, (count / len(nested_list))*100))\n",
        "below_threshold_len(max_len, X_train)"
      ],
      "metadata": {
        "colab": {
          "base_uri": "https://localhost:8080/"
        },
        "id": "WsMHzjhhnTHM",
        "outputId": "7f3dabd2-41ac-4e50-91fe-0b85df03f381"
      },
      "execution_count": 471,
      "outputs": [
        {
          "output_type": "stream",
          "name": "stdout",
          "text": [
            "문장 최대 길이:  116\n",
            "문장 최소 길이 :  0\n",
            "문장 평균 길이 :  15.981687211831826\n",
            "문장 길이 표준편차:  12.824686694216712\n",
            "문장 중간 길이:  12.0\n",
            "제 1사분위 길이 :  7.0\n",
            "제 3사분위 길이 :  19.0\n",
            "\n",
            "적절한 문장길이 : 41\n",
            "전체 샘플 중 길이가 41 이하인 샘플의 비율: 93.41711017772366\n"
          ]
        }
      ]
    },
    {
      "cell_type": "markdown",
      "source": [
        "### Keras.preprocessing.sequence.pad_sequences를 활용한 패딩 추가"
      ],
      "metadata": {
        "id": "S3tc0LsQ8Kvp"
      }
    },
    {
      "cell_type": "code",
      "source": [
        "from tensorflow.keras.preprocessing.sequence import pad_sequences\n",
        "\n",
        "X_train = keras.preprocessing.sequence.pad_sequences(X_train,\n",
        "                                                     value = word_to_index['<PAD>'],\n",
        "                                                     padding = 'pre',\n",
        "                                                     maxlen = max_len)\n",
        "\n",
        "X_test = keras.preprocessing.sequence.pad_sequences(X_test,\n",
        "                                                     value = word_to_index['<PAD>'],\n",
        "                                                     padding = 'pre',\n",
        "                                                     maxlen = max_len)\n",
        "print(X_train[0])"
      ],
      "metadata": {
        "id": "4h2Kyz-0vkPC",
        "colab": {
          "base_uri": "https://localhost:8080/"
        },
        "outputId": "38d59d48-0e26-4516-99d2-d7706f90e698"
      },
      "execution_count": 472,
      "outputs": [
        {
          "output_type": "stream",
          "name": "stdout",
          "text": [
            "[  0   0   0   0   0   0   0   0   0   0   0   0   0   0   0   0   0   0\n",
            "   0   0   0   0   0   0   0   0   0   0   0   0   0  32  74 919   4   4\n",
            "  39 228  20  33 748]\n"
          ]
        }
      ]
    },
    {
      "cell_type": "markdown",
      "source": [
        "# 모델 구성 및 validation set 구성"
      ],
      "metadata": {
        "id": "J94ZZkrYXdPm"
      }
    },
    {
      "cell_type": "markdown",
      "source": [
        "## RNN 모델 설게 (시퀀스 형태의 데이터 처리에 최적)"
      ],
      "metadata": {
        "id": "YWSPkZKh8xsB"
      }
    },
    {
      "cell_type": "code",
      "source": [
        "vocab_size = 10000    # 어휘 사전의 크기입니다(10,000개의 단어)\n",
        "word_vector_dim = 128  # 워드 벡터의 차원 수 (변경 가능한 하이퍼파라미터)\n",
        "\n",
        "RNNmodel = tf.keras.Sequential()\n",
        "RNNmodel = tf.keras.Sequential()\n",
        "RNNmodel.add(tf.keras.layers.Embedding(vocab_size, word_vector_dim, input_shape=(None,)))\n",
        "RNNmodel.add(tf.keras.layers.GlobalMaxPooling1D())\n",
        "RNNmodel.add(tf.keras.layers.Dense(8, activation='relu'))\n",
        "RNNmodel.add(tf.keras.layers.Dense(1, activation='sigmoid'))  # 최종 출력은 긍정/부정을 나타내는 1dim 입니다.\n",
        "\n",
        "RNNmodel.summary()"
      ],
      "metadata": {
        "colab": {
          "base_uri": "https://localhost:8080/"
        },
        "id": "oYune_XZIls6",
        "outputId": "87cda765-b16d-4d1a-f1c8-d91d333ad252"
      },
      "execution_count": 473,
      "outputs": [
        {
          "output_type": "stream",
          "name": "stdout",
          "text": [
            "Model: \"sequential_25\"\n",
            "_________________________________________________________________\n",
            " Layer (type)                Output Shape              Param #   \n",
            "=================================================================\n",
            " embedding_18 (Embedding)    (None, None, 128)         1280000   \n",
            "                                                                 \n",
            " global_max_pooling1d_17 (Gl  (None, 128)              0         \n",
            " obalMaxPooling1D)                                               \n",
            "                                                                 \n",
            " dense_34 (Dense)            (None, 8)                 1032      \n",
            "                                                                 \n",
            " dense_35 (Dense)            (None, 1)                 9         \n",
            "                                                                 \n",
            "=================================================================\n",
            "Total params: 1,281,041\n",
            "Trainable params: 1,281,041\n",
            "Non-trainable params: 0\n",
            "_________________________________________________________________\n"
          ]
        }
      ]
    },
    {
      "cell_type": "markdown",
      "source": [
        "### Train / validation set 분리"
      ],
      "metadata": {
        "id": "2Nr1i7xkJRc6"
      }
    },
    {
      "cell_type": "code",
      "source": [
        "len(X_train)"
      ],
      "metadata": {
        "colab": {
          "base_uri": "https://localhost:8080/"
        },
        "id": "GdrfOYlLJY0A",
        "outputId": "33370be3-d4e1-4eeb-b88d-3889b9a4b162"
      },
      "execution_count": 474,
      "outputs": [
        {
          "output_type": "execute_result",
          "data": {
            "text/plain": [
              "146182"
            ]
          },
          "metadata": {},
          "execution_count": 474
        }
      ]
    },
    {
      "cell_type": "code",
      "source": [
        "# validation set 70000건 분리\n",
        "X_val = X_train[:70000]   \n",
        "y_val = y_train[:70000]\n",
        "\n",
        "# validation set을 제외한 나머지 76182건\n",
        "partial_X_train = X_train[70000:]  \n",
        "partial_y_train = y_train[70000:]\n",
        "\n",
        "print(partial_X_train.shape)\n",
        "print(partial_y_train.shape)"
      ],
      "metadata": {
        "colab": {
          "base_uri": "https://localhost:8080/"
        },
        "id": "3KKQucAVJV1S",
        "outputId": "32289a31-6168-40be-924b-ff6b08ef0851"
      },
      "execution_count": 475,
      "outputs": [
        {
          "output_type": "stream",
          "name": "stdout",
          "text": [
            "(76182, 41)\n",
            "(76182,)\n"
          ]
        }
      ]
    },
    {
      "cell_type": "markdown",
      "source": [
        "### 모델 훈련 개시"
      ],
      "metadata": {
        "id": "-VmcGLAfWMvo"
      }
    },
    {
      "cell_type": "code",
      "source": [
        "RNNmodel.compile(optimizer='adam',\n",
        "              loss='binary_crossentropy',\n",
        "              metrics=['accuracy'])\n",
        "              \n",
        "epochs=10  # 몇 epoch를 훈련하면 좋을지 결과를 보면서 바꾸어 봅시다. \n",
        "\n",
        "history = RNNmodel.fit(partial_X_train,\n",
        "                    partial_y_train,\n",
        "                    epochs=epochs,\n",
        "                    batch_size=512,\n",
        "                    validation_data=(X_val, y_val),\n",
        "                    verbose=1)"
      ],
      "metadata": {
        "colab": {
          "base_uri": "https://localhost:8080/"
        },
        "id": "abr11FehKStK",
        "outputId": "1c048d38-0231-47fb-cad4-0fa827b348da"
      },
      "execution_count": 476,
      "outputs": [
        {
          "output_type": "stream",
          "name": "stdout",
          "text": [
            "Epoch 1/10\n",
            "149/149 [==============================] - 11s 67ms/step - loss: 0.5677 - accuracy: 0.7342 - val_loss: 0.3947 - val_accuracy: 0.8303\n",
            "Epoch 2/10\n",
            "149/149 [==============================] - 10s 67ms/step - loss: 0.3434 - accuracy: 0.8536 - val_loss: 0.3499 - val_accuracy: 0.8475\n",
            "Epoch 3/10\n",
            "149/149 [==============================] - 11s 72ms/step - loss: 0.2826 - accuracy: 0.8840 - val_loss: 0.3483 - val_accuracy: 0.8496\n",
            "Epoch 4/10\n",
            "149/149 [==============================] - 9s 59ms/step - loss: 0.2400 - accuracy: 0.9060 - val_loss: 0.3582 - val_accuracy: 0.8481\n",
            "Epoch 5/10\n",
            "149/149 [==============================] - 6s 38ms/step - loss: 0.2022 - accuracy: 0.9242 - val_loss: 0.3761 - val_accuracy: 0.8459\n",
            "Epoch 6/10\n",
            "149/149 [==============================] - 6s 39ms/step - loss: 0.1658 - accuracy: 0.9409 - val_loss: 0.4019 - val_accuracy: 0.8432\n",
            "Epoch 7/10\n",
            "149/149 [==============================] - 6s 39ms/step - loss: 0.1313 - accuracy: 0.9567 - val_loss: 0.4309 - val_accuracy: 0.8417\n",
            "Epoch 8/10\n",
            "149/149 [==============================] - 6s 38ms/step - loss: 0.1013 - accuracy: 0.9698 - val_loss: 0.4656 - val_accuracy: 0.8389\n",
            "Epoch 9/10\n",
            "149/149 [==============================] - 6s 38ms/step - loss: 0.0756 - accuracy: 0.9797 - val_loss: 0.5033 - val_accuracy: 0.8363\n",
            "Epoch 10/10\n",
            "149/149 [==============================] - 6s 38ms/step - loss: 0.0559 - accuracy: 0.9867 - val_loss: 0.5405 - val_accuracy: 0.8350\n"
          ]
        }
      ]
    },
    {
      "cell_type": "code",
      "source": [
        "results = RNNmodel.evaluate(X_test,  y_test, verbose=2)\n",
        "\n",
        "print(results)"
      ],
      "metadata": {
        "colab": {
          "base_uri": "https://localhost:8080/"
        },
        "id": "E1Jio_85K7bQ",
        "outputId": "6e36be85-ef69-4848-b44c-fddcc4651e51"
      },
      "execution_count": 477,
      "outputs": [
        {
          "output_type": "stream",
          "name": "stdout",
          "text": [
            "1537/1537 - 3s - loss: 0.5482 - accuracy: 0.8300 - 3s/epoch - 2ms/step\n",
            "[0.5481610298156738, 0.8299530148506165]\n"
          ]
        }
      ]
    },
    {
      "cell_type": "markdown",
      "source": [
        "### Loss, Accuracy 그래프 시각화"
      ],
      "metadata": {
        "id": "csP0ZntsXCwG"
      }
    },
    {
      "cell_type": "code",
      "source": [
        "history_dict = history.history\n",
        "print(history_dict.keys()) # epoch에 따른 그래프를 그려볼 수 있는 항목들"
      ],
      "metadata": {
        "colab": {
          "base_uri": "https://localhost:8080/"
        },
        "id": "mBLdLC4OK-Zh",
        "outputId": "1e5f83af-0515-4654-8e97-444a96be5bfc"
      },
      "execution_count": 478,
      "outputs": [
        {
          "output_type": "stream",
          "name": "stdout",
          "text": [
            "dict_keys(['loss', 'accuracy', 'val_loss', 'val_accuracy'])\n"
          ]
        }
      ]
    },
    {
      "cell_type": "code",
      "source": [
        "import matplotlib.pyplot as plt\n",
        "\n",
        "acc = history_dict['accuracy']\n",
        "val_acc = history_dict['val_accuracy']\n",
        "loss = history_dict['loss']\n",
        "val_loss = history_dict['val_loss']\n",
        "\n",
        "epochs = range(1, len(acc) + 1)\n",
        "\n",
        "# \"bo\"는 \"파란색 점\"입니다\n",
        "plt.plot(epochs, loss, 'bo', label='Training loss')\n",
        "# b는 \"파란 실선\"입니다\n",
        "plt.plot(epochs, val_loss, 'b', label='Validation loss')\n",
        "plt.title('Training and validation loss')\n",
        "plt.xlabel('Epochs')\n",
        "plt.ylabel('Loss')\n",
        "plt.legend()\n",
        "\n",
        "plt.show()"
      ],
      "metadata": {
        "colab": {
          "base_uri": "https://localhost:8080/",
          "height": 295
        },
        "id": "XfyVUuN-LilI",
        "outputId": "03984209-2da7-4290-c701-14c4b96d1825"
      },
      "execution_count": 479,
      "outputs": [
        {
          "output_type": "display_data",
          "data": {
            "image/png": "[encoded data removed]",
            "text/plain": [
              "<Figure size 432x288 with 1 Axes>"
            ]
          },
          "metadata": {
            "needs_background": "light"
          }
        }
      ]
    },
    {
      "cell_type": "code",
      "source": [
        "plt.clf()   # 그림을 초기화합니다\n",
        "\n",
        "plt.plot(epochs, acc, 'bo', label='Training acc')\n",
        "plt.plot(epochs, val_acc, 'b', label='Validation acc')\n",
        "plt.title('Training and validation accuracy')\n",
        "plt.xlabel('Epochs')\n",
        "plt.ylabel('Accuracy')\n",
        "plt.legend()\n",
        "\n",
        "plt.show()"
      ],
      "metadata": {
        "id": "8-XTUzNcL6YI",
        "colab": {
          "base_uri": "https://localhost:8080/",
          "height": 295
        },
        "outputId": "f3ec07fe-c1e8-4aa9-df08-f2ee1ca060db"
      },
      "execution_count": 480,
      "outputs": [
        {
          "output_type": "display_data",
          "data": {
            "image/png": "[encoded data removed]",
            "text/plain": [
              "<Figure size 432x288 with 1 Axes>"
            ]
          },
          "metadata": {
            "needs_background": "light"
          }
        }
      ]
    },
    {
      "cell_type": "markdown",
      "source": [
        "## 1-D CNN을 이용 (병렬처리로 학습속도가 빠름)"
      ],
      "metadata": {
        "id": "eWLyu-LdM0H4"
      }
    },
    {
      "cell_type": "code",
      "source": [
        "from tensorflow.keras.layers import Conv1D, GlobalMaxPooling1D\n",
        "\n",
        "vocab_size = 10000  # 어휘 사전의 크기입니다(10개의 단어)\n",
        "word_vector_dim = 128   # 단어 하나를 표현하는 임베딩 벡터의 차원 수입니다. \n",
        "\n",
        "CNNmodel = tf.keras.Sequential()\n",
        "CNNmodel.add(tf.keras.layers.Embedding(vocab_size, word_vector_dim, input_shape=(None,)))\n",
        "CNNmodel.add(tf.keras.layers.Conv1D(16, 7, activation='relu'))\n",
        "CNNmodel.add(tf.keras.layers.MaxPooling1D(5))\n",
        "CNNmodel.add(tf.keras.layers.Conv1D(16, 7, activation='relu'))\n",
        "CNNmodel.add(tf.keras.layers.GlobalMaxPooling1D())\n",
        "CNNmodel.add(tf.keras.layers.Dense(8, activation='relu'))\n",
        "CNNmodel.add(tf.keras.layers.Dense(1, activation='sigmoid'))  # 최종 출력은 긍정/부정을 나타내는 1dim 입니다.\n",
        "\n",
        "CNNmodel.summary()"
      ],
      "metadata": {
        "colab": {
          "base_uri": "https://localhost:8080/"
        },
        "id": "35vvvV96NyXv",
        "outputId": "a6b7212a-446c-47d0-bb00-2dad2905d8b4"
      },
      "execution_count": 481,
      "outputs": [
        {
          "output_type": "stream",
          "name": "stdout",
          "text": [
            "Model: \"sequential_26\"\n",
            "_________________________________________________________________\n",
            " Layer (type)                Output Shape              Param #   \n",
            "=================================================================\n",
            " embedding_19 (Embedding)    (None, None, 128)         1280000   \n",
            "                                                                 \n",
            " conv1d_14 (Conv1D)          (None, None, 16)          14352     \n",
            "                                                                 \n",
            " max_pooling1d_7 (MaxPooling  (None, None, 16)         0         \n",
            " 1D)                                                             \n",
            "                                                                 \n",
            " conv1d_15 (Conv1D)          (None, None, 16)          1808      \n",
            "                                                                 \n",
            " global_max_pooling1d_18 (Gl  (None, 16)               0         \n",
            " obalMaxPooling1D)                                               \n",
            "                                                                 \n",
            " dense_36 (Dense)            (None, 8)                 136       \n",
            "                                                                 \n",
            " dense_37 (Dense)            (None, 1)                 9         \n",
            "                                                                 \n",
            "=================================================================\n",
            "Total params: 1,296,305\n",
            "Trainable params: 1,296,305\n",
            "Non-trainable params: 0\n",
            "_________________________________________________________________\n"
          ]
        }
      ]
    },
    {
      "cell_type": "code",
      "source": [
        "CNNmodel.compile(optimizer='adam',\n",
        "              loss='binary_crossentropy',\n",
        "              metrics=['accuracy'])\n",
        "              \n",
        "epochs=10  # 몇 epoch를 훈련하면 좋을지 결과를 보면서 바꾸어 봅시다. \n",
        "\n",
        "history = CNNmodel.fit(partial_X_train,\n",
        "                    partial_y_train,\n",
        "                    epochs=epochs,\n",
        "                    batch_size=512,\n",
        "                    validation_data=(X_val, y_val),\n",
        "                    verbose=1)"
      ],
      "metadata": {
        "colab": {
          "base_uri": "https://localhost:8080/"
        },
        "id": "Y9xzWXraN6sf",
        "outputId": "fb7eb131-e97f-4c0d-d365-e16776e96a96"
      },
      "execution_count": 482,
      "outputs": [
        {
          "output_type": "stream",
          "name": "stdout",
          "text": [
            "Epoch 1/10\n",
            "149/149 [==============================] - 23s 146ms/step - loss: 0.4986 - accuracy: 0.7524 - val_loss: 0.3625 - val_accuracy: 0.8395\n",
            "Epoch 2/10\n",
            "149/149 [==============================] - 21s 144ms/step - loss: 0.3170 - accuracy: 0.8652 - val_loss: 0.3430 - val_accuracy: 0.8505\n",
            "Epoch 3/10\n",
            "149/149 [==============================] - 24s 160ms/step - loss: 0.2615 - accuracy: 0.8950 - val_loss: 0.3526 - val_accuracy: 0.8502\n",
            "Epoch 4/10\n",
            "149/149 [==============================] - 22s 145ms/step - loss: 0.2034 - accuracy: 0.9242 - val_loss: 0.3769 - val_accuracy: 0.8480\n",
            "Epoch 5/10\n",
            "149/149 [==============================] - 22s 146ms/step - loss: 0.1416 - accuracy: 0.9510 - val_loss: 0.4348 - val_accuracy: 0.8435\n",
            "Epoch 6/10\n",
            "149/149 [==============================] - 22s 146ms/step - loss: 0.0915 - accuracy: 0.9709 - val_loss: 0.5031 - val_accuracy: 0.8382\n",
            "Epoch 7/10\n",
            "149/149 [==============================] - 22s 146ms/step - loss: 0.0596 - accuracy: 0.9821 - val_loss: 0.5711 - val_accuracy: 0.8348\n",
            "Epoch 8/10\n",
            "149/149 [==============================] - 22s 146ms/step - loss: 0.0401 - accuracy: 0.9880 - val_loss: 0.6438 - val_accuracy: 0.8314\n",
            "Epoch 9/10\n",
            "149/149 [==============================] - 22s 150ms/step - loss: 0.0277 - accuracy: 0.9920 - val_loss: 0.7106 - val_accuracy: 0.8321\n",
            "Epoch 10/10\n",
            "149/149 [==============================] - 22s 146ms/step - loss: 0.0207 - accuracy: 0.9937 - val_loss: 0.7795 - val_accuracy: 0.8287\n"
          ]
        }
      ]
    },
    {
      "cell_type": "code",
      "source": [
        "results = CNNmodel.evaluate(X_test,  y_test, verbose=2)\n",
        "\n",
        "print(results)"
      ],
      "metadata": {
        "colab": {
          "base_uri": "https://localhost:8080/"
        },
        "id": "U3P7JqDdRljN",
        "outputId": "44995015-b2b5-4556-b173-6c1a49b6f76d"
      },
      "execution_count": 483,
      "outputs": [
        {
          "output_type": "stream",
          "name": "stdout",
          "text": [
            "1537/1537 - 5s - loss: 0.7925 - accuracy: 0.8253 - 5s/epoch - 3ms/step\n",
            "[0.7924672365188599, 0.8252537846565247]\n"
          ]
        }
      ]
    },
    {
      "cell_type": "code",
      "source": [
        "history_dict = history.history\n",
        "acc = history_dict['accuracy']\n",
        "val_acc = history_dict['val_accuracy']\n",
        "loss = history_dict['loss']\n",
        "val_loss = history_dict['val_loss']\n",
        "\n",
        "epochs = range(1, len(acc) + 1)\n",
        "\n",
        "plt.clf()\n",
        "\n",
        "plt.plot(epochs, loss, 'bo', label='Training loss')\n",
        "plt.plot(epochs, val_loss, 'b', label='Validation loss')\n",
        "plt.title('Training and validation loss')\n",
        "plt.xlabel('Epochs')\n",
        "plt.ylabel('Loss')\n",
        "plt.legend()\n",
        "\n",
        "plt.show()"
      ],
      "metadata": {
        "colab": {
          "base_uri": "https://localhost:8080/",
          "height": 295
        },
        "id": "igSmP56FRp-F",
        "outputId": "270ffe16-0bfd-4244-847f-3eb783da0c4a"
      },
      "execution_count": 484,
      "outputs": [
        {
          "output_type": "display_data",
          "data": {
            "image/png": "[encoded data removed]",
            "text/plain": [
              "<Figure size 432x288 with 1 Axes>"
            ]
          },
          "metadata": {
            "needs_background": "light"
          }
        }
      ]
    },
    {
      "cell_type": "code",
      "source": [
        "plt.clf()   # 그림을 초기화합니다\n",
        "\n",
        "plt.plot(epochs, acc, 'bo', label='Training acc')\n",
        "plt.plot(epochs, val_acc, 'b', label='Validation acc')\n",
        "plt.title('Training and validation accuracy')\n",
        "plt.xlabel('Epochs')\n",
        "plt.ylabel('Accuracy')\n",
        "plt.legend()\n",
        "\n",
        "plt.show()"
      ],
      "metadata": {
        "colab": {
          "base_uri": "https://localhost:8080/",
          "height": 295
        },
        "id": "1SAj-cKrSBz9",
        "outputId": "0b0128a5-49cf-46e5-a67c-601a2b2d9661"
      },
      "execution_count": 485,
      "outputs": [
        {
          "output_type": "display_data",
          "data": {
            "image/png": "[encoded data removed]",
            "text/plain": [
              "<Figure size 432x288 with 1 Axes>"
            ]
          },
          "metadata": {
            "needs_background": "light"
          }
        }
      ]
    },
    {
      "cell_type": "markdown",
      "source": [
        "## GlovalMaxPooling1D 을 이용 (중요하다 생각되는 단어만 피처로 추출하여 학습)"
      ],
      "metadata": {
        "id": "eqBdGmAqNN7P"
      }
    },
    {
      "cell_type": "code",
      "source": [
        "vocab_size = 10000  # 어휘 사전의 크기입니다(10개의 단어)\n",
        "word_vector_dim = 128   # 단어 하나를 표현하는 임베딩 벡터의 차원 수입니다. \n",
        "\n",
        "MPmodel = tf.keras.Sequential()\n",
        "MPmodel.add(tf.keras.layers.Embedding(vocab_size, word_vector_dim, input_shape=(None,)))\n",
        "MPmodel.add(tf.keras.layers.GlobalMaxPooling1D())\n",
        "MPmodel.add(tf.keras.layers.Dense(8, activation='relu'))\n",
        "MPmodel.add(tf.keras.layers.Dense(1, activation='sigmoid'))  # 최종 출력은 긍정/부정을 나타내는 1dim 입니다.\n",
        "\n",
        "MPmodel.summary()"
      ],
      "metadata": {
        "colab": {
          "base_uri": "https://localhost:8080/"
        },
        "id": "yHjPMiSxQ4f9",
        "outputId": "7b6da7df-2b4f-4752-b2b9-1e9a29b2f734"
      },
      "execution_count": 486,
      "outputs": [
        {
          "output_type": "stream",
          "name": "stdout",
          "text": [
            "Model: \"sequential_27\"\n",
            "_________________________________________________________________\n",
            " Layer (type)                Output Shape              Param #   \n",
            "=================================================================\n",
            " embedding_20 (Embedding)    (None, None, 128)         1280000   \n",
            "                                                                 \n",
            " global_max_pooling1d_19 (Gl  (None, 128)              0         \n",
            " obalMaxPooling1D)                                               \n",
            "                                                                 \n",
            " dense_38 (Dense)            (None, 8)                 1032      \n",
            "                                                                 \n",
            " dense_39 (Dense)            (None, 1)                 9         \n",
            "                                                                 \n",
            "=================================================================\n",
            "Total params: 1,281,041\n",
            "Trainable params: 1,281,041\n",
            "Non-trainable params: 0\n",
            "_________________________________________________________________\n"
          ]
        }
      ]
    },
    {
      "cell_type": "code",
      "source": [
        "MPmodel.compile(optimizer='adam',\n",
        "              loss='binary_crossentropy',\n",
        "              metrics=['accuracy'])\n",
        "              \n",
        "epochs=10  # 몇 epoch를 훈련하면 좋을지 결과를 보면서 바꾸어 봅시다. \n",
        "\n",
        "history = MPmodel.fit(partial_X_train,\n",
        "                    partial_y_train,\n",
        "                    epochs=epochs,\n",
        "                    batch_size=128,\n",
        "                    validation_data=(X_val, y_val),\n",
        "                    verbose=1)"
      ],
      "metadata": {
        "colab": {
          "base_uri": "https://localhost:8080/"
        },
        "id": "aLYv5e6xQ-rF",
        "outputId": "8a2e9294-dcd4-4b7d-a68c-e6a023eb1f0d"
      },
      "execution_count": 487,
      "outputs": [
        {
          "output_type": "stream",
          "name": "stdout",
          "text": [
            "Epoch 1/10\n",
            "596/596 [==============================] - 14s 23ms/step - loss: 0.4408 - accuracy: 0.8084 - val_loss: 0.3555 - val_accuracy: 0.8435\n",
            "Epoch 2/10\n",
            "596/596 [==============================] - 14s 24ms/step - loss: 0.3039 - accuracy: 0.8731 - val_loss: 0.3512 - val_accuracy: 0.8494\n",
            "Epoch 3/10\n",
            "596/596 [==============================] - 14s 23ms/step - loss: 0.2459 - accuracy: 0.9016 - val_loss: 0.3699 - val_accuracy: 0.8451\n",
            "Epoch 4/10\n",
            "596/596 [==============================] - 13s 23ms/step - loss: 0.1967 - accuracy: 0.9258 - val_loss: 0.3958 - val_accuracy: 0.8428\n",
            "Epoch 5/10\n",
            "596/596 [==============================] - 13s 23ms/step - loss: 0.1493 - accuracy: 0.9470 - val_loss: 0.4385 - val_accuracy: 0.8391\n",
            "Epoch 6/10\n",
            "596/596 [==============================] - 13s 23ms/step - loss: 0.1074 - accuracy: 0.9656 - val_loss: 0.4945 - val_accuracy: 0.8366\n",
            "Epoch 7/10\n",
            "596/596 [==============================] - 14s 23ms/step - loss: 0.0741 - accuracy: 0.9781 - val_loss: 0.5566 - val_accuracy: 0.8314\n",
            "Epoch 8/10\n",
            "596/596 [==============================] - 15s 25ms/step - loss: 0.0495 - accuracy: 0.9867 - val_loss: 0.6179 - val_accuracy: 0.8299\n",
            "Epoch 9/10\n",
            "596/596 [==============================] - 13s 22ms/step - loss: 0.0335 - accuracy: 0.9917 - val_loss: 0.6774 - val_accuracy: 0.8265\n",
            "Epoch 10/10\n",
            "596/596 [==============================] - 13s 22ms/step - loss: 0.0232 - accuracy: 0.9942 - val_loss: 0.7298 - val_accuracy: 0.8278\n"
          ]
        }
      ]
    },
    {
      "cell_type": "code",
      "source": [
        "results = CNNmodel.evaluate(X_test,  y_test, verbose=2)\n",
        "\n",
        "print(results)"
      ],
      "metadata": {
        "colab": {
          "base_uri": "https://localhost:8080/"
        },
        "id": "LV8xcZvkTKic",
        "outputId": "c3f52b7b-8cbe-4cea-c870-4ab12af2173a"
      },
      "execution_count": 488,
      "outputs": [
        {
          "output_type": "stream",
          "name": "stdout",
          "text": [
            "1537/1537 - 5s - loss: 0.7925 - accuracy: 0.8253 - 5s/epoch - 3ms/step\n",
            "[0.7924672365188599, 0.8252537846565247]\n"
          ]
        }
      ]
    },
    {
      "cell_type": "code",
      "source": [
        "history_dict = history.history\n",
        "acc = history_dict['accuracy']\n",
        "val_acc = history_dict['val_accuracy']\n",
        "loss = history_dict['loss']\n",
        "val_loss = history_dict['val_loss']\n",
        "\n",
        "epochs = range(1, len(acc) + 1)\n",
        "\n",
        "plt.clf()\n",
        "\n",
        "plt.plot(epochs, loss, 'bo', label='Training loss')\n",
        "plt.plot(epochs, val_loss, 'b', label='Validation loss')\n",
        "plt.title('Training and validation loss')\n",
        "plt.xlabel('Epochs')\n",
        "plt.ylabel('Loss')\n",
        "plt.legend()\n",
        "\n",
        "plt.show()"
      ],
      "metadata": {
        "colab": {
          "base_uri": "https://localhost:8080/",
          "height": 295
        },
        "id": "p9P4IE25TNhs",
        "outputId": "e1dd486c-90d0-45ea-9292-576c7378dbf8"
      },
      "execution_count": 489,
      "outputs": [
        {
          "output_type": "display_data",
          "data": {
            "image/png": "[encoded data removed]",
            "text/plain": [
              "<Figure size 432x288 with 1 Axes>"
            ]
          },
          "metadata": {
            "needs_background": "light"
          }
        }
      ]
    },
    {
      "cell_type": "code",
      "source": [
        "plt.clf()   # 그림을 초기화합니다\n",
        "\n",
        "plt.plot(epochs, acc, 'bo', label='Training acc')\n",
        "plt.plot(epochs, val_acc, 'b', label='Validation acc')\n",
        "plt.title('Training and validation accuracy')\n",
        "plt.xlabel('Epochs')\n",
        "plt.ylabel('Accuracy')\n",
        "plt.legend()\n",
        "\n",
        "plt.show()"
      ],
      "metadata": {
        "colab": {
          "base_uri": "https://localhost:8080/",
          "height": 295
        },
        "id": "qX4pudj1TPHU",
        "outputId": "5af6cfcc-6790-408c-8449-b05b7d86bb4f"
      },
      "execution_count": 490,
      "outputs": [
        {
          "output_type": "display_data",
          "data": {
            "image/png": "[encoded data removed]",
            "text/plain": [
              "<Figure size 432x288 with 1 Axes>"
            ]
          },
          "metadata": {
            "needs_background": "light"
          }
        }
      ]
    },
    {
      "cell_type": "markdown",
      "source": [
        "# 학습된 Embedding 레이어 분석"
      ],
      "metadata": {
        "id": "mYGVfls4XHOI"
      }
    },
    {
      "cell_type": "code",
      "source": [
        "embedding_layer = RNNmodel.layers[0]\n",
        "weights = embedding_layer.get_weights()[0]\n",
        "print(weights.shape)    # shape: (vocab_size, embedding_dim)"
      ],
      "metadata": {
        "colab": {
          "base_uri": "https://localhost:8080/"
        },
        "id": "TBA65OLxUE4s",
        "outputId": "4a31bef7-8039-40be-e97d-35fac349eb10"
      },
      "execution_count": 491,
      "outputs": [
        {
          "output_type": "stream",
          "name": "stdout",
          "text": [
            "(10000, 128)\n"
          ]
        }
      ]
    },
    {
      "cell_type": "code",
      "source": [
        "# 학습한 Embedding 파라미터를 파일에 써서 저장합니다. \n",
        "word2vec_file_path = '/content/drive/MyDrive/LMS/Exploration/Ex.6/data/word2vec.txt'\n",
        "\n",
        "f = open(word2vec_file_path, 'w', encoding='utf-8')\n",
        "f.write('{} {}\\n'.format(10000-3, word_vector_dim))  # 몇개의 벡터를 얼마 사이즈로 기재할지 타이틀을 씁니다.\n",
        "\n",
        "# 단어 개수(에서 특수문자 3개는 제외하고)만큼의 워드 벡터를 파일에 기록합니다. \n",
        "vectors = RNNmodel.get_weights()[0]\n",
        "for i in range(3,10000):\n",
        "    f.write('{} {}\\n'.format(index_to_word[i], ' '.join(map(str, list(vectors[i, :])))))\n",
        "f.close()"
      ],
      "metadata": {
        "id": "pldhY24dUKE8"
      },
      "execution_count": 492,
      "outputs": []
    },
    {
      "cell_type": "code",
      "source": [
        "from gensim.models import KeyedVectors\n",
        "from gensim.models import Word2Vec\n",
        "import gensim\n",
        "\n",
        "\n",
        "word2vec_path = '/content/drive/MyDrive/LMS/Exploration/Ex.6/data/ko.bin'\n",
        "word2vec = word2vec = Word2Vec.load(word2vec_path)\n",
        "vector = word2vec['영화']\n",
        "vector"
      ],
      "metadata": {
        "id": "i8V_ex9xXQL5",
        "colab": {
          "base_uri": "https://localhost:8080/"
        },
        "outputId": "a27d77b9-4923-4297-d418-91c2862af57c"
      },
      "execution_count": 493,
      "outputs": [
        {
          "output_type": "stream",
          "name": "stderr",
          "text": [
            "/usr/local/lib/python3.7/dist-packages/ipykernel_launcher.py:8: DeprecationWarning: Call to deprecated `__getitem__` (Method will be removed in 4.0.0, use self.wv.__getitem__() instead).\n",
            "  \n"
          ]
        },
        {
          "output_type": "execute_result",
          "data": {
            "text/plain": [
              "array([-1.7577837 , -1.0874279 ,  1.5300866 , -0.1115231 , -0.37980682,\n",
              "        1.4828517 ,  1.3180419 ,  0.11094163,  0.7430535 , -0.45461136,\n",
              "        0.58841336,  0.5763913 ,  1.210707  ,  1.3132795 , -0.86962503,\n",
              "       -0.18507595, -0.47440064,  1.5100725 ,  1.0965794 ,  1.0600823 ,\n",
              "       -0.27457932, -0.70003706,  2.3117511 ,  1.4944884 ,  0.25560892,\n",
              "       -2.866659  , -0.28312334,  0.34263936, -0.67723423,  0.71714777,\n",
              "        0.25549442,  0.71732044, -0.13262457,  0.01792452, -0.3184774 ,\n",
              "        0.5271619 ,  0.7561084 , -2.1247065 ,  1.061429  , -0.21065854,\n",
              "        0.6877343 , -1.4956383 ,  0.60346967, -2.6955893 ,  0.37694618,\n",
              "       -1.0164185 ,  0.5430663 ,  0.1200121 , -2.6315718 ,  0.6216742 ,\n",
              "        1.1583976 , -2.5385962 ,  1.326312  , -0.10284371, -0.0286147 ,\n",
              "       -0.9132947 ,  0.7647564 ,  0.79202783, -1.8625957 , -0.7418395 ,\n",
              "        0.5884277 , -0.9917992 , -0.62114453,  1.5367815 , -0.6628939 ,\n",
              "        0.6712103 ,  0.12914915,  0.21228492,  0.9017655 , -0.25083402,\n",
              "        0.71500814,  0.08644514,  0.59993285,  0.5766137 ,  0.64095974,\n",
              "        0.47888306, -2.8426213 , -2.8502681 , -0.140544  , -1.5917364 ,\n",
              "        0.26691505,  0.59476066,  0.85868204,  1.0322351 ,  0.25671318,\n",
              "       -0.34831643,  1.752927  , -0.21967097, -0.77352476,  1.6995213 ,\n",
              "        1.3996491 , -0.9419836 ,  0.85996443, -1.8812876 , -2.5428605 ,\n",
              "        0.39351937, -1.2882805 ,  0.56548136,  1.006273  ,  1.2217585 ,\n",
              "        3.5744793 ,  1.717737  ,  1.6917158 , -2.2176905 , -0.3167447 ,\n",
              "        1.2449    , -1.255284  , -2.1539652 , -1.096709  , -0.74976933,\n",
              "       -0.16744931, -1.8507233 ,  2.1861036 , -0.05389732,  1.038033  ,\n",
              "        0.33730686, -1.4647075 , -1.264041  ,  0.25509247,  0.0622906 ,\n",
              "        0.27852032, -0.52661455,  0.8529616 ,  0.58257025, -0.57665855,\n",
              "        1.3990631 ,  0.28237963,  1.6566037 ,  1.9912103 ,  0.63888913,\n",
              "        0.7732426 , -1.3757724 ,  0.17209321, -0.2433672 ,  0.6328291 ,\n",
              "        1.486971  ,  2.3435354 , -1.7037928 ,  3.1944559 , -1.9049606 ,\n",
              "       -0.51309574,  0.79082954, -1.4480313 , -0.68631476,  0.62008876,\n",
              "       -2.3400223 , -0.5785594 ,  0.5270694 ,  3.0061607 , -1.3661511 ,\n",
              "       -2.7953272 , -1.1794031 , -0.27734265,  0.71130925, -0.06620383,\n",
              "        0.33663416,  0.7204997 , -0.923218  , -2.1603265 , -0.8904896 ,\n",
              "       -1.4137112 , -0.4189144 ,  0.42834592,  1.8104875 , -1.8274456 ,\n",
              "       -0.26700613,  0.7743727 ,  0.80048114,  1.1333636 ,  3.2746978 ,\n",
              "       -0.0188297 ,  0.9245737 , -0.1246058 , -0.5802861 , -0.01926111,\n",
              "        1.05892   , -1.4247856 ,  1.0689156 ,  2.5728712 , -1.294882  ,\n",
              "        0.74771804,  1.3066916 , -1.3213431 ,  1.6501019 , -0.12401557,\n",
              "        0.96340084,  0.26050946,  1.3826336 , -0.02877662,  2.3431563 ,\n",
              "       -0.26337367,  1.9162012 , -0.77454543,  1.7392642 ,  0.08038983,\n",
              "       -0.60325927,  0.29508227,  0.4812675 ,  0.5271086 ,  0.94171894],\n",
              "      dtype=float32)"
            ]
          },
          "metadata": {},
          "execution_count": 493
        }
      ]
    },
    {
      "cell_type": "code",
      "source": [
        "word2vec.similar_by_word(\"영화\")"
      ],
      "metadata": {
        "colab": {
          "base_uri": "https://localhost:8080/"
        },
        "id": "oLuSvS19fHHl",
        "outputId": "fca42cb3-9e6a-4344-a0a3-94dd12e3e6ba"
      },
      "execution_count": 494,
      "outputs": [
        {
          "output_type": "stream",
          "name": "stderr",
          "text": [
            "/usr/local/lib/python3.7/dist-packages/ipykernel_launcher.py:1: DeprecationWarning: Call to deprecated `similar_by_word` (Method will be removed in 4.0.0, use self.wv.similar_by_word() instead).\n",
            "  \"\"\"Entry point for launching an IPython kernel.\n"
          ]
        },
        {
          "output_type": "execute_result",
          "data": {
            "text/plain": [
              "[('다큐멘터리', 0.7265259027481079),\n",
              " ('영화사', 0.715214192867279),\n",
              " ('드라마', 0.705294132232666),\n",
              " ('뮤지컬', 0.6947016716003418),\n",
              " ('코미디', 0.69093257188797),\n",
              " ('영화인', 0.6702202558517456),\n",
              " ('서부극', 0.6571458578109741),\n",
              " ('스릴러', 0.6533164978027344),\n",
              " ('로맨스', 0.6428799629211426),\n",
              " ('애니메이션', 0.6425570249557495)]"
            ]
          },
          "metadata": {},
          "execution_count": 494
        }
      ]
    },
    {
      "cell_type": "markdown",
      "source": [
        "# 한국어 Word2Vrc 임베딩 활용하여 성능 개선"
      ],
      "metadata": {
        "id": "SdxZKboxXMVg"
      }
    },
    {
      "cell_type": "code",
      "source": [
        "vocab_size = 10000    # 어휘 사전의 크기입니다(10,000개의 단어)\n",
        "word_vector_dim = 200  # 워드 벡터의 차원수\n",
        "embedding_matrix = np.random.rand(vocab_size, word_vector_dim)\n",
        "\n",
        "# embedding_matrix에 Word2Vec 워드 벡터를 단어 하나씩마다 차례차례 카피한다.\n",
        "for i in range(3,vocab_size):\n",
        "    if index_to_word[i] in word2vec:\n",
        "        embedding_matrix[i] = word2vec[index_to_word[i]]"
      ],
      "metadata": {
        "colab": {
          "base_uri": "https://localhost:8080/"
        },
        "id": "mMy8KdRPctv-",
        "outputId": "8e7b6885-bfe6-4b1d-8388-dcc94e0bcb27"
      },
      "execution_count": 512,
      "outputs": [
        {
          "output_type": "stream",
          "name": "stderr",
          "text": [
            "/usr/local/lib/python3.7/dist-packages/ipykernel_launcher.py:7: DeprecationWarning: Call to deprecated `__contains__` (Method will be removed in 4.0.0, use self.wv.__contains__() instead).\n",
            "  import sys\n",
            "/usr/local/lib/python3.7/dist-packages/ipykernel_launcher.py:8: DeprecationWarning: Call to deprecated `__getitem__` (Method will be removed in 4.0.0, use self.wv.__getitem__() instead).\n",
            "  \n"
          ]
        }
      ]
    },
    {
      "cell_type": "markdown",
      "source": [
        "## RNN 이용"
      ],
      "metadata": {
        "id": "doz4Z-dOjPAr"
      }
    },
    {
      "cell_type": "code",
      "source": [
        "from tensorflow.keras.initializers import Constant\n",
        "\n",
        "vocab_size = 10000    # 어휘 사전의 크기입니다(10,000개의 단어)\n",
        "word_vector_dim = 200  # 워드 벡터의 차원 수 \n",
        "\n",
        "# 모델 구성\n",
        "model = tf.keras.Sequential()\n",
        "model.add(tf.keras.layers.Embedding(vocab_size, \n",
        "                                 word_vector_dim, \n",
        "                                 embeddings_initializer=Constant(embedding_matrix),  # 카피한 임베딩을 여기서 활용\n",
        "                                 input_length=max_len, \n",
        "                                 trainable=True))   # trainable을 True로 주면 Fine-tuning\n",
        "model.add(tf.keras.layers.Conv1D(16, 7, activation='relu'))\n",
        "model.add(tf.keras.layers.MaxPooling1D(5))\n",
        "model.add(tf.keras.layers.Conv1D(16, 7, activation='relu'))\n",
        "model.add(tf.keras.layers.GlobalMaxPooling1D())\n",
        "model.add(tf.keras.layers.Dense(8, activation='relu'))\n",
        "model.add(tf.keras.layers.Dense(1, activation='sigmoid')) \n",
        "\n",
        "model.summary()"
      ],
      "metadata": {
        "colab": {
          "base_uri": "https://localhost:8080/"
        },
        "id": "5lTmS0B1fgr1",
        "outputId": "a9abfa39-d800-4bbf-a32d-e807c9fb5380"
      },
      "execution_count": 513,
      "outputs": [
        {
          "output_type": "stream",
          "name": "stdout",
          "text": [
            "Model: \"sequential_31\"\n",
            "_________________________________________________________________\n",
            " Layer (type)                Output Shape              Param #   \n",
            "=================================================================\n",
            " embedding_24 (Embedding)    (None, 41, 200)           2000000   \n",
            "                                                                 \n",
            " conv1d_20 (Conv1D)          (None, 35, 16)            22416     \n",
            "                                                                 \n",
            " max_pooling1d_10 (MaxPoolin  (None, 7, 16)            0         \n",
            " g1D)                                                            \n",
            "                                                                 \n",
            " conv1d_21 (Conv1D)          (None, 1, 16)             1808      \n",
            "                                                                 \n",
            " global_max_pooling1d_23 (Gl  (None, 16)               0         \n",
            " obalMaxPooling1D)                                               \n",
            "                                                                 \n",
            " dense_46 (Dense)            (None, 8)                 136       \n",
            "                                                                 \n",
            " dense_47 (Dense)            (None, 1)                 9         \n",
            "                                                                 \n",
            "=================================================================\n",
            "Total params: 2,024,369\n",
            "Trainable params: 2,024,369\n",
            "Non-trainable params: 0\n",
            "_________________________________________________________________\n"
          ]
        }
      ]
    },
    {
      "cell_type": "code",
      "source": [
        "# 학습의 진행\n",
        "model.compile(optimizer='adam',\n",
        "              loss='binary_crossentropy',\n",
        "              metrics=['accuracy'])\n",
        "              \n",
        "epochs=4  # 몇 epoch를 훈련하면 좋을지 결과를 보면서 바꾸어 봅시다. \n",
        "\n",
        "history = model.fit(partial_X_train,\n",
        "                    partial_y_train,\n",
        "                    epochs=epochs,\n",
        "                    batch_size=512,\n",
        "                    validation_data=(X_val, y_val),\n",
        "                    verbose=1)"
      ],
      "metadata": {
        "colab": {
          "base_uri": "https://localhost:8080/"
        },
        "id": "J-Jbueqgfkd1",
        "outputId": "8eafeb33-513e-4995-d998-28234d0022ac"
      },
      "execution_count": 514,
      "outputs": [
        {
          "output_type": "stream",
          "name": "stdout",
          "text": [
            "Epoch 1/4\n",
            "149/149 [==============================] - 40s 267ms/step - loss: 0.6179 - accuracy: 0.6405 - val_loss: 0.5070 - val_accuracy: 0.7546\n",
            "Epoch 2/4\n",
            "149/149 [==============================] - 32s 213ms/step - loss: 0.4454 - accuracy: 0.7940 - val_loss: 0.4241 - val_accuracy: 0.8077\n",
            "Epoch 3/4\n",
            "149/149 [==============================] - 31s 210ms/step - loss: 0.3672 - accuracy: 0.8377 - val_loss: 0.4000 - val_accuracy: 0.8216\n",
            "Epoch 4/4\n",
            "149/149 [==============================] - 31s 210ms/step - loss: 0.3161 - accuracy: 0.8648 - val_loss: 0.3859 - val_accuracy: 0.8321\n"
          ]
        }
      ]
    },
    {
      "cell_type": "code",
      "source": [
        "# 테스트셋을 통한 모델 평가\n",
        "results = model.evaluate(X_test,  y_test, verbose=2)\n",
        "\n",
        "print(results)"
      ],
      "metadata": {
        "colab": {
          "base_uri": "https://localhost:8080/"
        },
        "id": "0641d9mPfr7s",
        "outputId": "34c119f7-cd51-4556-f18d-5650f3857031"
      },
      "execution_count": 515,
      "outputs": [
        {
          "output_type": "stream",
          "name": "stdout",
          "text": [
            "1537/1537 - 6s - loss: 0.3969 - accuracy: 0.8274 - 6s/epoch - 4ms/step\n",
            "[0.3968776762485504, 0.8273694515228271]\n"
          ]
        }
      ]
    },
    {
      "cell_type": "code",
      "source": [
        "history_dict = history.history\n",
        "acc = history_dict['accuracy']\n",
        "val_acc = history_dict['val_accuracy']\n",
        "loss = history_dict['loss']\n",
        "val_loss = history_dict['val_loss']\n",
        "\n",
        "epochs = range(1, len(acc) + 1)\n",
        "\n",
        "plt.clf()\n",
        "\n",
        "plt.plot(epochs, loss, 'bo', label='Training loss')\n",
        "plt.plot(epochs, val_loss, 'b', label='Validation loss')\n",
        "plt.title('Training and validation loss')\n",
        "plt.xlabel('Epochs')\n",
        "plt.ylabel('Loss')\n",
        "plt.legend()\n",
        "\n",
        "plt.show()"
      ],
      "metadata": {
        "colab": {
          "base_uri": "https://localhost:8080/",
          "height": 295
        },
        "id": "vcArQ91MjBuM",
        "outputId": "4ee9083e-1556-46b2-cd51-2b079496aad1"
      },
      "execution_count": 516,
      "outputs": [
        {
          "output_type": "display_data",
          "data": {
            "image/png": "[encoded data removed]",
            "text/plain": [
              "<Figure size 432x288 with 1 Axes>"
            ]
          },
          "metadata": {
            "needs_background": "light"
          }
        }
      ]
    },
    {
      "cell_type": "code",
      "source": [
        "plt.clf()   # 그림을 초기화합니다\n",
        "\n",
        "plt.plot(epochs, acc, 'bo', label='Training acc')\n",
        "plt.plot(epochs, val_acc, 'b', label='Validation acc')\n",
        "plt.title('Training and validation accuracy')\n",
        "plt.xlabel('Epochs')\n",
        "plt.ylabel('Accuracy')\n",
        "plt.legend()\n",
        "\n",
        "plt.show()"
      ],
      "metadata": {
        "colab": {
          "base_uri": "https://localhost:8080/",
          "height": 295
        },
        "id": "h4nDllkxjEXb",
        "outputId": "951d4c6b-ae2e-458b-c54d-ef7e3e8c608e"
      },
      "execution_count": 517,
      "outputs": [
        {
          "output_type": "display_data",
          "data": {
            "image/png": "[encoded data removed]",
            "text/plain": [
              "<Figure size 432x288 with 1 Axes>"
            ]
          },
          "metadata": {
            "needs_background": "light"
          }
        }
      ]
    },
    {
      "cell_type": "markdown",
      "source": [
        "## 1D CNN 이용"
      ],
      "metadata": {
        "id": "WgYEmKTYjIPL"
      }
    },
    {
      "cell_type": "code",
      "source": [
        "from tensorflow.keras.layers import Conv1D, GlobalMaxPooling1D\n",
        "\n",
        "vocab_size = 10000  # 어휘 사전의 크기입니다(10개의 단어)\n",
        "word_vector_dim = 512   # 단어 하나를 표현하는 임베딩 벡터의 차원 수입니다. \n",
        "\n",
        "CNNmodel = tf.keras.Sequential()\n",
        "CNNmodel.add(tf.keras.layers.Embedding(vocab_size, word_vector_dim, input_shape=(None,)))\n",
        "CNNmodel.add(tf.keras.layers.Conv1D(16, 7, activation='relu'))\n",
        "CNNmodel.add(tf.keras.layers.MaxPooling1D(5))\n",
        "CNNmodel.add(tf.keras.layers.Conv1D(16, 7, activation='relu'))\n",
        "CNNmodel.add(tf.keras.layers.GlobalMaxPooling1D())\n",
        "CNNmodel.add(tf.keras.layers.Dense(8, activation='relu'))\n",
        "CNNmodel.add(tf.keras.layers.Dense(1, activation='sigmoid'))  # 최종 출력은 긍정/부정을 나타내는 1dim 입니다.\n",
        "\n",
        "CNNmodel.summary()"
      ],
      "metadata": {
        "colab": {
          "base_uri": "https://localhost:8080/"
        },
        "id": "dAxoOR76jXw0",
        "outputId": "8321dab3-252c-4be5-ea05-01c43451bb18"
      },
      "execution_count": 554,
      "outputs": [
        {
          "output_type": "stream",
          "name": "stdout",
          "text": [
            "Model: \"sequential_39\"\n",
            "_________________________________________________________________\n",
            " Layer (type)                Output Shape              Param #   \n",
            "=================================================================\n",
            " embedding_32 (Embedding)    (None, None, 512)         5120000   \n",
            "                                                                 \n",
            " conv1d_32 (Conv1D)          (None, None, 16)          57360     \n",
            "                                                                 \n",
            " max_pooling1d_16 (MaxPoolin  (None, None, 16)         0         \n",
            " g1D)                                                            \n",
            "                                                                 \n",
            " conv1d_33 (Conv1D)          (None, None, 16)          1808      \n",
            "                                                                 \n",
            " global_max_pooling1d_31 (Gl  (None, 16)               0         \n",
            " obalMaxPooling1D)                                               \n",
            "                                                                 \n",
            " dense_62 (Dense)            (None, 8)                 136       \n",
            "                                                                 \n",
            " dense_63 (Dense)            (None, 1)                 9         \n",
            "                                                                 \n",
            "=================================================================\n",
            "Total params: 5,179,313\n",
            "Trainable params: 5,179,313\n",
            "Non-trainable params: 0\n",
            "_________________________________________________________________\n"
          ]
        }
      ]
    },
    {
      "cell_type": "code",
      "source": [
        "CNNmodel.compile(optimizer='adam',\n",
        "              loss='binary_crossentropy',\n",
        "              metrics=['accuracy'])\n",
        "              \n",
        "epochs=2  # 몇 epoch를 훈련하면 좋을지 결과를 보면서 바꾸어 봅시다. \n",
        "\n",
        "history = CNNmodel.fit(partial_X_train,\n",
        "                    partial_y_train,\n",
        "                    epochs=epochs,\n",
        "                    batch_size=256,\n",
        "                    validation_data=(X_val, y_val),\n",
        "                    verbose=1)"
      ],
      "metadata": {
        "colab": {
          "base_uri": "https://localhost:8080/"
        },
        "id": "OAiX-JXIjc9L",
        "outputId": "d21dc156-fefa-431c-8deb-18ef24ac3f24"
      },
      "execution_count": 555,
      "outputs": [
        {
          "output_type": "stream",
          "name": "stdout",
          "text": [
            "Epoch 1/2\n",
            "298/298 [==============================] - 99s 327ms/step - loss: 0.4453 - accuracy: 0.7789 - val_loss: 0.3466 - val_accuracy: 0.8482\n",
            "Epoch 2/2\n",
            "298/298 [==============================] - 100s 335ms/step - loss: 0.2920 - accuracy: 0.8778 - val_loss: 0.3376 - val_accuracy: 0.8536\n"
          ]
        }
      ]
    },
    {
      "cell_type": "code",
      "source": [
        "results = CNNmodel.evaluate(X_test,  y_test, verbose=2)\n",
        "\n",
        "print(results)"
      ],
      "metadata": {
        "colab": {
          "base_uri": "https://localhost:8080/"
        },
        "id": "V7ZJlAP_jjx7",
        "outputId": "bbf1c27f-2dc4-4c7c-b479-eb0a166e5665"
      },
      "execution_count": 556,
      "outputs": [
        {
          "output_type": "stream",
          "name": "stdout",
          "text": [
            "1537/1537 - 11s - loss: 0.3454 - accuracy: 0.8507 - 11s/epoch - 7ms/step\n",
            "[0.34535786509513855, 0.8507232069969177]\n"
          ]
        }
      ]
    },
    {
      "cell_type": "code",
      "source": [
        "history_dict = history.history\n",
        "acc = history_dict['accuracy']\n",
        "val_acc = history_dict['val_accuracy']\n",
        "loss = history_dict['loss']\n",
        "val_loss = history_dict['val_loss']\n",
        "\n",
        "epochs = range(1, len(acc) + 1)\n",
        "\n",
        "plt.clf()\n",
        "\n",
        "plt.plot(epochs, loss, 'bo', label='Training loss')\n",
        "plt.plot(epochs, val_loss, 'b', label='Validation loss')\n",
        "plt.title('Training and validation loss')\n",
        "plt.xlabel('Epochs')\n",
        "plt.ylabel('Loss')\n",
        "plt.legend()\n",
        "\n",
        "plt.show()"
      ],
      "metadata": {
        "colab": {
          "base_uri": "https://localhost:8080/",
          "height": 295
        },
        "id": "3w27xxEejkOD",
        "outputId": "50a995cb-f599-4c1c-f270-83dda5e95b50"
      },
      "execution_count": 557,
      "outputs": [
        {
          "output_type": "display_data",
          "data": {
            "image/png": "[encoded data removed]",
            "text/plain": [
              "<Figure size 432x288 with 1 Axes>"
            ]
          },
          "metadata": {
            "needs_background": "light"
          }
        }
      ]
    },
    {
      "cell_type": "code",
      "source": [
        "plt.clf()   # 그림을 초기화합니다\n",
        "\n",
        "plt.plot(epochs, acc, 'bo', label='Training acc')\n",
        "plt.plot(epochs, val_acc, 'b', label='Validation acc')\n",
        "plt.title('Training and validation accuracy')\n",
        "plt.xlabel('Epochs')\n",
        "plt.ylabel('Accuracy')\n",
        "plt.legend()\n",
        "\n",
        "plt.show()"
      ],
      "metadata": {
        "colab": {
          "base_uri": "https://localhost:8080/",
          "height": 295
        },
        "id": "_nTU99rNjnUK",
        "outputId": "b3627b84-ee91-4ca7-c2aa-f7c50918ee50"
      },
      "execution_count": 558,
      "outputs": [
        {
          "output_type": "display_data",
          "data": {
            "image/png": "[encoded data removed]",
            "text/plain": [
              "<Figure size 432x288 with 1 Axes>"
            ]
          },
          "metadata": {
            "needs_background": "light"
          }
        }
      ]
    },
    {
      "cell_type": "markdown",
      "source": [
        "## MaxPooling 이용"
      ],
      "metadata": {
        "id": "qIbpreiljp0i"
      }
    },
    {
      "cell_type": "code",
      "source": [
        "vocab_size = 10000  # 어휘 사전의 크기입니다(10개의 단어)\n",
        "word_vector_dim = 128   # 단어 하나를 표현하는 임베딩 벡터의 차원 수입니다. \n",
        "\n",
        "MPmodel = tf.keras.Sequential()\n",
        "MPmodel.add(tf.keras.layers.Embedding(vocab_size, word_vector_dim, input_shape=(None,)))\n",
        "MPmodel.add(tf.keras.layers.GlobalMaxPooling1D())\n",
        "MPmodel.add(tf.keras.layers.Dense(8, activation='relu'))\n",
        "MPmodel.add(tf.keras.layers.Dense(1, activation='sigmoid'))  # 최종 출력은 긍정/부정을 나타내는 1dim 입니다.\n",
        "\n",
        "MPmodel.summary()"
      ],
      "metadata": {
        "colab": {
          "base_uri": "https://localhost:8080/"
        },
        "id": "7vZCLzMdjwDS",
        "outputId": "e34a0ea0-4872-4243-e448-40707a965862"
      },
      "execution_count": 528,
      "outputs": [
        {
          "output_type": "stream",
          "name": "stdout",
          "text": [
            "Model: \"sequential_34\"\n",
            "_________________________________________________________________\n",
            " Layer (type)                Output Shape              Param #   \n",
            "=================================================================\n",
            " embedding_27 (Embedding)    (None, None, 128)         1280000   \n",
            "                                                                 \n",
            " global_max_pooling1d_26 (Gl  (None, 128)              0         \n",
            " obalMaxPooling1D)                                               \n",
            "                                                                 \n",
            " dense_52 (Dense)            (None, 8)                 1032      \n",
            "                                                                 \n",
            " dense_53 (Dense)            (None, 1)                 9         \n",
            "                                                                 \n",
            "=================================================================\n",
            "Total params: 1,281,041\n",
            "Trainable params: 1,281,041\n",
            "Non-trainable params: 0\n",
            "_________________________________________________________________\n"
          ]
        }
      ]
    },
    {
      "cell_type": "code",
      "source": [
        "MPmodel.compile(optimizer='adam',\n",
        "              loss='binary_crossentropy',\n",
        "              metrics=['accuracy'])\n",
        "              \n",
        "epochs=4  # 몇 epoch를 훈련하면 좋을지 결과를 보면서 바꾸어 봅시다. \n",
        "\n",
        "history = MPmodel.fit(partial_X_train,\n",
        "                    partial_y_train,\n",
        "                    epochs=epochs,\n",
        "                    batch_size=128,\n",
        "                    validation_data=(X_val, y_val),\n",
        "                    verbose=1)"
      ],
      "metadata": {
        "colab": {
          "base_uri": "https://localhost:8080/"
        },
        "id": "PkefzyENjwwq",
        "outputId": "0117d6d4-bafc-4716-e4f0-19c22bce75cc"
      },
      "execution_count": 529,
      "outputs": [
        {
          "output_type": "stream",
          "name": "stdout",
          "text": [
            "Epoch 1/4\n",
            "596/596 [==============================] - 19s 31ms/step - loss: 0.4661 - accuracy: 0.7842 - val_loss: 0.3606 - val_accuracy: 0.8419\n",
            "Epoch 2/4\n",
            "596/596 [==============================] - 17s 28ms/step - loss: 0.3125 - accuracy: 0.8684 - val_loss: 0.3483 - val_accuracy: 0.8482\n",
            "Epoch 3/4\n",
            "596/596 [==============================] - 16s 27ms/step - loss: 0.2556 - accuracy: 0.8979 - val_loss: 0.3595 - val_accuracy: 0.8482\n",
            "Epoch 4/4\n",
            "596/596 [==============================] - 14s 24ms/step - loss: 0.2068 - accuracy: 0.9215 - val_loss: 0.3871 - val_accuracy: 0.8457\n"
          ]
        }
      ]
    },
    {
      "cell_type": "code",
      "source": [
        "results = MPmodel.evaluate(X_test,  y_test, verbose=2)\n",
        "\n",
        "print(results)"
      ],
      "metadata": {
        "colab": {
          "base_uri": "https://localhost:8080/"
        },
        "id": "HeVT2bxBj2Ui",
        "outputId": "89fc2809-742c-4f56-f279-8c49ac1bc2c5"
      },
      "execution_count": 530,
      "outputs": [
        {
          "output_type": "stream",
          "name": "stdout",
          "text": [
            "1537/1537 - 2s - loss: 0.3953 - accuracy: 0.8422 - 2s/epoch - 2ms/step\n",
            "[0.3952751159667969, 0.8421791195869446]\n"
          ]
        }
      ]
    },
    {
      "cell_type": "code",
      "source": [
        "history_dict = history.history\n",
        "acc = history_dict['accuracy']\n",
        "val_acc = history_dict['val_accuracy']\n",
        "loss = history_dict['loss']\n",
        "val_loss = history_dict['val_loss']\n",
        "\n",
        "epochs = range(1, len(acc) + 1)\n",
        "\n",
        "plt.clf()\n",
        "\n",
        "plt.plot(epochs, loss, 'bo', label='Training loss')\n",
        "plt.plot(epochs, val_loss, 'b', label='Validation loss')\n",
        "plt.title('Training and validation loss')\n",
        "plt.xlabel('Epochs')\n",
        "plt.ylabel('Loss')\n",
        "plt.legend()\n",
        "\n",
        "plt.show()"
      ],
      "metadata": {
        "colab": {
          "base_uri": "https://localhost:8080/",
          "height": 295
        },
        "id": "ayXW9zxmj3sl",
        "outputId": "bca6c4bb-10c4-4491-d6c8-5255ae4047cb"
      },
      "execution_count": 531,
      "outputs": [
        {
          "output_type": "display_data",
          "data": {
            "image/png": "[encoded data removed]",
            "text/plain": [
              "<Figure size 432x288 with 1 Axes>"
            ]
          },
          "metadata": {
            "needs_background": "light"
          }
        }
      ]
    },
    {
      "cell_type": "code",
      "source": [
        "plt.clf()   # 그림을 초기화합니다\n",
        "\n",
        "plt.plot(epochs, acc, 'bo', label='Training acc')\n",
        "plt.plot(epochs, val_acc, 'b', label='Validation acc')\n",
        "plt.title('Training and validation accuracy')\n",
        "plt.xlabel('Epochs')\n",
        "plt.ylabel('Accuracy')\n",
        "plt.legend()\n",
        "\n",
        "plt.show()"
      ],
      "metadata": {
        "colab": {
          "base_uri": "https://localhost:8080/",
          "height": 295
        },
        "id": "PJ7fItFvj5P6",
        "outputId": "126e17e1-dfe2-469f-f039-59ca284d311e"
      },
      "execution_count": 532,
      "outputs": [
        {
          "output_type": "display_data",
          "data": {
            "image/png": "[encoded data removed]",
            "text/plain": [
              "<Figure size 432x288 with 1 Axes>"
            ]
          },
          "metadata": {
            "needs_background": "light"
          }
        }
      ]
    },
    {
      "cell_type": "markdown",
      "source": [
        "# 회고"
      ],
      "metadata": {
        "id": "FWM92diMgJlN"
      }
    },
    {
      "cell_type": "markdown",
      "source": [
        "## 이번 프로젝트를 하며 어려웠던 점.\n",
        "####이번 프로젝트를 진행하며, 가장 어려웠던것은 우선 시간분배였습니다.\n",
        "- 사실, 지난 노드인 Exploration5번에서 필요 이상의 시간을 소모하여서, 이번 노드를 저번 노드만큼 깊게 들여다 보진 못했습니다.\n",
        "\n",
        "####다음은 코드 분석 및 전처리가 어려웠습니다.\n",
        "- 처음 시작할 때에는 어디서부터 건드려야할지 막막했기에, 우선 하나 하나 코드 분석을 하며 진행했습니다. 하지만 마지막 프로젝트 단계에서 주어진 코드들이 이해가 되지 않았고, 그부분에서 처음 막혔습니다. 하지만 하나하나 코드를 읽고, LMS에서 알려준 것들과 비교해가며, 또, 인터넷을 검색하여 embedding 이나, wrod2vec 등에 관한 지식을 읽고 오니 좀 더 코드와 진행하는 이해도가 좋아졌습니다. 주어진 코드 외에, 개인적으로 각 데이터 별 길이 배치 분포도가 궁금하여 그래프를 만들어보는데, 처음에 접근을 잘못하여 애를 많이 먹었습니다. 하지만 결국 원하는 그래프를 만들어내는데 성공하였고, 그래프를 통해 글의 길이를 어느정도 유추할 수 있어서 수월 했습니다.\n",
        "\n",
        "#### 마지막으로는 정확도를 올리는것이 어려웠습니다.\n",
        "- 나름 전처리를 깔끔하게 했다고 생각을 했고, 이전에 LMS에서 IMDB 영화 분석할 때에, google이 만들었다는 Word2Vec을 이용하였더니 정확도가 확 올라가는것을 보고, 저도 당연히 그렇게 될거라고 생각했습니다. 하지만 결과는 쉽지 않았습니다. 매 Exploration마다 느끼는 거지만.. 하이퍼 파라미터를 바꾸어 보아도, 결과가 다이나믹하게 바뀌지 않아, 어떤부분을 어떻게 바꿔야하는지 아직 감이 오지 않는점입니다.. 때문에, 나름의 다양한 시도와 가설을 갖고 하이퍼파라미터 값을 바꾸어 보았지만, 만족스러운 결과는 얻지 못해 아쉽습니다. 이 부분은 언젠가 꼭 계속해서 공부하여 상황에 맞춰 자유자제로 값을 찾아내는 감각을 기르고 싶습니다.\n",
        "\n",
        "## 프로젝트를 진행하면서 알아낸 점 혹은 아직 모호한 점.\n",
        "#### 세 가지 모델을 사용하며 어느 에포그 시점부터 오버피팅 하였는지 그래프까지 보며 차이점을 비교할 수 있다는 점을 알아내었고, 때문에 직관적이됐지만, 여전히 정확도를 올리는 데에는 모호합니다.\n",
        "- 이번 프로젝트를 진행하며, RNN, 1D CNN, 그리고 MaxPooling 모델까지 세 가지를 같은 데이터를 가지고 써 보았고, 각각의 하이퍼 파라미터 값도 바꾸어 가며 시도 해 보았습니다. 그리고 덧붙여, history_dict를 이용하여 오버피팅이 되는지를 그래프를 통해 직관적으로 볼 수 있다는 점이 즐거웠습니다. 다만, 그 값에 나름 맞추어서 값을 변경하여도, 오버피팅이 덜 될지는 몰라도, 정확도를 올리는 데에는 큰 변화를 주지 않았기에, 한편으론 점에 가깝지 않은 실선들이 원망스럽다고 느낄 때도 있기에 슬펐습니다. 때문에, 모호한점은, 정확도를 어떻게 올려야할지에 대한 감이 아직 잡히지 않았다는 점입니다. 물론, 데이터 전처리나 하이퍼 파라미터를 바꾸면 좀 더 개선할 수 있다는 이론은 얼추 알겠지만, 정확하게 어떤상황에 어떤값이, 어떤 모델이 어울리는지는 여전히 모호합니다.\n",
        "\n",
        "#### 또한, 오버피팅 애포크 시점이, 고작 2번시도 이후 부터 라는 점 입니다.\n",
        "- 이 점은 제가 해결해보기위해, 연관성을 높이면 괜찮을까? 싶어 word vector dimension을 바꾸어시도 해 보기도 하였고, batch size를 조절해 보기도 하였고, 또, train set과 validation set 구분의 정도도 시도해 보았습니다만 결과는 비슷하였습니다. 만약 애포크 5번 정도 이후부터라면, 애포크 값을 줄이겠지만, 2번 시도 이후부터 결과가 좋지않았기에, 애포크를 2로 둘 수 없어, 그냥 정확도가 올라가게끔 10정도로 두었습니다.\n",
        "\n",
        "## 루브릭 평가 지표를 맞추기 위해 시도한 것들.\n",
        "#### 하이퍼 파라미터 값을 다양하게 바꾸어 보았습니다.\n",
        "- 바로 위에 설명하였지만, word vector dimension, batch size을 작게도시도, 큰값에도 시도해 보았지만, \"적절한 값\"이 무엇인지에 대한 의문은 아직 남아있습니다. 또한 train set, validation set의 분배를 나름의 기준을 두고 해 보았지만, 여전히 잘 모르겠습니다. 데이터 전처리를 조금 더 예쁘게 할 수 있는 방법이 있을까? 라는 생각은 하였지만, 지금 제가 한 기본 전처리가 적합하다는 생각을 하여 따로 건들지는 못하였습니다.\n",
        "\n",
        "## 루브릭 평가 관련 지표를 달성하지 못했을 때 이유에 관한 추정.\n",
        "#### 첫 번째로는 정확도 85% 이상을 겨우겨우 달성했기 때문이라 추정합니다.\n",
        "- 결국 정확도 85%를 달성하긴 하였습니다. 하이퍼파라미터 값을 바꾸어도 매우 근사하게 바뀌다가 운이 좋게 얻어걸린 느낌입니다..  데이터 전처리, 그리고 word2Vec을 좀 더 잘 활용했더라면, 그리고 애포크 값, 하이퍼 파라미터 값 등을 잘 조절했더라면 달성할 수 있지 않았을까 추정해 봅니다.\n",
        "\n",
        "#### 두 번째로는 그래프로 미루어보았을 때, 오버피팅이 많이 되어 보인다는 점 입니다.\n",
        "- 애포크 1\\~2 부터 벌써부터 오버피팅이 시작되었기에, 적당한 값에서 끊을 수가 없었습니다. 이로인한 궁금증이 생겼는데, 1~2 에서 오버피팅이 시작되면, 적절히 5정도만 하는게 좋은지, 아니면 정말 애포크 값을 1이나 2만 주어도 괜찮은지 궁금하게 되었습니다.\n",
        "\n",
        "## 자기 다짐\n",
        "#### 이번 프로젝트 뿐만이 아니라, 이번주의 노드들과 Exploration을 하며 시간 배분, 그리고 어떤식으로 공부를 하고 어떻게 Exploration을 받아드려야 하는지에 관한 감이 잡혔습니다. 이번주의 설 연휴를 잘 활용하여 밀린 노드들, 밀린 공부를 끝 내고, 다음주에는 좀 더 가치있는 수업 시간을 갖도록 하는것이 목표가 되었습니다. "
      ],
      "metadata": {
        "id": "mgbBCinLgNil"
      }
    },
    {
      "cell_type": "markdown",
      "source": [
        "# 가장 잘 나온 정확도 (사진 첨부)"
      ],
      "metadata": {
        "id": "B92cvSM2kfKh"
      }
    },
    {
      "cell_type": "markdown",
      "source": [
        "![image.png](data:image/png;base64,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)"
      ],
      "metadata": {
        "id": "TKc2BOjD0NaP"
      }
    }
  ]
}