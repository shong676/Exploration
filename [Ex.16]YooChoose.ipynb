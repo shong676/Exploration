{
 "cells": [
  {
   "cell_type": "markdown",
   "id": "711a19fd",
   "metadata": {},
   "source": [
    "# Exploration 16"
   ]
  },
  {
   "cell_type": "code",
   "execution_count": 1,
   "id": "acaf0e97",
   "metadata": {},
   "outputs": [
    {
     "name": "stdout",
     "output_type": "stream",
     "text": [
      "1.3.3\n",
      "2.6.0\n"
     ]
    }
   ],
   "source": [
    "import pandas\n",
    "import tensorflow\n",
    "\n",
    "print(pandas.__version__)\n",
    "print(tensorflow.__version__)"
   ]
  },
  {
   "cell_type": "code",
   "execution_count": 2,
   "id": "2c9d642b",
   "metadata": {},
   "outputs": [],
   "source": [
    "import datetime as dt\n",
    "from pathlib import Path\n",
    "import os\n",
    "\n",
    "import numpy as np\n",
    "import pandas as pd\n",
    "import warnings\n",
    "warnings.filterwarnings('ignore')"
   ]
  },
  {
   "cell_type": "markdown",
   "id": "fc64cf8a",
   "metadata": {},
   "source": [
    "# Step 1. 데이터 전처리\n",
    "\n",
    "위와 같이 간단히 구성해 본 데이터셋을 꼼꼼히 살펴보면서 항목별 기본 분석, session length, session time, cleaning 등의 작업을 진행합니다.\n",
    "특히, 이 데이터셋에서는 Session이 아닌 UserID 단위로 데이터가 생성되어 있으므로, 이를 Session 단위로 어떻게 해석할지에 주의합니다."
   ]
  },
  {
   "cell_type": "code",
   "execution_count": 3,
   "id": "2fd6a26f",
   "metadata": {},
   "outputs": [
    {
     "data": {
      "text/html": [
       "<div>\n",
       "<style scoped>\n",
       "    .dataframe tbody tr th:only-of-type {\n",
       "        vertical-align: middle;\n",
       "    }\n",
       "\n",
       "    .dataframe tbody tr th {\n",
       "        vertical-align: top;\n",
       "    }\n",
       "\n",
       "    .dataframe thead th {\n",
       "        text-align: right;\n",
       "    }\n",
       "</style>\n",
       "<table border=\"1\" class=\"dataframe\">\n",
       "  <thead>\n",
       "    <tr style=\"text-align: right;\">\n",
       "      <th></th>\n",
       "      <th>UserId</th>\n",
       "      <th>ItemId</th>\n",
       "      <th>Rating</th>\n",
       "      <th>Time</th>\n",
       "    </tr>\n",
       "  </thead>\n",
       "  <tbody>\n",
       "    <tr>\n",
       "      <th>31</th>\n",
       "      <td>1</td>\n",
       "      <td>3186</td>\n",
       "      <td>4</td>\n",
       "      <td>978300019</td>\n",
       "    </tr>\n",
       "    <tr>\n",
       "      <th>22</th>\n",
       "      <td>1</td>\n",
       "      <td>1270</td>\n",
       "      <td>5</td>\n",
       "      <td>978300055</td>\n",
       "    </tr>\n",
       "    <tr>\n",
       "      <th>27</th>\n",
       "      <td>1</td>\n",
       "      <td>1721</td>\n",
       "      <td>4</td>\n",
       "      <td>978300055</td>\n",
       "    </tr>\n",
       "    <tr>\n",
       "      <th>37</th>\n",
       "      <td>1</td>\n",
       "      <td>1022</td>\n",
       "      <td>5</td>\n",
       "      <td>978300055</td>\n",
       "    </tr>\n",
       "    <tr>\n",
       "      <th>24</th>\n",
       "      <td>1</td>\n",
       "      <td>2340</td>\n",
       "      <td>3</td>\n",
       "      <td>978300103</td>\n",
       "    </tr>\n",
       "    <tr>\n",
       "      <th>...</th>\n",
       "      <td>...</td>\n",
       "      <td>...</td>\n",
       "      <td>...</td>\n",
       "      <td>...</td>\n",
       "    </tr>\n",
       "    <tr>\n",
       "      <th>1000019</th>\n",
       "      <td>6040</td>\n",
       "      <td>2917</td>\n",
       "      <td>4</td>\n",
       "      <td>997454429</td>\n",
       "    </tr>\n",
       "    <tr>\n",
       "      <th>999988</th>\n",
       "      <td>6040</td>\n",
       "      <td>1921</td>\n",
       "      <td>4</td>\n",
       "      <td>997454464</td>\n",
       "    </tr>\n",
       "    <tr>\n",
       "      <th>1000172</th>\n",
       "      <td>6040</td>\n",
       "      <td>1784</td>\n",
       "      <td>3</td>\n",
       "      <td>997454464</td>\n",
       "    </tr>\n",
       "    <tr>\n",
       "      <th>1000167</th>\n",
       "      <td>6040</td>\n",
       "      <td>161</td>\n",
       "      <td>3</td>\n",
       "      <td>997454486</td>\n",
       "    </tr>\n",
       "    <tr>\n",
       "      <th>1000042</th>\n",
       "      <td>6040</td>\n",
       "      <td>1221</td>\n",
       "      <td>4</td>\n",
       "      <td>998315055</td>\n",
       "    </tr>\n",
       "  </tbody>\n",
       "</table>\n",
       "<p>1000209 rows × 4 columns</p>\n",
       "</div>"
      ],
      "text/plain": [
       "         UserId  ItemId  Rating       Time\n",
       "31            1    3186       4  978300019\n",
       "22            1    1270       5  978300055\n",
       "27            1    1721       4  978300055\n",
       "37            1    1022       5  978300055\n",
       "24            1    2340       3  978300103\n",
       "...         ...     ...     ...        ...\n",
       "1000019    6040    2917       4  997454429\n",
       "999988     6040    1921       4  997454464\n",
       "1000172    6040    1784       3  997454464\n",
       "1000167    6040     161       3  997454486\n",
       "1000042    6040    1221       4  998315055\n",
       "\n",
       "[1000209 rows x 4 columns]"
      ]
     },
     "execution_count": 3,
     "metadata": {},
     "output_type": "execute_result"
    }
   ],
   "source": [
    "data_path = Path(os.getenv('HOME')+'/aiffel/yoochoose/data/') \n",
    "train_path = data_path / 'ratings.dat'\n",
    "\n",
    "def load_data(data_path: Path, nrows=None):\n",
    "    data = pd.read_csv(data_path, sep='::', header=None, usecols=[0, 1, 2, 3], dtype={0: np.int32, 1: np.int32, 2: np.int32}, nrows=nrows)\n",
    "    data.columns = ['UserId', 'ItemId', 'Rating', 'Time']\n",
    "    return data\n",
    "\n",
    "data = load_data(train_path, None)\n",
    "data.sort_values(['UserId', 'Time'], inplace=True)  # data를 id와 시간 순서로 정렬해줍니다.\n",
    "data"
   ]
  },
  {
   "cell_type": "code",
   "execution_count": 4,
   "id": "5a0c2332",
   "metadata": {},
   "outputs": [
    {
     "data": {
      "text/plain": [
       "(6040, 3706)"
      ]
     },
     "execution_count": 4,
     "metadata": {},
     "output_type": "execute_result"
    }
   ],
   "source": [
    "# 유저 수와, 아이템 수\n",
    "data['UserId'].nunique(), data['ItemId'].nunique()"
   ]
  },
  {
   "cell_type": "markdown",
   "id": "a704f3a0",
   "metadata": {},
   "source": [
    "정확한 날짜와 시간이 알고싶어, datetime을 불러왔다.\n",
    "참고 출처: https://journeytosth.tistory.com/29"
   ]
  },
  {
   "cell_type": "code",
   "execution_count": 5,
   "id": "2a31960b",
   "metadata": {},
   "outputs": [
    {
     "data": {
      "text/html": [
       "<div>\n",
       "<style scoped>\n",
       "    .dataframe tbody tr th:only-of-type {\n",
       "        vertical-align: middle;\n",
       "    }\n",
       "\n",
       "    .dataframe tbody tr th {\n",
       "        vertical-align: top;\n",
       "    }\n",
       "\n",
       "    .dataframe thead th {\n",
       "        text-align: right;\n",
       "    }\n",
       "</style>\n",
       "<table border=\"1\" class=\"dataframe\">\n",
       "  <thead>\n",
       "    <tr style=\"text-align: right;\">\n",
       "      <th></th>\n",
       "      <th>UserId</th>\n",
       "      <th>ItemId</th>\n",
       "      <th>Rating</th>\n",
       "      <th>Time</th>\n",
       "      <th>RealTime</th>\n",
       "    </tr>\n",
       "  </thead>\n",
       "  <tbody>\n",
       "    <tr>\n",
       "      <th>13</th>\n",
       "      <td>1</td>\n",
       "      <td>2918</td>\n",
       "      <td>4</td>\n",
       "      <td>978302124</td>\n",
       "      <td>2000-12-31 22:00:19</td>\n",
       "    </tr>\n",
       "    <tr>\n",
       "      <th>39</th>\n",
       "      <td>1</td>\n",
       "      <td>150</td>\n",
       "      <td>5</td>\n",
       "      <td>978301777</td>\n",
       "      <td>2000-12-31 22:00:55</td>\n",
       "    </tr>\n",
       "    <tr>\n",
       "      <th>19</th>\n",
       "      <td>1</td>\n",
       "      <td>2797</td>\n",
       "      <td>4</td>\n",
       "      <td>978302039</td>\n",
       "      <td>2000-12-31 22:00:55</td>\n",
       "    </tr>\n",
       "    <tr>\n",
       "      <th>5</th>\n",
       "      <td>1</td>\n",
       "      <td>1197</td>\n",
       "      <td>3</td>\n",
       "      <td>978302268</td>\n",
       "      <td>2000-12-31 22:00:55</td>\n",
       "    </tr>\n",
       "    <tr>\n",
       "      <th>26</th>\n",
       "      <td>1</td>\n",
       "      <td>1097</td>\n",
       "      <td>4</td>\n",
       "      <td>978301953</td>\n",
       "      <td>2000-12-31 22:01:43</td>\n",
       "    </tr>\n",
       "    <tr>\n",
       "      <th>...</th>\n",
       "      <td>...</td>\n",
       "      <td>...</td>\n",
       "      <td>...</td>\n",
       "      <td>...</td>\n",
       "      <td>...</td>\n",
       "    </tr>\n",
       "    <tr>\n",
       "      <th>1000096</th>\n",
       "      <td>6040</td>\n",
       "      <td>2286</td>\n",
       "      <td>1</td>\n",
       "      <td>956716183</td>\n",
       "      <td>2001-08-10 14:40:29</td>\n",
       "    </tr>\n",
       "    <tr>\n",
       "      <th>999964</th>\n",
       "      <td>6040</td>\n",
       "      <td>2150</td>\n",
       "      <td>3</td>\n",
       "      <td>956715834</td>\n",
       "      <td>2001-08-10 14:41:04</td>\n",
       "    </tr>\n",
       "    <tr>\n",
       "      <th>999979</th>\n",
       "      <td>6040</td>\n",
       "      <td>1900</td>\n",
       "      <td>5</td>\n",
       "      <td>964828352</td>\n",
       "      <td>2001-08-10 14:41:04</td>\n",
       "    </tr>\n",
       "    <tr>\n",
       "      <th>1000059</th>\n",
       "      <td>6040</td>\n",
       "      <td>1249</td>\n",
       "      <td>4</td>\n",
       "      <td>963271979</td>\n",
       "      <td>2001-08-10 14:41:26</td>\n",
       "    </tr>\n",
       "    <tr>\n",
       "      <th>1000134</th>\n",
       "      <td>6040</td>\n",
       "      <td>1373</td>\n",
       "      <td>3</td>\n",
       "      <td>956716478</td>\n",
       "      <td>2001-08-20 13:44:15</td>\n",
       "    </tr>\n",
       "  </tbody>\n",
       "</table>\n",
       "<p>1000209 rows × 5 columns</p>\n",
       "</div>"
      ],
      "text/plain": [
       "         UserId  ItemId  Rating       Time             RealTime\n",
       "13            1    2918       4  978302124  2000-12-31 22:00:19\n",
       "39            1     150       5  978301777  2000-12-31 22:00:55\n",
       "19            1    2797       4  978302039  2000-12-31 22:00:55\n",
       "5             1    1197       3  978302268  2000-12-31 22:00:55\n",
       "26            1    1097       4  978301953  2000-12-31 22:01:43\n",
       "...         ...     ...     ...        ...                  ...\n",
       "1000096    6040    2286       1  956716183  2001-08-10 14:40:29\n",
       "999964     6040    2150       3  956715834  2001-08-10 14:41:04\n",
       "999979     6040    1900       5  964828352  2001-08-10 14:41:04\n",
       "1000059    6040    1249       4  963271979  2001-08-10 14:41:26\n",
       "1000134    6040    1373       3  956716478  2001-08-20 13:44:15\n",
       "\n",
       "[1000209 rows x 5 columns]"
      ]
     },
     "execution_count": 5,
     "metadata": {},
     "output_type": "execute_result"
    }
   ],
   "source": [
    "from datetime import datetime\n",
    "\n",
    "RealTime = []\n",
    "for i in range(len(data)):\n",
    "    RealTime.append(str(datetime.utcfromtimestamp(data['Time'][i])))\n",
    "data['RealTime'] = RealTime\n",
    "\n",
    "data.sort_values(['UserId', 'RealTime'], inplace=True)  # Time 말고 RealTime기준으로 다시 재정렬\n",
    "data"
   ]
  },
  {
   "cell_type": "code",
   "execution_count": 6,
   "id": "b32470a8",
   "metadata": {},
   "outputs": [
    {
     "name": "stdout",
     "output_type": "stream",
     "text": [
      "2000-04-25 23:05:32\n",
      "2003-02-28 17:49:50\n"
     ]
    }
   ],
   "source": [
    "oldest, latest = data['RealTime'].min(), data['RealTime'].max()\n",
    "print(oldest) \n",
    "print(latest)"
   ]
  },
  {
   "cell_type": "code",
   "execution_count": 7,
   "id": "fca73bb3",
   "metadata": {},
   "outputs": [
    {
     "data": {
      "text/plain": [
       "ItemId\n",
       "1       2077\n",
       "2        701\n",
       "3        478\n",
       "4        170\n",
       "5        296\n",
       "        ... \n",
       "3948     862\n",
       "3949     304\n",
       "3950      54\n",
       "3951      40\n",
       "3952     388\n",
       "Length: 3706, dtype: int64"
      ]
     },
     "execution_count": 7,
     "metadata": {},
     "output_type": "execute_result"
    }
   ],
   "source": [
    "# 아이템 당 이용한 사용자 수\n",
    "item_check_length = data.groupby('ItemId').size()\n",
    "item_check_length"
   ]
  },
  {
   "cell_type": "code",
   "execution_count": 8,
   "id": "30951528",
   "metadata": {},
   "outputs": [
    {
     "data": {
      "text/plain": [
       "(1, 3428)"
      ]
     },
     "execution_count": 8,
     "metadata": {},
     "output_type": "execute_result"
    }
   ],
   "source": [
    "item_check_length.min(), item_check_length.max()"
   ]
  },
  {
   "cell_type": "code",
   "execution_count": 9,
   "id": "92f6fa60",
   "metadata": {},
   "outputs": [
    {
     "data": {
      "text/plain": [
       "2734.2450000001113"
      ]
     },
     "execution_count": 9,
     "metadata": {},
     "output_type": "execute_result"
    }
   ],
   "source": [
    "item_check_length.quantile(0.999)"
   ]
  },
  {
   "cell_type": "code",
   "execution_count": 10,
   "id": "c6032041",
   "metadata": {},
   "outputs": [
    {
     "data": {
      "text/html": [
       "<div>\n",
       "<style scoped>\n",
       "    .dataframe tbody tr th:only-of-type {\n",
       "        vertical-align: middle;\n",
       "    }\n",
       "\n",
       "    .dataframe tbody tr th {\n",
       "        vertical-align: top;\n",
       "    }\n",
       "\n",
       "    .dataframe thead th {\n",
       "        text-align: right;\n",
       "    }\n",
       "</style>\n",
       "<table border=\"1\" class=\"dataframe\">\n",
       "  <thead>\n",
       "    <tr style=\"text-align: right;\">\n",
       "      <th></th>\n",
       "      <th>UserId</th>\n",
       "      <th>ItemId</th>\n",
       "      <th>Rating</th>\n",
       "      <th>Time</th>\n",
       "      <th>RealTime</th>\n",
       "    </tr>\n",
       "  </thead>\n",
       "  <tbody>\n",
       "    <tr>\n",
       "      <th>105</th>\n",
       "      <td>2</td>\n",
       "      <td>2858</td>\n",
       "      <td>4</td>\n",
       "      <td>978298434</td>\n",
       "      <td>2000-12-31 21:35:42</td>\n",
       "    </tr>\n",
       "    <tr>\n",
       "      <th>202</th>\n",
       "      <td>3</td>\n",
       "      <td>2858</td>\n",
       "      <td>4</td>\n",
       "      <td>978297039</td>\n",
       "      <td>2000-12-31 21:33:50</td>\n",
       "    </tr>\n",
       "    <tr>\n",
       "      <th>299</th>\n",
       "      <td>5</td>\n",
       "      <td>2858</td>\n",
       "      <td>4</td>\n",
       "      <td>978241390</td>\n",
       "      <td>2000-12-31 06:12:01</td>\n",
       "    </tr>\n",
       "    <tr>\n",
       "      <th>471</th>\n",
       "      <td>6</td>\n",
       "      <td>2858</td>\n",
       "      <td>1</td>\n",
       "      <td>978236809</td>\n",
       "      <td>2000-12-31 04:45:09</td>\n",
       "    </tr>\n",
       "    <tr>\n",
       "      <th>585</th>\n",
       "      <td>8</td>\n",
       "      <td>2858</td>\n",
       "      <td>5</td>\n",
       "      <td>978229817</td>\n",
       "      <td>2000-12-31 03:06:22</td>\n",
       "    </tr>\n",
       "    <tr>\n",
       "      <th>...</th>\n",
       "      <td>...</td>\n",
       "      <td>...</td>\n",
       "      <td>...</td>\n",
       "      <td>...</td>\n",
       "      <td>...</td>\n",
       "    </tr>\n",
       "    <tr>\n",
       "      <th>996998</th>\n",
       "      <td>6019</td>\n",
       "      <td>2858</td>\n",
       "      <td>5</td>\n",
       "      <td>956760552</td>\n",
       "      <td>2000-04-26 15:00:31</td>\n",
       "    </tr>\n",
       "    <tr>\n",
       "      <th>997895</th>\n",
       "      <td>6027</td>\n",
       "      <td>2858</td>\n",
       "      <td>3</td>\n",
       "      <td>956726736</td>\n",
       "      <td>2000-04-26 05:29:13</td>\n",
       "    </tr>\n",
       "    <tr>\n",
       "      <th>998845</th>\n",
       "      <td>6036</td>\n",
       "      <td>2858</td>\n",
       "      <td>5</td>\n",
       "      <td>956709453</td>\n",
       "      <td>2000-04-26 00:38:46</td>\n",
       "    </tr>\n",
       "    <tr>\n",
       "      <th>999571</th>\n",
       "      <td>6037</td>\n",
       "      <td>2858</td>\n",
       "      <td>4</td>\n",
       "      <td>956709215</td>\n",
       "      <td>2000-04-26 03:19:34</td>\n",
       "    </tr>\n",
       "    <tr>\n",
       "      <th>999938</th>\n",
       "      <td>6040</td>\n",
       "      <td>2858</td>\n",
       "      <td>4</td>\n",
       "      <td>956704475</td>\n",
       "      <td>2000-04-25 23:09:51</td>\n",
       "    </tr>\n",
       "  </tbody>\n",
       "</table>\n",
       "<p>3428 rows × 5 columns</p>\n",
       "</div>"
      ],
      "text/plain": [
       "        UserId  ItemId  Rating       Time             RealTime\n",
       "105          2    2858       4  978298434  2000-12-31 21:35:42\n",
       "202          3    2858       4  978297039  2000-12-31 21:33:50\n",
       "299          5    2858       4  978241390  2000-12-31 06:12:01\n",
       "471          6    2858       1  978236809  2000-12-31 04:45:09\n",
       "585          8    2858       5  978229817  2000-12-31 03:06:22\n",
       "...        ...     ...     ...        ...                  ...\n",
       "996998    6019    2858       5  956760552  2000-04-26 15:00:31\n",
       "997895    6027    2858       3  956726736  2000-04-26 05:29:13\n",
       "998845    6036    2858       5  956709453  2000-04-26 00:38:46\n",
       "999571    6037    2858       4  956709215  2000-04-26 03:19:34\n",
       "999938    6040    2858       4  956704475  2000-04-25 23:09:51\n",
       "\n",
       "[3428 rows x 5 columns]"
      ]
     },
     "execution_count": 10,
     "metadata": {},
     "output_type": "execute_result"
    }
   ],
   "source": [
    "long_item = item_check_length[item_check_length==3428].index[0]\n",
    "temp_item_data = data[data['ItemId']==long_item]\n",
    "temp_item_data"
   ]
  },
  {
   "cell_type": "code",
   "execution_count": 11,
   "id": "63a7ae5b",
   "metadata": {},
   "outputs": [
    {
     "name": "stdout",
     "output_type": "stream",
     "text": [
      "all data oldest:  2000-04-25 23:05:32\n",
      "all data latest:  2003-02-28 17:49:50\n",
      "popular data oldest:  2000-04-25 23:09:51\n",
      "popular data lateset:  2003-02-10 18:09:19\n"
     ]
    }
   ],
   "source": [
    "oldest, latest = data['RealTime'].min(), data['RealTime'].max()\n",
    "print(\"all data oldest: \", oldest) \n",
    "print(\"all data latest: \", latest)\n",
    "\n",
    "temp_oldest, temp_latest = temp_item_data['RealTime'].min(), temp_item_data['RealTime'].max()\n",
    "print(\"popular data oldest: \", temp_oldest)\n",
    "print(\"popular data lateset: \", temp_latest)"
   ]
  },
  {
   "cell_type": "markdown",
   "id": "6f725166",
   "metadata": {},
   "source": [
    "#### 단지 인기가 많았을 뿐, 이상동향은 보이지 않는다."
   ]
  },
  {
   "cell_type": "markdown",
   "id": "bd6c7884",
   "metadata": {},
   "source": [
    "#### 유저수와, 아이템 수\n",
    "session ID 같은경우, User ID로 완전 대체했다."
   ]
  },
  {
   "cell_type": "markdown",
   "id": "c495561d",
   "metadata": {},
   "source": [
    "사용자 당 확인한 아이템의 수"
   ]
  },
  {
   "cell_type": "code",
   "execution_count": 12,
   "id": "ed8cada2",
   "metadata": {},
   "outputs": [
    {
     "data": {
      "text/plain": [
       "UserId\n",
       "1        53\n",
       "2       129\n",
       "3        51\n",
       "4        21\n",
       "5       198\n",
       "       ... \n",
       "6036    888\n",
       "6037    202\n",
       "6038     20\n",
       "6039    123\n",
       "6040    341\n",
       "Length: 6040, dtype: int64"
      ]
     },
     "execution_count": 12,
     "metadata": {},
     "output_type": "execute_result"
    }
   ],
   "source": [
    "session_length = data.groupby('UserId').size()\n",
    "session_length"
   ]
  },
  {
   "cell_type": "code",
   "execution_count": 13,
   "id": "f7af96d5",
   "metadata": {},
   "outputs": [
    {
     "data": {
      "text/plain": [
       "(96.0, 165.5975165562914)"
      ]
     },
     "execution_count": 13,
     "metadata": {},
     "output_type": "execute_result"
    }
   ],
   "source": [
    "session_length.median(), session_length.mean()"
   ]
  },
  {
   "cell_type": "code",
   "execution_count": 14,
   "id": "350384d2",
   "metadata": {},
   "outputs": [
    {
     "data": {
      "text/plain": [
       "(20, 2314)"
      ]
     },
     "execution_count": 14,
     "metadata": {},
     "output_type": "execute_result"
    }
   ],
   "source": [
    "session_length.min(), session_length.max()\n"
   ]
  },
  {
   "cell_type": "code",
   "execution_count": 15,
   "id": "4806b6b7",
   "metadata": {},
   "outputs": [
    {
     "data": {
      "text/plain": [
       "1343.181000000005"
      ]
     },
     "execution_count": 15,
     "metadata": {},
     "output_type": "execute_result"
    }
   ],
   "source": [
    "session_length.quantile(0.999)"
   ]
  },
  {
   "cell_type": "markdown",
   "id": "9d0b9e28",
   "metadata": {},
   "source": [
    "99.9% 는 세션의 길이가 1343... 인데,  2314은 이상합니다."
   ]
  },
  {
   "cell_type": "markdown",
   "id": "22d0ac13",
   "metadata": {},
   "source": [
    "#### max인, 2314 UserId 확인"
   ]
  },
  {
   "cell_type": "code",
   "execution_count": 16,
   "id": "3e1d2733",
   "metadata": {},
   "outputs": [
    {
     "data": {
      "text/html": [
       "<div>\n",
       "<style scoped>\n",
       "    .dataframe tbody tr th:only-of-type {\n",
       "        vertical-align: middle;\n",
       "    }\n",
       "\n",
       "    .dataframe tbody tr th {\n",
       "        vertical-align: top;\n",
       "    }\n",
       "\n",
       "    .dataframe thead th {\n",
       "        text-align: right;\n",
       "    }\n",
       "</style>\n",
       "<table border=\"1\" class=\"dataframe\">\n",
       "  <thead>\n",
       "    <tr style=\"text-align: right;\">\n",
       "      <th></th>\n",
       "      <th>UserId</th>\n",
       "      <th>ItemId</th>\n",
       "      <th>Rating</th>\n",
       "      <th>Time</th>\n",
       "      <th>RealTime</th>\n",
       "    </tr>\n",
       "  </thead>\n",
       "  <tbody>\n",
       "    <tr>\n",
       "      <th>697589</th>\n",
       "      <td>4169</td>\n",
       "      <td>1748</td>\n",
       "      <td>5</td>\n",
       "      <td>973310331</td>\n",
       "      <td>2000-08-03 20:09:52</td>\n",
       "    </tr>\n",
       "    <tr>\n",
       "      <th>695777</th>\n",
       "      <td>4169</td>\n",
       "      <td>1450</td>\n",
       "      <td>4</td>\n",
       "      <td>975804348</td>\n",
       "      <td>2000-08-03 20:09:52</td>\n",
       "    </tr>\n",
       "    <tr>\n",
       "      <th>695989</th>\n",
       "      <td>4169</td>\n",
       "      <td>3425</td>\n",
       "      <td>3</td>\n",
       "      <td>975804480</td>\n",
       "      <td>2000-08-03 20:09:52</td>\n",
       "    </tr>\n",
       "    <tr>\n",
       "      <th>696122</th>\n",
       "      <td>4169</td>\n",
       "      <td>2830</td>\n",
       "      <td>5</td>\n",
       "      <td>975804676</td>\n",
       "      <td>2000-08-03 20:09:52</td>\n",
       "    </tr>\n",
       "    <tr>\n",
       "      <th>697411</th>\n",
       "      <td>4169</td>\n",
       "      <td>832</td>\n",
       "      <td>4</td>\n",
       "      <td>975804966</td>\n",
       "      <td>2000-08-03 20:09:52</td>\n",
       "    </tr>\n",
       "    <tr>\n",
       "      <th>...</th>\n",
       "      <td>...</td>\n",
       "      <td>...</td>\n",
       "      <td>...</td>\n",
       "      <td>...</td>\n",
       "      <td>...</td>\n",
       "    </tr>\n",
       "    <tr>\n",
       "      <th>696453</th>\n",
       "      <td>4169</td>\n",
       "      <td>3156</td>\n",
       "      <td>4</td>\n",
       "      <td>991268816</td>\n",
       "      <td>2002-06-15 20:52:27</td>\n",
       "    </tr>\n",
       "    <tr>\n",
       "      <th>697825</th>\n",
       "      <td>4169</td>\n",
       "      <td>3737</td>\n",
       "      <td>4</td>\n",
       "      <td>965333858</td>\n",
       "      <td>2002-06-15 21:03:51</td>\n",
       "    </tr>\n",
       "    <tr>\n",
       "      <th>697682</th>\n",
       "      <td>4169</td>\n",
       "      <td>178</td>\n",
       "      <td>3</td>\n",
       "      <td>975805440</td>\n",
       "      <td>2002-06-15 21:16:00</td>\n",
       "    </tr>\n",
       "    <tr>\n",
       "      <th>695865</th>\n",
       "      <td>4169</td>\n",
       "      <td>950</td>\n",
       "      <td>5</td>\n",
       "      <td>966700232</td>\n",
       "      <td>2002-06-15 21:16:23</td>\n",
       "    </tr>\n",
       "    <tr>\n",
       "      <th>697214</th>\n",
       "      <td>4169</td>\n",
       "      <td>2647</td>\n",
       "      <td>3</td>\n",
       "      <td>971579952</td>\n",
       "      <td>2002-06-15 21:25:37</td>\n",
       "    </tr>\n",
       "  </tbody>\n",
       "</table>\n",
       "<p>2314 rows × 5 columns</p>\n",
       "</div>"
      ],
      "text/plain": [
       "        UserId  ItemId  Rating       Time             RealTime\n",
       "697589    4169    1748       5  973310331  2000-08-03 20:09:52\n",
       "695777    4169    1450       4  975804348  2000-08-03 20:09:52\n",
       "695989    4169    3425       3  975804480  2000-08-03 20:09:52\n",
       "696122    4169    2830       5  975804676  2000-08-03 20:09:52\n",
       "697411    4169     832       4  975804966  2000-08-03 20:09:52\n",
       "...        ...     ...     ...        ...                  ...\n",
       "696453    4169    3156       4  991268816  2002-06-15 20:52:27\n",
       "697825    4169    3737       4  965333858  2002-06-15 21:03:51\n",
       "697682    4169     178       3  975805440  2002-06-15 21:16:00\n",
       "695865    4169     950       5  966700232  2002-06-15 21:16:23\n",
       "697214    4169    2647       3  971579952  2002-06-15 21:25:37\n",
       "\n",
       "[2314 rows x 5 columns]"
      ]
     },
     "execution_count": 16,
     "metadata": {},
     "output_type": "execute_result"
    }
   ],
   "source": [
    "long_session = session_length[session_length==2314].index[0]\n",
    "data[data['UserId']==long_session]"
   ]
  },
  {
   "cell_type": "markdown",
   "id": "98e66b49",
   "metadata": {},
   "source": [
    "시간 데이터의 동향이 매우 이상합니다."
   ]
  },
  {
   "cell_type": "code",
   "execution_count": 17,
   "id": "e0fc910f",
   "metadata": {},
   "outputs": [
    {
     "data": {
      "text/plain": [
       "20      0.014238\n",
       "21      0.029305\n",
       "22      0.042053\n",
       "23      0.055464\n",
       "24      0.068874\n",
       "          ...   \n",
       "1271    0.998179\n",
       "1277    0.998344\n",
       "1286    0.998510\n",
       "1302    0.998675\n",
       "1323    0.998841\n",
       "Length: 736, dtype: float64"
      ]
     },
     "execution_count": 17,
     "metadata": {},
     "output_type": "execute_result"
    }
   ],
   "source": [
    "length_count = session_length.groupby(session_length).size()\n",
    "length_percent_cumsum = length_count.cumsum() / length_count.sum()\n",
    "length_percent_cumsum_999 = length_percent_cumsum[length_percent_cumsum < 0.999]\n",
    "\n",
    "length_percent_cumsum_999"
   ]
  },
  {
   "cell_type": "code",
   "execution_count": 18,
   "id": "17b4dd4a",
   "metadata": {},
   "outputs": [
    {
     "data": {
      "image/png": "[encoded data removed]",
      "text/plain": [
       "<Figure size 864x720 with 1 Axes>"
      ]
     },
     "metadata": {
      "needs_background": "light"
     },
     "output_type": "display_data"
    }
   ],
   "source": [
    "import matplotlib.pyplot as plt\n",
    "\n",
    "plt.figure(figsize=(12, 10))\n",
    "plt.bar(x=length_percent_cumsum_999.index,\n",
    "        height=length_percent_cumsum_999, color='red')\n",
    "plt.xticks(length_percent_cumsum_999.index)\n",
    "plt.yticks(np.arange(0, 1.01, 0.05))\n",
    "plt.title('Cumsum Percentage Until 0.999', size=20)\n",
    "plt.show()"
   ]
  },
  {
   "cell_type": "markdown",
   "id": "ffdfd01d",
   "metadata": {},
   "source": [
    "우선, session length가 2314 인 userId 삭제"
   ]
  },
  {
   "cell_type": "code",
   "execution_count": 19,
   "id": "b27960d1",
   "metadata": {},
   "outputs": [],
   "source": [
    "bad_ID = data[data['UserId']==4169].index\n",
    "row_data = data\n",
    "data = data.drop(bad_ID)"
   ]
  },
  {
   "cell_type": "code",
   "execution_count": 20,
   "id": "764c3926",
   "metadata": {},
   "outputs": [
    {
     "data": {
      "text/plain": [
       "UserId\n",
       "1        53\n",
       "2       129\n",
       "3        51\n",
       "4        21\n",
       "5       198\n",
       "       ... \n",
       "6036    888\n",
       "6037    202\n",
       "6038     20\n",
       "6039    123\n",
       "6040    341\n",
       "Length: 6039, dtype: int64"
      ]
     },
     "execution_count": 20,
     "metadata": {},
     "output_type": "execute_result"
    }
   ],
   "source": [
    "session_length = data.groupby('UserId').size()\n",
    "session_length"
   ]
  },
  {
   "cell_type": "code",
   "execution_count": 21,
   "id": "3cee1ee6",
   "metadata": {},
   "outputs": [
    {
     "data": {
      "text/plain": [
       "(20, 1850)"
      ]
     },
     "execution_count": 21,
     "metadata": {},
     "output_type": "execute_result"
    }
   ],
   "source": [
    "session_length.min(), session_length.max()"
   ]
  },
  {
   "cell_type": "markdown",
   "id": "c2f5cb15",
   "metadata": {},
   "source": [
    "1850에 대해서도 재 확인"
   ]
  },
  {
   "cell_type": "code",
   "execution_count": 22,
   "id": "24656eb5",
   "metadata": {},
   "outputs": [
    {
     "data": {
      "text/plain": [
       "1322.2020000000093"
      ]
     },
     "execution_count": 22,
     "metadata": {},
     "output_type": "execute_result"
    }
   ],
   "source": [
    "session_length.quantile(0.999)"
   ]
  },
  {
   "cell_type": "code",
   "execution_count": 23,
   "id": "c1007959",
   "metadata": {},
   "outputs": [
    {
     "data": {
      "text/html": [
       "<div>\n",
       "<style scoped>\n",
       "    .dataframe tbody tr th:only-of-type {\n",
       "        vertical-align: middle;\n",
       "    }\n",
       "\n",
       "    .dataframe tbody tr th {\n",
       "        vertical-align: top;\n",
       "    }\n",
       "\n",
       "    .dataframe thead th {\n",
       "        text-align: right;\n",
       "    }\n",
       "</style>\n",
       "<table border=\"1\" class=\"dataframe\">\n",
       "  <thead>\n",
       "    <tr style=\"text-align: right;\">\n",
       "      <th></th>\n",
       "      <th>UserId</th>\n",
       "      <th>ItemId</th>\n",
       "      <th>Rating</th>\n",
       "      <th>Time</th>\n",
       "      <th>RealTime</th>\n",
       "    </tr>\n",
       "  </thead>\n",
       "  <tbody>\n",
       "    <tr>\n",
       "      <th>280031</th>\n",
       "      <td>1680</td>\n",
       "      <td>1994</td>\n",
       "      <td>5</td>\n",
       "      <td>974708918</td>\n",
       "      <td>2000-11-20 08:20:46</td>\n",
       "    </tr>\n",
       "    <tr>\n",
       "      <th>279430</th>\n",
       "      <td>1680</td>\n",
       "      <td>2195</td>\n",
       "      <td>2</td>\n",
       "      <td>974835687</td>\n",
       "      <td>2000-11-20 08:20:46</td>\n",
       "    </tr>\n",
       "    <tr>\n",
       "      <th>278602</th>\n",
       "      <td>1680</td>\n",
       "      <td>2259</td>\n",
       "      <td>4</td>\n",
       "      <td>974838026</td>\n",
       "      <td>2000-11-20 08:20:46</td>\n",
       "    </tr>\n",
       "    <tr>\n",
       "      <th>278800</th>\n",
       "      <td>1680</td>\n",
       "      <td>2464</td>\n",
       "      <td>2</td>\n",
       "      <td>974709917</td>\n",
       "      <td>2000-11-20 08:21:46</td>\n",
       "    </tr>\n",
       "    <tr>\n",
       "      <th>279556</th>\n",
       "      <td>1680</td>\n",
       "      <td>2384</td>\n",
       "      <td>5</td>\n",
       "      <td>974712798</td>\n",
       "      <td>2000-11-20 08:21:46</td>\n",
       "    </tr>\n",
       "    <tr>\n",
       "      <th>...</th>\n",
       "      <td>...</td>\n",
       "      <td>...</td>\n",
       "      <td>...</td>\n",
       "      <td>...</td>\n",
       "      <td>...</td>\n",
       "    </tr>\n",
       "    <tr>\n",
       "      <th>278871</th>\n",
       "      <td>1680</td>\n",
       "      <td>2634</td>\n",
       "      <td>3</td>\n",
       "      <td>974709091</td>\n",
       "      <td>2000-11-21 22:15:53</td>\n",
       "    </tr>\n",
       "    <tr>\n",
       "      <th>278806</th>\n",
       "      <td>1680</td>\n",
       "      <td>2468</td>\n",
       "      <td>5</td>\n",
       "      <td>974838350</td>\n",
       "      <td>2000-11-21 22:16:08</td>\n",
       "    </tr>\n",
       "    <tr>\n",
       "      <th>279604</th>\n",
       "      <td>1680</td>\n",
       "      <td>1597</td>\n",
       "      <td>1</td>\n",
       "      <td>974844164</td>\n",
       "      <td>2000-11-21 22:16:25</td>\n",
       "    </tr>\n",
       "    <tr>\n",
       "      <th>279260</th>\n",
       "      <td>1680</td>\n",
       "      <td>2137</td>\n",
       "      <td>5</td>\n",
       "      <td>974713988</td>\n",
       "      <td>2000-11-21 22:17:05</td>\n",
       "    </tr>\n",
       "    <tr>\n",
       "      <th>278924</th>\n",
       "      <td>1680</td>\n",
       "      <td>240</td>\n",
       "      <td>5</td>\n",
       "      <td>974844797</td>\n",
       "      <td>2000-12-07 21:33:24</td>\n",
       "    </tr>\n",
       "  </tbody>\n",
       "</table>\n",
       "<p>1850 rows × 5 columns</p>\n",
       "</div>"
      ],
      "text/plain": [
       "        UserId  ItemId  Rating       Time             RealTime\n",
       "280031    1680    1994       5  974708918  2000-11-20 08:20:46\n",
       "279430    1680    2195       2  974835687  2000-11-20 08:20:46\n",
       "278602    1680    2259       4  974838026  2000-11-20 08:20:46\n",
       "278800    1680    2464       2  974709917  2000-11-20 08:21:46\n",
       "279556    1680    2384       5  974712798  2000-11-20 08:21:46\n",
       "...        ...     ...     ...        ...                  ...\n",
       "278871    1680    2634       3  974709091  2000-11-21 22:15:53\n",
       "278806    1680    2468       5  974838350  2000-11-21 22:16:08\n",
       "279604    1680    1597       1  974844164  2000-11-21 22:16:25\n",
       "279260    1680    2137       5  974713988  2000-11-21 22:17:05\n",
       "278924    1680     240       5  974844797  2000-12-07 21:33:24\n",
       "\n",
       "[1850 rows x 5 columns]"
      ]
     },
     "execution_count": 23,
     "metadata": {},
     "output_type": "execute_result"
    }
   ],
   "source": [
    "long_session = session_length[session_length==1850].index[0]\n",
    "data[data['UserId']==long_session]"
   ]
  },
  {
   "cell_type": "markdown",
   "id": "bdbb5e25",
   "metadata": {},
   "source": [
    "#### 여기서 잠시 드는 의문:\n",
    "- 어떤 방법으로 시간을 체크하였는지는 알 수 없으나, 중복적인 time이 여럿 발견이 되는데, 이는 가장 최소치 였던 20 에서도 발견된다.\n",
    "- 그래서 갑자기 문득, sessoinID를 생성해야 겠다는 생각이 들었다.\n",
    "- 때문에 나는, 날짜 단위로 Session ID를 나누어 보아야 겠다는 생각이 들었다."
   ]
  },
  {
   "cell_type": "markdown",
   "id": "66fda963",
   "metadata": {},
   "source": [
    "### 같은 날짜를 하나의 Session ID로 생성"
   ]
  },
  {
   "cell_type": "code",
   "execution_count": 24,
   "id": "987669ae",
   "metadata": {},
   "outputs": [
    {
     "data": {
      "text/plain": [
       "965335300"
      ]
     },
     "execution_count": 24,
     "metadata": {},
     "output_type": "execute_result"
    }
   ],
   "source": [
    "# str(data['RealTime'][0])[:10] == str(data['RealTime'][1])[:10]\n",
    "# str(data['RealTime'][67])\n",
    "data['Time'][695641]"
   ]
  },
  {
   "cell_type": "code",
   "execution_count": 25,
   "id": "193474a1",
   "metadata": {},
   "outputs": [],
   "source": [
    "drt = []\n",
    "for i in range(len(data)):\n",
    "    drt.append(data['RealTime'])"
   ]
  },
  {
   "cell_type": "code",
   "execution_count": 26,
   "id": "9918602a",
   "metadata": {},
   "outputs": [
    {
     "data": {
      "text/html": [
       "<div>\n",
       "<style scoped>\n",
       "    .dataframe tbody tr th:only-of-type {\n",
       "        vertical-align: middle;\n",
       "    }\n",
       "\n",
       "    .dataframe tbody tr th {\n",
       "        vertical-align: top;\n",
       "    }\n",
       "\n",
       "    .dataframe thead th {\n",
       "        text-align: right;\n",
       "    }\n",
       "</style>\n",
       "<table border=\"1\" class=\"dataframe\">\n",
       "  <thead>\n",
       "    <tr style=\"text-align: right;\">\n",
       "      <th></th>\n",
       "      <th>UserId</th>\n",
       "      <th>ItemId</th>\n",
       "      <th>Rating</th>\n",
       "      <th>Time</th>\n",
       "      <th>RealTime</th>\n",
       "    </tr>\n",
       "  </thead>\n",
       "  <tbody>\n",
       "    <tr>\n",
       "      <th>13</th>\n",
       "      <td>1</td>\n",
       "      <td>2918</td>\n",
       "      <td>4</td>\n",
       "      <td>978302124</td>\n",
       "      <td>2000-12-31 22:00:19</td>\n",
       "    </tr>\n",
       "    <tr>\n",
       "      <th>39</th>\n",
       "      <td>1</td>\n",
       "      <td>150</td>\n",
       "      <td>5</td>\n",
       "      <td>978301777</td>\n",
       "      <td>2000-12-31 22:00:55</td>\n",
       "    </tr>\n",
       "    <tr>\n",
       "      <th>19</th>\n",
       "      <td>1</td>\n",
       "      <td>2797</td>\n",
       "      <td>4</td>\n",
       "      <td>978302039</td>\n",
       "      <td>2000-12-31 22:00:55</td>\n",
       "    </tr>\n",
       "    <tr>\n",
       "      <th>5</th>\n",
       "      <td>1</td>\n",
       "      <td>1197</td>\n",
       "      <td>3</td>\n",
       "      <td>978302268</td>\n",
       "      <td>2000-12-31 22:00:55</td>\n",
       "    </tr>\n",
       "    <tr>\n",
       "      <th>26</th>\n",
       "      <td>1</td>\n",
       "      <td>1097</td>\n",
       "      <td>4</td>\n",
       "      <td>978301953</td>\n",
       "      <td>2000-12-31 22:01:43</td>\n",
       "    </tr>\n",
       "  </tbody>\n",
       "</table>\n",
       "</div>"
      ],
      "text/plain": [
       "    UserId  ItemId  Rating       Time             RealTime\n",
       "13       1    2918       4  978302124  2000-12-31 22:00:19\n",
       "39       1     150       5  978301777  2000-12-31 22:00:55\n",
       "19       1    2797       4  978302039  2000-12-31 22:00:55\n",
       "5        1    1197       3  978302268  2000-12-31 22:00:55\n",
       "26       1    1097       4  978301953  2000-12-31 22:01:43"
      ]
     },
     "execution_count": 26,
     "metadata": {},
     "output_type": "execute_result"
    }
   ],
   "source": [
    "data.head()"
   ]
  },
  {
   "cell_type": "code",
   "execution_count": 27,
   "id": "72ccad6e",
   "metadata": {},
   "outputs": [
    {
     "name": "stdout",
     "output_type": "stream",
     "text": [
      "2000-12-31 22:22:48\n",
      "1193\n"
     ]
    }
   ],
   "source": [
    "print(data['RealTime'][0])\n",
    "print(data['ItemId'][0])"
   ]
  },
  {
   "cell_type": "code",
   "execution_count": 28,
   "id": "cd32bbdd",
   "metadata": {},
   "outputs": [
    {
     "ename": "KeyError",
     "evalue": "695642",
     "output_type": "error",
     "traceback": [
      "\u001b[0;31m---------------------------------------------------------------------------\u001b[0m",
      "\u001b[0;31mKeyError\u001b[0m                                  Traceback (most recent call last)",
      "\u001b[0;32m/opt/conda/lib/python3.9/site-packages/pandas/core/indexes/base.py\u001b[0m in \u001b[0;36mget_loc\u001b[0;34m(self, key, method, tolerance)\u001b[0m\n\u001b[1;32m   3360\u001b[0m             \u001b[0;32mtry\u001b[0m\u001b[0;34m:\u001b[0m\u001b[0;34m\u001b[0m\u001b[0;34m\u001b[0m\u001b[0m\n\u001b[0;32m-> 3361\u001b[0;31m                 \u001b[0;32mreturn\u001b[0m \u001b[0mself\u001b[0m\u001b[0;34m.\u001b[0m\u001b[0m_engine\u001b[0m\u001b[0;34m.\u001b[0m\u001b[0mget_loc\u001b[0m\u001b[0;34m(\u001b[0m\u001b[0mcasted_key\u001b[0m\u001b[0;34m)\u001b[0m\u001b[0;34m\u001b[0m\u001b[0;34m\u001b[0m\u001b[0m\n\u001b[0m\u001b[1;32m   3362\u001b[0m             \u001b[0;32mexcept\u001b[0m \u001b[0mKeyError\u001b[0m \u001b[0;32mas\u001b[0m \u001b[0merr\u001b[0m\u001b[0;34m:\u001b[0m\u001b[0;34m\u001b[0m\u001b[0;34m\u001b[0m\u001b[0m\n",
      "\u001b[0;32m/opt/conda/lib/python3.9/site-packages/pandas/_libs/index.pyx\u001b[0m in \u001b[0;36mpandas._libs.index.IndexEngine.get_loc\u001b[0;34m()\u001b[0m\n",
      "\u001b[0;32m/opt/conda/lib/python3.9/site-packages/pandas/_libs/index.pyx\u001b[0m in \u001b[0;36mpandas._libs.index.IndexEngine.get_loc\u001b[0;34m()\u001b[0m\n",
      "\u001b[0;32mpandas/_libs/hashtable_class_helper.pxi\u001b[0m in \u001b[0;36mpandas._libs.hashtable.Int64HashTable.get_item\u001b[0;34m()\u001b[0m\n",
      "\u001b[0;32mpandas/_libs/hashtable_class_helper.pxi\u001b[0m in \u001b[0;36mpandas._libs.hashtable.Int64HashTable.get_item\u001b[0;34m()\u001b[0m\n",
      "\u001b[0;31mKeyError\u001b[0m: 695642",
      "\nThe above exception was the direct cause of the following exception:\n",
      "\u001b[0;31mKeyError\u001b[0m                                  Traceback (most recent call last)",
      "\u001b[0;32m/tmp/ipykernel_13/3720706505.py\u001b[0m in \u001b[0;36m<module>\u001b[0;34m\u001b[0m\n\u001b[1;32m      5\u001b[0m     \u001b[0;32melse\u001b[0m\u001b[0;34m:\u001b[0m\u001b[0;34m\u001b[0m\u001b[0;34m\u001b[0m\u001b[0m\n\u001b[1;32m      6\u001b[0m         \u001b[0mprev_time\u001b[0m \u001b[0;34m=\u001b[0m \u001b[0mstr\u001b[0m\u001b[0;34m(\u001b[0m\u001b[0mdata\u001b[0m\u001b[0;34m[\u001b[0m\u001b[0;34m'RealTime'\u001b[0m\u001b[0;34m]\u001b[0m\u001b[0;34m[\u001b[0m\u001b[0mi\u001b[0m\u001b[0;34m-\u001b[0m\u001b[0;36m1\u001b[0m\u001b[0;34m]\u001b[0m\u001b[0;34m)\u001b[0m\u001b[0;34m[\u001b[0m\u001b[0;34m:\u001b[0m\u001b[0;36m10\u001b[0m\u001b[0;34m]\u001b[0m\u001b[0;34m\u001b[0m\u001b[0;34m\u001b[0m\u001b[0m\n\u001b[0;32m----> 7\u001b[0;31m         \u001b[0;32mif\u001b[0m \u001b[0mstr\u001b[0m\u001b[0;34m(\u001b[0m\u001b[0mdata\u001b[0m\u001b[0;34m[\u001b[0m\u001b[0;34m'RealTime'\u001b[0m\u001b[0;34m]\u001b[0m\u001b[0;34m[\u001b[0m\u001b[0mi\u001b[0m\u001b[0;34m]\u001b[0m\u001b[0;34m)\u001b[0m\u001b[0;34m[\u001b[0m\u001b[0;34m:\u001b[0m\u001b[0;36m10\u001b[0m\u001b[0;34m]\u001b[0m \u001b[0;34m==\u001b[0m \u001b[0mprev_time\u001b[0m\u001b[0;34m:\u001b[0m\u001b[0;34m\u001b[0m\u001b[0;34m\u001b[0m\u001b[0m\n\u001b[0m\u001b[1;32m      8\u001b[0m             \u001b[0mSessionID\u001b[0m\u001b[0;34m.\u001b[0m\u001b[0mappend\u001b[0m\u001b[0;34m(\u001b[0m\u001b[0mSessionID\u001b[0m\u001b[0;34m[\u001b[0m\u001b[0mi\u001b[0m\u001b[0;34m-\u001b[0m\u001b[0;36m1\u001b[0m\u001b[0;34m]\u001b[0m\u001b[0;34m)\u001b[0m\u001b[0;34m\u001b[0m\u001b[0;34m\u001b[0m\u001b[0m\n\u001b[1;32m      9\u001b[0m         \u001b[0;32melse\u001b[0m\u001b[0;34m:\u001b[0m\u001b[0;34m\u001b[0m\u001b[0;34m\u001b[0m\u001b[0m\n",
      "\u001b[0;32m/opt/conda/lib/python3.9/site-packages/pandas/core/series.py\u001b[0m in \u001b[0;36m__getitem__\u001b[0;34m(self, key)\u001b[0m\n\u001b[1;32m    940\u001b[0m \u001b[0;34m\u001b[0m\u001b[0m\n\u001b[1;32m    941\u001b[0m         \u001b[0;32melif\u001b[0m \u001b[0mkey_is_scalar\u001b[0m\u001b[0;34m:\u001b[0m\u001b[0;34m\u001b[0m\u001b[0;34m\u001b[0m\u001b[0m\n\u001b[0;32m--> 942\u001b[0;31m             \u001b[0;32mreturn\u001b[0m \u001b[0mself\u001b[0m\u001b[0;34m.\u001b[0m\u001b[0m_get_value\u001b[0m\u001b[0;34m(\u001b[0m\u001b[0mkey\u001b[0m\u001b[0;34m)\u001b[0m\u001b[0;34m\u001b[0m\u001b[0;34m\u001b[0m\u001b[0m\n\u001b[0m\u001b[1;32m    943\u001b[0m \u001b[0;34m\u001b[0m\u001b[0m\n\u001b[1;32m    944\u001b[0m         \u001b[0;32mif\u001b[0m \u001b[0mis_hashable\u001b[0m\u001b[0;34m(\u001b[0m\u001b[0mkey\u001b[0m\u001b[0;34m)\u001b[0m\u001b[0;34m:\u001b[0m\u001b[0;34m\u001b[0m\u001b[0;34m\u001b[0m\u001b[0m\n",
      "\u001b[0;32m/opt/conda/lib/python3.9/site-packages/pandas/core/series.py\u001b[0m in \u001b[0;36m_get_value\u001b[0;34m(self, label, takeable)\u001b[0m\n\u001b[1;32m   1049\u001b[0m \u001b[0;34m\u001b[0m\u001b[0m\n\u001b[1;32m   1050\u001b[0m         \u001b[0;31m# Similar to Index.get_value, but we do not fall back to positional\u001b[0m\u001b[0;34m\u001b[0m\u001b[0;34m\u001b[0m\u001b[0m\n\u001b[0;32m-> 1051\u001b[0;31m         \u001b[0mloc\u001b[0m \u001b[0;34m=\u001b[0m \u001b[0mself\u001b[0m\u001b[0;34m.\u001b[0m\u001b[0mindex\u001b[0m\u001b[0;34m.\u001b[0m\u001b[0mget_loc\u001b[0m\u001b[0;34m(\u001b[0m\u001b[0mlabel\u001b[0m\u001b[0;34m)\u001b[0m\u001b[0;34m\u001b[0m\u001b[0;34m\u001b[0m\u001b[0m\n\u001b[0m\u001b[1;32m   1052\u001b[0m         \u001b[0;32mreturn\u001b[0m \u001b[0mself\u001b[0m\u001b[0;34m.\u001b[0m\u001b[0mindex\u001b[0m\u001b[0;34m.\u001b[0m\u001b[0m_get_values_for_loc\u001b[0m\u001b[0;34m(\u001b[0m\u001b[0mself\u001b[0m\u001b[0;34m,\u001b[0m \u001b[0mloc\u001b[0m\u001b[0;34m,\u001b[0m \u001b[0mlabel\u001b[0m\u001b[0;34m)\u001b[0m\u001b[0;34m\u001b[0m\u001b[0;34m\u001b[0m\u001b[0m\n\u001b[1;32m   1053\u001b[0m \u001b[0;34m\u001b[0m\u001b[0m\n",
      "\u001b[0;32m/opt/conda/lib/python3.9/site-packages/pandas/core/indexes/base.py\u001b[0m in \u001b[0;36mget_loc\u001b[0;34m(self, key, method, tolerance)\u001b[0m\n\u001b[1;32m   3361\u001b[0m                 \u001b[0;32mreturn\u001b[0m \u001b[0mself\u001b[0m\u001b[0;34m.\u001b[0m\u001b[0m_engine\u001b[0m\u001b[0;34m.\u001b[0m\u001b[0mget_loc\u001b[0m\u001b[0;34m(\u001b[0m\u001b[0mcasted_key\u001b[0m\u001b[0;34m)\u001b[0m\u001b[0;34m\u001b[0m\u001b[0;34m\u001b[0m\u001b[0m\n\u001b[1;32m   3362\u001b[0m             \u001b[0;32mexcept\u001b[0m \u001b[0mKeyError\u001b[0m \u001b[0;32mas\u001b[0m \u001b[0merr\u001b[0m\u001b[0;34m:\u001b[0m\u001b[0;34m\u001b[0m\u001b[0;34m\u001b[0m\u001b[0m\n\u001b[0;32m-> 3363\u001b[0;31m                 \u001b[0;32mraise\u001b[0m \u001b[0mKeyError\u001b[0m\u001b[0;34m(\u001b[0m\u001b[0mkey\u001b[0m\u001b[0;34m)\u001b[0m \u001b[0;32mfrom\u001b[0m \u001b[0merr\u001b[0m\u001b[0;34m\u001b[0m\u001b[0;34m\u001b[0m\u001b[0m\n\u001b[0m\u001b[1;32m   3364\u001b[0m \u001b[0;34m\u001b[0m\u001b[0m\n\u001b[1;32m   3365\u001b[0m         \u001b[0;32mif\u001b[0m \u001b[0mis_scalar\u001b[0m\u001b[0;34m(\u001b[0m\u001b[0mkey\u001b[0m\u001b[0;34m)\u001b[0m \u001b[0;32mand\u001b[0m \u001b[0misna\u001b[0m\u001b[0;34m(\u001b[0m\u001b[0mkey\u001b[0m\u001b[0;34m)\u001b[0m \u001b[0;32mand\u001b[0m \u001b[0;32mnot\u001b[0m \u001b[0mself\u001b[0m\u001b[0;34m.\u001b[0m\u001b[0mhasnans\u001b[0m\u001b[0;34m:\u001b[0m\u001b[0;34m\u001b[0m\u001b[0;34m\u001b[0m\u001b[0m\n",
      "\u001b[0;31mKeyError\u001b[0m: 695642"
     ]
    }
   ],
   "source": [
    "SessionID = []\n",
    "for i in range(len(data['RealTime'][:])):\n",
    "    if i == 0:\n",
    "        SessionID.append(i)\n",
    "    else:\n",
    "        prev_time = str(data['RealTime'][i-1])[:10]\n",
    "        if str(data['RealTime'][i])[:10] == prev_time:\n",
    "            SessionID.append(SessionID[i-1])\n",
    "        else:\n",
    "            SessionID.append(SessionID[i-1]+1)\n",
    "\n",
    "data['SeessionID'] = SessionID"
   ]
  },
  {
   "cell_type": "markdown",
   "id": "d2c5520d",
   "metadata": {},
   "source": [
    "왜 KeyError가 나는지 알 수가 없다.."
   ]
  },
  {
   "cell_type": "markdown",
   "id": "cc8d5aa9",
   "metadata": {},
   "source": [
    "# Exploration 16 retry"
   ]
  },
  {
   "cell_type": "code",
   "execution_count": 1,
   "id": "38665b17",
   "metadata": {},
   "outputs": [
    {
     "name": "stdout",
     "output_type": "stream",
     "text": [
      "1.3.3\n",
      "2.6.0\n"
     ]
    }
   ],
   "source": [
    "import pandas\n",
    "import tensorflow\n",
    "\n",
    "print(pandas.__version__)\n",
    "print(tensorflow.__version__)"
   ]
  },
  {
   "cell_type": "code",
   "execution_count": 2,
   "id": "184630c1",
   "metadata": {},
   "outputs": [],
   "source": [
    "import datetime as dt\n",
    "from pathlib import Path\n",
    "import os\n",
    "\n",
    "import numpy as np\n",
    "import pandas as pd\n",
    "import warnings\n",
    "warnings.filterwarnings('ignore')"
   ]
  },
  {
   "cell_type": "code",
   "execution_count": 3,
   "id": "7ddb7b26",
   "metadata": {},
   "outputs": [
    {
     "name": "stdout",
     "output_type": "stream",
     "text": [
      "﻿SUMMARY\n",
      "\n",
      "================================================================================\n",
      "\n",
      "\n",
      "\n",
      "This dataset was constructed by YOOCHOOSE GmbH to support participants in the RecSys Challenge 2015.\n",
      "\n",
      "See  http://recsys.yoochoose.net for details about the challenge.\n",
      "\n",
      "\n",
      "\n",
      "The YOOCHOOSE dataset contain a collection of sessions from a retailer, where each session\n",
      "\n",
      "is encapsulating the click events that the user performed in the session.\n",
      "\n",
      "For some of the sessions, there are also buy events; means that the session ended\n",
      "\n",
      "with the user bought something from the web shop. The data was collected during several\n",
      "\n",
      "months in the year of 2014, reflecting the clicks and purchases performed by the users\n",
      "\n",
      "of an on-line retailer in Europe.  To protect end users privacy, as well as the retailer,\n",
      "\n",
      "all numbers have been modified. Do not try to reveal the identity of the retailer.\n",
      "\n",
      "\n",
      "\n",
      "LICENSE\n",
      "\n",
      "================================================================================\n",
      "\n",
      "This dataset is licensed under the Creative Commons Attribution-NonCommercial-NoDerivatives 4.0\n",
      "\n",
      "International License. To view a copy of this license, visit http://creativecommons.org/licenses/by-nc-nd/4.0/.\n",
      "\n",
      "YOOCHOOSE cannot guarantee the completeness and correctness of the data or the validity\n",
      "\n",
      "of results based on the use of the dataset as it was collected by implicit tracking of a website. \n",
      "\n",
      "If you have any further questions or comments, please contact YooChoose <support@YooChoose.com>. \n",
      "\n",
      "The data is provided \"as it is\" and there is no obligation of YOOCHOOSE to correct it,\n",
      "\n",
      "improve it or to provide additional information about it.\n",
      "\n",
      "\n",
      "\n",
      "CLICKS DATASET FILE DESCRIPTION\n",
      "\n",
      "================================================================================\n",
      "\n",
      "The file yoochoose-clicks.dat comprising the clicks of the users over the items.\n",
      "\n",
      "Each record/line in the file has the following fields/format: Session ID, Timestamp, Item ID, Category\n",
      "\n",
      "-Session ID – the id of the session. In one session there are one or many clicks. Could be represented as an integer number.\n",
      "\n",
      "-Timestamp – the time when the click occurred. Format of YYYY-MM-DDThh:mm:ss.SSSZ\n",
      "\n",
      "-Item ID – the unique identifier of the item that has been clicked. Could be represented as an integer number.\n",
      "\n",
      "-Category – the context of the click. The value \"S\" indicates a special offer, \"0\" indicates  a missing value, a number between 1 to 12 indicates a real category identifier,\n",
      "\n",
      " any other number indicates a brand. E.g. if an item has been clicked in the context of a promotion or special offer then the value will be \"S\", if the context was a brand i.e BOSCH,\n",
      "\n",
      " then the value will be an 8-10 digits number. If the item has been clicked under regular category, i.e. sport, then the value will be a number between 1 to 12. \n",
      "\n",
      " \n",
      "\n",
      "BUYS DATSET FILE DESCRIPTION\n",
      "\n",
      "================================================================================\n",
      "\n",
      "The file yoochoose-buys.dat comprising the buy events of the users over the items.\n",
      "\n",
      "Each record/line in the file has the following fields: Session ID, Timestamp, Item ID, Price, Quantity\n",
      "\n",
      "\n",
      "\n",
      "-Session ID - the id of the session. In one session there are one or many buying events. Could be represented as an integer number.\n",
      "\n",
      "-Timestamp - the time when the buy occurred. Format of YYYY-MM-DDThh:mm:ss.SSSZ\n",
      "\n",
      "-Item ID – the unique identifier of item that has been bought. Could be represented as an integer number.\n",
      "\n",
      "-Price – the price of the item. Could be represented as an integer number.\n",
      "\n",
      "-Quantity – the quantity in this buying.  Could be represented as an integer number.\n",
      "\n",
      "\n",
      "\n",
      "TEST DATASET FILE DESCRIPTION\n",
      "\n",
      "================================================================================\n",
      "\n",
      "The file yoochoose-test.dat comprising only clicks of users over items.\n",
      "\n",
      "This file served as a test file in the RecSys challenge 2015. \n",
      "\n",
      "The structure is identical to the file yoochoose-clicks.dat but you will not find the\n",
      "\n",
      "corresponding buying events to these sessions in the yoochoose-buys.dat file.\n",
      "\n"
     ]
    }
   ],
   "source": [
    "# 데이터 설명(README)를 읽어 봅니다. \n",
    "import os\n",
    "f = open(os.getenv('HOME')+'/aiffel/yoochoose/data/dataset-README.txt', 'r')\n",
    "while True:\n",
    "    line = f.readline()\n",
    "    if not line: break\n",
    "    print(line)\n",
    "f.close()"
   ]
  },
  {
   "cell_type": "markdown",
   "id": "eaf80c3f",
   "metadata": {},
   "source": [
    "위의 설명을 보고, 실습데이터와의 데이터차이를 알았다. 고로, test셋은 다른것을 쓴 다는 점을 뒤늦게나마 알게되었다."
   ]
  },
  {
   "cell_type": "code",
   "execution_count": 4,
   "id": "e42b0687",
   "metadata": {},
   "outputs": [
    {
     "data": {
      "text/html": [
       "<div>\n",
       "<style scoped>\n",
       "    .dataframe tbody tr th:only-of-type {\n",
       "        vertical-align: middle;\n",
       "    }\n",
       "\n",
       "    .dataframe tbody tr th {\n",
       "        vertical-align: top;\n",
       "    }\n",
       "\n",
       "    .dataframe thead th {\n",
       "        text-align: right;\n",
       "    }\n",
       "</style>\n",
       "<table border=\"1\" class=\"dataframe\">\n",
       "  <thead>\n",
       "    <tr style=\"text-align: right;\">\n",
       "      <th></th>\n",
       "      <th>UserId</th>\n",
       "      <th>ItemId</th>\n",
       "      <th>Rating</th>\n",
       "      <th>Time</th>\n",
       "    </tr>\n",
       "  </thead>\n",
       "  <tbody>\n",
       "    <tr>\n",
       "      <th>0</th>\n",
       "      <td>1</td>\n",
       "      <td>1193</td>\n",
       "      <td>5</td>\n",
       "      <td>978300760</td>\n",
       "    </tr>\n",
       "    <tr>\n",
       "      <th>1</th>\n",
       "      <td>1</td>\n",
       "      <td>661</td>\n",
       "      <td>3</td>\n",
       "      <td>978302109</td>\n",
       "    </tr>\n",
       "    <tr>\n",
       "      <th>2</th>\n",
       "      <td>1</td>\n",
       "      <td>914</td>\n",
       "      <td>3</td>\n",
       "      <td>978301968</td>\n",
       "    </tr>\n",
       "    <tr>\n",
       "      <th>3</th>\n",
       "      <td>1</td>\n",
       "      <td>3408</td>\n",
       "      <td>4</td>\n",
       "      <td>978300275</td>\n",
       "    </tr>\n",
       "    <tr>\n",
       "      <th>4</th>\n",
       "      <td>1</td>\n",
       "      <td>2355</td>\n",
       "      <td>5</td>\n",
       "      <td>978824291</td>\n",
       "    </tr>\n",
       "    <tr>\n",
       "      <th>...</th>\n",
       "      <td>...</td>\n",
       "      <td>...</td>\n",
       "      <td>...</td>\n",
       "      <td>...</td>\n",
       "    </tr>\n",
       "    <tr>\n",
       "      <th>1000204</th>\n",
       "      <td>6040</td>\n",
       "      <td>1091</td>\n",
       "      <td>1</td>\n",
       "      <td>956716541</td>\n",
       "    </tr>\n",
       "    <tr>\n",
       "      <th>1000205</th>\n",
       "      <td>6040</td>\n",
       "      <td>1094</td>\n",
       "      <td>5</td>\n",
       "      <td>956704887</td>\n",
       "    </tr>\n",
       "    <tr>\n",
       "      <th>1000206</th>\n",
       "      <td>6040</td>\n",
       "      <td>562</td>\n",
       "      <td>5</td>\n",
       "      <td>956704746</td>\n",
       "    </tr>\n",
       "    <tr>\n",
       "      <th>1000207</th>\n",
       "      <td>6040</td>\n",
       "      <td>1096</td>\n",
       "      <td>4</td>\n",
       "      <td>956715648</td>\n",
       "    </tr>\n",
       "    <tr>\n",
       "      <th>1000208</th>\n",
       "      <td>6040</td>\n",
       "      <td>1097</td>\n",
       "      <td>4</td>\n",
       "      <td>956715569</td>\n",
       "    </tr>\n",
       "  </tbody>\n",
       "</table>\n",
       "<p>1000209 rows × 4 columns</p>\n",
       "</div>"
      ],
      "text/plain": [
       "         UserId  ItemId  Rating       Time\n",
       "0             1    1193       5  978300760\n",
       "1             1     661       3  978302109\n",
       "2             1     914       3  978301968\n",
       "3             1    3408       4  978300275\n",
       "4             1    2355       5  978824291\n",
       "...         ...     ...     ...        ...\n",
       "1000204    6040    1091       1  956716541\n",
       "1000205    6040    1094       5  956704887\n",
       "1000206    6040     562       5  956704746\n",
       "1000207    6040    1096       4  956715648\n",
       "1000208    6040    1097       4  956715569\n",
       "\n",
       "[1000209 rows x 4 columns]"
      ]
     },
     "execution_count": 4,
     "metadata": {},
     "output_type": "execute_result"
    }
   ],
   "source": [
    "data_path = Path(os.getenv('HOME')+'/aiffel/yoochoose/data/') \n",
    "train_path = data_path / 'ratings.dat'\n",
    "\n",
    "def load_data(data_path: Path, nrows=None):\n",
    "    data = pd.read_csv(data_path, sep='::', header=None, usecols=[0, 1, 2, 3], dtype={0: np.int32, 1: np.int32, 2: np.int32}, nrows=nrows)\n",
    "    data.columns = ['UserId', 'ItemId', 'Rating', 'Time']\n",
    "    return data\n",
    "\n",
    "data = load_data(train_path, None)\n",
    "# data.sort_values(['UserId', 'Time'], inplace=True)  # data를 id와 시간 순서로 정렬해줍니다.\n",
    "data"
   ]
  },
  {
   "cell_type": "markdown",
   "id": "d32d4c2d",
   "metadata": {},
   "source": [
    "여기서 이전 실습 내역과 가장 크게 다른 부분은 바로 SessionID 대신 UserID 항목이 들어갔다는 점입니다. 이 데이터셋은 명확한 1회 세션의 SessionID를 포함하지 않고 있습니다. 그래서 이번에는 UserID가 SessionID 역할을 해야 합니다.\n",
    "\n",
    "- Rating 정보가 포함되어 있습니다. 이전 실습 내역에서는 이런 항목이 포함되어 있지 않았으므로, 무시하고 제외할 수 있습니다. 하지만, 직전에 봤던 영화가 맘에 들었는지가 비슷한 영화를 더 고르게 하는 것과 상관이 있을 수도 있습니다. 아울러, Rating이 낮은 데이터를 어떻게 처리할지도 고민해야 합니다.\n",
    "\n",
    "- Time 항목에는 UTC time 가 포함되어, 1970년 1월 1일부터 경과된 초 단위 시간이 기재되어 있습니다.\n",
    "\n",
    "- 위와 같은 정보를 바탕으로 오늘의 실습과정과 유사한 프로젝트 과정을 진행해 보겠습니다.\n",
    "\n"
   ]
  },
  {
   "cell_type": "markdown",
   "id": "ec4eda38",
   "metadata": {},
   "source": [
    "## Step 1. 데이터의 전처리\n",
    "---\n",
    "위와 같이 간단히 구성해 본 데이터셋을 꼼꼼히 살펴보면서 항목별 기본 분석, session length, session time, cleaning 등의 작업을 진행합니다.\n",
    "특히, 이 데이터셋에서는 Session이 아닌 UserID 단위로 데이터가 생성되어 있으므로, 이를 Session 단위로 어떻게 해석할지에 주의합니다."
   ]
  },
  {
   "cell_type": "code",
   "execution_count": 5,
   "id": "fa8f047e",
   "metadata": {},
   "outputs": [
    {
     "data": {
      "text/plain": [
       "(6040, 3706)"
      ]
     },
     "execution_count": 5,
     "metadata": {},
     "output_type": "execute_result"
    }
   ],
   "source": [
    "# 유저 수와, 아이템 수\n",
    "data['UserId'].nunique(), data['ItemId'].nunique()"
   ]
  },
  {
   "cell_type": "markdown",
   "id": "34dcb7de",
   "metadata": {},
   "source": [
    "정확한 날짜와 시간이 알고싶어, datetime을 불러왔다. 참고 출처: https://journeytosth.tistory.com/29"
   ]
  },
  {
   "cell_type": "code",
   "execution_count": 6,
   "id": "f11e7d81",
   "metadata": {},
   "outputs": [],
   "source": [
    "from datetime import datetime"
   ]
  },
  {
   "cell_type": "code",
   "execution_count": 7,
   "id": "a0ed9d71",
   "metadata": {},
   "outputs": [
    {
     "data": {
      "text/plain": [
       "'2000-12-31 22:12:40'"
      ]
     },
     "execution_count": 7,
     "metadata": {},
     "output_type": "execute_result"
    }
   ],
   "source": [
    "temp = datetime.utcfromtimestamp(data['Time'][0])\n",
    "str(temp)"
   ]
  },
  {
   "cell_type": "code",
   "execution_count": 8,
   "id": "38aac1d8",
   "metadata": {},
   "outputs": [
    {
     "data": {
      "text/html": [
       "<div>\n",
       "<style scoped>\n",
       "    .dataframe tbody tr th:only-of-type {\n",
       "        vertical-align: middle;\n",
       "    }\n",
       "\n",
       "    .dataframe tbody tr th {\n",
       "        vertical-align: top;\n",
       "    }\n",
       "\n",
       "    .dataframe thead th {\n",
       "        text-align: right;\n",
       "    }\n",
       "</style>\n",
       "<table border=\"1\" class=\"dataframe\">\n",
       "  <thead>\n",
       "    <tr style=\"text-align: right;\">\n",
       "      <th></th>\n",
       "      <th>UserId</th>\n",
       "      <th>ItemId</th>\n",
       "      <th>Rating</th>\n",
       "      <th>Time</th>\n",
       "      <th>RealTime</th>\n",
       "    </tr>\n",
       "  </thead>\n",
       "  <tbody>\n",
       "    <tr>\n",
       "      <th>0</th>\n",
       "      <td>1</td>\n",
       "      <td>1193</td>\n",
       "      <td>5</td>\n",
       "      <td>978300760</td>\n",
       "      <td>2000-12-31 22:12:40</td>\n",
       "    </tr>\n",
       "    <tr>\n",
       "      <th>1</th>\n",
       "      <td>1</td>\n",
       "      <td>661</td>\n",
       "      <td>3</td>\n",
       "      <td>978302109</td>\n",
       "      <td>2000-12-31 22:35:09</td>\n",
       "    </tr>\n",
       "    <tr>\n",
       "      <th>2</th>\n",
       "      <td>1</td>\n",
       "      <td>914</td>\n",
       "      <td>3</td>\n",
       "      <td>978301968</td>\n",
       "      <td>2000-12-31 22:32:48</td>\n",
       "    </tr>\n",
       "    <tr>\n",
       "      <th>3</th>\n",
       "      <td>1</td>\n",
       "      <td>3408</td>\n",
       "      <td>4</td>\n",
       "      <td>978300275</td>\n",
       "      <td>2000-12-31 22:04:35</td>\n",
       "    </tr>\n",
       "    <tr>\n",
       "      <th>4</th>\n",
       "      <td>1</td>\n",
       "      <td>2355</td>\n",
       "      <td>5</td>\n",
       "      <td>978824291</td>\n",
       "      <td>2001-01-06 23:38:11</td>\n",
       "    </tr>\n",
       "    <tr>\n",
       "      <th>...</th>\n",
       "      <td>...</td>\n",
       "      <td>...</td>\n",
       "      <td>...</td>\n",
       "      <td>...</td>\n",
       "      <td>...</td>\n",
       "    </tr>\n",
       "    <tr>\n",
       "      <th>1000204</th>\n",
       "      <td>6040</td>\n",
       "      <td>1091</td>\n",
       "      <td>1</td>\n",
       "      <td>956716541</td>\n",
       "      <td>2000-04-26 02:35:41</td>\n",
       "    </tr>\n",
       "    <tr>\n",
       "      <th>1000205</th>\n",
       "      <td>6040</td>\n",
       "      <td>1094</td>\n",
       "      <td>5</td>\n",
       "      <td>956704887</td>\n",
       "      <td>2000-04-25 23:21:27</td>\n",
       "    </tr>\n",
       "    <tr>\n",
       "      <th>1000206</th>\n",
       "      <td>6040</td>\n",
       "      <td>562</td>\n",
       "      <td>5</td>\n",
       "      <td>956704746</td>\n",
       "      <td>2000-04-25 23:19:06</td>\n",
       "    </tr>\n",
       "    <tr>\n",
       "      <th>1000207</th>\n",
       "      <td>6040</td>\n",
       "      <td>1096</td>\n",
       "      <td>4</td>\n",
       "      <td>956715648</td>\n",
       "      <td>2000-04-26 02:20:48</td>\n",
       "    </tr>\n",
       "    <tr>\n",
       "      <th>1000208</th>\n",
       "      <td>6040</td>\n",
       "      <td>1097</td>\n",
       "      <td>4</td>\n",
       "      <td>956715569</td>\n",
       "      <td>2000-04-26 02:19:29</td>\n",
       "    </tr>\n",
       "  </tbody>\n",
       "</table>\n",
       "<p>1000209 rows × 5 columns</p>\n",
       "</div>"
      ],
      "text/plain": [
       "         UserId  ItemId  Rating       Time             RealTime\n",
       "0             1    1193       5  978300760  2000-12-31 22:12:40\n",
       "1             1     661       3  978302109  2000-12-31 22:35:09\n",
       "2             1     914       3  978301968  2000-12-31 22:32:48\n",
       "3             1    3408       4  978300275  2000-12-31 22:04:35\n",
       "4             1    2355       5  978824291  2001-01-06 23:38:11\n",
       "...         ...     ...     ...        ...                  ...\n",
       "1000204    6040    1091       1  956716541  2000-04-26 02:35:41\n",
       "1000205    6040    1094       5  956704887  2000-04-25 23:21:27\n",
       "1000206    6040     562       5  956704746  2000-04-25 23:19:06\n",
       "1000207    6040    1096       4  956715648  2000-04-26 02:20:48\n",
       "1000208    6040    1097       4  956715569  2000-04-26 02:19:29\n",
       "\n",
       "[1000209 rows x 5 columns]"
      ]
     },
     "execution_count": 8,
     "metadata": {},
     "output_type": "execute_result"
    }
   ],
   "source": [
    "from datetime import datetime\n",
    "\n",
    "RealTime = []\n",
    "for i in range(len(data)):\n",
    "    RealTime.append(str(datetime.utcfromtimestamp(data['Time'][i])))\n",
    "data['RealTime'] = RealTime\n",
    "\n",
    "# data.sort_values(['UserId', 'RealTime'], inplace=True)  # Time 말고 RealTime기준으로 다시 재정렬\n",
    "data"
   ]
  },
  {
   "cell_type": "code",
   "execution_count": 9,
   "id": "c03d073a",
   "metadata": {},
   "outputs": [
    {
     "name": "stdout",
     "output_type": "stream",
     "text": [
      "1000209\n",
      "458455\n",
      "458455\n"
     ]
    }
   ],
   "source": [
    "print(len(data))\n",
    "print(data['RealTime'].nunique())\n",
    "print(data['Time'].nunique())"
   ]
  },
  {
   "cell_type": "markdown",
   "id": "5d21d0cc",
   "metadata": {},
   "source": [
    "### SessionId 지정\n",
    "\n",
    "SessionId를 RealTime의 분 단위로 쪼개 보겠습니다."
   ]
  },
  {
   "cell_type": "code",
   "execution_count": 10,
   "id": "8aded0ce",
   "metadata": {},
   "outputs": [
    {
     "name": "stdout",
     "output_type": "stream",
     "text": [
      "2000-12-31\n"
     ]
    }
   ],
   "source": [
    "print(data['RealTime'][0][:10])"
   ]
  },
  {
   "cell_type": "code",
   "execution_count": 11,
   "id": "1c698d8d",
   "metadata": {},
   "outputs": [
    {
     "data": {
      "text/plain": [
       "1040"
      ]
     },
     "execution_count": 11,
     "metadata": {},
     "output_type": "execute_result"
    }
   ],
   "source": [
    "YMD = []\n",
    "for i in range(len(data)):\n",
    "    if data['RealTime'][i][:10] in YMD:\n",
    "        continue\n",
    "    else:\n",
    "        YMD.append(data['RealTime'][i][:10])\n",
    "YMD.sort()\n",
    "len(YMD)"
   ]
  },
  {
   "cell_type": "markdown",
   "id": "c075fc63",
   "metadata": {},
   "source": [
    "1040 면, UserId 보다 적은 숫자라는 것을 깨닫고,\n",
    "- UserId가 같은 것들 중,\n",
    "- 년/달/일 이 같은 것들을 쪼개기로 하였다."
   ]
  },
  {
   "cell_type": "code",
   "execution_count": 12,
   "id": "bf2b354f",
   "metadata": {},
   "outputs": [
    {
     "data": {
      "text/plain": [
       "6040"
      ]
     },
     "execution_count": 12,
     "metadata": {},
     "output_type": "execute_result"
    }
   ],
   "source": [
    "# userId, -> 년/월/일 로 우선 쪼개 보았다\n",
    "temp_dict = {}\n",
    "for i in range(len(data)):\n",
    "    if data['UserId'][i] not in temp_dict:\n",
    "        temp_dict[data['UserId'][i]] = [data['RealTime'][i][:10]]\n",
    "    else:\n",
    "        temp_dict[data['UserId'][i]].append(data['RealTime'][i][:10])\n",
    "        \n",
    "len(temp_dict)"
   ]
  },
  {
   "cell_type": "code",
   "execution_count": 13,
   "id": "cc3ce9b6",
   "metadata": {},
   "outputs": [
    {
     "data": {
      "text/plain": [
       "'2000-12-31'"
      ]
     },
     "execution_count": 13,
     "metadata": {},
     "output_type": "execute_result"
    }
   ],
   "source": [
    "temp_dict[1][0]"
   ]
  },
  {
   "cell_type": "code",
   "execution_count": 14,
   "id": "096bff33",
   "metadata": {},
   "outputs": [
    {
     "data": {
      "text/plain": [
       "22814"
      ]
     },
     "execution_count": 14,
     "metadata": {},
     "output_type": "execute_result"
    }
   ],
   "source": [
    "# 나름대로 조합하여 임시 아이디를 만들었다.\n",
    "all_list = []\n",
    "for i in range(len(temp_dict)):\n",
    "    for j in range(len(temp_dict[i+1])):\n",
    "        if str(i+1)+temp_dict[i+1][j] not in all_list:\n",
    "            all_list.append(str(i+1)+temp_dict[i+1][j])\n",
    "        else:\n",
    "            continue\n",
    "        \n",
    "len(all_list)"
   ]
  },
  {
   "cell_type": "code",
   "execution_count": 15,
   "id": "3223b0ba",
   "metadata": {},
   "outputs": [
    {
     "data": {
      "text/plain": [
       "['12000-12-31',\n",
       " '12001-01-06',\n",
       " '22000-12-31',\n",
       " '32000-12-31',\n",
       " '42000-12-31',\n",
       " '52000-12-31',\n",
       " '62000-12-31',\n",
       " '72000-12-31',\n",
       " '82000-12-31',\n",
       " '92000-12-31']"
      ]
     },
     "execution_count": 15,
     "metadata": {},
     "output_type": "execute_result"
    }
   ],
   "source": [
    "all_list[:10]"
   ]
  },
  {
   "cell_type": "code",
   "execution_count": 16,
   "id": "dce925a0",
   "metadata": {},
   "outputs": [
    {
     "data": {
      "text/plain": [
       "22814"
      ]
     },
     "execution_count": 16,
     "metadata": {},
     "output_type": "execute_result"
    }
   ],
   "source": [
    "all_dict = {}\n",
    "for i in range(len(all_list)):\n",
    "    all_dict[all_list[i]] = i\n",
    "\n",
    "len(all_dict)"
   ]
  },
  {
   "cell_type": "code",
   "execution_count": 17,
   "id": "7f06d6b0",
   "metadata": {},
   "outputs": [
    {
     "data": {
      "text/plain": [
       "0"
      ]
     },
     "execution_count": 17,
     "metadata": {},
     "output_type": "execute_result"
    }
   ],
   "source": [
    "all_dict[(str(data['UserId'][0])+data['RealTime'][0][:10])]"
   ]
  },
  {
   "cell_type": "code",
   "execution_count": 18,
   "id": "764ecf05",
   "metadata": {},
   "outputs": [
    {
     "data": {
      "text/plain": [
       "1000209"
      ]
     },
     "execution_count": 18,
     "metadata": {},
     "output_type": "execute_result"
    }
   ],
   "source": [
    "ses_list = []\n",
    "for i in range(len(data)):\n",
    "    ses_list.append(all_dict[(str(data['UserId'][i])+data['RealTime'][i][:10])])\n",
    "\n",
    "len(ses_list)"
   ]
  },
  {
   "cell_type": "code",
   "execution_count": 19,
   "id": "a7428022",
   "metadata": {},
   "outputs": [
    {
     "data": {
      "text/html": [
       "<div>\n",
       "<style scoped>\n",
       "    .dataframe tbody tr th:only-of-type {\n",
       "        vertical-align: middle;\n",
       "    }\n",
       "\n",
       "    .dataframe tbody tr th {\n",
       "        vertical-align: top;\n",
       "    }\n",
       "\n",
       "    .dataframe thead th {\n",
       "        text-align: right;\n",
       "    }\n",
       "</style>\n",
       "<table border=\"1\" class=\"dataframe\">\n",
       "  <thead>\n",
       "    <tr style=\"text-align: right;\">\n",
       "      <th></th>\n",
       "      <th>UserId</th>\n",
       "      <th>ItemId</th>\n",
       "      <th>Rating</th>\n",
       "      <th>Time</th>\n",
       "      <th>RealTime</th>\n",
       "      <th>SessionId</th>\n",
       "    </tr>\n",
       "  </thead>\n",
       "  <tbody>\n",
       "    <tr>\n",
       "      <th>0</th>\n",
       "      <td>1</td>\n",
       "      <td>1193</td>\n",
       "      <td>5</td>\n",
       "      <td>978300760</td>\n",
       "      <td>2000-12-31 22:12:40</td>\n",
       "      <td>0</td>\n",
       "    </tr>\n",
       "    <tr>\n",
       "      <th>1</th>\n",
       "      <td>1</td>\n",
       "      <td>661</td>\n",
       "      <td>3</td>\n",
       "      <td>978302109</td>\n",
       "      <td>2000-12-31 22:35:09</td>\n",
       "      <td>0</td>\n",
       "    </tr>\n",
       "    <tr>\n",
       "      <th>2</th>\n",
       "      <td>1</td>\n",
       "      <td>914</td>\n",
       "      <td>3</td>\n",
       "      <td>978301968</td>\n",
       "      <td>2000-12-31 22:32:48</td>\n",
       "      <td>0</td>\n",
       "    </tr>\n",
       "    <tr>\n",
       "      <th>3</th>\n",
       "      <td>1</td>\n",
       "      <td>3408</td>\n",
       "      <td>4</td>\n",
       "      <td>978300275</td>\n",
       "      <td>2000-12-31 22:04:35</td>\n",
       "      <td>0</td>\n",
       "    </tr>\n",
       "    <tr>\n",
       "      <th>4</th>\n",
       "      <td>1</td>\n",
       "      <td>2355</td>\n",
       "      <td>5</td>\n",
       "      <td>978824291</td>\n",
       "      <td>2001-01-06 23:38:11</td>\n",
       "      <td>1</td>\n",
       "    </tr>\n",
       "    <tr>\n",
       "      <th>...</th>\n",
       "      <td>...</td>\n",
       "      <td>...</td>\n",
       "      <td>...</td>\n",
       "      <td>...</td>\n",
       "      <td>...</td>\n",
       "      <td>...</td>\n",
       "    </tr>\n",
       "    <tr>\n",
       "      <th>1000204</th>\n",
       "      <td>6040</td>\n",
       "      <td>1091</td>\n",
       "      <td>1</td>\n",
       "      <td>956716541</td>\n",
       "      <td>2000-04-26 02:35:41</td>\n",
       "      <td>22807</td>\n",
       "    </tr>\n",
       "    <tr>\n",
       "      <th>1000205</th>\n",
       "      <td>6040</td>\n",
       "      <td>1094</td>\n",
       "      <td>5</td>\n",
       "      <td>956704887</td>\n",
       "      <td>2000-04-25 23:21:27</td>\n",
       "      <td>22804</td>\n",
       "    </tr>\n",
       "    <tr>\n",
       "      <th>1000206</th>\n",
       "      <td>6040</td>\n",
       "      <td>562</td>\n",
       "      <td>5</td>\n",
       "      <td>956704746</td>\n",
       "      <td>2000-04-25 23:19:06</td>\n",
       "      <td>22804</td>\n",
       "    </tr>\n",
       "    <tr>\n",
       "      <th>1000207</th>\n",
       "      <td>6040</td>\n",
       "      <td>1096</td>\n",
       "      <td>4</td>\n",
       "      <td>956715648</td>\n",
       "      <td>2000-04-26 02:20:48</td>\n",
       "      <td>22807</td>\n",
       "    </tr>\n",
       "    <tr>\n",
       "      <th>1000208</th>\n",
       "      <td>6040</td>\n",
       "      <td>1097</td>\n",
       "      <td>4</td>\n",
       "      <td>956715569</td>\n",
       "      <td>2000-04-26 02:19:29</td>\n",
       "      <td>22807</td>\n",
       "    </tr>\n",
       "  </tbody>\n",
       "</table>\n",
       "<p>1000209 rows × 6 columns</p>\n",
       "</div>"
      ],
      "text/plain": [
       "         UserId  ItemId  Rating       Time             RealTime  SessionId\n",
       "0             1    1193       5  978300760  2000-12-31 22:12:40          0\n",
       "1             1     661       3  978302109  2000-12-31 22:35:09          0\n",
       "2             1     914       3  978301968  2000-12-31 22:32:48          0\n",
       "3             1    3408       4  978300275  2000-12-31 22:04:35          0\n",
       "4             1    2355       5  978824291  2001-01-06 23:38:11          1\n",
       "...         ...     ...     ...        ...                  ...        ...\n",
       "1000204    6040    1091       1  956716541  2000-04-26 02:35:41      22807\n",
       "1000205    6040    1094       5  956704887  2000-04-25 23:21:27      22804\n",
       "1000206    6040     562       5  956704746  2000-04-25 23:19:06      22804\n",
       "1000207    6040    1096       4  956715648  2000-04-26 02:20:48      22807\n",
       "1000208    6040    1097       4  956715569  2000-04-26 02:19:29      22807\n",
       "\n",
       "[1000209 rows x 6 columns]"
      ]
     },
     "execution_count": 19,
     "metadata": {},
     "output_type": "execute_result"
    }
   ],
   "source": [
    "data['SessionId'] = ses_list\n",
    "data"
   ]
  },
  {
   "cell_type": "markdown",
   "id": "80a63b8a",
   "metadata": {},
   "source": [
    "여기서 생각보다 너무 많은 시간을 소비하였다 ㅜㅜ 임의로 새션아이디를 생성하는건 참으로 어려운 일이다.."
   ]
  },
  {
   "cell_type": "markdown",
   "id": "dd4903fc",
   "metadata": {},
   "source": [
    "유저수와, 아이템수, 확인"
   ]
  },
  {
   "cell_type": "code",
   "execution_count": 20,
   "id": "596f3cc0",
   "metadata": {},
   "outputs": [
    {
     "data": {
      "text/plain": [
       "(22814, 3706)"
      ]
     },
     "execution_count": 20,
     "metadata": {},
     "output_type": "execute_result"
    }
   ],
   "source": [
    "data['SessionId'].nunique(), data['ItemId'].nunique()"
   ]
  },
  {
   "cell_type": "code",
   "execution_count": 21,
   "id": "9632162b",
   "metadata": {},
   "outputs": [
    {
     "data": {
      "text/plain": [
       "SessionId\n",
       "0         40\n",
       "1         13\n",
       "2        129\n",
       "3         51\n",
       "4         21\n",
       "        ... \n",
       "22809      7\n",
       "22810     13\n",
       "22811      1\n",
       "22812      1\n",
       "22813      1\n",
       "Length: 22814, dtype: int64"
      ]
     },
     "execution_count": 21,
     "metadata": {},
     "output_type": "execute_result"
    }
   ],
   "source": [
    "session_length = data.groupby('SessionId').size()\n",
    "session_length"
   ]
  },
  {
   "cell_type": "code",
   "execution_count": 22,
   "id": "c5c875bb",
   "metadata": {},
   "outputs": [
    {
     "data": {
      "text/plain": [
       "(7.0, 43.84189532743053)"
      ]
     },
     "execution_count": 22,
     "metadata": {},
     "output_type": "execute_result"
    }
   ],
   "source": [
    "session_length.median(), session_length.mean()"
   ]
  },
  {
   "cell_type": "code",
   "execution_count": 23,
   "id": "d3fd1022",
   "metadata": {},
   "outputs": [
    {
     "data": {
      "text/plain": [
       "(1, 1442)"
      ]
     },
     "execution_count": 23,
     "metadata": {},
     "output_type": "execute_result"
    }
   ],
   "source": [
    "session_length.min(), session_length.max()"
   ]
  },
  {
   "cell_type": "markdown",
   "id": "f39df52a",
   "metadata": {},
   "source": [
    "#### min이 1인 값도 있지만, 제가 중요하게 생각한 것은 Rating 이었으므로, SessionId가 1인 데이터는 건들지 않겠습니다."
   ]
  },
  {
   "cell_type": "markdown",
   "id": "319e6159",
   "metadata": {},
   "source": [
    "#### 내가 정한 세션에 의하면, 최대 하루동안 1442 번을 rating 했다는 것이다."
   ]
  },
  {
   "cell_type": "code",
   "execution_count": 24,
   "id": "5792bc48",
   "metadata": {},
   "outputs": [
    {
     "data": {
      "text/plain": [
       "794.1870000000017"
      ]
     },
     "execution_count": 24,
     "metadata": {},
     "output_type": "execute_result"
    }
   ],
   "source": [
    "session_length.quantile(0.999)"
   ]
  },
  {
   "cell_type": "markdown",
   "id": "269688d5",
   "metadata": {},
   "source": [
    "상위 999는, 794회 미만이다. 여전히 많지만, 사용하기로 해보겠습니다."
   ]
  },
  {
   "cell_type": "code",
   "execution_count": 25,
   "id": "f8ee4130",
   "metadata": {},
   "outputs": [
    {
     "data": {
      "text/html": [
       "<div>\n",
       "<style scoped>\n",
       "    .dataframe tbody tr th:only-of-type {\n",
       "        vertical-align: middle;\n",
       "    }\n",
       "\n",
       "    .dataframe tbody tr th {\n",
       "        vertical-align: top;\n",
       "    }\n",
       "\n",
       "    .dataframe thead th {\n",
       "        text-align: right;\n",
       "    }\n",
       "</style>\n",
       "<table border=\"1\" class=\"dataframe\">\n",
       "  <thead>\n",
       "    <tr style=\"text-align: right;\">\n",
       "      <th></th>\n",
       "      <th>UserId</th>\n",
       "      <th>ItemId</th>\n",
       "      <th>Rating</th>\n",
       "      <th>Time</th>\n",
       "      <th>RealTime</th>\n",
       "      <th>SessionId</th>\n",
       "    </tr>\n",
       "  </thead>\n",
       "  <tbody>\n",
       "    <tr>\n",
       "      <th>138316</th>\n",
       "      <td>889</td>\n",
       "      <td>1193</td>\n",
       "      <td>1</td>\n",
       "      <td>975247862</td>\n",
       "      <td>2000-11-26 14:11:02</td>\n",
       "      <td>3268</td>\n",
       "    </tr>\n",
       "    <tr>\n",
       "      <th>137889</th>\n",
       "      <td>889</td>\n",
       "      <td>1643</td>\n",
       "      <td>3</td>\n",
       "      <td>975247862</td>\n",
       "      <td>2000-11-26 14:11:02</td>\n",
       "      <td>3268</td>\n",
       "    </tr>\n",
       "    <tr>\n",
       "      <th>138039</th>\n",
       "      <td>889</td>\n",
       "      <td>3461</td>\n",
       "      <td>3</td>\n",
       "      <td>975247862</td>\n",
       "      <td>2000-11-26 14:11:02</td>\n",
       "      <td>3268</td>\n",
       "    </tr>\n",
       "    <tr>\n",
       "      <th>139003</th>\n",
       "      <td>889</td>\n",
       "      <td>2969</td>\n",
       "      <td>2</td>\n",
       "      <td>975247862</td>\n",
       "      <td>2000-11-26 14:11:02</td>\n",
       "      <td>3268</td>\n",
       "    </tr>\n",
       "    <tr>\n",
       "      <th>137864</th>\n",
       "      <td>889</td>\n",
       "      <td>2430</td>\n",
       "      <td>3</td>\n",
       "      <td>975247862</td>\n",
       "      <td>2000-11-26 14:11:02</td>\n",
       "      <td>3268</td>\n",
       "    </tr>\n",
       "    <tr>\n",
       "      <th>...</th>\n",
       "      <td>...</td>\n",
       "      <td>...</td>\n",
       "      <td>...</td>\n",
       "      <td>...</td>\n",
       "      <td>...</td>\n",
       "      <td>...</td>\n",
       "    </tr>\n",
       "    <tr>\n",
       "      <th>138442</th>\n",
       "      <td>889</td>\n",
       "      <td>1543</td>\n",
       "      <td>1</td>\n",
       "      <td>975261851</td>\n",
       "      <td>2000-11-26 18:04:11</td>\n",
       "      <td>3268</td>\n",
       "    </tr>\n",
       "    <tr>\n",
       "      <th>138215</th>\n",
       "      <td>889</td>\n",
       "      <td>476</td>\n",
       "      <td>2</td>\n",
       "      <td>975261864</td>\n",
       "      <td>2000-11-26 18:04:24</td>\n",
       "      <td>3268</td>\n",
       "    </tr>\n",
       "    <tr>\n",
       "      <th>138211</th>\n",
       "      <td>889</td>\n",
       "      <td>617</td>\n",
       "      <td>3</td>\n",
       "      <td>975261864</td>\n",
       "      <td>2000-11-26 18:04:24</td>\n",
       "      <td>3268</td>\n",
       "    </tr>\n",
       "    <tr>\n",
       "      <th>138394</th>\n",
       "      <td>889</td>\n",
       "      <td>844</td>\n",
       "      <td>3</td>\n",
       "      <td>975261879</td>\n",
       "      <td>2000-11-26 18:04:39</td>\n",
       "      <td>3268</td>\n",
       "    </tr>\n",
       "    <tr>\n",
       "      <th>138640</th>\n",
       "      <td>889</td>\n",
       "      <td>167</td>\n",
       "      <td>3</td>\n",
       "      <td>975261879</td>\n",
       "      <td>2000-11-26 18:04:39</td>\n",
       "      <td>3268</td>\n",
       "    </tr>\n",
       "  </tbody>\n",
       "</table>\n",
       "<p>1442 rows × 6 columns</p>\n",
       "</div>"
      ],
      "text/plain": [
       "        UserId  ItemId  Rating       Time             RealTime  SessionId\n",
       "138316     889    1193       1  975247862  2000-11-26 14:11:02       3268\n",
       "137889     889    1643       3  975247862  2000-11-26 14:11:02       3268\n",
       "138039     889    3461       3  975247862  2000-11-26 14:11:02       3268\n",
       "139003     889    2969       2  975247862  2000-11-26 14:11:02       3268\n",
       "137864     889    2430       3  975247862  2000-11-26 14:11:02       3268\n",
       "...        ...     ...     ...        ...                  ...        ...\n",
       "138442     889    1543       1  975261851  2000-11-26 18:04:11       3268\n",
       "138215     889     476       2  975261864  2000-11-26 18:04:24       3268\n",
       "138211     889     617       3  975261864  2000-11-26 18:04:24       3268\n",
       "138394     889     844       3  975261879  2000-11-26 18:04:39       3268\n",
       "138640     889     167       3  975261879  2000-11-26 18:04:39       3268\n",
       "\n",
       "[1442 rows x 6 columns]"
      ]
     },
     "execution_count": 25,
     "metadata": {},
     "output_type": "execute_result"
    }
   ],
   "source": [
    "long_session = session_length[session_length==1442].index[0]\n",
    "data[data['SessionId']==long_session].sort_values(['RealTime'], inplace=False)  # data를 id와 시간 순서로 정렬해줍니다."
   ]
  },
  {
   "cell_type": "markdown",
   "id": "02de433c",
   "metadata": {},
   "source": [
    "여전히 같은 시간대의 Rating에 대해 의문이 듭니다만, 계속 진행해 보겠습니다."
   ]
  },
  {
   "cell_type": "code",
   "execution_count": 26,
   "id": "07e584c7",
   "metadata": {},
   "outputs": [
    {
     "data": {
      "text/plain": [
       "1      0.262383\n",
       "2      0.366310\n",
       "3      0.418077\n",
       "4      0.449812\n",
       "5      0.477119\n",
       "         ...   \n",
       "779    0.998817\n",
       "781    0.998860\n",
       "786    0.998904\n",
       "792    0.998948\n",
       "794    0.998992\n",
       "Length: 573, dtype: float64"
      ]
     },
     "execution_count": 26,
     "metadata": {},
     "output_type": "execute_result"
    }
   ],
   "source": [
    "length_count = session_length.groupby(session_length).size()\n",
    "length_percent_cumsum = length_count.cumsum() / length_count.sum()\n",
    "length_percent_cumsum_999 = length_percent_cumsum[length_percent_cumsum < 0.999]\n",
    "\n",
    "length_percent_cumsum_999"
   ]
  },
  {
   "cell_type": "code",
   "execution_count": 27,
   "id": "1399e92b",
   "metadata": {},
   "outputs": [
    {
     "data": {
      "image/png": "[encoded data removed]",
      "text/plain": [
       "<Figure size 864x720 with 1 Axes>"
      ]
     },
     "metadata": {
      "needs_background": "light"
     },
     "output_type": "display_data"
    }
   ],
   "source": [
    "import matplotlib.pyplot as plt\n",
    "\n",
    "plt.figure(figsize=(12, 10))\n",
    "plt.bar(x=length_percent_cumsum_999.index,\n",
    "        height=length_percent_cumsum_999, color='red')\n",
    "plt.xticks(length_percent_cumsum_999.index)\n",
    "plt.yticks(np.arange(0, 1.01, 0.05))\n",
    "plt.title('Cumsum Percentage Until 0.999', size=20)\n",
    "plt.show()"
   ]
  },
  {
   "cell_type": "code",
   "execution_count": 28,
   "id": "e4188683",
   "metadata": {},
   "outputs": [
    {
     "name": "stdout",
     "output_type": "stream",
     "text": [
      "2000-04-25 23:05:32\n",
      "2003-02-28 17:49:50\n"
     ]
    }
   ],
   "source": [
    "oldest, latest = data['RealTime'].min(), data['RealTime'].max()\n",
    "print(oldest) \n",
    "print(latest)"
   ]
  },
  {
   "cell_type": "markdown",
   "id": "271f7a3d",
   "metadata": {},
   "source": [
    "#### 별점의 경우, 별점 1,2 점에 해당하는 경우에는, 추천에 영향을 준다고 판단하여 마치 클릭에서, 1번클릭과 같은 식으로 이해하여 없애기로 하였습니다."
   ]
  },
  {
   "cell_type": "code",
   "execution_count": 29,
   "id": "ed5e968c",
   "metadata": {},
   "outputs": [
    {
     "data": {
      "text/plain": [
       "Rating\n",
       "2    107557\n",
       "3    261197\n",
       "4    348971\n",
       "5    226310\n",
       "dtype: int64"
      ]
     },
     "execution_count": 29,
     "metadata": {},
     "output_type": "execute_result"
    }
   ],
   "source": [
    "rate_one = data[data['Rating']==1].index\n",
    "rate_data = data\n",
    "data = data.drop(rate_one)\n",
    "\n",
    "Rating_length = data.groupby('Rating').size()\n",
    "Rating_length"
   ]
  },
  {
   "cell_type": "code",
   "execution_count": 30,
   "id": "d83bc0a9",
   "metadata": {},
   "outputs": [
    {
     "data": {
      "text/plain": [
       "Rating\n",
       "3    261197\n",
       "4    348971\n",
       "5    226310\n",
       "dtype: int64"
      ]
     },
     "execution_count": 30,
     "metadata": {},
     "output_type": "execute_result"
    }
   ],
   "source": [
    "rate_two = data[data['Rating']==2].index\n",
    "data = data.drop(rate_two)\n",
    "\n",
    "Rating_length = data.groupby('Rating').size()\n",
    "Rating_length"
   ]
  },
  {
   "cell_type": "code",
   "execution_count": 31,
   "id": "055651b4",
   "metadata": {},
   "outputs": [
    {
     "data": {
      "text/html": [
       "<div>\n",
       "<style scoped>\n",
       "    .dataframe tbody tr th:only-of-type {\n",
       "        vertical-align: middle;\n",
       "    }\n",
       "\n",
       "    .dataframe tbody tr th {\n",
       "        vertical-align: top;\n",
       "    }\n",
       "\n",
       "    .dataframe thead th {\n",
       "        text-align: right;\n",
       "    }\n",
       "</style>\n",
       "<table border=\"1\" class=\"dataframe\">\n",
       "  <thead>\n",
       "    <tr style=\"text-align: right;\">\n",
       "      <th></th>\n",
       "      <th>UserId</th>\n",
       "      <th>ItemId</th>\n",
       "      <th>Rating</th>\n",
       "      <th>Time</th>\n",
       "      <th>RealTime</th>\n",
       "      <th>SessionId</th>\n",
       "    </tr>\n",
       "  </thead>\n",
       "  <tbody>\n",
       "    <tr>\n",
       "      <th>0</th>\n",
       "      <td>1</td>\n",
       "      <td>1193</td>\n",
       "      <td>5</td>\n",
       "      <td>978300760</td>\n",
       "      <td>2000-12-31 22:12:40</td>\n",
       "      <td>0</td>\n",
       "    </tr>\n",
       "    <tr>\n",
       "      <th>1</th>\n",
       "      <td>1</td>\n",
       "      <td>661</td>\n",
       "      <td>3</td>\n",
       "      <td>978302109</td>\n",
       "      <td>2000-12-31 22:35:09</td>\n",
       "      <td>0</td>\n",
       "    </tr>\n",
       "    <tr>\n",
       "      <th>2</th>\n",
       "      <td>1</td>\n",
       "      <td>914</td>\n",
       "      <td>3</td>\n",
       "      <td>978301968</td>\n",
       "      <td>2000-12-31 22:32:48</td>\n",
       "      <td>0</td>\n",
       "    </tr>\n",
       "    <tr>\n",
       "      <th>3</th>\n",
       "      <td>1</td>\n",
       "      <td>3408</td>\n",
       "      <td>4</td>\n",
       "      <td>978300275</td>\n",
       "      <td>2000-12-31 22:04:35</td>\n",
       "      <td>0</td>\n",
       "    </tr>\n",
       "    <tr>\n",
       "      <th>4</th>\n",
       "      <td>1</td>\n",
       "      <td>2355</td>\n",
       "      <td>5</td>\n",
       "      <td>978824291</td>\n",
       "      <td>2001-01-06 23:38:11</td>\n",
       "      <td>1</td>\n",
       "    </tr>\n",
       "    <tr>\n",
       "      <th>...</th>\n",
       "      <td>...</td>\n",
       "      <td>...</td>\n",
       "      <td>...</td>\n",
       "      <td>...</td>\n",
       "      <td>...</td>\n",
       "      <td>...</td>\n",
       "    </tr>\n",
       "    <tr>\n",
       "      <th>1000203</th>\n",
       "      <td>6040</td>\n",
       "      <td>1090</td>\n",
       "      <td>3</td>\n",
       "      <td>956715518</td>\n",
       "      <td>2000-04-26 02:18:38</td>\n",
       "      <td>22807</td>\n",
       "    </tr>\n",
       "    <tr>\n",
       "      <th>1000205</th>\n",
       "      <td>6040</td>\n",
       "      <td>1094</td>\n",
       "      <td>5</td>\n",
       "      <td>956704887</td>\n",
       "      <td>2000-04-25 23:21:27</td>\n",
       "      <td>22804</td>\n",
       "    </tr>\n",
       "    <tr>\n",
       "      <th>1000206</th>\n",
       "      <td>6040</td>\n",
       "      <td>562</td>\n",
       "      <td>5</td>\n",
       "      <td>956704746</td>\n",
       "      <td>2000-04-25 23:19:06</td>\n",
       "      <td>22804</td>\n",
       "    </tr>\n",
       "    <tr>\n",
       "      <th>1000207</th>\n",
       "      <td>6040</td>\n",
       "      <td>1096</td>\n",
       "      <td>4</td>\n",
       "      <td>956715648</td>\n",
       "      <td>2000-04-26 02:20:48</td>\n",
       "      <td>22807</td>\n",
       "    </tr>\n",
       "    <tr>\n",
       "      <th>1000208</th>\n",
       "      <td>6040</td>\n",
       "      <td>1097</td>\n",
       "      <td>4</td>\n",
       "      <td>956715569</td>\n",
       "      <td>2000-04-26 02:19:29</td>\n",
       "      <td>22807</td>\n",
       "    </tr>\n",
       "  </tbody>\n",
       "</table>\n",
       "<p>836478 rows × 6 columns</p>\n",
       "</div>"
      ],
      "text/plain": [
       "         UserId  ItemId  Rating       Time             RealTime  SessionId\n",
       "0             1    1193       5  978300760  2000-12-31 22:12:40          0\n",
       "1             1     661       3  978302109  2000-12-31 22:35:09          0\n",
       "2             1     914       3  978301968  2000-12-31 22:32:48          0\n",
       "3             1    3408       4  978300275  2000-12-31 22:04:35          0\n",
       "4             1    2355       5  978824291  2001-01-06 23:38:11          1\n",
       "...         ...     ...     ...        ...                  ...        ...\n",
       "1000203    6040    1090       3  956715518  2000-04-26 02:18:38      22807\n",
       "1000205    6040    1094       5  956704887  2000-04-25 23:21:27      22804\n",
       "1000206    6040     562       5  956704746  2000-04-25 23:19:06      22804\n",
       "1000207    6040    1096       4  956715648  2000-04-26 02:20:48      22807\n",
       "1000208    6040    1097       4  956715569  2000-04-26 02:19:29      22807\n",
       "\n",
       "[836478 rows x 6 columns]"
      ]
     },
     "execution_count": 31,
     "metadata": {},
     "output_type": "execute_result"
    }
   ],
   "source": [
    "data"
   ]
  },
  {
   "cell_type": "markdown",
   "id": "6e866ede",
   "metadata": {},
   "source": [
    "### Train / Valid / Test split"
   ]
  },
  {
   "cell_type": "code",
   "execution_count": 33,
   "id": "1cb95a46",
   "metadata": {},
   "outputs": [
    {
     "name": "stdout",
     "output_type": "stream",
     "text": [
      "전체데이터:  836478\n",
      "Train Data:  794654\n",
      "Validation Data:  33459\n",
      "Test Data:  8365\n"
     ]
    }
   ],
   "source": [
    "print('전체데이터: ', len(data))\n",
    "tr_n = int(len(data)*0.95)\n",
    "v_n = int(len(data)*0.99)\n",
    "\n",
    "tr = data[:tr_n]\n",
    "print('Train Data: ', len(tr))\n",
    "val = data[tr_n:v_n]\n",
    "print('Validation Data: ', len(val))\n",
    "test = data[v_n:]\n",
    "print('Test Data: ', len(test))"
   ]
  },
  {
   "cell_type": "code",
   "execution_count": 34,
   "id": "964114d0",
   "metadata": {},
   "outputs": [],
   "source": [
    "# data에 대한 정보를 살펴봅니다.\n",
    "def stats_info(data: pd.DataFrame, status: str):\n",
    "    print(f'* {status} Set Stats Info\\n'\n",
    "          f'\\t Events: {len(data)}\\n'\n",
    "          f'\\t Sessions: {data[\"SessionId\"].nunique()}\\n'\n",
    "          f'\\t Items: {data[\"ItemId\"].nunique()}\\n'\n",
    "          f'\\t First Time : {data[\"RealTime\"].min()}\\n'\n",
    "          f'\\t Last Time : {data[\"RealTime\"].max()}\\n')"
   ]
  },
  {
   "cell_type": "code",
   "execution_count": 35,
   "id": "7d7be98d",
   "metadata": {},
   "outputs": [
    {
     "name": "stdout",
     "output_type": "stream",
     "text": [
      "* train Set Stats Info\n",
      "\t Events: 794654\n",
      "\t Sessions: 21005\n",
      "\t Items: 3623\n",
      "\t First Time : 2000-05-15 14:08:06\n",
      "\t Last Time : 2003-02-28 17:49:50\n",
      "\n",
      "* valid Set Stats Info\n",
      "\t Events: 33459\n",
      "\t Sessions: 725\n",
      "\t Items: 2712\n",
      "\t First Time : 2000-04-28 15:58:27\n",
      "\t Last Time : 2003-02-28 13:12:12\n",
      "\n",
      "* test Set Stats Info\n",
      "\t Events: 8365\n",
      "\t Sessions: 161\n",
      "\t Items: 1976\n",
      "\t First Time : 2000-04-25 23:05:32\n",
      "\t Last Time : 2002-11-04 16:55:55\n",
      "\n"
     ]
    }
   ],
   "source": [
    "stats_info(tr, 'train')\n",
    "stats_info(val, 'valid')\n",
    "stats_info(test, 'test')"
   ]
  },
  {
   "cell_type": "code",
   "execution_count": 36,
   "id": "13388f9b",
   "metadata": {},
   "outputs": [],
   "source": [
    "# train set에 없는 아이템이 val, test기간에 생길 수 있으므로 train data를 기준으로 인덱싱합니다.\n",
    "id2idx = {item_id : index for index, item_id in enumerate(tr['ItemId'].unique())}\n",
    "\n",
    "def indexing(df, id2idx):\n",
    "    df['item_idx'] = df['ItemId'].map(lambda x: id2idx.get(x, -1))  # id2idx에 없는 아이템은 모르는 값(-1) 처리 해줍니다.\n",
    "    return df\n",
    "\n",
    "tr = indexing(tr, id2idx)\n",
    "val = indexing(val, id2idx)\n",
    "test = indexing(test, id2idx)"
   ]
  },
  {
   "cell_type": "code",
   "execution_count": 75,
   "id": "23b30203",
   "metadata": {},
   "outputs": [],
   "source": [
    "save_path2 = data_path / 'processed'\n",
    "save_path2.mkdir(parents=True, exist_ok=True)\n",
    "\n",
    "tr.to_pickle(save_path2 / 'train.pkl')\n",
    "val.to_pickle(save_path2 / 'valid.pkl')\n",
    "test.to_pickle(save_path2 / 'test.pkl')"
   ]
  },
  {
   "cell_type": "markdown",
   "id": "512a0d1d",
   "metadata": {},
   "source": [
    "### Data Pipeline"
   ]
  },
  {
   "cell_type": "code",
   "execution_count": 76,
   "id": "828b7725",
   "metadata": {},
   "outputs": [],
   "source": [
    "class SessionDataset:\n",
    "    \"\"\"Credit to yhs-968/pyGRU4REC.\"\"\"\n",
    "\n",
    "    def __init__(self, data):\n",
    "        self.df = data\n",
    "        self.click_offsets = self.get_click_offsets()\n",
    "        self.session_idx = np.arange(self.df['SessionId'].nunique())  # indexing to SessionId\n",
    "\n",
    "    def get_click_offsets(self):\n",
    "        \"\"\"\n",
    "        Return the indexes of the first click of each session IDs,\n",
    "        \"\"\"\n",
    "        offsets = np.zeros(self.df['SessionId'].nunique() + 1, dtype=np.int32)\n",
    "        offsets[1:] = self.df.groupby('SessionId').size().cumsum()\n",
    "        return offsets"
   ]
  },
  {
   "cell_type": "code",
   "execution_count": 77,
   "id": "bbc63b97",
   "metadata": {},
   "outputs": [
    {
     "data": {
      "text/html": [
       "<div>\n",
       "<style scoped>\n",
       "    .dataframe tbody tr th:only-of-type {\n",
       "        vertical-align: middle;\n",
       "    }\n",
       "\n",
       "    .dataframe tbody tr th {\n",
       "        vertical-align: top;\n",
       "    }\n",
       "\n",
       "    .dataframe thead th {\n",
       "        text-align: right;\n",
       "    }\n",
       "</style>\n",
       "<table border=\"1\" class=\"dataframe\">\n",
       "  <thead>\n",
       "    <tr style=\"text-align: right;\">\n",
       "      <th></th>\n",
       "      <th>UserId</th>\n",
       "      <th>ItemId</th>\n",
       "      <th>Rating</th>\n",
       "      <th>Time</th>\n",
       "      <th>RealTime</th>\n",
       "      <th>SessionId</th>\n",
       "      <th>item_idx</th>\n",
       "    </tr>\n",
       "  </thead>\n",
       "  <tbody>\n",
       "    <tr>\n",
       "      <th>0</th>\n",
       "      <td>1</td>\n",
       "      <td>1193</td>\n",
       "      <td>5</td>\n",
       "      <td>978300760</td>\n",
       "      <td>2000-12-31 22:12:40</td>\n",
       "      <td>0</td>\n",
       "      <td>0</td>\n",
       "    </tr>\n",
       "    <tr>\n",
       "      <th>1</th>\n",
       "      <td>1</td>\n",
       "      <td>661</td>\n",
       "      <td>3</td>\n",
       "      <td>978302109</td>\n",
       "      <td>2000-12-31 22:35:09</td>\n",
       "      <td>0</td>\n",
       "      <td>1</td>\n",
       "    </tr>\n",
       "    <tr>\n",
       "      <th>2</th>\n",
       "      <td>1</td>\n",
       "      <td>914</td>\n",
       "      <td>3</td>\n",
       "      <td>978301968</td>\n",
       "      <td>2000-12-31 22:32:48</td>\n",
       "      <td>0</td>\n",
       "      <td>2</td>\n",
       "    </tr>\n",
       "    <tr>\n",
       "      <th>3</th>\n",
       "      <td>1</td>\n",
       "      <td>3408</td>\n",
       "      <td>4</td>\n",
       "      <td>978300275</td>\n",
       "      <td>2000-12-31 22:04:35</td>\n",
       "      <td>0</td>\n",
       "      <td>3</td>\n",
       "    </tr>\n",
       "    <tr>\n",
       "      <th>4</th>\n",
       "      <td>1</td>\n",
       "      <td>2355</td>\n",
       "      <td>5</td>\n",
       "      <td>978824291</td>\n",
       "      <td>2001-01-06 23:38:11</td>\n",
       "      <td>1</td>\n",
       "      <td>4</td>\n",
       "    </tr>\n",
       "    <tr>\n",
       "      <th>5</th>\n",
       "      <td>1</td>\n",
       "      <td>1197</td>\n",
       "      <td>3</td>\n",
       "      <td>978302268</td>\n",
       "      <td>2000-12-31 22:37:48</td>\n",
       "      <td>0</td>\n",
       "      <td>5</td>\n",
       "    </tr>\n",
       "    <tr>\n",
       "      <th>6</th>\n",
       "      <td>1</td>\n",
       "      <td>1287</td>\n",
       "      <td>5</td>\n",
       "      <td>978302039</td>\n",
       "      <td>2000-12-31 22:33:59</td>\n",
       "      <td>0</td>\n",
       "      <td>6</td>\n",
       "    </tr>\n",
       "    <tr>\n",
       "      <th>7</th>\n",
       "      <td>1</td>\n",
       "      <td>2804</td>\n",
       "      <td>5</td>\n",
       "      <td>978300719</td>\n",
       "      <td>2000-12-31 22:11:59</td>\n",
       "      <td>0</td>\n",
       "      <td>7</td>\n",
       "    </tr>\n",
       "    <tr>\n",
       "      <th>8</th>\n",
       "      <td>1</td>\n",
       "      <td>594</td>\n",
       "      <td>4</td>\n",
       "      <td>978302268</td>\n",
       "      <td>2000-12-31 22:37:48</td>\n",
       "      <td>0</td>\n",
       "      <td>8</td>\n",
       "    </tr>\n",
       "    <tr>\n",
       "      <th>9</th>\n",
       "      <td>1</td>\n",
       "      <td>919</td>\n",
       "      <td>4</td>\n",
       "      <td>978301368</td>\n",
       "      <td>2000-12-31 22:22:48</td>\n",
       "      <td>0</td>\n",
       "      <td>9</td>\n",
       "    </tr>\n",
       "  </tbody>\n",
       "</table>\n",
       "</div>"
      ],
      "text/plain": [
       "   UserId  ItemId  Rating       Time             RealTime  SessionId  item_idx\n",
       "0       1    1193       5  978300760  2000-12-31 22:12:40          0         0\n",
       "1       1     661       3  978302109  2000-12-31 22:35:09          0         1\n",
       "2       1     914       3  978301968  2000-12-31 22:32:48          0         2\n",
       "3       1    3408       4  978300275  2000-12-31 22:04:35          0         3\n",
       "4       1    2355       5  978824291  2001-01-06 23:38:11          1         4\n",
       "5       1    1197       3  978302268  2000-12-31 22:37:48          0         5\n",
       "6       1    1287       5  978302039  2000-12-31 22:33:59          0         6\n",
       "7       1    2804       5  978300719  2000-12-31 22:11:59          0         7\n",
       "8       1     594       4  978302268  2000-12-31 22:37:48          0         8\n",
       "9       1     919       4  978301368  2000-12-31 22:22:48          0         9"
      ]
     },
     "execution_count": 77,
     "metadata": {},
     "output_type": "execute_result"
    }
   ],
   "source": [
    "tr_dataset = SessionDataset(tr)\n",
    "tr_dataset.df.head(10)"
   ]
  },
  {
   "cell_type": "code",
   "execution_count": 78,
   "id": "a4bbd181",
   "metadata": {},
   "outputs": [
    {
     "data": {
      "text/plain": [
       "array([     0,     40,     53, ..., 794590, 794626, 794654], dtype=int32)"
      ]
     },
     "execution_count": 78,
     "metadata": {},
     "output_type": "execute_result"
    }
   ],
   "source": [
    "tr_dataset.click_offsets"
   ]
  },
  {
   "cell_type": "code",
   "execution_count": 79,
   "id": "89f21b9f",
   "metadata": {},
   "outputs": [
    {
     "data": {
      "text/plain": [
       "array([    0,     1,     2, ..., 21002, 21003, 21004])"
      ]
     },
     "execution_count": 79,
     "metadata": {},
     "output_type": "execute_result"
    }
   ],
   "source": [
    "tr_dataset.session_idx"
   ]
  },
  {
   "cell_type": "code",
   "execution_count": 80,
   "id": "6529bb53",
   "metadata": {},
   "outputs": [],
   "source": [
    "class SessionDataLoader:\n",
    "    \"\"\"Credit to yhs-968/pyGRU4REC.\"\"\"\n",
    "\n",
    "    def __init__(self, dataset: SessionDataset, batch_size=50):\n",
    "        self.dataset = dataset\n",
    "        self.batch_size = batch_size\n",
    "\n",
    "    def __iter__(self):\n",
    "        \"\"\" Returns the iterator for producing session-parallel training mini-batches.\n",
    "        Yields:\n",
    "            input (B,):  Item indices that will be encoded as one-hot vectors later.\n",
    "            target (B,): a Variable that stores the target item indices\n",
    "            masks: Numpy array indicating the positions of the sessions to be terminated\n",
    "        \"\"\"\n",
    "\n",
    "        start, end, mask, last_session, finished = self.initialize()  # initialize 메소드에서 확인해주세요.\n",
    "        \"\"\"\n",
    "        start : Index Where Session Start\n",
    "        end : Index Where Session End\n",
    "        mask : indicator for the sessions to be terminated\n",
    "        \"\"\"\n",
    "\n",
    "        while not finished:\n",
    "            min_len = (end - start).min() - 1  # Shortest Length Among Sessions\n",
    "            for i in range(min_len):\n",
    "                # Build inputs & targets\n",
    "                inp = self.dataset.df['item_idx'].values[start + i]\n",
    "                target = self.dataset.df['item_idx'].values[start + i + 1]\n",
    "                yield inp, target, mask\n",
    "\n",
    "            start, end, mask, last_session, finished = self.update_status(start, end, min_len, last_session, finished)\n",
    "\n",
    "    def initialize(self):\n",
    "        first_iters = np.arange(self.batch_size)    # 첫 배치에 사용할 세션 Index를 가져옵니다.\n",
    "        last_session = self.batch_size - 1    # 마지막으로 다루고 있는 세션 Index를 저장해둡니다.\n",
    "        start = self.dataset.click_offsets[self.dataset.session_idx[first_iters]]       # data 상에서 session이 시작된 위치를 가져옵니다.\n",
    "        end = self.dataset.click_offsets[self.dataset.session_idx[first_iters] + 1]  # session이 끝난 위치 바로 다음 위치를 가져옵니다.\n",
    "        mask = np.array([])   # session의 모든 아이템을 다 돌은 경우 mask에 추가해줄 것입니다.\n",
    "        finished = False         # data를 전부 돌았는지 기록하기 위한 변수입니다.\n",
    "        return start, end, mask, last_session, finished\n",
    "\n",
    "    def update_status(self, start: np.ndarray, end: np.ndarray, min_len: int, last_session: int, finished: bool):  \n",
    "        # 다음 배치 데이터를 생성하기 위해 상태를 update합니다.\n",
    "        \n",
    "        start += min_len   # __iter__에서 min_len 만큼 for문을 돌았으므로 start를 min_len 만큼 더해줍니다.\n",
    "        mask = np.arange(self.batch_size)[(end - start) == 1]  \n",
    "        # end는 다음 세션이 시작되는 위치인데 start와 한 칸 차이난다는 것은 session이 끝났다는 뜻입니다. mask에 기록해줍니다.\n",
    "\n",
    "        for i, idx in enumerate(mask, start=1):  # mask에 추가된 세션 개수만큼 새로운 세션을 돌것입니다.\n",
    "            new_session = last_session + i  \n",
    "            if new_session > self.dataset.session_idx[-1]:  # 만약 새로운 세션이 마지막 세션 index보다 크다면 모든 학습데이터를 돈 것입니다.\n",
    "                finished = True\n",
    "                break\n",
    "            # update the next starting/ending point\n",
    "            start[idx] = self.dataset.click_offsets[self.dataset.session_idx[new_session]]     # 종료된 세션 대신 새로운 세션의 시작점을 기록합니다.\n",
    "            end[idx] = self.dataset.click_offsets[self.dataset.session_idx[new_session] + 1]\n",
    "\n",
    "        last_session += len(mask)  # 마지막 세션의 위치를 기록해둡니다.\n",
    "        return start, end, mask, last_session, finished"
   ]
  },
  {
   "cell_type": "code",
   "execution_count": 81,
   "id": "5177057b",
   "metadata": {},
   "outputs": [
    {
     "data": {
      "text/html": [
       "<div>\n",
       "<style scoped>\n",
       "    .dataframe tbody tr th:only-of-type {\n",
       "        vertical-align: middle;\n",
       "    }\n",
       "\n",
       "    .dataframe tbody tr th {\n",
       "        vertical-align: top;\n",
       "    }\n",
       "\n",
       "    .dataframe thead th {\n",
       "        text-align: right;\n",
       "    }\n",
       "</style>\n",
       "<table border=\"1\" class=\"dataframe\">\n",
       "  <thead>\n",
       "    <tr style=\"text-align: right;\">\n",
       "      <th></th>\n",
       "      <th>UserId</th>\n",
       "      <th>ItemId</th>\n",
       "      <th>Rating</th>\n",
       "      <th>Time</th>\n",
       "      <th>RealTime</th>\n",
       "      <th>SessionId</th>\n",
       "      <th>item_idx</th>\n",
       "    </tr>\n",
       "  </thead>\n",
       "  <tbody>\n",
       "    <tr>\n",
       "      <th>0</th>\n",
       "      <td>1</td>\n",
       "      <td>1193</td>\n",
       "      <td>5</td>\n",
       "      <td>978300760</td>\n",
       "      <td>2000-12-31 22:12:40</td>\n",
       "      <td>0</td>\n",
       "      <td>0</td>\n",
       "    </tr>\n",
       "    <tr>\n",
       "      <th>1</th>\n",
       "      <td>1</td>\n",
       "      <td>661</td>\n",
       "      <td>3</td>\n",
       "      <td>978302109</td>\n",
       "      <td>2000-12-31 22:35:09</td>\n",
       "      <td>0</td>\n",
       "      <td>1</td>\n",
       "    </tr>\n",
       "    <tr>\n",
       "      <th>2</th>\n",
       "      <td>1</td>\n",
       "      <td>914</td>\n",
       "      <td>3</td>\n",
       "      <td>978301968</td>\n",
       "      <td>2000-12-31 22:32:48</td>\n",
       "      <td>0</td>\n",
       "      <td>2</td>\n",
       "    </tr>\n",
       "    <tr>\n",
       "      <th>3</th>\n",
       "      <td>1</td>\n",
       "      <td>3408</td>\n",
       "      <td>4</td>\n",
       "      <td>978300275</td>\n",
       "      <td>2000-12-31 22:04:35</td>\n",
       "      <td>0</td>\n",
       "      <td>3</td>\n",
       "    </tr>\n",
       "    <tr>\n",
       "      <th>4</th>\n",
       "      <td>1</td>\n",
       "      <td>2355</td>\n",
       "      <td>5</td>\n",
       "      <td>978824291</td>\n",
       "      <td>2001-01-06 23:38:11</td>\n",
       "      <td>1</td>\n",
       "      <td>4</td>\n",
       "    </tr>\n",
       "    <tr>\n",
       "      <th>5</th>\n",
       "      <td>1</td>\n",
       "      <td>1197</td>\n",
       "      <td>3</td>\n",
       "      <td>978302268</td>\n",
       "      <td>2000-12-31 22:37:48</td>\n",
       "      <td>0</td>\n",
       "      <td>5</td>\n",
       "    </tr>\n",
       "    <tr>\n",
       "      <th>6</th>\n",
       "      <td>1</td>\n",
       "      <td>1287</td>\n",
       "      <td>5</td>\n",
       "      <td>978302039</td>\n",
       "      <td>2000-12-31 22:33:59</td>\n",
       "      <td>0</td>\n",
       "      <td>6</td>\n",
       "    </tr>\n",
       "    <tr>\n",
       "      <th>7</th>\n",
       "      <td>1</td>\n",
       "      <td>2804</td>\n",
       "      <td>5</td>\n",
       "      <td>978300719</td>\n",
       "      <td>2000-12-31 22:11:59</td>\n",
       "      <td>0</td>\n",
       "      <td>7</td>\n",
       "    </tr>\n",
       "    <tr>\n",
       "      <th>8</th>\n",
       "      <td>1</td>\n",
       "      <td>594</td>\n",
       "      <td>4</td>\n",
       "      <td>978302268</td>\n",
       "      <td>2000-12-31 22:37:48</td>\n",
       "      <td>0</td>\n",
       "      <td>8</td>\n",
       "    </tr>\n",
       "    <tr>\n",
       "      <th>9</th>\n",
       "      <td>1</td>\n",
       "      <td>919</td>\n",
       "      <td>4</td>\n",
       "      <td>978301368</td>\n",
       "      <td>2000-12-31 22:22:48</td>\n",
       "      <td>0</td>\n",
       "      <td>9</td>\n",
       "    </tr>\n",
       "    <tr>\n",
       "      <th>10</th>\n",
       "      <td>1</td>\n",
       "      <td>595</td>\n",
       "      <td>5</td>\n",
       "      <td>978824268</td>\n",
       "      <td>2001-01-06 23:37:48</td>\n",
       "      <td>1</td>\n",
       "      <td>10</td>\n",
       "    </tr>\n",
       "    <tr>\n",
       "      <th>11</th>\n",
       "      <td>1</td>\n",
       "      <td>938</td>\n",
       "      <td>4</td>\n",
       "      <td>978301752</td>\n",
       "      <td>2000-12-31 22:29:12</td>\n",
       "      <td>0</td>\n",
       "      <td>11</td>\n",
       "    </tr>\n",
       "    <tr>\n",
       "      <th>12</th>\n",
       "      <td>1</td>\n",
       "      <td>2398</td>\n",
       "      <td>4</td>\n",
       "      <td>978302281</td>\n",
       "      <td>2000-12-31 22:38:01</td>\n",
       "      <td>0</td>\n",
       "      <td>12</td>\n",
       "    </tr>\n",
       "    <tr>\n",
       "      <th>13</th>\n",
       "      <td>1</td>\n",
       "      <td>2918</td>\n",
       "      <td>4</td>\n",
       "      <td>978302124</td>\n",
       "      <td>2000-12-31 22:35:24</td>\n",
       "      <td>0</td>\n",
       "      <td>13</td>\n",
       "    </tr>\n",
       "    <tr>\n",
       "      <th>14</th>\n",
       "      <td>1</td>\n",
       "      <td>1035</td>\n",
       "      <td>5</td>\n",
       "      <td>978301753</td>\n",
       "      <td>2000-12-31 22:29:13</td>\n",
       "      <td>0</td>\n",
       "      <td>14</td>\n",
       "    </tr>\n",
       "  </tbody>\n",
       "</table>\n",
       "</div>"
      ],
      "text/plain": [
       "    UserId  ItemId  Rating       Time             RealTime  SessionId  \\\n",
       "0        1    1193       5  978300760  2000-12-31 22:12:40          0   \n",
       "1        1     661       3  978302109  2000-12-31 22:35:09          0   \n",
       "2        1     914       3  978301968  2000-12-31 22:32:48          0   \n",
       "3        1    3408       4  978300275  2000-12-31 22:04:35          0   \n",
       "4        1    2355       5  978824291  2001-01-06 23:38:11          1   \n",
       "5        1    1197       3  978302268  2000-12-31 22:37:48          0   \n",
       "6        1    1287       5  978302039  2000-12-31 22:33:59          0   \n",
       "7        1    2804       5  978300719  2000-12-31 22:11:59          0   \n",
       "8        1     594       4  978302268  2000-12-31 22:37:48          0   \n",
       "9        1     919       4  978301368  2000-12-31 22:22:48          0   \n",
       "10       1     595       5  978824268  2001-01-06 23:37:48          1   \n",
       "11       1     938       4  978301752  2000-12-31 22:29:12          0   \n",
       "12       1    2398       4  978302281  2000-12-31 22:38:01          0   \n",
       "13       1    2918       4  978302124  2000-12-31 22:35:24          0   \n",
       "14       1    1035       5  978301753  2000-12-31 22:29:13          0   \n",
       "\n",
       "    item_idx  \n",
       "0          0  \n",
       "1          1  \n",
       "2          2  \n",
       "3          3  \n",
       "4          4  \n",
       "5          5  \n",
       "6          6  \n",
       "7          7  \n",
       "8          8  \n",
       "9          9  \n",
       "10        10  \n",
       "11        11  \n",
       "12        12  \n",
       "13        13  \n",
       "14        14  "
      ]
     },
     "execution_count": 81,
     "metadata": {},
     "output_type": "execute_result"
    }
   ],
   "source": [
    "tr_data_loader = SessionDataLoader(tr_dataset, batch_size=4)\n",
    "tr_dataset.df.head(15)"
   ]
  },
  {
   "cell_type": "code",
   "execution_count": 82,
   "id": "53e15c6c",
   "metadata": {},
   "outputs": [],
   "source": [
    "iter_ex = iter(tr_data_loader)"
   ]
  },
  {
   "cell_type": "code",
   "execution_count": 83,
   "id": "bd71503b",
   "metadata": {},
   "outputs": [
    {
     "name": "stdout",
     "output_type": "stream",
     "text": [
      "Model Input Item Idx are : [  0  40  53 162]\n",
      "Label Item Idx are :       [ 1 41 54 58]\n",
      "Previous Masked Input Idx are []\n"
     ]
    }
   ],
   "source": [
    "inputs, labels, mask =  next(iter_ex)\n",
    "print(f'Model Input Item Idx are : {inputs}')\n",
    "print(f'Label Item Idx are : {\"\":5} {labels}')\n",
    "print(f'Previous Masked Input Idx are {mask}')"
   ]
  },
  {
   "cell_type": "markdown",
   "id": "99d375fe",
   "metadata": {},
   "source": [
    "### Modeling"
   ]
  },
  {
   "cell_type": "code",
   "execution_count": 84,
   "id": "f91b6268",
   "metadata": {},
   "outputs": [],
   "source": [
    "def mrr_k(pred, truth: int, k: int):\n",
    "    indexing = np.where(pred[:k] == truth)[0]\n",
    "    if len(indexing) > 0:\n",
    "        return 1 / (indexing[0] + 1)\n",
    "    else:\n",
    "        return 0\n",
    "\n",
    "\n",
    "def recall_k(pred, truth: int, k: int) -> int:\n",
    "    answer = truth in pred[:k]\n",
    "    return int(answer)"
   ]
  },
  {
   "cell_type": "code",
   "execution_count": 85,
   "id": "1f76de3e",
   "metadata": {},
   "outputs": [],
   "source": [
    "import numpy as np\n",
    "import tensorflow as tf\n",
    "from tensorflow.keras.layers import Input, Dense, Dropout, GRU\n",
    "from tensorflow.keras.losses import categorical_crossentropy\n",
    "from tensorflow.keras.models import Model\n",
    "from tensorflow.keras.optimizers import Adam\n",
    "from tensorflow.keras.utils import to_categorical\n",
    "from tqdm import tqdm"
   ]
  },
  {
   "cell_type": "code",
   "execution_count": 86,
   "id": "edebbd19",
   "metadata": {},
   "outputs": [],
   "source": [
    "def create_model(args):\n",
    "    inputs = Input(batch_shape=(args.batch_size, 1, args.num_items))\n",
    "    gru, _ = GRU(args.hsz, stateful=True, return_state=True, name='GRU')(inputs)\n",
    "    dropout = Dropout(args.drop_rate)(gru)\n",
    "    predictions = Dense(args.num_items, activation='softmax')(dropout)\n",
    "    model = Model(inputs=inputs, outputs=[predictions])\n",
    "    model.compile(loss=categorical_crossentropy, optimizer=Adam(args.lr), metrics=['accuracy'])\n",
    "    model.summary()\n",
    "    return model"
   ]
  },
  {
   "cell_type": "code",
   "execution_count": 87,
   "id": "2856df21",
   "metadata": {},
   "outputs": [],
   "source": [
    "class Args:\n",
    "    def __init__(self, tr, val, test, batch_size, hsz, drop_rate, lr, epochs, k):\n",
    "        self.tr = tr\n",
    "        self.val = val\n",
    "        self.test = test\n",
    "        self.num_items = tr['ItemId'].nunique()\n",
    "        self.num_sessions = tr['SessionId'].nunique()\n",
    "        self.batch_size = batch_size\n",
    "        self.hsz = hsz\n",
    "        self.drop_rate = drop_rate\n",
    "        self.lr = lr\n",
    "        self.epochs = epochs\n",
    "        self.k = k\n",
    "\n",
    "args = Args(tr, val, test, batch_size=64, hsz=50, drop_rate=0.1, lr=0.001, epochs=20, k=20)"
   ]
  },
  {
   "cell_type": "code",
   "execution_count": 88,
   "id": "96db4d93",
   "metadata": {},
   "outputs": [
    {
     "name": "stdout",
     "output_type": "stream",
     "text": [
      "Model: \"model_2\"\n",
      "_________________________________________________________________\n",
      "Layer (type)                 Output Shape              Param #   \n",
      "=================================================================\n",
      "input_3 (InputLayer)         [(64, 1, 3623)]           0         \n",
      "_________________________________________________________________\n",
      "GRU (GRU)                    [(64, 50), (64, 50)]      551250    \n",
      "_________________________________________________________________\n",
      "dropout_2 (Dropout)          (64, 50)                  0         \n",
      "_________________________________________________________________\n",
      "dense_2 (Dense)              (64, 3623)                184773    \n",
      "=================================================================\n",
      "Total params: 736,023\n",
      "Trainable params: 736,023\n",
      "Non-trainable params: 0\n",
      "_________________________________________________________________\n"
     ]
    }
   ],
   "source": [
    "model = create_model(args)"
   ]
  },
  {
   "cell_type": "code",
   "execution_count": 89,
   "id": "4d33d479",
   "metadata": {},
   "outputs": [],
   "source": [
    "# train 셋으로 학습하면서 valid 셋으로 검증합니다.\n",
    "def train_model(model, args):\n",
    "    train_dataset = SessionDataset(args.tr)\n",
    "    train_loader = SessionDataLoader(train_dataset, batch_size=args.batch_size)\n",
    "\n",
    "    for epoch in range(1, args.epochs + 1):\n",
    "        total_step = len(args.tr) - args.tr['SessionId'].nunique()\n",
    "        tr_loader = tqdm(train_loader, total=total_step // args.batch_size, desc='Train', mininterval=1)\n",
    "        for feat, target, mask in tr_loader:\n",
    "            reset_hidden_states(model, mask)  # 종료된 session은 hidden_state를 초기화합니다. 아래 메서드에서 확인해주세요.\n",
    "\n",
    "            input_ohe = to_categorical(feat, num_classes=args.num_items)\n",
    "            input_ohe = np.expand_dims(input_ohe, axis=1)\n",
    "            target_ohe = to_categorical(target, num_classes=args.num_items)\n",
    "\n",
    "            result = model.train_on_batch(input_ohe, target_ohe)\n",
    "            tr_loader.set_postfix(train_loss=result[0], accuracy = result[1])\n",
    "\n",
    "        val_recall, val_mrr = get_metrics(args.val, model, args, args.k)  # valid set에 대해 검증합니다.\n",
    "\n",
    "        print(f\"\\t - Recall@{args.k} epoch {epoch}: {val_recall:3f}\")\n",
    "        print(f\"\\t - MRR@{args.k}    epoch {epoch}: {val_mrr:3f}\\n\")\n",
    "\n",
    "\n",
    "def reset_hidden_states(model, mask):\n",
    "    gru_layer = model.get_layer(name='GRU')  # model에서 gru layer를 가져옵니다.\n",
    "    hidden_states = gru_layer.states[0].numpy()  # gru_layer의 parameter를 가져옵니다.\n",
    "    for elt in mask:  # mask된 인덱스 즉, 종료된 세션의 인덱스를 돌면서\n",
    "        hidden_states[elt, :] = 0  # parameter를 초기화 합니다.\n",
    "    gru_layer.reset_states(states=hidden_states)\n",
    "\n",
    "\n",
    "def get_metrics(data, model, args, k: int):  # valid셋과 test셋을 평가하는 코드입니다. \n",
    "                                             # train과 거의 같지만 mrr, recall을 구하는 라인이 있습니다.\n",
    "    dataset = SessionDataset(data)\n",
    "    loader = SessionDataLoader(dataset, batch_size=args.batch_size)\n",
    "    recall_list, mrr_list = [], []\n",
    "\n",
    "    total_step = len(data) - data['SessionId'].nunique()\n",
    "    for inputs, label, mask in tqdm(loader, total=total_step // args.batch_size, desc='Evaluation', mininterval=1):\n",
    "        reset_hidden_states(model, mask)\n",
    "        input_ohe = to_categorical(inputs, num_classes=args.num_items)\n",
    "        input_ohe = np.expand_dims(input_ohe, axis=1)\n",
    "\n",
    "        pred = model.predict(input_ohe, batch_size=args.batch_size)\n",
    "        pred_arg = tf.argsort(pred, direction='DESCENDING')  # softmax 값이 큰 순서대로 sorting 합니다.\n",
    "\n",
    "        length = len(inputs)\n",
    "        recall_list.extend([recall_k(pred_arg[i], label[i], k) for i in range(length)])\n",
    "        mrr_list.extend([mrr_k(pred_arg[i], label[i], k) for i in range(length)])\n",
    "\n",
    "    recall, mrr = np.mean(recall_list), np.mean(mrr_list)\n",
    "    return recall, mrr"
   ]
  },
  {
   "cell_type": "code",
   "execution_count": 53,
   "id": "ec2d8040",
   "metadata": {},
   "outputs": [
    {
     "name": "stderr",
     "output_type": "stream",
     "text": [
      "Train: 100%|█████████▉| 12029/12088 [02:19<00:00, 86.31it/s, accuracy=0.188, train_loss=4.12] \n",
      "Evaluation:  85%|████████▍ | 432/511 [01:13<00:13,  5.88it/s]\n"
     ]
    },
    {
     "name": "stdout",
     "output_type": "stream",
     "text": [
      "\t - Recall@20 epoch 1: 0.766095\n",
      "\t - MRR@20    epoch 1: 0.378407\n",
      "\n"
     ]
    },
    {
     "name": "stderr",
     "output_type": "stream",
     "text": [
      "Train: 100%|█████████▉| 12029/12088 [02:15<00:00, 88.51it/s, accuracy=0.234, train_loss=3.75] \n",
      "Evaluation:  85%|████████▍ | 432/511 [01:09<00:12,  6.21it/s]\n"
     ]
    },
    {
     "name": "stdout",
     "output_type": "stream",
     "text": [
      "\t - Recall@20 epoch 2: 0.816298\n",
      "\t - MRR@20    epoch 2: 0.408584\n",
      "\n"
     ]
    },
    {
     "name": "stderr",
     "output_type": "stream",
     "text": [
      "Train: 100%|█████████▉| 12029/12088 [02:16<00:00, 87.81it/s, accuracy=0.266, train_loss=3.77] \n",
      "Evaluation:  85%|████████▍ | 432/511 [01:07<00:12,  6.40it/s]\n"
     ]
    },
    {
     "name": "stdout",
     "output_type": "stream",
     "text": [
      "\t - Recall@20 epoch 3: 0.828125\n",
      "\t - MRR@20    epoch 3: 0.416023\n",
      "\n"
     ]
    },
    {
     "name": "stderr",
     "output_type": "stream",
     "text": [
      "Train: 100%|█████████▉| 12029/12088 [02:15<00:00, 88.53it/s, accuracy=0.25, train_loss=3.64]  \n",
      "Evaluation:  85%|████████▍ | 432/511 [01:07<00:12,  6.39it/s]\n"
     ]
    },
    {
     "name": "stdout",
     "output_type": "stream",
     "text": [
      "\t - Recall@20 epoch 4: 0.834201\n",
      "\t - MRR@20    epoch 4: 0.419513\n",
      "\n"
     ]
    },
    {
     "name": "stderr",
     "output_type": "stream",
     "text": [
      "Train: 100%|█████████▉| 12029/12088 [02:15<00:00, 89.05it/s, accuracy=0.328, train_loss=3.57]\n",
      "Evaluation:  85%|████████▍ | 432/511 [01:07<00:12,  6.44it/s]\n"
     ]
    },
    {
     "name": "stdout",
     "output_type": "stream",
     "text": [
      "\t - Recall@20 epoch 5: 0.836769\n",
      "\t - MRR@20    epoch 5: 0.420729\n",
      "\n"
     ]
    },
    {
     "name": "stderr",
     "output_type": "stream",
     "text": [
      "Train: 100%|█████████▉| 12029/12088 [02:15<00:00, 88.48it/s, accuracy=0.25, train_loss=3.61]  \n",
      "Evaluation:  85%|████████▍ | 432/511 [01:06<00:12,  6.47it/s]\n"
     ]
    },
    {
     "name": "stdout",
     "output_type": "stream",
     "text": [
      "\t - Recall@20 epoch 6: 0.838614\n",
      "\t - MRR@20    epoch 6: 0.421926\n",
      "\n"
     ]
    },
    {
     "name": "stderr",
     "output_type": "stream",
     "text": [
      "Train: 100%|█████████▉| 12029/12088 [02:14<00:00, 89.62it/s, accuracy=0.25, train_loss=3.72]  \n",
      "Evaluation:  85%|████████▍ | 432/511 [01:06<00:12,  6.51it/s]\n"
     ]
    },
    {
     "name": "stdout",
     "output_type": "stream",
     "text": [
      "\t - Recall@20 epoch 7: 0.840784\n",
      "\t - MRR@20    epoch 7: 0.422920\n",
      "\n"
     ]
    },
    {
     "name": "stderr",
     "output_type": "stream",
     "text": [
      "Train: 100%|█████████▉| 12029/12088 [02:14<00:00, 89.66it/s, accuracy=0.234, train_loss=3.67]\n",
      "Evaluation:  85%|████████▍ | 432/511 [01:06<00:12,  6.54it/s]\n"
     ]
    },
    {
     "name": "stdout",
     "output_type": "stream",
     "text": [
      "\t - Recall@20 epoch 8: 0.842267\n",
      "\t - MRR@20    epoch 8: 0.423541\n",
      "\n"
     ]
    },
    {
     "name": "stderr",
     "output_type": "stream",
     "text": [
      "Train: 100%|█████████▉| 12029/12088 [02:13<00:00, 90.25it/s, accuracy=0.266, train_loss=3.52]\n",
      "Evaluation:  85%|████████▍ | 432/511 [01:06<00:12,  6.51it/s]\n"
     ]
    },
    {
     "name": "stdout",
     "output_type": "stream",
     "text": [
      "\t - Recall@20 epoch 9: 0.842918\n",
      "\t - MRR@20    epoch 9: 0.423100\n",
      "\n"
     ]
    },
    {
     "name": "stderr",
     "output_type": "stream",
     "text": [
      "Evaluation:  85%|████████▍ | 432/511 [01:05<00:12,  6.55it/s]accuracy=0.281, train_loss=3.2]  \n"
     ]
    },
    {
     "name": "stdout",
     "output_type": "stream",
     "text": [
      "\t - Recall@20 epoch 10: 0.843424\n",
      "\t - MRR@20    epoch 10: 0.424205\n",
      "\n"
     ]
    },
    {
     "name": "stderr",
     "output_type": "stream",
     "text": [
      "Train: 100%|█████████▉| 12029/12088 [02:11<00:00, 91.51it/s, accuracy=0.203, train_loss=3.51]\n",
      "Evaluation:  85%|████████▍ | 432/511 [01:05<00:12,  6.58it/s]\n"
     ]
    },
    {
     "name": "stdout",
     "output_type": "stream",
     "text": [
      "\t - Recall@20 epoch 11: 0.843171\n",
      "\t - MRR@20    epoch 11: 0.423837\n",
      "\n"
     ]
    },
    {
     "name": "stderr",
     "output_type": "stream",
     "text": [
      "Train: 100%|█████████▉| 12029/12088 [02:11<00:00, 91.30it/s, accuracy=0.25, train_loss=3.39] \n",
      "Evaluation:  85%|████████▍ | 432/511 [01:06<00:12,  6.54it/s]\n"
     ]
    },
    {
     "name": "stdout",
     "output_type": "stream",
     "text": [
      "\t - Recall@20 epoch 12: 0.842773\n",
      "\t - MRR@20    epoch 12: 0.424441\n",
      "\n"
     ]
    },
    {
     "name": "stderr",
     "output_type": "stream",
     "text": [
      "Train: 100%|█████████▉| 12029/12088 [02:11<00:00, 91.19it/s, accuracy=0.25, train_loss=3.53]  \n",
      "Evaluation:  85%|████████▍ | 432/511 [01:06<00:12,  6.52it/s]\n"
     ]
    },
    {
     "name": "stdout",
     "output_type": "stream",
     "text": [
      "\t - Recall@20 epoch 13: 0.842014\n",
      "\t - MRR@20    epoch 13: 0.424122\n",
      "\n"
     ]
    },
    {
     "name": "stderr",
     "output_type": "stream",
     "text": [
      "Train: 100%|█████████▉| 12029/12088 [02:12<00:00, 90.99it/s, accuracy=0.266, train_loss=3.59] \n",
      "Evaluation:  85%|████████▍ | 432/511 [01:05<00:12,  6.58it/s]\n"
     ]
    },
    {
     "name": "stdout",
     "output_type": "stream",
     "text": [
      "\t - Recall@20 epoch 14: 0.841833\n",
      "\t - MRR@20    epoch 14: 0.424058\n",
      "\n"
     ]
    },
    {
     "name": "stderr",
     "output_type": "stream",
     "text": [
      "Train: 100%|█████████▉| 12029/12088 [02:12<00:00, 91.11it/s, accuracy=0.297, train_loss=3.58]\n",
      "Evaluation:  85%|████████▍ | 432/511 [01:08<00:12,  6.33it/s]\n"
     ]
    },
    {
     "name": "stdout",
     "output_type": "stream",
     "text": [
      "\t - Recall@20 epoch 15: 0.842629\n",
      "\t - MRR@20    epoch 15: 0.423795\n",
      "\n"
     ]
    },
    {
     "name": "stderr",
     "output_type": "stream",
     "text": [
      "Train: 100%|█████████▉| 12029/12088 [02:14<00:00, 89.70it/s, accuracy=0.25, train_loss=3.52]  \n",
      "Evaluation:  85%|████████▍ | 432/511 [01:05<00:12,  6.55it/s]\n"
     ]
    },
    {
     "name": "stdout",
     "output_type": "stream",
     "text": [
      "\t - Recall@20 epoch 16: 0.841797\n",
      "\t - MRR@20    epoch 16: 0.423495\n",
      "\n"
     ]
    },
    {
     "name": "stderr",
     "output_type": "stream",
     "text": [
      "Evaluation:  85%|████████▍ | 432/511 [01:05<00:12,  6.58it/s]ccuracy=0.297, train_loss=2.36]\n"
     ]
    },
    {
     "name": "stdout",
     "output_type": "stream",
     "text": [
      "\t - Recall@20 epoch 17: 0.842014\n",
      "\t - MRR@20    epoch 17: 0.423141\n",
      "\n"
     ]
    },
    {
     "name": "stderr",
     "output_type": "stream",
     "text": [
      "Train: 100%|█████████▉| 12029/12088 [02:12<00:00, 90.62it/s, accuracy=0.234, train_loss=3.49]\n",
      "Evaluation:  85%|████████▍ | 432/511 [01:06<00:12,  6.53it/s]\n"
     ]
    },
    {
     "name": "stdout",
     "output_type": "stream",
     "text": [
      "\t - Recall@20 epoch 18: 0.841725\n",
      "\t - MRR@20    epoch 18: 0.423767\n",
      "\n"
     ]
    },
    {
     "name": "stderr",
     "output_type": "stream",
     "text": [
      "Train: 100%|█████████▉| 12029/12088 [02:12<00:00, 90.96it/s, accuracy=0.266, train_loss=3.48]\n",
      "Evaluation:  85%|████████▍ | 432/511 [01:06<00:12,  6.50it/s]\n"
     ]
    },
    {
     "name": "stdout",
     "output_type": "stream",
     "text": [
      "\t - Recall@20 epoch 19: 0.841435\n",
      "\t - MRR@20    epoch 19: 0.424472\n",
      "\n"
     ]
    },
    {
     "name": "stderr",
     "output_type": "stream",
     "text": [
      "Train: 100%|█████████▉| 12029/12088 [02:14<00:00, 89.37it/s, accuracy=0.219, train_loss=3.57]\n",
      "Evaluation:  85%|████████▍ | 432/511 [01:06<00:12,  6.47it/s]\n"
     ]
    },
    {
     "name": "stdout",
     "output_type": "stream",
     "text": [
      "\t - Recall@20 epoch 20: 0.840639\n",
      "\t - MRR@20    epoch 20: 0.423698\n",
      "\n"
     ]
    }
   ],
   "source": [
    "# 학습 시간이 다소 오래 소요됩니다. 아래 주석을 풀지 마세요.\n",
    "train_model(model, args)\n",
    "\n",
    "# 학습된 모델을 불러옵니다.\n",
    "model = tf.keras.models.load_model(data_path / 'trained_model')"
   ]
  },
  {
   "cell_type": "code",
   "execution_count": 90,
   "id": "538a88cc",
   "metadata": {},
   "outputs": [
    {
     "name": "stderr",
     "output_type": "stream",
     "text": [
      "Evaluation:  42%|████▏     | 54/128 [00:17<00:23,  3.12it/s]"
     ]
    },
    {
     "name": "stdout",
     "output_type": "stream",
     "text": [
      "\t - Recall@20: 0.006076\n",
      "\t - MRR@20: 0.001268\n",
      "\n"
     ]
    },
    {
     "name": "stderr",
     "output_type": "stream",
     "text": [
      "\n"
     ]
    }
   ],
   "source": [
    "def test_model(model, args, test):\n",
    "    test_recall, test_mrr = get_metrics(test, model, args, 20)\n",
    "    print(f\"\\t - Recall@{args.k}: {test_recall:3f}\")\n",
    "    print(f\"\\t - MRR@{args.k}: {test_mrr:3f}\\n\")\n",
    "\n",
    "test_model(model, args, test)"
   ]
  },
  {
   "cell_type": "markdown",
   "id": "37c82e62",
   "metadata": {},
   "source": [
    "# 회고\n",
    "#### 이번 프로젝트에서 어려웠던 점\n",
    "- 처음에는, 데이터셋에 대해 이해를 잘 하지 못하여서, 어려움을 겪었습니다. 처음에 코드를 열심히 구현해서 짰었는데, 마지막에 type에러가 났었습니다. 하지만 아무리 고쳐보려해도 고쳐보지 못하였습니다.. 그리고 데이터톤 내내 그 오류에대해 고민을 많이하였으나 해결하지 못하였습니다..\n",
    "- 그래서 아예 노드를 새로 만들어 처음부터 하였습니다. 두 번째 만들게 되니, 다소 보이지 않던것들도 많이 보게 되었고, 그 덕에 방향성을 조금 다르게 잡아보기도 하였습니다. 처음에는 SessionId 없이 그냥 UserId로만 하려했으나, 조금 더 세세하게 쪼개고 싶어졌고, 그래서 직접 SessionId를 구현하는 코드를 짜 보았는데, 이 과정에서 상당히 많은 시간을 소비하였지만, 아깝지 않다고 생각할 만큼 코드에 대해 공부했다고 생각하였습니다.\n",
    "- 마지막으로는, test_model 할 때에 일어나는 오류였습니다. 우선 save_path관련 문제라고 생각해서 이름을 바꾸니 마지막에 오류가 나진 않았지만, 뭔가 잘못 실행된 것 같습니다.. 그리고 아무리 save_path를 다시 하여보아도, 다시 실행하게되면 또 다시 오류가 나므로, 완전히 해결하지 못했다고 생각합니다.\n",
    "\n",
    "#### 프로젝트를 진행하면서 알아낸 점 혹은 아직 모호한 점\n",
    "- 이번 프로젝트 기간에 데이터톤이 끼어있었는데, 데이터톤을 겪고 와서인지, 뭔가 하나하나 다 구현해보고싶었습니다. 그러면서 Tensorflow 공식 홈페이지에 나와있는 코드 가이드들을 보는 능력이 조금 길러졌고, 또한 어떤식으로 방향을 잡고 가야할지 고민을 하며 코드를 구현하였습니다.\n",
    "- 사실 AIFFEL 처음 시작하고, 초반에 시도하려했던 열정이었는데, 그렇게하면 노드를 끝내지 못할정도로 시간을 잡아먹는다는 것을 알고 있었기에 다시 깊게 보지 못했던것 같은데, 이번에 좀 욕심이 낫는지 오류 하나하나, 코드하나하나 생각해 가며 하려다보니 결국 다시 제시간에 다 끝내지 못하게 되었습니다.. 그래도 그렇게 스스로 공부하게 되며 코드를 어떤식으로 잡고 짜야하는지에 대한 부분이 방향이 잡힌 것 같아 제 스스로에게 얻는것이 많았습니다.\n",
    "\n",
    "- 모호한 점으로는, 위에 말씀드렸듯, 처음에 왜 type관련 오류가 난건지, batch_size를 바꾸어 보았는데도 마찬가지 였어서 우선 다시 하게되었기에 모호한채로 끝이 났습니다.\n",
    "- 또한, 데이터셋에 대한 이해 입니다. 왜 같은 UserId가, 분, 초 까지 같은 시간내에 여러 item에 평점을 준건지 그 과정이 이해 안됩니다.\n",
    "- 다음으로는 처음에 했을 때 datetime 관련 '67' 같은 KeyError 가 났었는데, 다른부분은 다 잘 인식이 됐는데, 왜 특정 한, 두 부분만 그랬던건지 아직도 알아내지 못했었습니다. 위의 이유가 저를 처음부터 다시 다 짜게 만든 이유였습니다.\n",
    "- 마지막으로는 test_modle에서 났던, save_path 관련 오류입니다. 기존 cloud에 있는 파일들과 곂쳐서 라고는 들었고, 일시적으로 해결은 하였지만, 완전히 해결하지 못한것 같아 속상합니다...\n",
    "\n",
    "#### 루브릭 평가 지표를 맞추기 위해 시도한 것들\n",
    "- 1번 seesion based recommendation 전처리 과정을 잘 하기위해, sessionId를 UserId, 그리고 년/월/일 이 같다면 같은 sessionId로 보았습니다. 이는 적절한 방법이 아닐 수 있지만, 단지 같은 UserId 중에, 분, 초 까지 같은시간내에 여러 item 평점을 준 것을 시작으로 좀 분류 하고싶었습니다. 그렇다고 분 초 단위로 쪼개기에는 연관성이 떨어질 것 같았기에, '일'을 기준으로 쪼개었습니다.\n",
    "- 적절한 epoch를 찾지는 못하였지만, Recall, MRR이 올라가는 것을 확인하고 좀 더 올려보았습니다. 하지만, test에서는 엉망인 경우가 나왔습니다..\n",
    "- 하이퍼 파라미터나 다른 변화를 시도해보지는 못하였습니다 ㅠㅠ 마지막 test_model관련 오류에대해 명백하게 해결하고싶었지만, save_path관련 오류라고 생각해서 뭔가 다름 저 부분에 대해 실험한다고 모델을 여러번 돌려보다가 시간에 쫓기고 말았습니다 ㅠㅠ 하이퍼 파라미터도 꼭 실험 해 보아야겠지만, 다음에 save_path관련 오류를 잘 알아볼 예정입니다.\n",
    "\n",
    "#### 만약에 루브릭 평가 관련 지표를 달성하지 못했을 때 이유에 관한 추정\n",
    "- 안정적이지 못한 epoch, Recall, MRR, 그리고 test_model에서 엉망인 결과를 내보냈기에 그렇다고 생각하며, 그 외에 하이퍼 파라미터를 실험하지 못할정도로 이번 노드 과정이 매우 부족했기 때문이라 생각합니다.\n",
    "\n",
    "#### 자기 다짐\n",
    "- 이번 노드를 하며 데이터톤을 중간에 했었는데, 그 덕에 제 자신이 코드를 바라보는 눈이 조금 향상됐음을 느꼈습니다. 그렇다고 실력이 매우 향상되지는 않았지만, 그리고 속도가 늘어난 것은 아니었지만, 다소 시간이 걸리더라고 코드블럭 하나 하나를 바라보며 해석하고 해결하려는 제 모습에 성장을 느꼈습니다. 하지만 아직 노드 이해를 제대로 하지 못해 여러가지 데이터, 그리고 오류나 모델 개선등을 하지 못하였는데, 이는 제가 아직 공부해야할 것들이 많다는것을 상기시켜주었습니다. 이번 노드에서 답답함을 많이 느꼈지만, 그전에는 보이지 않던곳에서 보이는 답답함 이엇기에, 저에게 큰 성장을 주는 한주와 노드였다고 생각합니다.\n",
    "\n",
    "감사합니다."
   ]
  },
  {
   "cell_type": "code",
   "execution_count": null,
   "id": "95f7e4e6",
   "metadata": {},
   "outputs": [],
   "source": []
  }
 ],
 "metadata": {
  "kernelspec": {
   "display_name": "Python 3 (ipykernel)",
   "language": "python",
   "name": "python3"
  },
  "language_info": {
   "codemirror_mode": {
    "name": "ipython",
    "version": 3
   },
   "file_extension": ".py",
   "mimetype": "text/x-python",
   "name": "python",
   "nbconvert_exporter": "python",
   "pygments_lexer": "ipython3",
   "version": "3.9.7"
  }
 },
 "nbformat": 4,
 "nbformat_minor": 5
}
