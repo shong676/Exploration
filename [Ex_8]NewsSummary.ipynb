{
  "nbformat": 4,
  "nbformat_minor": 0,
  "metadata": {
    "colab": {
      "name": "[Ex_8]NewsSummary.ipynb",
      "provenance": [],
      "collapsed_sections": []
    },
    "kernelspec": {
      "name": "python3",
      "display_name": "Python 3"
    },
    "language_info": {
      "name": "python"
    }
  },
  "cells": [
    {
      "cell_type": "markdown",
      "source": [
        "# Exploration 8"
      ],
      "metadata": {
        "id": "hh0m8dFMtFNm"
      }
    },
    {
      "cell_type": "markdown",
      "source": [
        "## 데이터 불러오기"
      ],
      "metadata": {
        "id": "iu1VcJO6l0Rf"
      }
    },
    {
      "cell_type": "code",
      "source": [
        "import urllib.request\n",
        "import pandas as pd\n",
        "urllib.request.urlretrieve(\"https://raw.githubusercontent.com/sunnysai12345/News_Summary/master/news_summary_more.csv\", filename=\"news_summary_more.csv\")\n",
        "data = pd.read_csv('news_summary_more.csv', encoding='iso-8859-1')"
      ],
      "metadata": {
        "id": "CTCMYCXINhgg"
      },
      "execution_count": 2,
      "outputs": []
    },
    {
      "cell_type": "code",
      "source": [
        "data.sample(10)"
      ],
      "metadata": {
        "colab": {
          "base_uri": "https://localhost:8080/",
          "height": 363
        },
        "id": "13vj6RyWNtFm",
        "outputId": "2070f182-1f8c-4ca1-b28f-b23be35be5a8"
      },
      "execution_count": 3,
      "outputs": [
        {
          "output_type": "execute_result",
          "data": {
            "text/html": [
              "\n",
              "  <div id=\"df-9d886688-bfb4-499f-9cbc-f025c5b2142b\">\n",
              "    <div class=\"colab-df-container\">\n",
              "      <div>\n",
              "<style scoped>\n",
              "    .dataframe tbody tr th:only-of-type {\n",
              "        vertical-align: middle;\n",
              "    }\n",
              "\n",
              "    .dataframe tbody tr th {\n",
              "        vertical-align: top;\n",
              "    }\n",
              "\n",
              "    .dataframe thead th {\n",
              "        text-align: right;\n",
              "    }\n",
              "</style>\n",
              "<table border=\"1\" class=\"dataframe\">\n",
              "  <thead>\n",
              "    <tr style=\"text-align: right;\">\n",
              "      <th></th>\n",
              "      <th>headlines</th>\n",
              "      <th>text</th>\n",
              "    </tr>\n",
              "  </thead>\n",
              "  <tbody>\n",
              "    <tr>\n",
              "      <th>47723</th>\n",
              "      <td>Man stops train from running over injured comm...</td>\n",
              "      <td>A 26-year-old Mumbai man stood on a railway tr...</td>\n",
              "    </tr>\n",
              "    <tr>\n",
              "      <th>25755</th>\n",
              "      <td>Microsoft working on an Android-powered smartp...</td>\n",
              "      <td>Technology major Microsoft is working on a new...</td>\n",
              "    </tr>\n",
              "    <tr>\n",
              "      <th>89464</th>\n",
              "      <td>He was very good boy, my only one: Martyred so...</td>\n",
              "      <td>Indian Army soldier Ummer Fayaz's father Fayaz...</td>\n",
              "    </tr>\n",
              "    <tr>\n",
              "      <th>39259</th>\n",
              "      <td>8 MP forest officials held for killing man, bu...</td>\n",
              "      <td>Eight forest department personnel were arreste...</td>\n",
              "    </tr>\n",
              "    <tr>\n",
              "      <th>17085</th>\n",
              "      <td>Amazon probes claims of employees leaking data...</td>\n",
              "      <td>Amazon is investigating allegations that some ...</td>\n",
              "    </tr>\n",
              "    <tr>\n",
              "      <th>84629</th>\n",
              "      <td>McDonald's ends Olympic Games sponsorship afte...</td>\n",
              "      <td>McDonald's ended its 41-year-old sponsorship o...</td>\n",
              "    </tr>\n",
              "    <tr>\n",
              "      <th>15199</th>\n",
              "      <td>Wife and I went for film same day after cancer...</td>\n",
              "      <td>Actor Ayushmann Khurrana has revealed that aft...</td>\n",
              "    </tr>\n",
              "    <tr>\n",
              "      <th>39648</th>\n",
              "      <td>I'll call govt 'ek paise wali sarkar': Jyotira...</td>\n",
              "      <td>After the government cut the fuel price by 1 p...</td>\n",
              "    </tr>\n",
              "    <tr>\n",
              "      <th>75196</th>\n",
              "      <td>India capable of tackling any security challen...</td>\n",
              "      <td>Prime Minister Narendra Modi on Tuesday said, ...</td>\n",
              "    </tr>\n",
              "    <tr>\n",
              "      <th>81058</th>\n",
              "      <td>Uttarakhand witnessed maximum number of protes...</td>\n",
              "      <td>Uttarakhand had witnessed the maximum number o...</td>\n",
              "    </tr>\n",
              "  </tbody>\n",
              "</table>\n",
              "</div>\n",
              "      <button class=\"colab-df-convert\" onclick=\"convertToInteractive('df-9d886688-bfb4-499f-9cbc-f025c5b2142b')\"\n",
              "              title=\"Convert this dataframe to an interactive table.\"\n",
              "              style=\"display:none;\">\n",
              "        \n",
              "  <svg xmlns=\"http://www.w3.org/2000/svg\" height=\"24px\"viewBox=\"0 0 24 24\"\n",
              "       width=\"24px\">\n",
              "    <path d=\"M0 0h24v24H0V0z\" fill=\"none\"/>\n",
              "    <path d=\"M18.56 5.44l.94 2.06.94-2.06 2.06-.94-2.06-.94-.94-2.06-.94 2.06-2.06.94zm-11 1L8.5 8.5l.94-2.06 2.06-.94-2.06-.94L8.5 2.5l-.94 2.06-2.06.94zm10 10l.94 2.06.94-2.06 2.06-.94-2.06-.94-.94-2.06-.94 2.06-2.06.94z\"/><path d=\"M17.41 7.96l-1.37-1.37c-.4-.4-.92-.59-1.43-.59-.52 0-1.04.2-1.43.59L10.3 9.45l-7.72 7.72c-.78.78-.78 2.05 0 2.83L4 21.41c.39.39.9.59 1.41.59.51 0 1.02-.2 1.41-.59l7.78-7.78 2.81-2.81c.8-.78.8-2.07 0-2.86zM5.41 20L4 18.59l7.72-7.72 1.47 1.35L5.41 20z\"/>\n",
              "  </svg>\n",
              "      </button>\n",
              "      \n",
              "  <style>\n",
              "    .colab-df-container {\n",
              "      display:flex;\n",
              "      flex-wrap:wrap;\n",
              "      gap: 12px;\n",
              "    }\n",
              "\n",
              "    .colab-df-convert {\n",
              "      background-color: #E8F0FE;\n",
              "      border: none;\n",
              "      border-radius: 50%;\n",
              "      cursor: pointer;\n",
              "      display: none;\n",
              "      fill: #1967D2;\n",
              "      height: 32px;\n",
              "      padding: 0 0 0 0;\n",
              "      width: 32px;\n",
              "    }\n",
              "\n",
              "    .colab-df-convert:hover {\n",
              "      background-color: #E2EBFA;\n",
              "      box-shadow: 0px 1px 2px rgba(60, 64, 67, 0.3), 0px 1px 3px 1px rgba(60, 64, 67, 0.15);\n",
              "      fill: #174EA6;\n",
              "    }\n",
              "\n",
              "    [theme=dark] .colab-df-convert {\n",
              "      background-color: #3B4455;\n",
              "      fill: #D2E3FC;\n",
              "    }\n",
              "\n",
              "    [theme=dark] .colab-df-convert:hover {\n",
              "      background-color: #434B5C;\n",
              "      box-shadow: 0px 1px 3px 1px rgba(0, 0, 0, 0.15);\n",
              "      filter: drop-shadow(0px 1px 2px rgba(0, 0, 0, 0.3));\n",
              "      fill: #FFFFFF;\n",
              "    }\n",
              "  </style>\n",
              "\n",
              "      <script>\n",
              "        const buttonEl =\n",
              "          document.querySelector('#df-9d886688-bfb4-499f-9cbc-f025c5b2142b button.colab-df-convert');\n",
              "        buttonEl.style.display =\n",
              "          google.colab.kernel.accessAllowed ? 'block' : 'none';\n",
              "\n",
              "        async function convertToInteractive(key) {\n",
              "          const element = document.querySelector('#df-9d886688-bfb4-499f-9cbc-f025c5b2142b');\n",
              "          const dataTable =\n",
              "            await google.colab.kernel.invokeFunction('convertToInteractive',\n",
              "                                                     [key], {});\n",
              "          if (!dataTable) return;\n",
              "\n",
              "          const docLinkHtml = 'Like what you see? Visit the ' +\n",
              "            '<a target=\"_blank\" href=https://colab.research.google.com/notebooks/data_table.ipynb>data table notebook</a>'\n",
              "            + ' to learn more about interactive tables.';\n",
              "          element.innerHTML = '';\n",
              "          dataTable['output_type'] = 'display_data';\n",
              "          await google.colab.output.renderOutput(dataTable, element);\n",
              "          const docLink = document.createElement('div');\n",
              "          docLink.innerHTML = docLinkHtml;\n",
              "          element.appendChild(docLink);\n",
              "        }\n",
              "      </script>\n",
              "    </div>\n",
              "  </div>\n",
              "  "
            ],
            "text/plain": [
              "                                               headlines                                               text\n",
              "47723  Man stops train from running over injured comm...  A 26-year-old Mumbai man stood on a railway tr...\n",
              "25755  Microsoft working on an Android-powered smartp...  Technology major Microsoft is working on a new...\n",
              "89464  He was very good boy, my only one: Martyred so...  Indian Army soldier Ummer Fayaz's father Fayaz...\n",
              "39259  8 MP forest officials held for killing man, bu...  Eight forest department personnel were arreste...\n",
              "17085  Amazon probes claims of employees leaking data...  Amazon is investigating allegations that some ...\n",
              "84629  McDonald's ends Olympic Games sponsorship afte...  McDonald's ended its 41-year-old sponsorship o...\n",
              "15199  Wife and I went for film same day after cancer...  Actor Ayushmann Khurrana has revealed that aft...\n",
              "39648  I'll call govt 'ek paise wali sarkar': Jyotira...  After the government cut the fuel price by 1 p...\n",
              "75196  India capable of tackling any security challen...  Prime Minister Narendra Modi on Tuesday said, ...\n",
              "81058  Uttarakhand witnessed maximum number of protes...  Uttarakhand had witnessed the maximum number o..."
            ]
          },
          "metadata": {},
          "execution_count": 3
        }
      ]
    },
    {
      "cell_type": "markdown",
      "source": [
        "추상적 요약: text -> 본문\n",
        "             headlines -> 요약된 데이터\n",
        "\n",
        "추출적 요약: text열만 사용"
      ],
      "metadata": {
        "id": "wmq5Z91XOK43"
      }
    },
    {
      "cell_type": "markdown",
      "source": [
        "## 데이터 전처리하기 (추상적 요약)"
      ],
      "metadata": {
        "id": "17qRFveRhtcz"
      }
    },
    {
      "cell_type": "markdown",
      "source": [
        "필요 모듈 및 전처리 모듈"
      ],
      "metadata": {
        "id": "kzemDnEimi1r"
      }
    },
    {
      "cell_type": "code",
      "source": [
        "import nltk\n",
        "nltk.download('stopwords')\n",
        "\n",
        "import numpy as np\n",
        "import pandas as pd\n",
        "import os\n",
        "import re\n",
        "import matplotlib.pyplot as plt\n",
        "from nltk.corpus import stopwords\n",
        "from bs4 import BeautifulSoup \n",
        "from tensorflow.keras.preprocessing.text import Tokenizer \n",
        "from tensorflow.keras.preprocessing.sequence import pad_sequences\n",
        "import urllib.request\n",
        "import warnings\n",
        "warnings.filterwarnings(\"ignore\", category=UserWarning, module='bs4')\n"
      ],
      "metadata": {
        "colab": {
          "base_uri": "https://localhost:8080/"
        },
        "id": "LA1m__h9lqXr",
        "outputId": "4f67edfc-bae7-4f2b-d68c-a9d2c7156f27"
      },
      "execution_count": 4,
      "outputs": [
        {
          "output_type": "stream",
          "name": "stdout",
          "text": [
            "[nltk_data] Downloading package stopwords to /root/nltk_data...\n",
            "[nltk_data]   Package stopwords is already up-to-date!\n"
          ]
        }
      ]
    },
    {
      "cell_type": "code",
      "source": [
        "print('전체 샘플수 :', (len(data)))"
      ],
      "metadata": {
        "colab": {
          "base_uri": "https://localhost:8080/"
        },
        "id": "VdhhP0p6mYb0",
        "outputId": "354edaf7-749f-42c9-ca84-315d270f5973"
      },
      "execution_count": 5,
      "outputs": [
        {
          "output_type": "stream",
          "name": "stdout",
          "text": [
            "전체 샘플수 : 98401\n"
          ]
        }
      ]
    },
    {
      "cell_type": "code",
      "source": [
        "data.head()"
      ],
      "metadata": {
        "colab": {
          "base_uri": "https://localhost:8080/",
          "height": 206
        },
        "id": "Nde41ZTwmoqD",
        "outputId": "6f2593cb-fa99-414c-a9aa-90cdaafe570f"
      },
      "execution_count": 6,
      "outputs": [
        {
          "output_type": "execute_result",
          "data": {
            "text/html": [
              "\n",
              "  <div id=\"df-e3239de7-17e5-4e37-b3cb-8be675f267e7\">\n",
              "    <div class=\"colab-df-container\">\n",
              "      <div>\n",
              "<style scoped>\n",
              "    .dataframe tbody tr th:only-of-type {\n",
              "        vertical-align: middle;\n",
              "    }\n",
              "\n",
              "    .dataframe tbody tr th {\n",
              "        vertical-align: top;\n",
              "    }\n",
              "\n",
              "    .dataframe thead th {\n",
              "        text-align: right;\n",
              "    }\n",
              "</style>\n",
              "<table border=\"1\" class=\"dataframe\">\n",
              "  <thead>\n",
              "    <tr style=\"text-align: right;\">\n",
              "      <th></th>\n",
              "      <th>headlines</th>\n",
              "      <th>text</th>\n",
              "    </tr>\n",
              "  </thead>\n",
              "  <tbody>\n",
              "    <tr>\n",
              "      <th>0</th>\n",
              "      <td>upGrad learner switches to career in ML &amp; Al w...</td>\n",
              "      <td>Saurav Kant, an alumnus of upGrad and IIIT-B's...</td>\n",
              "    </tr>\n",
              "    <tr>\n",
              "      <th>1</th>\n",
              "      <td>Delhi techie wins free food from Swiggy for on...</td>\n",
              "      <td>Kunal Shah's credit card bill payment platform...</td>\n",
              "    </tr>\n",
              "    <tr>\n",
              "      <th>2</th>\n",
              "      <td>New Zealand end Rohit Sharma-led India's 12-ma...</td>\n",
              "      <td>New Zealand defeated India by 8 wickets in the...</td>\n",
              "    </tr>\n",
              "    <tr>\n",
              "      <th>3</th>\n",
              "      <td>Aegon life iTerm insurance plan helps customer...</td>\n",
              "      <td>With Aegon Life iTerm Insurance plan, customer...</td>\n",
              "    </tr>\n",
              "    <tr>\n",
              "      <th>4</th>\n",
              "      <td>Have known Hirani for yrs, what if MeToo claim...</td>\n",
              "      <td>Speaking about the sexual harassment allegatio...</td>\n",
              "    </tr>\n",
              "  </tbody>\n",
              "</table>\n",
              "</div>\n",
              "      <button class=\"colab-df-convert\" onclick=\"convertToInteractive('df-e3239de7-17e5-4e37-b3cb-8be675f267e7')\"\n",
              "              title=\"Convert this dataframe to an interactive table.\"\n",
              "              style=\"display:none;\">\n",
              "        \n",
              "  <svg xmlns=\"http://www.w3.org/2000/svg\" height=\"24px\"viewBox=\"0 0 24 24\"\n",
              "       width=\"24px\">\n",
              "    <path d=\"M0 0h24v24H0V0z\" fill=\"none\"/>\n",
              "    <path d=\"M18.56 5.44l.94 2.06.94-2.06 2.06-.94-2.06-.94-.94-2.06-.94 2.06-2.06.94zm-11 1L8.5 8.5l.94-2.06 2.06-.94-2.06-.94L8.5 2.5l-.94 2.06-2.06.94zm10 10l.94 2.06.94-2.06 2.06-.94-2.06-.94-.94-2.06-.94 2.06-2.06.94z\"/><path d=\"M17.41 7.96l-1.37-1.37c-.4-.4-.92-.59-1.43-.59-.52 0-1.04.2-1.43.59L10.3 9.45l-7.72 7.72c-.78.78-.78 2.05 0 2.83L4 21.41c.39.39.9.59 1.41.59.51 0 1.02-.2 1.41-.59l7.78-7.78 2.81-2.81c.8-.78.8-2.07 0-2.86zM5.41 20L4 18.59l7.72-7.72 1.47 1.35L5.41 20z\"/>\n",
              "  </svg>\n",
              "      </button>\n",
              "      \n",
              "  <style>\n",
              "    .colab-df-container {\n",
              "      display:flex;\n",
              "      flex-wrap:wrap;\n",
              "      gap: 12px;\n",
              "    }\n",
              "\n",
              "    .colab-df-convert {\n",
              "      background-color: #E8F0FE;\n",
              "      border: none;\n",
              "      border-radius: 50%;\n",
              "      cursor: pointer;\n",
              "      display: none;\n",
              "      fill: #1967D2;\n",
              "      height: 32px;\n",
              "      padding: 0 0 0 0;\n",
              "      width: 32px;\n",
              "    }\n",
              "\n",
              "    .colab-df-convert:hover {\n",
              "      background-color: #E2EBFA;\n",
              "      box-shadow: 0px 1px 2px rgba(60, 64, 67, 0.3), 0px 1px 3px 1px rgba(60, 64, 67, 0.15);\n",
              "      fill: #174EA6;\n",
              "    }\n",
              "\n",
              "    [theme=dark] .colab-df-convert {\n",
              "      background-color: #3B4455;\n",
              "      fill: #D2E3FC;\n",
              "    }\n",
              "\n",
              "    [theme=dark] .colab-df-convert:hover {\n",
              "      background-color: #434B5C;\n",
              "      box-shadow: 0px 1px 3px 1px rgba(0, 0, 0, 0.15);\n",
              "      filter: drop-shadow(0px 1px 2px rgba(0, 0, 0, 0.3));\n",
              "      fill: #FFFFFF;\n",
              "    }\n",
              "  </style>\n",
              "\n",
              "      <script>\n",
              "        const buttonEl =\n",
              "          document.querySelector('#df-e3239de7-17e5-4e37-b3cb-8be675f267e7 button.colab-df-convert');\n",
              "        buttonEl.style.display =\n",
              "          google.colab.kernel.accessAllowed ? 'block' : 'none';\n",
              "\n",
              "        async function convertToInteractive(key) {\n",
              "          const element = document.querySelector('#df-e3239de7-17e5-4e37-b3cb-8be675f267e7');\n",
              "          const dataTable =\n",
              "            await google.colab.kernel.invokeFunction('convertToInteractive',\n",
              "                                                     [key], {});\n",
              "          if (!dataTable) return;\n",
              "\n",
              "          const docLinkHtml = 'Like what you see? Visit the ' +\n",
              "            '<a target=\"_blank\" href=https://colab.research.google.com/notebooks/data_table.ipynb>data table notebook</a>'\n",
              "            + ' to learn more about interactive tables.';\n",
              "          element.innerHTML = '';\n",
              "          dataTable['output_type'] = 'display_data';\n",
              "          await google.colab.output.renderOutput(dataTable, element);\n",
              "          const docLink = document.createElement('div');\n",
              "          docLink.innerHTML = docLinkHtml;\n",
              "          element.appendChild(docLink);\n",
              "        }\n",
              "      </script>\n",
              "    </div>\n",
              "  </div>\n",
              "  "
            ],
            "text/plain": [
              "                                           headlines                                               text\n",
              "0  upGrad learner switches to career in ML & Al w...  Saurav Kant, an alumnus of upGrad and IIIT-B's...\n",
              "1  Delhi techie wins free food from Swiggy for on...  Kunal Shah's credit card bill payment platform...\n",
              "2  New Zealand end Rohit Sharma-led India's 12-ma...  New Zealand defeated India by 8 wickets in the...\n",
              "3  Aegon life iTerm insurance plan helps customer...  With Aegon Life iTerm Insurance plan, customer...\n",
              "4  Have known Hirani for yrs, what if MeToo claim...  Speaking about the sexual harassment allegatio..."
            ]
          },
          "metadata": {},
          "execution_count": 6
        }
      ]
    },
    {
      "cell_type": "markdown",
      "source": [
        "### 데이터 정리하기"
      ],
      "metadata": {
        "id": "2n3Dak4LmvnU"
      }
    },
    {
      "cell_type": "markdown",
      "source": [
        "중복샘플, Null값이 존재하는 샘플 제거"
      ],
      "metadata": {
        "id": "kyt_mAC9m0Nj"
      }
    },
    {
      "cell_type": "markdown",
      "source": [
        "중복 확인"
      ],
      "metadata": {
        "id": "4wMvfi4LnfxM"
      }
    },
    {
      "cell_type": "code",
      "source": [
        "print('text 열에서 중복을 배제한 유일한 샘플의 수 :', data['text'].nunique())\n",
        "print('headlines 열에서 중복을 배제한 유일한 샘플의 수 :', data['headlines'].nunique())"
      ],
      "metadata": {
        "colab": {
          "base_uri": "https://localhost:8080/"
        },
        "id": "1Nbtw-b-m5Qj",
        "outputId": "4d286b85-36c5-4913-d461-edfedff07600"
      },
      "execution_count": 7,
      "outputs": [
        {
          "output_type": "stream",
          "name": "stdout",
          "text": [
            "text 열에서 중복을 배제한 유일한 샘플의 수 : 98360\n",
            "headlines 열에서 중복을 배제한 유일한 샘플의 수 : 98280\n"
          ]
        }
      ]
    },
    {
      "cell_type": "markdown",
      "source": [
        "중복 제거"
      ],
      "metadata": {
        "id": "67seV5B1nelT"
      }
    },
    {
      "cell_type": "code",
      "source": [
        "# inplace=True 를 설정하면 DataFrame 타입 값을 return 하지 않고 data 내부를 직접적으로 바꿉니다\n",
        "data.drop_duplicates(subset = ['text'], inplace=True)\n",
        "print('전체 샘플수 :', (len(data)))"
      ],
      "metadata": {
        "colab": {
          "base_uri": "https://localhost:8080/"
        },
        "id": "CW8CPLuunIrz",
        "outputId": "f1dcb68d-7f79-4fe5-8300-9c8d81e39eab"
      },
      "execution_count": 8,
      "outputs": [
        {
          "output_type": "stream",
          "name": "stdout",
          "text": [
            "전체 샘플수 : 98360\n"
          ]
        }
      ]
    },
    {
      "cell_type": "markdown",
      "source": [
        "Null값 확인"
      ],
      "metadata": {
        "id": "2id5Wt6jnYvL"
      }
    },
    {
      "cell_type": "code",
      "source": [
        "print(data.isnull().sum())"
      ],
      "metadata": {
        "colab": {
          "base_uri": "https://localhost:8080/"
        },
        "id": "m80ChjDCnlQC",
        "outputId": "11d65fa3-ffa9-4171-d7fb-04bcae111aef"
      },
      "execution_count": 9,
      "outputs": [
        {
          "output_type": "stream",
          "name": "stdout",
          "text": [
            "headlines    0\n",
            "text         0\n",
            "dtype: int64\n"
          ]
        }
      ]
    },
    {
      "cell_type": "markdown",
      "source": [
        "### 덱스트 정규화의 불용어 제거"
      ],
      "metadata": {
        "id": "dSYb8wRKnvLT"
      }
    },
    {
      "cell_type": "code",
      "source": [
        "# 참고: https://stackoverflow.com/questions/19790188/expanding-english-language-contractions-in-python\n",
        "# 참고 링크를 썼더니 117개, LMS코드블록은 120개가 나와서 LMS 코드 블록을 사용하였다.\n",
        "\n",
        "contractions = {\"ain't\": \"is not\", \"aren't\": \"are not\",\"can't\": \"cannot\", \"'cause\": \"because\", \"could've\": \"could have\", \"couldn't\": \"could not\",\n",
        "                           \"didn't\": \"did not\",  \"doesn't\": \"does not\", \"don't\": \"do not\", \"hadn't\": \"had not\", \"hasn't\": \"has not\", \"haven't\": \"have not\",\n",
        "                           \"he'd\": \"he would\",\"he'll\": \"he will\", \"he's\": \"he is\", \"how'd\": \"how did\", \"how'd'y\": \"how do you\", \"how'll\": \"how will\", \"how's\": \"how is\",\n",
        "                           \"I'd\": \"I would\", \"I'd've\": \"I would have\", \"I'll\": \"I will\", \"I'll've\": \"I will have\",\"I'm\": \"I am\", \"I've\": \"I have\", \"i'd\": \"i would\",\n",
        "                           \"i'd've\": \"i would have\", \"i'll\": \"i will\",  \"i'll've\": \"i will have\",\"i'm\": \"i am\", \"i've\": \"i have\", \"isn't\": \"is not\", \"it'd\": \"it would\",\n",
        "                           \"it'd've\": \"it would have\", \"it'll\": \"it will\", \"it'll've\": \"it will have\",\"it's\": \"it is\", \"let's\": \"let us\", \"ma'am\": \"madam\",\n",
        "                           \"mayn't\": \"may not\", \"might've\": \"might have\",\"mightn't\": \"might not\",\"mightn't've\": \"might not have\", \"must've\": \"must have\",\n",
        "                           \"mustn't\": \"must not\", \"mustn't've\": \"must not have\", \"needn't\": \"need not\", \"needn't've\": \"need not have\",\"o'clock\": \"of the clock\",\n",
        "                           \"oughtn't\": \"ought not\", \"oughtn't've\": \"ought not have\", \"shan't\": \"shall not\", \"sha'n't\": \"shall not\", \"shan't've\": \"shall not have\",\n",
        "                           \"she'd\": \"she would\", \"she'd've\": \"she would have\", \"she'll\": \"she will\", \"she'll've\": \"she will have\", \"she's\": \"she is\",\n",
        "                           \"should've\": \"should have\", \"shouldn't\": \"should not\", \"shouldn't've\": \"should not have\", \"so've\": \"so have\",\"so's\": \"so as\",\n",
        "                           \"this's\": \"this is\",\"that'd\": \"that would\", \"that'd've\": \"that would have\", \"that's\": \"that is\", \"there'd\": \"there would\",\n",
        "                           \"there'd've\": \"there would have\", \"there's\": \"there is\", \"here's\": \"here is\",\"they'd\": \"they would\", \"they'd've\": \"they would have\",\n",
        "                           \"they'll\": \"they will\", \"they'll've\": \"they will have\", \"they're\": \"they are\", \"they've\": \"they have\", \"to've\": \"to have\",\n",
        "                           \"wasn't\": \"was not\", \"we'd\": \"we would\", \"we'd've\": \"we would have\", \"we'll\": \"we will\", \"we'll've\": \"we will have\", \"we're\": \"we are\",\n",
        "                           \"we've\": \"we have\", \"weren't\": \"were not\", \"what'll\": \"what will\", \"what'll've\": \"what will have\", \"what're\": \"what are\",\n",
        "                           \"what's\": \"what is\", \"what've\": \"what have\", \"when's\": \"when is\", \"when've\": \"when have\", \"where'd\": \"where did\", \"where's\": \"where is\",\n",
        "                           \"where've\": \"where have\", \"who'll\": \"who will\", \"who'll've\": \"who will have\", \"who's\": \"who is\", \"who've\": \"who have\",\n",
        "                           \"why's\": \"why is\", \"why've\": \"why have\", \"will've\": \"will have\", \"won't\": \"will not\", \"won't've\": \"will not have\",\n",
        "                           \"would've\": \"would have\", \"wouldn't\": \"would not\", \"wouldn't've\": \"would not have\", \"y'all\": \"you all\",\n",
        "                           \"y'all'd\": \"you all would\",\"y'all'd've\": \"you all would have\",\"y'all're\": \"you all are\",\"y'all've\": \"you all have\",\n",
        "                           \"you'd\": \"you would\", \"you'd've\": \"you would have\", \"you'll\": \"you will\", \"you'll've\": \"you will have\",\n",
        "                           \"you're\": \"you are\", \"you've\": \"you have\"}\n",
        "\n",
        "print(\"정규화 사전의 수: \", len(contractions))"
      ],
      "metadata": {
        "colab": {
          "base_uri": "https://localhost:8080/"
        },
        "id": "YmTTIwLZnx1a",
        "outputId": "7c871a4a-51e5-439d-8444-ea6a29995a69"
      },
      "execution_count": 10,
      "outputs": [
        {
          "output_type": "stream",
          "name": "stdout",
          "text": [
            "정규화 사전의 수:  120\n"
          ]
        }
      ]
    },
    {
      "cell_type": "markdown",
      "source": [
        "### 불용어 제거"
      ],
      "metadata": {
        "id": "BGG0EbxSooRj"
      }
    },
    {
      "cell_type": "code",
      "source": [
        "print('불용어 개수 :', len(stopwords.words('english') ))\n",
        "print(stopwords.words('english'))"
      ],
      "metadata": {
        "colab": {
          "base_uri": "https://localhost:8080/"
        },
        "id": "DS5G0RYLordT",
        "outputId": "f593e26a-8467-44ad-963f-761b3a7ce576"
      },
      "execution_count": 11,
      "outputs": [
        {
          "output_type": "stream",
          "name": "stdout",
          "text": [
            "불용어 개수 : 179\n",
            "['i', 'me', 'my', 'myself', 'we', 'our', 'ours', 'ourselves', 'you', \"you're\", \"you've\", \"you'll\", \"you'd\", 'your', 'yours', 'yourself', 'yourselves', 'he', 'him', 'his', 'himself', 'she', \"she's\", 'her', 'hers', 'herself', 'it', \"it's\", 'its', 'itself', 'they', 'them', 'their', 'theirs', 'themselves', 'what', 'which', 'who', 'whom', 'this', 'that', \"that'll\", 'these', 'those', 'am', 'is', 'are', 'was', 'were', 'be', 'been', 'being', 'have', 'has', 'had', 'having', 'do', 'does', 'did', 'doing', 'a', 'an', 'the', 'and', 'but', 'if', 'or', 'because', 'as', 'until', 'while', 'of', 'at', 'by', 'for', 'with', 'about', 'against', 'between', 'into', 'through', 'during', 'before', 'after', 'above', 'below', 'to', 'from', 'up', 'down', 'in', 'out', 'on', 'off', 'over', 'under', 'again', 'further', 'then', 'once', 'here', 'there', 'when', 'where', 'why', 'how', 'all', 'any', 'both', 'each', 'few', 'more', 'most', 'other', 'some', 'such', 'no', 'nor', 'not', 'only', 'own', 'same', 'so', 'than', 'too', 'very', 's', 't', 'can', 'will', 'just', 'don', \"don't\", 'should', \"should've\", 'now', 'd', 'll', 'm', 'o', 're', 've', 'y', 'ain', 'aren', \"aren't\", 'couldn', \"couldn't\", 'didn', \"didn't\", 'doesn', \"doesn't\", 'hadn', \"hadn't\", 'hasn', \"hasn't\", 'haven', \"haven't\", 'isn', \"isn't\", 'ma', 'mightn', \"mightn't\", 'mustn', \"mustn't\", 'needn', \"needn't\", 'shan', \"shan't\", 'shouldn', \"shouldn't\", 'wasn', \"wasn't\", 'weren', \"weren't\", 'won', \"won't\", 'wouldn', \"wouldn't\"]\n"
          ]
        }
      ]
    },
    {
      "cell_type": "code",
      "source": [
        "# 데이터 전처리 함수\n",
        "def preprocess_sentence(sentence, remove_stopwords=True):\n",
        "    sentence = sentence.lower() # 텍스트 소문자화\n",
        "    sentence = BeautifulSoup(sentence, \"lxml\").text # <br />, <a href = ...> 등의 html 태그 제거\n",
        "    sentence = re.sub(r'\\([^)]*\\)', '', sentence) # 괄호로 닫힌 문자열 (...) 제거 Ex) my husband (and myself!) for => my husband for\n",
        "    sentence = re.sub('\"','', sentence) # 쌍따옴표 \" 제거\n",
        "    sentence = ' '.join([contractions[t] if t in contractions else t for t in sentence.split(\" \")]) # 약어 정규화\n",
        "    sentence = re.sub(r\"'s\\b\",\"\", sentence) # 소유격 제거. Ex) roland's -> roland\n",
        "    sentence = re.sub(\"[^a-zA-Z]\", \" \", sentence) # 영어 외 문자(숫자, 특수문자 등) 공백으로 변환\n",
        "    sentence = re.sub('[m]{2,}', 'mm', sentence) # m이 3개 이상이면 2개로 변경. Ex) ummmmmmm yeah -> umm yeah\n",
        "    \n",
        "    # 불용어 제거 (Text)\n",
        "    if remove_stopwords:\n",
        "        tokens = ' '.join(word for word in sentence.split() if not word in stopwords.words('english') if len(word) > 1)\n",
        "    # 불용어 미제거 (Summary)\n",
        "    else:\n",
        "        tokens = ' '.join(word for word in sentence.split() if len(word) > 1)\n",
        "    return tokens"
      ],
      "metadata": {
        "id": "rxp-AWkTqHtM"
      },
      "execution_count": 12,
      "outputs": []
    },
    {
      "cell_type": "code",
      "source": [
        "temp_text = 'Everything I bought was great, infact I ordered twice and the third ordered was<br />for my mother and father.'\n",
        "temp_headlines = 'Great way to start (or finish) the day!!!'\n",
        "\n",
        "print(\"text: \", preprocess_sentence(temp_text))\n",
        "print(\"headlines:\", preprocess_sentence(temp_headlines, False))  # 불용어를 제거하지 않습니다."
      ],
      "metadata": {
        "colab": {
          "base_uri": "https://localhost:8080/"
        },
        "id": "G3UjANfxqQW7",
        "outputId": "cc3f77d7-7bdd-4687-81c5-5444ffff4ef7"
      },
      "execution_count": 13,
      "outputs": [
        {
          "output_type": "stream",
          "name": "stdout",
          "text": [
            "text:  everything bought great infact ordered twice third ordered wasfor mother father\n",
            "headlines: great way to start the day\n"
          ]
        }
      ]
    },
    {
      "cell_type": "markdown",
      "source": [
        "본격적인 전처리"
      ],
      "metadata": {
        "id": "U7EBYMo2q0P8"
      }
    },
    {
      "cell_type": "code",
      "source": [
        "clean_text = []\n",
        "for s in data['text']:\n",
        "    clean_text.append(preprocess_sentence(s))\n",
        "\n",
        "# 전처리 후 출력\n",
        "print(\"text 전처리 후 결과: \", clean_text[:5])"
      ],
      "metadata": {
        "colab": {
          "base_uri": "https://localhost:8080/"
        },
        "id": "OGA104P3qboy",
        "outputId": "c0501070-f3ec-4dfc-ff09-1ad6193b2006"
      },
      "execution_count": 14,
      "outputs": [
        {
          "output_type": "stream",
          "name": "stdout",
          "text": [
            "text 전처리 후 결과:  ['saurav kant alumnus upgrad iiit pg program machine learning artificial intelligence sr systems engineer infosys almost years work experience program upgrad degree career support helped transition data scientist tech mahindra salary hike upgrad online power learning powered lakh careers', 'kunal shah credit card bill payment platform cred gave users chance win free food swiggy one year pranav kaushik delhi techie bagged reward spending cred coins users get one cred coin per rupee bill paid used avail rewards brands like ixigo bookmyshow ubereats cult fit', 'new zealand defeated india wickets fourth odi hamilton thursday win first match five match odi series india lost international match rohit sharma captaincy consecutive victories dating back march match witnessed india getting seventh lowest total odi cricket history', 'aegon life iterm insurance plan customers enjoy tax benefits premiums paid save taxes plan provides life cover age years also customers options insure critical illnesses disability accidental death benefit rider life cover age years', 'speaking sexual harassment allegations rajkumar hirani sonam kapoor said known hirani many years true metoo movement get derailed metoo movement always believe woman case need reserve judgment added hirani accused assistant worked sanju']\n"
          ]
        }
      ]
    },
    {
      "cell_type": "markdown",
      "source": [
        "headlines 전처리는 불용어 제거를 수용하지 않기 때문에 Flase"
      ],
      "metadata": {
        "id": "5ahV-kgDt0zT"
      }
    },
    {
      "cell_type": "code",
      "source": [
        "clean_summary = []\n",
        "# 전체 headlines 데이터에 대한 전처리 : 5분 이상 시간이 걸릴 수 있습니다. \n",
        "for s in data['headlines']:\n",
        "    clean_summary.append(preprocess_sentence(s, False))\n",
        "\n",
        "print(\"headlines 전처리 후 결과: \", clean_summary[:5])"
      ],
      "metadata": {
        "colab": {
          "base_uri": "https://localhost:8080/"
        },
        "id": "hEakxGObuA_z",
        "outputId": "b5713fd7-4fc7-4c69-d491-ecccd4422a39"
      },
      "execution_count": 15,
      "outputs": [
        {
          "output_type": "stream",
          "name": "stdout",
          "text": [
            "headlines 전처리 후 결과:  ['upgrad learner switches to career in ml al with salary hike', 'delhi techie wins free food from swiggy for one year on cred', 'new zealand end rohit sharma led india match winning streak', 'aegon life iterm insurance plan helps customers save tax', 'have known hirani for yrs what if metoo claims are not true sonam']\n"
          ]
        }
      ]
    },
    {
      "cell_type": "markdown",
      "source": [
        "### 훈련데이터와 테스트 데이터 나누기"
      ],
      "metadata": {
        "id": "66qcmTIHvT6T"
      }
    },
    {
      "cell_type": "markdown",
      "source": [
        "샘플의 최대 길이 정하기"
      ],
      "metadata": {
        "id": "y5pPOobPvXy6"
      }
    },
    {
      "cell_type": "code",
      "source": [
        "# 길이 분포 출력\n",
        "import matplotlib.pyplot as plt\n",
        "\n",
        "text_len = [len(s.split()) for s in data['text']]\n",
        "headlines_len = [len(s.split()) for s in data['headlines']]\n",
        "\n",
        "print('텍스트의 최소 길이 : {}'.format(np.min(text_len)))\n",
        "print('텍스트의 최대 길이 : {}'.format(np.max(text_len)))\n",
        "print('텍스트의 평균 길이 : {}'.format(np.mean(text_len)))\n",
        "print('요약의 최소 길이 : {}'.format(np.min(headlines_len)))\n",
        "print('요약의 최대 길이 : {}'.format(np.max(headlines_len)))\n",
        "print('요약의 평균 길이 : {}'.format(np.mean(headlines_len)))\n",
        "\n",
        "plt.subplot(1,2,1)\n",
        "plt.boxplot(text_len)\n",
        "plt.title('text')\n",
        "plt.subplot(1,2,2)\n",
        "plt.boxplot(headlines_len)\n",
        "plt.title('headlines')\n",
        "plt.tight_layout()\n",
        "plt.show()\n",
        "\n",
        "plt.title('Text')\n",
        "plt.hist(text_len, bins = 40)\n",
        "plt.xlabel('length of samples')\n",
        "plt.ylabel('number of samples')\n",
        "plt.show()\n",
        "\n",
        "plt.title('headlines')\n",
        "plt.hist(headlines_len, bins = 40)\n",
        "plt.xlabel('length of samples')\n",
        "plt.ylabel('number of samples')\n",
        "plt.show()"
      ],
      "metadata": {
        "colab": {
          "base_uri": "https://localhost:8080/",
          "height": 963
        },
        "id": "7XgrLeX3vagi",
        "outputId": "14082eca-df9c-4354-b61f-7ca301bbe7cf"
      },
      "execution_count": 16,
      "outputs": [
        {
          "output_type": "stream",
          "name": "stdout",
          "text": [
            "텍스트의 최소 길이 : 1\n",
            "텍스트의 최대 길이 : 91\n",
            "텍스트의 평균 길이 : 58.23813542090281\n",
            "요약의 최소 길이 : 1\n",
            "요약의 최대 길이 : 18\n",
            "요약의 평균 길이 : 9.553660024400163\n"
          ]
        },
        {
          "output_type": "display_data",
          "data": {
            "image/png": "[encoded data removed]",
            "text/plain": [
              "<Figure size 432x288 with 2 Axes>"
            ]
          },
          "metadata": {
            "needs_background": "light"
          }
        },
        {
          "output_type": "display_data",
          "data": {
            "image/png": "[encoded data removed]",
            "text/plain": [
              "<Figure size 432x288 with 1 Axes>"
            ]
          },
          "metadata": {
            "needs_background": "light"
          }
        },
        {
          "output_type": "display_data",
          "data": {
            "image/png": "[encoded data removed]",
            "text/plain": [
              "<Figure size 432x288 with 1 Axes>"
            ]
          },
          "metadata": {
            "needs_background": "light"
          }
        }
      ]
    },
    {
      "cell_type": "markdown",
      "source": [
        "임의의 길이 정하기"
      ],
      "metadata": {
        "id": "iBBDPH1YwSLq"
      }
    },
    {
      "cell_type": "code",
      "source": [
        "text_max_len = 60\n",
        "headlines_max_len = 11"
      ],
      "metadata": {
        "id": "ErSSn2MowPai"
      },
      "execution_count": 17,
      "outputs": []
    },
    {
      "cell_type": "code",
      "source": [
        "def below_threshold_len(max_len, nested_list):\n",
        "  cnt = 0\n",
        "  for s in nested_list:\n",
        "    if(len(s.split()) <= max_len):\n",
        "        cnt = cnt + 1\n",
        "  print('전체 샘플 중 길이가 %s 이하인 샘플의 비율: %s'%(max_len, (cnt / len(nested_list))))"
      ],
      "metadata": {
        "id": "lmaXiG1wwV9a"
      },
      "execution_count": 18,
      "outputs": []
    },
    {
      "cell_type": "code",
      "source": [
        "below_threshold_len(text_max_len, data['text'])\n",
        "below_threshold_len(headlines_max_len,  data['headlines'])"
      ],
      "metadata": {
        "colab": {
          "base_uri": "https://localhost:8080/"
        },
        "id": "NfR1v8viwnKi",
        "outputId": "cebaa037-e2ff-44e0-ffa0-8fc8521887e8"
      },
      "execution_count": 19,
      "outputs": [
        {
          "output_type": "stream",
          "name": "stdout",
          "text": [
            "전체 샘플 중 길이가 60 이하인 샘플의 비율: 0.997448149654331\n",
            "전체 샘플 중 길이가 11 이하인 샘플의 비율: 0.9121492476616511\n"
          ]
        }
      ]
    },
    {
      "cell_type": "markdown",
      "source": [
        "정해진 길이보다 길면 제외"
      ],
      "metadata": {
        "id": "xISTRRkIx_Bq"
      }
    },
    {
      "cell_type": "code",
      "source": [
        "data = data[data['text'].apply(lambda x: len(x.split()) <= text_max_len)]\n",
        "data = data[data['headlines'].apply(lambda x: len(x.split()) <= headlines_max_len)]\n",
        "print('전체 샘플수 :', (len(data)))"
      ],
      "metadata": {
        "colab": {
          "base_uri": "https://localhost:8080/"
        },
        "id": "2hJ8PfsAx7Ui",
        "outputId": "3b6a0b76-7512-4da0-a784-ff92408c26db"
      },
      "execution_count": 20,
      "outputs": [
        {
          "output_type": "stream",
          "name": "stdout",
          "text": [
            "전체 샘플수 : 89498\n"
          ]
        }
      ]
    },
    {
      "cell_type": "code",
      "source": [
        "# 요약 데이터에는 시작 토큰과 종료 토큰을 추가한다.\n",
        "data['decoder_input'] = data['headlines'].apply(lambda x : 'sostoken '+ x)\n",
        "data['decoder_target'] = data['headlines'].apply(lambda x : x + ' eostoken')\n",
        "data.head()"
      ],
      "metadata": {
        "colab": {
          "base_uri": "https://localhost:8080/",
          "height": 337
        },
        "id": "qMv3040VyIPT",
        "outputId": "a07806cd-eb7b-4b0b-8628-6651a1eae732"
      },
      "execution_count": 21,
      "outputs": [
        {
          "output_type": "execute_result",
          "data": {
            "text/html": [
              "\n",
              "  <div id=\"df-f378f8a5-91c2-4117-a32a-18597a3dfa3b\">\n",
              "    <div class=\"colab-df-container\">\n",
              "      <div>\n",
              "<style scoped>\n",
              "    .dataframe tbody tr th:only-of-type {\n",
              "        vertical-align: middle;\n",
              "    }\n",
              "\n",
              "    .dataframe tbody tr th {\n",
              "        vertical-align: top;\n",
              "    }\n",
              "\n",
              "    .dataframe thead th {\n",
              "        text-align: right;\n",
              "    }\n",
              "</style>\n",
              "<table border=\"1\" class=\"dataframe\">\n",
              "  <thead>\n",
              "    <tr style=\"text-align: right;\">\n",
              "      <th></th>\n",
              "      <th>headlines</th>\n",
              "      <th>text</th>\n",
              "      <th>decoder_input</th>\n",
              "      <th>decoder_target</th>\n",
              "    </tr>\n",
              "  </thead>\n",
              "  <tbody>\n",
              "    <tr>\n",
              "      <th>2</th>\n",
              "      <td>New Zealand end Rohit Sharma-led India's 12-ma...</td>\n",
              "      <td>New Zealand defeated India by 8 wickets in the...</td>\n",
              "      <td>sostoken New Zealand end Rohit Sharma-led Indi...</td>\n",
              "      <td>New Zealand end Rohit Sharma-led India's 12-ma...</td>\n",
              "    </tr>\n",
              "    <tr>\n",
              "      <th>3</th>\n",
              "      <td>Aegon life iTerm insurance plan helps customer...</td>\n",
              "      <td>With Aegon Life iTerm Insurance plan, customer...</td>\n",
              "      <td>sostoken Aegon life iTerm insurance plan helps...</td>\n",
              "      <td>Aegon life iTerm insurance plan helps customer...</td>\n",
              "    </tr>\n",
              "    <tr>\n",
              "      <th>5</th>\n",
              "      <td>Rahat Fateh Ali Khan denies getting notice for...</td>\n",
              "      <td>Pakistani singer Rahat Fateh Ali Khan has deni...</td>\n",
              "      <td>sostoken Rahat Fateh Ali Khan denies getting n...</td>\n",
              "      <td>Rahat Fateh Ali Khan denies getting notice for...</td>\n",
              "    </tr>\n",
              "    <tr>\n",
              "      <th>9</th>\n",
              "      <td>Cong wins Ramgarh bypoll in Rajasthan, takes t...</td>\n",
              "      <td>Congress candidate Shafia Zubair won the Ramga...</td>\n",
              "      <td>sostoken Cong wins Ramgarh bypoll in Rajasthan...</td>\n",
              "      <td>Cong wins Ramgarh bypoll in Rajasthan, takes t...</td>\n",
              "    </tr>\n",
              "    <tr>\n",
              "      <th>10</th>\n",
              "      <td>UP cousins fed human excreta for friendship wi...</td>\n",
              "      <td>Two minor cousins in Uttar Pradesh's Gorakhpur...</td>\n",
              "      <td>sostoken UP cousins fed human excreta for frie...</td>\n",
              "      <td>UP cousins fed human excreta for friendship wi...</td>\n",
              "    </tr>\n",
              "  </tbody>\n",
              "</table>\n",
              "</div>\n",
              "      <button class=\"colab-df-convert\" onclick=\"convertToInteractive('df-f378f8a5-91c2-4117-a32a-18597a3dfa3b')\"\n",
              "              title=\"Convert this dataframe to an interactive table.\"\n",
              "              style=\"display:none;\">\n",
              "        \n",
              "  <svg xmlns=\"http://www.w3.org/2000/svg\" height=\"24px\"viewBox=\"0 0 24 24\"\n",
              "       width=\"24px\">\n",
              "    <path d=\"M0 0h24v24H0V0z\" fill=\"none\"/>\n",
              "    <path d=\"M18.56 5.44l.94 2.06.94-2.06 2.06-.94-2.06-.94-.94-2.06-.94 2.06-2.06.94zm-11 1L8.5 8.5l.94-2.06 2.06-.94-2.06-.94L8.5 2.5l-.94 2.06-2.06.94zm10 10l.94 2.06.94-2.06 2.06-.94-2.06-.94-.94-2.06-.94 2.06-2.06.94z\"/><path d=\"M17.41 7.96l-1.37-1.37c-.4-.4-.92-.59-1.43-.59-.52 0-1.04.2-1.43.59L10.3 9.45l-7.72 7.72c-.78.78-.78 2.05 0 2.83L4 21.41c.39.39.9.59 1.41.59.51 0 1.02-.2 1.41-.59l7.78-7.78 2.81-2.81c.8-.78.8-2.07 0-2.86zM5.41 20L4 18.59l7.72-7.72 1.47 1.35L5.41 20z\"/>\n",
              "  </svg>\n",
              "      </button>\n",
              "      \n",
              "  <style>\n",
              "    .colab-df-container {\n",
              "      display:flex;\n",
              "      flex-wrap:wrap;\n",
              "      gap: 12px;\n",
              "    }\n",
              "\n",
              "    .colab-df-convert {\n",
              "      background-color: #E8F0FE;\n",
              "      border: none;\n",
              "      border-radius: 50%;\n",
              "      cursor: pointer;\n",
              "      display: none;\n",
              "      fill: #1967D2;\n",
              "      height: 32px;\n",
              "      padding: 0 0 0 0;\n",
              "      width: 32px;\n",
              "    }\n",
              "\n",
              "    .colab-df-convert:hover {\n",
              "      background-color: #E2EBFA;\n",
              "      box-shadow: 0px 1px 2px rgba(60, 64, 67, 0.3), 0px 1px 3px 1px rgba(60, 64, 67, 0.15);\n",
              "      fill: #174EA6;\n",
              "    }\n",
              "\n",
              "    [theme=dark] .colab-df-convert {\n",
              "      background-color: #3B4455;\n",
              "      fill: #D2E3FC;\n",
              "    }\n",
              "\n",
              "    [theme=dark] .colab-df-convert:hover {\n",
              "      background-color: #434B5C;\n",
              "      box-shadow: 0px 1px 3px 1px rgba(0, 0, 0, 0.15);\n",
              "      filter: drop-shadow(0px 1px 2px rgba(0, 0, 0, 0.3));\n",
              "      fill: #FFFFFF;\n",
              "    }\n",
              "  </style>\n",
              "\n",
              "      <script>\n",
              "        const buttonEl =\n",
              "          document.querySelector('#df-f378f8a5-91c2-4117-a32a-18597a3dfa3b button.colab-df-convert');\n",
              "        buttonEl.style.display =\n",
              "          google.colab.kernel.accessAllowed ? 'block' : 'none';\n",
              "\n",
              "        async function convertToInteractive(key) {\n",
              "          const element = document.querySelector('#df-f378f8a5-91c2-4117-a32a-18597a3dfa3b');\n",
              "          const dataTable =\n",
              "            await google.colab.kernel.invokeFunction('convertToInteractive',\n",
              "                                                     [key], {});\n",
              "          if (!dataTable) return;\n",
              "\n",
              "          const docLinkHtml = 'Like what you see? Visit the ' +\n",
              "            '<a target=\"_blank\" href=https://colab.research.google.com/notebooks/data_table.ipynb>data table notebook</a>'\n",
              "            + ' to learn more about interactive tables.';\n",
              "          element.innerHTML = '';\n",
              "          dataTable['output_type'] = 'display_data';\n",
              "          await google.colab.output.renderOutput(dataTable, element);\n",
              "          const docLink = document.createElement('div');\n",
              "          docLink.innerHTML = docLinkHtml;\n",
              "          element.appendChild(docLink);\n",
              "        }\n",
              "      </script>\n",
              "    </div>\n",
              "  </div>\n",
              "  "
            ],
            "text/plain": [
              "                                            headlines  ...                                     decoder_target\n",
              "2   New Zealand end Rohit Sharma-led India's 12-ma...  ...  New Zealand end Rohit Sharma-led India's 12-ma...\n",
              "3   Aegon life iTerm insurance plan helps customer...  ...  Aegon life iTerm insurance plan helps customer...\n",
              "5   Rahat Fateh Ali Khan denies getting notice for...  ...  Rahat Fateh Ali Khan denies getting notice for...\n",
              "9   Cong wins Ramgarh bypoll in Rajasthan, takes t...  ...  Cong wins Ramgarh bypoll in Rajasthan, takes t...\n",
              "10  UP cousins fed human excreta for friendship wi...  ...  UP cousins fed human excreta for friendship wi...\n",
              "\n",
              "[5 rows x 4 columns]"
            ]
          },
          "metadata": {},
          "execution_count": 21
        }
      ]
    },
    {
      "cell_type": "code",
      "source": [
        "encoder_input = np.array(data['text']) # 인코더의 입력\n",
        "decoder_input = np.array(data['decoder_input']) # 디코더의 입력\n",
        "decoder_target = np.array(data['decoder_target']) # 디코더의 레이블"
      ],
      "metadata": {
        "id": "h_m_HAK9yXzy"
      },
      "execution_count": 22,
      "outputs": []
    },
    {
      "cell_type": "markdown",
      "source": [
        "이제 훈련데이터/테스트데이터 분리"
      ],
      "metadata": {
        "id": "t85ptGnKydGy"
      }
    },
    {
      "cell_type": "markdown",
      "source": [
        "encoder_input이 크기와 형태가 같은 순서가 섞인 정수 시퀀스 만들기"
      ],
      "metadata": {
        "id": "coGmfPv4yoa5"
      }
    },
    {
      "cell_type": "code",
      "source": [
        "indices = np.arange(encoder_input.shape[0])\n",
        "np.random.shuffle(indices)\n",
        "print(indices)"
      ],
      "metadata": {
        "colab": {
          "base_uri": "https://localhost:8080/"
        },
        "id": "kHVttQxrygYi",
        "outputId": "934af00b-dbf1-489e-de64-7343d04ae836"
      },
      "execution_count": 23,
      "outputs": [
        {
          "output_type": "stream",
          "name": "stdout",
          "text": [
            "[15432 47546 10271 ... 62192  9734 61136]\n"
          ]
        }
      ]
    },
    {
      "cell_type": "markdown",
      "source": [
        "시퀀스를 이용하여 다시 데이터의 샘플 순서를 정의해주어 잘 섞인 샘플을 만든다"
      ],
      "metadata": {
        "id": "Mhzj2islywua"
      }
    },
    {
      "cell_type": "code",
      "source": [
        "encoder_input = encoder_input[indices]\n",
        "decoder_input = decoder_input[indices]\n",
        "decoder_target = decoder_target[indices]"
      ],
      "metadata": {
        "id": "xeHZ64Oly5qq"
      },
      "execution_count": 24,
      "outputs": []
    },
    {
      "cell_type": "markdown",
      "source": [
        "전체 데이터에 0.2를 곱하여 테스스 테이터의 크기를 정의해준다."
      ],
      "metadata": {
        "id": "jIKOcFdPzMZp"
      }
    },
    {
      "cell_type": "code",
      "source": [
        "n_of_val = int(len(encoder_input)*0.2)\n",
        "print('테스트 데이터의 수 :', n_of_val)"
      ],
      "metadata": {
        "colab": {
          "base_uri": "https://localhost:8080/"
        },
        "id": "MwqciRd8zK6Z",
        "outputId": "5d550700-4e55-4675-aa41-912f9e8aa909"
      },
      "execution_count": 25,
      "outputs": [
        {
          "output_type": "stream",
          "name": "stdout",
          "text": [
            "테스트 데이터의 수 : 17899\n"
          ]
        }
      ]
    },
    {
      "cell_type": "markdown",
      "source": [
        "정의한 개수를 이용해 전체 데이터를 양분"
      ],
      "metadata": {
        "id": "G6q_AuKgzllC"
      }
    },
    {
      "cell_type": "code",
      "source": [
        "encoder_input_train = encoder_input[:-n_of_val]\n",
        "decoder_input_train = decoder_input[:-n_of_val]\n",
        "decoder_target_train = decoder_target[:-n_of_val]\n",
        "\n",
        "encoder_input_test = encoder_input[-n_of_val:]\n",
        "decoder_input_test = decoder_input[-n_of_val:]\n",
        "decoder_target_test = decoder_target[-n_of_val:]\n",
        "\n",
        "print('훈련 데이터의 개수 :', len(encoder_input_train))\n",
        "print('훈련 레이블의 개수 :', len(decoder_input_train))\n",
        "print('테스트 데이터의 개수 :', len(encoder_input_test))\n",
        "print('테스트 레이블의 개수 :', len(decoder_input_test))"
      ],
      "metadata": {
        "colab": {
          "base_uri": "https://localhost:8080/"
        },
        "id": "4zCo0FgZzrMj",
        "outputId": "b957b260-d5fb-427c-e767-9a89b890460d"
      },
      "execution_count": 26,
      "outputs": [
        {
          "output_type": "stream",
          "name": "stdout",
          "text": [
            "훈련 데이터의 개수 : 71599\n",
            "훈련 레이블의 개수 : 71599\n",
            "테스트 데이터의 개수 : 17899\n",
            "테스트 레이블의 개수 : 17899\n"
          ]
        }
      ]
    },
    {
      "cell_type": "markdown",
      "source": [
        "### 정수 인코딩"
      ],
      "metadata": {
        "id": "m0psgvvZzwRa"
      }
    },
    {
      "cell_type": "markdown",
      "source": [
        "단어 집합(vocabulary)"
      ],
      "metadata": {
        "id": "hPF1rVYVzzez"
      }
    },
    {
      "cell_type": "code",
      "source": [
        "src_tokenizer = Tokenizer() # 토크나이저 정의\n",
        "src_tokenizer.fit_on_texts(encoder_input_train) # 입력된 데이터로부터 단어 집합 생성"
      ],
      "metadata": {
        "id": "ASYbUZniz5aL"
      },
      "execution_count": 27,
      "outputs": []
    },
    {
      "cell_type": "markdown",
      "source": [
        "등장 빈도수 확인"
      ],
      "metadata": {
        "id": "YNxg3zak0GAT"
      }
    },
    {
      "cell_type": "code",
      "source": [
        "threshold = 9\n",
        "total_cnt = len(src_tokenizer.word_index) # 단어의 수\n",
        "rare_cnt = 0 # 등장 빈도수가 threshold보다 작은 단어의 개수를 카운트\n",
        "total_freq = 0 # 훈련 데이터의 전체 단어 빈도수 총 합\n",
        "rare_freq = 0 # 등장 빈도수가 threshold보다 작은 단어의 등장 빈도수의 총 합\n",
        "\n",
        "# 단어와 빈도수의 쌍(pair)을 key와 value로 받는다.\n",
        "for key, value in src_tokenizer.word_counts.items():\n",
        "    total_freq = total_freq + value\n",
        "\n",
        "    # 단어의 등장 빈도수가 threshold보다 작으면\n",
        "    if(value < threshold):\n",
        "        rare_cnt = rare_cnt + 1\n",
        "        rare_freq = rare_freq + value\n",
        "\n",
        "print('단어 집합(vocabulary)의 크기 :', total_cnt)\n",
        "print('등장 빈도가 %s번 이하인 희귀 단어의 수: %s'%(threshold - 1, rare_cnt))\n",
        "print('단어 집합에서 희귀 단어를 제외시킬 경우의 단어 집합의 크기 %s'%(total_cnt - rare_cnt))\n",
        "print(\"단어 집합에서 희귀 단어의 비율:\", (rare_cnt / total_cnt)*100)\n",
        "print(\"전체 등장 빈도에서 희귀 단어 등장 빈도 비율:\", (rare_freq / total_freq)*100)"
      ],
      "metadata": {
        "colab": {
          "base_uri": "https://localhost:8080/"
        },
        "id": "6EmPZGfR0IpC",
        "outputId": "e377d469-8478-46fc-a99c-6056d85cb66e"
      },
      "execution_count": 28,
      "outputs": [
        {
          "output_type": "stream",
          "name": "stdout",
          "text": [
            "단어 집합(vocabulary)의 크기 : 87979\n",
            "등장 빈도가 8번 이하인 희귀 단어의 수: 67298\n",
            "단어 집합에서 희귀 단어를 제외시킬 경우의 단어 집합의 크기 20681\n",
            "단어 집합에서 희귀 단어의 비율: 76.49325407199446\n",
            "전체 등장 빈도에서 희귀 단어 등장 빈도 비율: 3.4428764150390054\n"
          ]
        }
      ]
    },
    {
      "cell_type": "markdown",
      "source": [
        "- threshold를 7,8,9,10,11 각각 넣어보아도, 등장빈도 비율이 4% 내외였습니다. 저 높은게 좋을지 낮은게 좋을지는 잘 모르겠지만 최대한 LMS 노드와 비율을 맞춰주는것이 정확도를 높혀줄 것 같아 약 3.5%인 threshold = 9 를 텍하였습니다"
      ],
      "metadata": {
        "id": "Px418uJW0yRi"
      }
    },
    {
      "cell_type": "markdown",
      "source": [
        "단어집합에서 희귀단어를 제외할 경우 집합의 크기는 약 20000개 이므로, 20000으로 제한."
      ],
      "metadata": {
        "id": "WQXoFNx31KyK"
      }
    },
    {
      "cell_type": "code",
      "source": [
        "src_vocab = 20000\n",
        "src_tokenizer = Tokenizer(num_words=src_vocab) # 단어 집합의 크기를 20,000으로 제한\n",
        "src_tokenizer.fit_on_texts(encoder_input_train) # 단어 집합 재생성"
      ],
      "metadata": {
        "id": "cYiEENtW0s-r"
      },
      "execution_count": 29,
      "outputs": []
    },
    {
      "cell_type": "markdown",
      "source": [
        "이제 20000이 넘는 숫자들은 인코딩 후에 데이터가 존재하지 않는다."
      ],
      "metadata": {
        "id": "oWvuK29m1gYM"
      }
    },
    {
      "cell_type": "code",
      "source": [
        "# 텍스트 시퀀스를 정수 시퀀스로 변환\n",
        "encoder_input_train = src_tokenizer.texts_to_sequences(encoder_input_train) \n",
        "encoder_input_test = src_tokenizer.texts_to_sequences(encoder_input_test)\n",
        "\n",
        "# 잘 진행되었는지 샘플 출력\n",
        "print(encoder_input_train[:3])"
      ],
      "metadata": {
        "colab": {
          "base_uri": "https://localhost:8080/"
        },
        "id": "g8uH9uIh1d5K",
        "outputId": "6314bd36-e258-4839-bc2d-b0776a2fb5fc"
      },
      "execution_count": 30,
      "outputs": [
        {
          "output_type": "stream",
          "name": "stdout",
          "text": [
            "[[36, 244, 67, 51, 6, 517, 51, 1007, 1845, 452, 7, 1603, 755, 6, 326, 3, 709, 4, 3198, 7, 11902, 107, 2, 1342, 9, 43, 2697, 1, 1845, 10, 1, 417, 6221, 535, 8, 2728, 3, 1322, 403, 2687, 82, 21, 2677, 29, 3491, 837, 55, 874, 1, 661, 51, 2, 387, 5, 80, 19480, 9528, 1007, 1845, 2790, 4, 378, 1388], [3, 113, 3, 4905, 18471, 128, 9, 1715, 1031, 4222, 2751, 4789, 1862, 2422, 79, 32, 3, 796, 388, 133, 128, 2375, 331, 1, 293, 7, 206, 184, 375, 479, 45, 26, 29, 324, 3843, 7, 1715, 1539, 487, 567, 21, 12, 248, 333, 11, 131, 34, 2751, 1862, 4, 215, 1, 405, 6, 16104, 32, 7, 310, 15, 142], [151, 3899, 273, 8, 10, 11, 44, 2791, 92, 685, 1, 2231, 11, 44, 14888, 16, 1, 90, 203, 45, 219, 3456, 2231, 3900, 2628, 45, 4638, 752, 21, 2960, 45, 576, 157, 45, 489, 1195, 7, 515, 92, 138, 16105, 89, 1195, 82, 265, 45, 462, 92, 104, 45, 462, 38, 1401, 44, 33]]\n"
          ]
        }
      ]
    },
    {
      "cell_type": "markdown",
      "source": [
        "토크나이저를 사용하여 `decoder_input_train`을 입력으로 전체 단어집합과 각단어의 빈도수를 계산한다."
      ],
      "metadata": {
        "id": "-ZgJBjzV1oEy"
      }
    },
    {
      "cell_type": "code",
      "source": [
        "tar_tokenizer = Tokenizer()\n",
        "tar_tokenizer.fit_on_texts(decoder_input_train)"
      ],
      "metadata": {
        "id": "DU3Z8UI810ly"
      },
      "execution_count": 31,
      "outputs": []
    },
    {
      "cell_type": "markdown",
      "source": [
        "등장 빈도수 비중 확인하기"
      ],
      "metadata": {
        "id": "YhcmFOEM16vB"
      }
    },
    {
      "cell_type": "code",
      "source": [
        "threshold = 5\n",
        "total_cnt = len(tar_tokenizer.word_index) # 단어의 수\n",
        "rare_cnt = 0 # 등장 빈도수가 threshold보다 작은 단어의 개수를 카운트\n",
        "total_freq = 0 # 훈련 데이터의 전체 단어 빈도수 총 합\n",
        "rare_freq = 0 # 등장 빈도수가 threshold보다 작은 단어의 등장 빈도수의 총 합\n",
        "\n",
        "# 단어와 빈도수의 쌍(pair)을 key와 value로 받는다.\n",
        "for key, value in tar_tokenizer.word_counts.items():\n",
        "    total_freq = total_freq + value\n",
        "\n",
        "    # 단어의 등장 빈도수가 threshold보다 작으면\n",
        "    if(value < threshold):\n",
        "        rare_cnt = rare_cnt + 1\n",
        "        rare_freq = rare_freq + value\n",
        "\n",
        "print('단어 집합(vocabulary)의 크기 :', total_cnt)\n",
        "print('등장 빈도가 %s번 이하인 희귀 단어의 수: %s'%(threshold - 1, rare_cnt))\n",
        "print('단어 집합에서 희귀 단어를 제외시킬 경우의 단어 집합의 크기 %s'%(total_cnt - rare_cnt))\n",
        "print(\"단어 집합에서 희귀 단어의 비율:\", (rare_cnt / total_cnt)*100)\n",
        "print(\"전체 등장 빈도에서 희귀 단어 등장 빈도 비율:\", (rare_freq / total_freq)*100)"
      ],
      "metadata": {
        "colab": {
          "base_uri": "https://localhost:8080/"
        },
        "id": "CtGo5Pcm1_UC",
        "outputId": "9c8d4a7c-1364-41b9-a8ea-df0d07da8d45"
      },
      "execution_count": 32,
      "outputs": [
        {
          "output_type": "stream",
          "name": "stdout",
          "text": [
            "단어 집합(vocabulary)의 크기 : 39491\n",
            "등장 빈도가 4번 이하인 희귀 단어의 수: 27290\n",
            "단어 집합에서 희귀 단어를 제외시킬 경우의 단어 집합의 크기 12201\n",
            "단어 집합에서 희귀 단어의 비율: 69.10435289053201\n",
            "전체 등장 빈도에서 희귀 단어 등장 빈도 비율: 5.835999910048508\n"
          ]
        }
      ]
    },
    {
      "cell_type": "markdown",
      "source": [
        "- threshold rk 5일 경우가 집합에서 약 69%이지만, 등장 빈도는 약 5.8 밖에 되지 않으므로 제거. 12000 단어집합 크기로 제한합니다."
      ],
      "metadata": {
        "id": "-O3oM6X12UB8"
      }
    },
    {
      "cell_type": "code",
      "source": [
        "tar_vocab = 12000\n",
        "tar_tokenizer = Tokenizer(num_words=tar_vocab) \n",
        "tar_tokenizer.fit_on_texts(decoder_input_train)\n",
        "tar_tokenizer.fit_on_texts(decoder_target_train)\n",
        "\n",
        "# 텍스트 시퀀스를 정수 시퀀스로 변환\n",
        "decoder_input_train = tar_tokenizer.texts_to_sequences(decoder_input_train) \n",
        "decoder_target_train = tar_tokenizer.texts_to_sequences(decoder_target_train)\n",
        "decoder_input_test = tar_tokenizer.texts_to_sequences(decoder_input_test)\n",
        "decoder_target_test = tar_tokenizer.texts_to_sequences(decoder_target_test)\n",
        "\n",
        "# 잘 변환되었는지 확인\n",
        "print('input')\n",
        "print('input ',decoder_input_train[:5])\n",
        "print('target')\n",
        "print('decoder ',decoder_target_train[:5])"
      ],
      "metadata": {
        "colab": {
          "base_uri": "https://localhost:8080/"
        },
        "id": "NLPyleHQ2mwR",
        "outputId": "e2db81ec-d81a-4687-e98b-22f206a0d6d9"
      },
      "execution_count": 33,
      "outputs": [
        {
          "output_type": "stream",
          "name": "stdout",
          "text": [
            "input\n",
            "input  [[1, 116, 47, 367, 948, 1269, 7, 1463, 569, 7, 6489, 79], [1, 276, 3679, 7, 34, 2730, 1679, 34, 667], [1, 1587, 105, 1116, 18, 2412, 32, 2118, 8, 18, 56, 2463], [1, 69, 45, 449, 4974, 1543, 73, 4, 2119], [1, 1680, 400, 44, 78, 6, 5370, 3, 1288, 2228, 1038]]\n",
            "target\n",
            "decoder  [[116, 47, 367, 948, 1269, 7, 1463, 569, 7, 6489, 79, 2], [276, 3679, 7, 34, 2730, 1679, 34, 667, 2], [1587, 105, 1116, 18, 2412, 32, 2118, 8, 18, 56, 2463, 2], [69, 45, 449, 4974, 1543, 73, 4, 2119, 2], [1680, 400, 44, 78, 6, 5370, 3, 1288, 2228, 1038, 2]]\n"
          ]
        }
      ]
    },
    {
      "cell_type": "markdown",
      "source": [
        "패딩 전, 요약 길이가 0인 값 찾기"
      ],
      "metadata": {
        "id": "hhbySFHg2wrr"
      }
    },
    {
      "cell_type": "code",
      "source": [
        "drop_train = [index for index, sentence in enumerate(decoder_input_train) if len(sentence) == 1]\n",
        "drop_test = [index for index, sentence in enumerate(decoder_input_test) if len(sentence) == 1]\n",
        "\n",
        "print('삭제할 훈련 데이터의 개수 :', len(drop_train))\n",
        "print('삭제할 테스트 데이터의 개수 :', len(drop_test))\n",
        "\n",
        "encoder_input_train = [sentence for index, sentence in enumerate(encoder_input_train) if index not in drop_train]\n",
        "decoder_input_train = [sentence for index, sentence in enumerate(decoder_input_train) if index not in drop_train]\n",
        "decoder_target_train = [sentence for index, sentence in enumerate(decoder_target_train) if index not in drop_train]\n",
        "\n",
        "encoder_input_test = [sentence for index, sentence in enumerate(encoder_input_test) if index not in drop_test]\n",
        "decoder_input_test = [sentence for index, sentence in enumerate(decoder_input_test) if index not in drop_test]\n",
        "decoder_target_test = [sentence for index, sentence in enumerate(decoder_target_test) if index not in drop_test]\n",
        "\n",
        "print('훈련 데이터의 개수 :', len(encoder_input_train))\n",
        "print('훈련 레이블의 개수 :', len(decoder_input_train))\n",
        "print('테스트 데이터의 개수 :', len(encoder_input_test))\n",
        "print('테스트 레이블의 개수 :', len(decoder_input_test))"
      ],
      "metadata": {
        "colab": {
          "base_uri": "https://localhost:8080/"
        },
        "id": "8W5BKoCO20sC",
        "outputId": "3ffe27e1-7274-48b3-87bc-80dc13a34ed1"
      },
      "execution_count": 34,
      "outputs": [
        {
          "output_type": "stream",
          "name": "stdout",
          "text": [
            "삭제할 훈련 데이터의 개수 : 0\n",
            "삭제할 테스트 데이터의 개수 : 0\n",
            "훈련 데이터의 개수 : 71599\n",
            "훈련 레이블의 개수 : 71599\n",
            "테스트 데이터의 개수 : 17899\n",
            "테스트 레이블의 개수 : 17899\n"
          ]
        }
      ]
    },
    {
      "cell_type": "markdown",
      "source": [
        "#### 패딩하기"
      ],
      "metadata": {
        "id": "qK53zSxu28nq"
      }
    },
    {
      "cell_type": "markdown",
      "source": [
        "- 저번 NLP에서는 뒤의 단어를 바탕으로 하기에 pre 가 좋았었다고 했는데, 이번데이터는 뒤가 아닌 각 요소들이 중요하다 생각되어  post로 뒤에 패딩을 하였다."
      ],
      "metadata": {
        "id": "c5ir3YlY3Jex"
      }
    },
    {
      "cell_type": "code",
      "source": [
        "encoder_input_train = pad_sequences(encoder_input_train, maxlen=text_max_len, padding='post')\n",
        "encoder_input_test = pad_sequences(encoder_input_test, maxlen=text_max_len, padding='post')\n",
        "decoder_input_train = pad_sequences(decoder_input_train, maxlen=headlines_max_len, padding='post')\n",
        "decoder_target_train = pad_sequences(decoder_target_train, maxlen=headlines_max_len, padding='post')\n",
        "decoder_input_test = pad_sequences(decoder_input_test, maxlen=headlines_max_len, padding='post')\n",
        "decoder_target_test = pad_sequences(decoder_target_test, maxlen=headlines_max_len, padding='post')"
      ],
      "metadata": {
        "id": "t2R2vGkd2-bh"
      },
      "execution_count": 35,
      "outputs": []
    },
    {
      "cell_type": "markdown",
      "source": [
        "## 어텐션 메커니즘 사용하기 (추상적 요약)"
      ],
      "metadata": {
        "id": "JhVEyJrZhzTb"
      }
    },
    {
      "cell_type": "markdown",
      "source": [
        "### 모델 설계하기"
      ],
      "metadata": {
        "id": "EjxoxK6w4IKa"
      }
    },
    {
      "cell_type": "markdown",
      "source": [
        "인코더 설계"
      ],
      "metadata": {
        "id": "kUvDESw24TOc"
      }
    },
    {
      "cell_type": "code",
      "source": [
        "from tensorflow.keras.layers import Input, LSTM, Embedding, Dense, Concatenate, TimeDistributed\n",
        "from tensorflow.keras.models import Model\n",
        "from tensorflow.keras.callbacks import EarlyStopping, ModelCheckpoint\n",
        "\n",
        "\n",
        "# 인코더 설계 시작\n",
        "embedding_dim = 128\n",
        "hidden_size = 256\n",
        "\n",
        "# 인코더\n",
        "encoder_inputs = Input(shape=(text_max_len,))\n",
        "\n",
        "# 인코더의 임베딩 층\n",
        "enc_emb = Embedding(src_vocab, embedding_dim)(encoder_inputs)\n",
        "\n",
        "# 인코더의 LSTM 1\n",
        "encoder_lstm1 = LSTM(hidden_size, return_sequences=True, return_state=True ,dropout = 0.4, recurrent_dropout = 0.4)\n",
        "encoder_output1, state_h1, state_c1 = encoder_lstm1(enc_emb)\n",
        "\n",
        "# 인코더의 LSTM 2\n",
        "encoder_lstm2 = LSTM(hidden_size, return_sequences=True, return_state=True, dropout=0.4, recurrent_dropout=0.4)\n",
        "encoder_output2, state_h2, state_c2 = encoder_lstm2(encoder_output1)\n",
        "\n",
        "# 인코더의 LSTM 3\n",
        "encoder_lstm3 = LSTM(hidden_size, return_state=True, return_sequences=True, dropout=0.4, recurrent_dropout=0.4)\n",
        "encoder_outputs, state_h, state_c= encoder_lstm3(encoder_output2)"
      ],
      "metadata": {
        "id": "Zar_QfVS4NAy"
      },
      "execution_count": 36,
      "outputs": []
    },
    {
      "cell_type": "markdown",
      "source": [
        "디코더 설계"
      ],
      "metadata": {
        "id": "AyV7HNT64P6i"
      }
    },
    {
      "cell_type": "code",
      "source": [
        "# 디코더 설계\n",
        "decoder_inputs = Input(shape=(None,))\n",
        "\n",
        "# 디코더의 임베딩 층\n",
        "dec_emb_layer = Embedding(tar_vocab, embedding_dim)\n",
        "dec_emb = dec_emb_layer(decoder_inputs)\n",
        "\n",
        "# 디코더의 LSTM\n",
        "decoder_lstm = LSTM(hidden_size, return_sequences=True, return_state=True, dropout=0.4, recurrent_dropout=0.2)\n",
        "decoder_outputs, _, _ = decoder_lstm(dec_emb, initial_state=[state_h, state_c])"
      ],
      "metadata": {
        "id": "KeQOnn3L4Xbf"
      },
      "execution_count": 37,
      "outputs": []
    },
    {
      "cell_type": "markdown",
      "source": [
        "### 어텐션 메커니즘"
      ],
      "metadata": {
        "id": "6_6kMNOY4chb"
      }
    },
    {
      "cell_type": "code",
      "source": [
        "from tensorflow.keras.layers import AdditiveAttention\n",
        "\n",
        "# 어텐션 층(어텐션 함수)\n",
        "attn_layer = AdditiveAttention(name='attention_layer')\n",
        "\n",
        "# 인코더와 디코더의 모든 time step의 hidden state를 어텐션 층에 전달하고 결과를 리턴\n",
        "attn_out = attn_layer([decoder_outputs, encoder_outputs])\n",
        "\n",
        "\n",
        "# 어텐션의 결과와 디코더의 hidden state들을 연결\n",
        "decoder_concat_input = Concatenate(axis=-1, name='concat_layer')([decoder_outputs, attn_out])\n",
        "\n",
        "# 디코더의 출력층\n",
        "decoder_softmax_layer = Dense(tar_vocab, activation='softmax')\n",
        "decoder_softmax_outputs = decoder_softmax_layer(decoder_concat_input)\n",
        "\n",
        "# 모델 정의\n",
        "model = Model([encoder_inputs, decoder_inputs], decoder_softmax_outputs)\n",
        "model.summary()"
      ],
      "metadata": {
        "colab": {
          "base_uri": "https://localhost:8080/"
        },
        "id": "MGQvf30vonHz",
        "outputId": "334a503f-56b7-46f0-d276-d3810d7888c1"
      },
      "execution_count": 38,
      "outputs": [
        {
          "output_type": "stream",
          "name": "stdout",
          "text": [
            "Model: \"model\"\n",
            "__________________________________________________________________________________________________\n",
            " Layer (type)                   Output Shape         Param #     Connected to                     \n",
            "==================================================================================================\n",
            " input_1 (InputLayer)           [(None, 60)]         0           []                               \n",
            "                                                                                                  \n",
            " embedding (Embedding)          (None, 60, 128)      2560000     ['input_1[0][0]']                \n",
            "                                                                                                  \n",
            " lstm (LSTM)                    [(None, 60, 256),    394240      ['embedding[0][0]']              \n",
            "                                 (None, 256),                                                     \n",
            "                                 (None, 256)]                                                     \n",
            "                                                                                                  \n",
            " input_2 (InputLayer)           [(None, None)]       0           []                               \n",
            "                                                                                                  \n",
            " lstm_1 (LSTM)                  [(None, 60, 256),    525312      ['lstm[0][0]']                   \n",
            "                                 (None, 256),                                                     \n",
            "                                 (None, 256)]                                                     \n",
            "                                                                                                  \n",
            " embedding_1 (Embedding)        (None, None, 128)    1536000     ['input_2[0][0]']                \n",
            "                                                                                                  \n",
            " lstm_2 (LSTM)                  [(None, 60, 256),    525312      ['lstm_1[0][0]']                 \n",
            "                                 (None, 256),                                                     \n",
            "                                 (None, 256)]                                                     \n",
            "                                                                                                  \n",
            " lstm_3 (LSTM)                  [(None, None, 256),  394240      ['embedding_1[0][0]',            \n",
            "                                 (None, 256),                     'lstm_2[0][1]',                 \n",
            "                                 (None, 256)]                     'lstm_2[0][2]']                 \n",
            "                                                                                                  \n",
            " attention_layer (AdditiveAtten  (None, None, 256)   256         ['lstm_3[0][0]',                 \n",
            " tion)                                                            'lstm_2[0][0]']                 \n",
            "                                                                                                  \n",
            " concat_layer (Concatenate)     (None, None, 512)    0           ['lstm_3[0][0]',                 \n",
            "                                                                  'attention_layer[0][0]']        \n",
            "                                                                                                  \n",
            " dense (Dense)                  (None, None, 12000)  6156000     ['concat_layer[0][0]']           \n",
            "                                                                                                  \n",
            "==================================================================================================\n",
            "Total params: 12,091,360\n",
            "Trainable params: 12,091,360\n",
            "Non-trainable params: 0\n",
            "__________________________________________________________________________________________________\n"
          ]
        }
      ]
    },
    {
      "cell_type": "markdown",
      "source": [
        "### EarlyStopping을 이용해 모델 훈련하기"
      ],
      "metadata": {
        "id": "F8A9RD6H4irh"
      }
    },
    {
      "cell_type": "code",
      "source": [
        "model.compile(optimizer='rmsprop', loss='sparse_categorical_crossentropy')\n",
        "es = EarlyStopping(monitor='val_loss', patience=2, verbose=1)\n",
        "history = model.fit(x=[encoder_input_train, decoder_input_train], y=decoder_target_train, \\\n",
        "          validation_data=([encoder_input_test, decoder_input_test], decoder_target_test), \\\n",
        "          batch_size=512, callbacks=[es], epochs=2)"
      ],
      "metadata": {
        "colab": {
          "base_uri": "https://localhost:8080/"
        },
        "id": "bNl3aGoW4k7Z",
        "outputId": "d64b50d0-6d6e-4514-ecac-e469640f6369"
      },
      "execution_count": 41,
      "outputs": [
        {
          "output_type": "stream",
          "name": "stdout",
          "text": [
            "Epoch 1/2\n",
            "140/140 [==============================] - 2286s 16s/step - loss: 6.0913 - val_loss: 5.8248\n",
            "Epoch 2/2\n",
            "140/140 [==============================] - 2265s 16s/step - loss: 5.7649 - val_loss: 5.5733\n"
          ]
        }
      ]
    },
    {
      "cell_type": "markdown",
      "source": [
        "훈련데이터의 손실과, 검증데이터의 손실이 줄어드는 과정을 시각화"
      ],
      "metadata": {
        "id": "XPsSiJmG4vyZ"
      }
    },
    {
      "cell_type": "code",
      "source": [
        "plt.plot(history.history['loss'], label='train')\n",
        "plt.plot(history.history['val_loss'], label='test')\n",
        "plt.legend()\n",
        "plt.show()"
      ],
      "metadata": {
        "colab": {
          "base_uri": "https://localhost:8080/",
          "height": 265
        },
        "id": "S7nSebFz42J0",
        "outputId": "385c6424-eb66-4da8-d5fd-1937dfe54c92"
      },
      "execution_count": 42,
      "outputs": [
        {
          "output_type": "display_data",
          "data": {
            "image/png": "[encoded data removed]",
            "text/plain": [
              "<Figure size 432x288 with 1 Axes>"
            ]
          },
          "metadata": {
            "needs_background": "light"
          }
        }
      ]
    },
    {
      "cell_type": "markdown",
      "source": [
        "### 인퍼런스 모델 구현"
      ],
      "metadata": {
        "id": "qms8YXZf_osx"
      }
    },
    {
      "cell_type": "code",
      "source": [
        "src_index_to_word = src_tokenizer.index_word # 원문 단어 집합에서 정수 -> 단어를 얻음\n",
        "tar_word_to_index = tar_tokenizer.word_index # 요약 단어 집합에서 단어 -> 정수를 얻음\n",
        "tar_index_to_word = tar_tokenizer.index_word # 요약 단어 집합에서 정수 -> 단어를 얻음\n"
      ],
      "metadata": {
        "id": "9pNyiSNq_rrB"
      },
      "execution_count": 43,
      "outputs": []
    },
    {
      "cell_type": "code",
      "source": [
        "# 인코더 설계\n",
        "encoder_model = Model(inputs=encoder_inputs, outputs=[encoder_outputs, state_h, state_c])\n",
        "\n",
        "# 이전 시점의 상태들을 저장하는 텐서\n",
        "decoder_state_input_h = Input(shape=(hidden_size,))\n",
        "decoder_state_input_c = Input(shape=(hidden_size,))\n",
        "\n",
        "dec_emb2 = dec_emb_layer(decoder_inputs)\n",
        "\n",
        "# 문장의 다음 단어를 예측하기 위해서 초기 상태(initial_state)를 이전 시점의 상태로 사용. 이는 뒤의 함수 decode_sequence()에 구현\n",
        "# 훈련 과정에서와 달리 LSTM의 리턴하는 은닉 상태와 셀 상태인 state_h와 state_c를 버리지 않음.\n",
        "decoder_outputs2, state_h2, state_c2 = decoder_lstm(dec_emb2, initial_state=[decoder_state_input_h, decoder_state_input_c])"
      ],
      "metadata": {
        "id": "SN0EIFnL_-BR"
      },
      "execution_count": 44,
      "outputs": []
    },
    {
      "cell_type": "code",
      "source": [
        "# 어텐션 함수\n",
        "decoder_hidden_state_input = Input(shape=(text_max_len, hidden_size))\n",
        "attn_out_inf = attn_layer([decoder_outputs2, decoder_hidden_state_input])\n",
        "decoder_inf_concat = Concatenate(axis=-1, name='concat')([decoder_outputs2, attn_out_inf])\n",
        "\n",
        "# 디코더의 출력층\n",
        "decoder_outputs2 = decoder_softmax_layer(decoder_inf_concat) \n",
        "\n",
        "# 최종 디코더 모델\n",
        "decoder_model = Model(\n",
        "    [decoder_inputs] + [decoder_hidden_state_input,decoder_state_input_h, decoder_state_input_c],\n",
        "    [decoder_outputs2] + [state_h2, state_c2])"
      ],
      "metadata": {
        "id": "6Gd5iyejAA-A"
      },
      "execution_count": 45,
      "outputs": []
    },
    {
      "cell_type": "code",
      "source": [
        "def decode_sequence(input_seq):\n",
        "    # 입력으로부터 인코더의 상태를 얻음\n",
        "    e_out, e_h, e_c = encoder_model.predict(input_seq)\n",
        "\n",
        "     # <SOS>에 해당하는 토큰 생성\n",
        "    target_seq = np.zeros((1,1))\n",
        "    target_seq[0, 0] = tar_word_to_index['sostoken']\n",
        "\n",
        "    stop_condition = False\n",
        "    decoded_sentence = ''\n",
        "    while not stop_condition: # stop_condition이 True가 될 때까지 루프 반복\n",
        "\n",
        "        output_tokens, h, c = decoder_model.predict([target_seq] + [e_out, e_h, e_c])\n",
        "        sampled_token_index = np.argmax(output_tokens[0, -1, :])\n",
        "        sampled_token = tar_index_to_word[sampled_token_index]\n",
        "\n",
        "        if (sampled_token!='eostoken'):\n",
        "            decoded_sentence += ' '+sampled_token\n",
        "\n",
        "        #  <eos>에 도달하거나 최대 길이를 넘으면 중단.\n",
        "        if (sampled_token == 'eostoken'  or len(decoded_sentence.split()) >= (headlines_max_len-1)):\n",
        "            stop_condition = True\n",
        "\n",
        "        # 길이가 1인 타겟 시퀀스를 업데이트\n",
        "        target_seq = np.zeros((1,1))\n",
        "        target_seq[0, 0] = sampled_token_index\n",
        "\n",
        "        # 상태를 업데이트 합니다.\n",
        "        e_h, e_c = h, c\n",
        "\n",
        "    return decoded_sentence"
      ],
      "metadata": {
        "id": "U-Q-pNXYAC0S"
      },
      "execution_count": 46,
      "outputs": []
    },
    {
      "cell_type": "markdown",
      "source": [
        "## 실제 결과와 요약문 비교하기 (추상적 요약)"
      ],
      "metadata": {
        "id": "5XV2jZh-h5wT"
      }
    },
    {
      "cell_type": "markdown",
      "source": [
        "### 모델 테스트하기"
      ],
      "metadata": {
        "id": "jG-o47YaAF9w"
      }
    },
    {
      "cell_type": "code",
      "source": [
        "# 원문의 정수 시퀀스를 텍스트 시퀀스로 변환\n",
        "def seq2text(input_seq):\n",
        "    temp=''\n",
        "    for i in input_seq:\n",
        "        if (i!=0):\n",
        "            temp = temp + src_index_to_word[i]+' '\n",
        "    return temp\n",
        "\n",
        "# 요약문의 정수 시퀀스를 텍스트 시퀀스로 변환\n",
        "def seq2summary(input_seq):\n",
        "    temp=''\n",
        "    for i in input_seq:\n",
        "        if ((i!=0 and i!=tar_word_to_index['sostoken']) and i!=tar_word_to_index['eostoken']):\n",
        "            temp = temp + tar_index_to_word[i] + ' '\n",
        "    return temp"
      ],
      "metadata": {
        "id": "2F-1svVv_JRx"
      },
      "execution_count": 47,
      "outputs": []
    },
    {
      "cell_type": "code",
      "source": [
        "for i in range(50, 100):\n",
        "    print(\"원문 :\", seq2text(encoder_input_test[i]))\n",
        "    print(\"실제 요약 :\", seq2summary(decoder_input_test[i]))\n",
        "    print(\"예측 요약 :\", decode_sequence(encoder_input_test[i].reshape(1, text_max_len)))\n",
        "    print(\"\\n\")"
      ],
      "metadata": {
        "colab": {
          "base_uri": "https://localhost:8080/"
        },
        "id": "w9AZPxKf_KbJ",
        "outputId": "04c53978-d716-49ee-b1a1-89d4e71e02bb"
      },
      "execution_count": 48,
      "outputs": [
        {
          "output_type": "stream",
          "name": "stdout",
          "text": [
            "원문 : a delegation of the taliban militant group held talks with us diplomat in qatar on friday to discuss ways to end the war in afghanistan in the first confirmed meeting between the two parties the taliban maintains a political office in qatar the militant group reiterated that the us' presence in afghanistan was a big obstacle to peace \n",
            "실제 요약 : taliban holds talks with us in first confirmed meeting \n",
            "예측 요약 :  us to be to be in india\n",
            "\n",
            "\n",
            "원문 : is reportedly in talks with two of its biggest rivals paytm and flipkart for a potential sale according to reports snapdeal investor softbank is reportedly leading the talks and the price being offered for snapdeal is between 1 5 billion and 1 8 billion however a snapdeal spokesperson has denied that the homegrown e commerce major is up for sale \n",
            "실제 요약 : snapdeal in talks with flipkart paytm for sale reports \n",
            "예측 요약 :  startup to invest to be in india\n",
            "\n",
            "\n",
            "원문 : a 27 year old german walked 1 600 metres across a between two mountains in france successfully setting the world record for participating in the fifth annual french meeting he took two hours to achieve the feat and walked at a height of over 600 metres the previous record 800 metres was set at an earlier meeting \n",
            "실제 요약 : man walks on high rope between 2 mountains sets record \n",
            "예측 요약 :  man to be in be in india\n",
            "\n",
            "\n",
            "원문 : the meghalaya assembly on monday passed a resolution against the centre's ban on sale of cattle for slaughter it said that the order will hamper the rights of the people adding that laws for cattle are already in place notably according to national sample survey 2015 data nearly 81 people in meghalaya consume beef \n",
            "실제 요약 : meghalaya passes resolution against centre's cattle sale ban \n",
            "예측 요약 :  us to be to be in india\n",
            "\n",
            "\n",
            "원문 : reality television personality kim kardashian has been named the most dangerous celebrity to search for online in the uk in 2018 by cybersecurity firm mcafee the list measures how many search results featuring a name contain links to potentially malicious websites supermodel naomi was ranked second ahead of kim's sister kardashian \n",
            "실제 요약 : kim kardashian named 'most celebrity to search online \n",
            "예측 요약 :  india to be to be in india\n",
            "\n",
            "\n",
            "원문 : former captain steve smith who is serving a year long suspension from international cricket met the national team coach justin langer for breakfast smith was also seen batting in a practice session with australian bowlers ahead of the team's upcoming test series against india cricket australia recently decided to not reduce the bans on smith david warner and cameron bancroft \n",
            "실제 요약 : steve smith goes for breakfast with australia coach langer \n",
            "예측 요약 :  kohli to be to be in world world\n",
            "\n",
            "\n",
            "원문 : paytm ceo vijay shekhar sharma denying reports of scaling down the startup's e commerce unit paytm operations said there's no truth to these claims the marketplace is expected to double gross merchandise value to 2 billion by march this year sharma said referring to paytm's wholesale b2b vertical he added it's budgeted to contribute 10 15 of total mall \n",
            "실제 요약 : no truth paytm ceo on reports of down paytm mall \n",
            "예측 요약 :  google startup to be to be in india\n",
            "\n",
            "\n",
            "원문 : kerala chief minister pinarayi vijayan has been admitted to apollo hospital in chennai as per a medical bulletin issued by the hospital the chief minister was admitted for a routine annual medical check up the 73 year old cm is being monitored by a team of doctors including diseases experts and is likely to be discharged on sunday \n",
            "실제 요약 : kerala cm vijayan admitted in chennai hospital \n",
            "예측 요약 :  pm to be in be in pm\n",
            "\n",
            "\n",
            "원문 : all time high of 1 04 crore passengers in october 2017 according to data released by the dgca the number of flyers saw a year on year increase of over 20 up from 86 7 lakh passengers in october 2016 all major airlines except air india logged a passenger load factor above 80 which dgca attributed to the festive season \n",
            "실제 요약 : india witnesses record 1 crore domestic flyers in a month \n",
            "예측 요약 :  google to be to be in india\n",
            "\n",
            "\n",
            "원문 : gurugram based grocery delivery startup grofers has shut down its fresh produce service delivering vegetables and fruits across cities including delhi ncr and bengaluru the startup's ceo said fresh products form 2 of the company's overall revenues for now we need space for our growing private label business the startup has also ended its 90 minute delivery service \n",
            "실제 요약 : grofers shuts fruits and vegetables segment in delhi b'luru \n",
            "예측 요약 :  startup to invest to be in india\n",
            "\n",
            "\n",
            "원문 : actor jim parsons known for playing the role of cooper in the sitcom big bang theory got married to his partner todd in new york the couple has been dating for about 14 years parsons had revealed in a 2012 profile in the new york times that he was gay and in a relationship with \n",
            "실제 요약 : big bang theory actor jim marries boyfriend \n",
            "예측 요약 :  i a a my my a a film\n",
            "\n",
            "\n",
            "원문 : defending champions india thrashed bangladesh by 10 wickets in the blind cricket world cup in uae on saturday maintaining their unbeaten run in the tournament bangladesh put up a total of 226 8 in their 40 overs before india chased down the total in just 18 4 overs both the indian openers ajay reddy and sunil ramesh scored centuries \n",
            "실제 요약 : india thrash b'desh by 10 wickets in blind cricket world cup \n",
            "예측 요약 :  india to be to be in world world\n",
            "\n",
            "\n",
            "원문 : mehul choksi's brother chetan choksi visited gitanjali ventures office in uae in february to put pressure on staff to jewellery worth ã¢ââ¹110 crore according to enforcement directorate however the employees refused as they had come to know that investigative agencies filed cases against choksi and his gitanjali group the ed officials successfully brought the jewellery back to india \n",
            "실제 요약 : choksi's brother tried to flee with ã¢ââ¹110 cr of jewellery ed \n",
            "예측 요약 :  us to be to be in india\n",
            "\n",
            "\n",
            "원문 : reacting to us president donald trump sitting on former british prime minister winston chair a user tweeted i think it may just be a bucket list item for him while other twitter users wrote pretty sure churchill is rolling in his grave and you must the chair immediately \n",
            "실제 요약 : twitter users react to trump sitting on chair \n",
            "예측 요약 :  trump to be to be to be\n",
            "\n",
            "\n",
            "원문 : recently appointed head of instagram adam in a blog post said there is no place for bullying on instagram instagram on tuesday launched new tools that use machine learning to detect bullying in photos and their captions if people see that kind of hurtful behaviour on our platform they can report it he added \n",
            "실제 요약 : no place for bullying on instagram head of instagram \n",
            "예측 요약 :  kohli to be to be in the time\n",
            "\n",
            "\n",
            "원문 : the reserve bank of india rbi on thursday urged the banks to appoint qualified chief financial officers and chief technology officers the central bank also came out with minimum qualifications for these posts rapid innovations in banking and technology call for better risk governance in the areas of finance and technology said rbi in a notification \n",
            "실제 요약 : reserve bank of india urges banks to appoint and \n",
            "예측 요약 :  us to korea to be to korea\n",
            "\n",
            "\n",
            "원문 : union women and child development minister maneka gandhi has said that students should be taught from major religious texts including the gita quran and bible at least twice a week teaching from of major religions such as hinduism buddhism and islam will help religious stereotypes that students develop at a young age maneka added \n",
            "실제 요약 : students should be taught gita quran twice a week minister \n",
            "예측 요약 :  pm to be in be in delhi\n",
            "\n",
            "\n",
            "원문 : vote at the un against the us' recognition of jerusalem as israel's capital will not affect its ties with israel israeli ambassador to india daniel has said acknowledging that votes at the un are important added that india israel ties are stronger than one vote here or there india supports the two state solution to resolve the israel palestine conflict \n",
            "실제 요약 : india's jerusalem vote won't affect our ties israel \n",
            "예측 요약 :  us to be to be to be in us\n",
            "\n",
            "\n",
            "원문 : markets regulator sebi will consider penal action against pnb and mehul choksi's gitanjali gems after the completion of its investigation into suspected disclosure and trading related issues officials said notably the regulator last week issued a warning letter to pnb for delaying disclosures about the fraudulent transactions allegedly carried out by gitanjali group and nirav modi group \n",
            "실제 요약 : sebi to consider action on pnb gitanjali after probe \n",
            "예측 요약 :  us to be to be in us\n",
            "\n",
            "\n",
            "원문 : students at delhi university's hindu college have reportedly been protesting against a welcome poster reading hindu mein aur hai that was put up at a party on the college premises the students' union which organised the party has condemned the use of the poster calling it an \n",
            "실제 요약 : du students protest against posters at hindu college \n",
            "예측 요약 :  pm to be in be in india\n",
            "\n",
            "\n",
            "원문 : as many as 85 people have been jailed in china for selling a fake cure for according to reports the sold snake oil to people losing hair or with other symptoms associated with weak kidneys claiming the medication would help strengthen their function nearly 9 000 people were duped as part of the over ã¢ââ¹10 crore scam \n",
            "실제 요약 : 85 people jailed in china for selling fake cure for \n",
            "예측 요약 :  man to be in be in delhi\n",
            "\n",
            "\n",
            "원문 : the aap led delhi government on tuesday urged the national green tribunal ngt to direct neighbouring states in the national capital region to implement the odd even car scheme cities such as ghaziabad noida and faridabad have reportedly been identified in this regard as pollution in ncr has a direct impact on the national capital \n",
            "실제 요약 : ask states to adopt odd even delhi govt to ngt \n",
            "예측 요약 :  us to be to be in us\n",
            "\n",
            "\n",
            "원문 : at flipkart reportedly opposed google's plan to invest in the e commerce startup as they felt google could be a potential rival in the future google's parent company alphabet was reportedly planning to buy a minority stake in flipkart for 1 2 billion it came after reports suggested google would launch its e commerce platform in india later this year \n",
            "실제 요약 : flipkart senior executives opposed google investment report \n",
            "예측 요약 :  startup startup raises startup to its crore\n",
            "\n",
            "\n",
            "원문 : bezos has overtaken bill gates to become the world's richest person with a net worth of 91 6 billion bezos has added 8 7 billion to his wealth since thursday after amazon released its third quarter earnings report notably bezos became the richest person for the first time in july this year but lost the title in just a day \n",
            "실제 요약 : jeff bezos overtakes bill gates as world's richest person \n",
            "예측 요약 :  google to be to be in india\n",
            "\n",
            "\n",
            "원문 : an indigo passenger flying from ahmedabad to goa was booked by the police after he was found smoking in the toilet of the aircraft during the journey on noticing the violation the crew warned the passenger and alerted the captain further once the flight landed in goa the passenger was detained by the cisf \n",
            "실제 요약 : passenger during indigo flight detained on landing \n",
            "예측 요약 :  man to be in k in delhi\n",
            "\n",
            "\n",
            "원문 : seized unaccounted cash worth around ã¢ââ¹10 crore and other items worth over ã¢ââ¹17 crore from karnataka ahead of the assembly election scheduled for next month the state has deployed 1 156 flying squads and 1 255 surveillance teams to monitor the electoral process further officials have registered over 300 firs in connection with violations of the model code of conduct \n",
            "실제 요약 : ã¢ââ¹10 crore cash recovered from poll bound k'taka \n",
            "예측 요약 :  us to be to be in us\n",
            "\n",
            "\n",
            "원문 : co founder bill gates has invested 50 million each in the dementia discovery fund and start up ventures working in alzheimer's research gates said this is a personal investment and not one offered through the bill melinda gates foundation people should be able to enjoy their later years and we need a breakthrough in alzheimer's to fulfil that gates said \n",
            "실제 요약 : bill gates invests 100 million to fight alzheimer's \n",
            "예측 요약 :  google to be to be in india\n",
            "\n",
            "\n",
            "원문 : indian premier league side rising pune supergiant unveiled their new jersey for the upcoming edition of the tournament on thursday the team's new captain steve smith along with ajinkya rahane and ben stokes addressed the media and unveiled the team's jersey at a press conference the side had recently changed their name from rising pune to rising pune supergiant \n",
            "실제 요약 : rising pune unveils new jersey for ipl 2017 \n",
            "예측 요약 :  kohli to be to be in world time\n",
            "\n",
            "\n",
            "원문 : talking about the thai cave rescue mission diver vernon unsworth whom musk had called a guy the tesla chief on tuesday said that it was strange that unsworth had not sued him he was offered free legal services musk wrote unsworth had criticised the mini submarine that musk had delivered for the rescue mission as and a pr stunt \n",
            "실제 요약 : diver didn't sue had free legal help musk on 'pedo' remark \n",
            "예측 요약 :  i a a a a a world\n",
            "\n",
            "\n",
            "원문 : a french court has ordered that mallika and her boyfriend be evicted from their apartment in paris over non payment of rent the owner of the apartment said she only made a single payment although the couple's lawyer said they were in financial difficulty the owner dismissed the argument claiming she earned millions during the rental period \n",
            "실제 요약 : mallika boyfriend evicted from paris flat over unpaid rent \n",
            "예측 요약 :  i a a a a a a\n",
            "\n",
            "\n",
            "원문 : china is the salaries of actors as part of measures to curb tax evasion and control rates of pay in the film industry under the new rules salaries of actors cannot exceed 40 of the total production costs this comes after several chinese celebrities were accused of signing fake contracts to evade taxes \n",
            "실제 요약 : china caps pay amid crackdown on tax evasion \n",
            "예측 요약 :  india to be to be in india\n",
            "\n",
            "\n",
            "원문 : the congress' punjab unit has released a list of its in the state alongside their castes and contact numbers of the 24 media listed 11 are jat sikhs five hindus four scheduled castes three other backward castes and one urban sikh the list was reportedly withdrawn later and a new list without the column on castes was released \n",
            "실제 요약 : punjab congress mentions in list of \n",
            "예측 요약 :  us to be to be in india\n",
            "\n",
            "\n",
            "원문 : the bcci has moved chennai super kings' remaining ipl home matches from chennai to pune after police said they cannot provide adequate security amid the ongoing cauvery protests in tamil nadu pune was picked ahead of visakhapatnam trivandrum and rajkot due to reasons however there will be no change in the schedule of csk's matches \n",
            "실제 요약 : csk's home matches shifted to pune due to cauvery protests \n",
            "예측 요약 :  i year to be in the world\n",
            "\n",
            "\n",
            "원문 : malayalam actress who was abducted and assaulted while responding to being victim shamed by kerala mla pc george wrote what do people like pc george think i should have committed suicide she wrote this in an open letter shared on facebook earlier the mla had said if she was attacked how can she act in movies the very next day \n",
            "실제 요약 : should i have killed myself assaulted kerala actress to mla \n",
            "예측 요약 :  i year to be in a in a\n",
            "\n",
            "\n",
            "원문 : the environment pollution prevention and control authority has extended the ban on construction activities coal and biomass based industries and the entry of trucks in delhi till november 12 due to high pollution levels the bans were extended on the recommendations of a central pollution control board led task force delhi's air quality was recorded in 'very category on saturday \n",
            "실제 요약 : delhi ban on construction entry of trucks extended till nov 12 \n",
            "예측 요약 :  us to be to be in us\n",
            "\n",
            "\n",
            "원문 : kerala police allegedly stopped four transgender women from proceeding to lord temple in sabarimala on sunday police threatened to put us in jail one of them even said they can consider our plea if we come in male attire one of the transgender women ananya said however the police refuted the claims of threatening or misbehaving with the transgenders \n",
            "실제 요약 : police stop 4 transgender women from heading to sabarimala \n",
            "예측 요약 :  man killed in raping k in delhi\n",
            "\n",
            "\n",
            "원문 : the us defence department has banned sale of chinese made huawei and zte phones on the country's military bases over security concerns the devices may pose an unacceptable risk to the department's personnel information and mission us officials said the ban follows a warning from the heads of six us intelligence agencies including the fbi the cia and the nsa \n",
            "실제 요약 : us bans sale of chinese phones on its military bases \n",
            "예측 요약 :  us to be to be to be in us\n",
            "\n",
            "\n",
            "원문 : terming the us russia relationship the biggest disappointment of 2017 russian president vladimir putin's spokesman dmitry peskov said it takes two to russia is ready to build relations but us efforts are also necessary the russian diplomat said he blamed anti russian in the us over alleged russian meddling in the 2016 us presidential election for strained us russia ties \n",
            "실제 요약 : it takes two to russia on relations with us \n",
            "예측 요약 :  us to be to be to be in us\n",
            "\n",
            "\n",
            "원문 : indian deputy chef de mission rk flew back to india on a business class ticket while the athletes who competed at asiad in indonesia travelled in economy class they're here because of us i'm okay flying economy but not if officials are given better seats said an athlete said he used his air miles to upgrade to business class \n",
            "실제 요약 : indian athletes fly economy from asiad official business class \n",
            "예측 요약 :  india to be to be in india\n",
            "\n",
            "\n",
            "원문 : after singer sona mohapatra criticised sonu nigam for supporting anu malik amid metoo allegations and his comments on pakistani singers sonu said the lady vomiting on twitter is the wife of someone i consider very close to me although she has forgotten the relationship i'd like to maintain he added sonu further said sona should choose her words with conscience \n",
            "실제 요약 : lady vomiting on twitter sonu after criticism \n",
            "예측 요약 :  i a my my my a film\n",
            "\n",
            "\n",
            "원문 : a 55 year old woman named k raised an alarm when she saw a robber trying to open an atm machine using a at 2 30 am in chennai on friday following this residents and locals locked the robber inside the atm leading to his arrest meanwhile the woman was rewarded by chennai city police commissioner ak viswanathan \n",
            "실제 요약 : chennai woman helps atm robbery rewarded by police \n",
            "예측 요약 :  man to be in be in delhi\n",
            "\n",
            "\n",
            "원문 : after the supreme court was informed that several indian jails face over 150 it said prisoners can't be kept like animals asserting that prisoners have human rights the court slammed states and union territories for failing to submit a proposal to combat despite the 2017 deadline it added we should release them if you cannot keep them properly \n",
            "실제 요약 : prisoners can't be kept as animals sc on 150 \n",
            "예측 요약 :  us to be to be in india\n",
            "\n",
            "\n",
            "원문 : finance minister arun jaitley has said gst council could consider merging slabs of 12 and 18 and cutting the number of items taxed at 28 he added that the speed of of gst rates will depend on how revenues stabilise earlier gst on 178 goods was reduced to 18 from 28 leaving only 50 items in the highest slab \n",
            "실제 요약 : gst slabs could come down to three arun jaitley \n",
            "예측 요약 :  us to be to be to be in us\n",
            "\n",
            "\n",
            "원문 : wicketkeeper batsman mohammad shahzad has been charged with an anti doping rule violation under the icc anti doping code the 29 year old tested positive in an out of competition test for the banned substance and has been suspended from playing cricket shahzad has featured in 58 matches each in odis and t20is after making his international debut in 2009 \n",
            "실제 요약 : afghanistan's tests positive for banned \n",
            "예측 요약 :  i year to be in the time\n",
            "\n",
            "\n",
            "원문 : a feature in the upcoming ios 11 called the will automatically disable poor public wifi networks and prevent them from connecting to users' iphones it's similar to apple's wifi assist and samsung's smart network switch which to mobile data when a wifi signal is weak ios 11 is expected to release later this year \n",
            "실제 요약 : ios 11 to stop iphones from connecting to poor wifi \n",
            "예측 요약 :  india to be to be in india\n",
            "\n",
            "\n",
            "원문 : a class 9 student of mayur vihar school allegedly committed suicide by hanging herself at her residence in noida on tuesday she was under extreme pressure because two school teachers had sexually harassed her and intentionally failed her in exams her family alleged the girl's father has threatened to end his life if justice isn't out to her \n",
            "실제 요약 : class 9 girl commits suicide in noida family blames school \n",
            "예측 요약 :  man killed in raping k in delhi\n",
            "\n",
            "\n",
            "원문 : welsh snooker player mark williams a pink ball with his eyes closed during the opening session of the world snooker championship final on monday earlier williams had been seen in a shop at 2 30 am the night before his final celebrating his semi final win over rival with and chips \n",
            "실제 요약 : player ball with eyes closed in world c'ship final \n",
            "예측 요약 :  kohli to be to be in world world\n",
            "\n",
            "\n",
            "원문 : indian equity benchmark sensex on wednesday surged 640 points from the day's lowest level to end 180 points higher at 35 94 the market recovery was led by gains in such as hdfc bank and housing development finance corporation the rupee gained against the dollar after crude dropped below 50 a barrel for the first time in 17 months \n",
            "실제 요약 : sensex recovers points from low ends 180 points higher \n",
            "예측 요약 :  scientists to be to be in the time\n",
            "\n",
            "\n",
            "원문 : the advertising standards council of india has asked the information and broadcasting ministry if condom advertisements should only be aired between 11 pm and 5 am ads is not our mandate so we have asked the government for instruction secretary general shweta said earlier the ministry had reportedly said that ads cannot be restricted \n",
            "실제 요약 : seeks govt's on time to air condom ads \n",
            "예측 요약 :  us to be to be in india\n",
            "\n",
            "\n",
            "원문 : over 100 mlas in andhra pradesh have been granted a mass leave while the assembly is in session to attend weddings over 100 lawmakers of the ruling telugu desam party had written to the speaker asking to be for two days over their weekend off the mlas reportedly said they would compensate for the leave by extending the session \n",
            "실제 요약 : andhra mlas go on mass 2 day leave to attend weddings \n",
            "예측 요약 :  delhi to be in be in delhi\n",
            "\n",
            "\n"
          ]
        }
      ]
    },
    {
      "cell_type": "markdown",
      "source": [
        "## Summa를 이용해서 추출적 요약해보기"
      ],
      "metadata": {
        "id": "5XtfR79ziAwz"
      }
    },
    {
      "cell_type": "code",
      "source": [
        "pip install summa"
      ],
      "metadata": {
        "colab": {
          "base_uri": "https://localhost:8080/"
        },
        "id": "ZJje_lx5WC-H",
        "outputId": "89219050-06d3-4ec0-da49-0bd5ad041224"
      },
      "execution_count": 51,
      "outputs": [
        {
          "output_type": "stream",
          "name": "stdout",
          "text": [
            "Collecting summa\n",
            "  Downloading summa-1.2.0.tar.gz (54 kB)\n",
            "\u001b[?25l\r\u001b[K     |██████                          | 10 kB 12.5 MB/s eta 0:00:01\r\u001b[K     |████████████                    | 20 kB 13.4 MB/s eta 0:00:01\r\u001b[K     |██████████████████              | 30 kB 9.9 MB/s eta 0:00:01\r\u001b[K     |███████████████████████▉        | 40 kB 8.4 MB/s eta 0:00:01\r\u001b[K     |█████████████████████████████▉  | 51 kB 6.0 MB/s eta 0:00:01\r\u001b[K     |████████████████████████████████| 54 kB 1.8 MB/s \n",
            "\u001b[?25hRequirement already satisfied: scipy>=0.19 in /usr/local/lib/python3.7/dist-packages (from summa) (1.4.1)\n",
            "Requirement already satisfied: numpy>=1.13.3 in /usr/local/lib/python3.7/dist-packages (from scipy>=0.19->summa) (1.19.5)\n",
            "Building wheels for collected packages: summa\n",
            "  Building wheel for summa (setup.py) ... \u001b[?25l\u001b[?25hdone\n",
            "  Created wheel for summa: filename=summa-1.2.0-py3-none-any.whl size=54412 sha256=7c37204e240400bd0404999a6fe25034b4ae59d6e019299f89f08be38ca15bec\n",
            "  Stored in directory: /root/.cache/pip/wheels/29/64/ac/7b443477588d365ef37ada30d456bdf5f07dc5be9f6324cb6e\n",
            "Successfully built summa\n",
            "Installing collected packages: summa\n",
            "Successfully installed summa-1.2.0\n"
          ]
        }
      ]
    },
    {
      "cell_type": "code",
      "source": [
        "import requests\n",
        "from summa.summarizer import summarize"
      ],
      "metadata": {
        "id": "ldrY4OgAiKbc"
      },
      "execution_count": 52,
      "outputs": []
    },
    {
      "cell_type": "code",
      "source": [
        "text = requests.get('http://rare-technologies.com/the_matrix_synopsis.txt').text"
      ],
      "metadata": {
        "id": "zZwbEytgASgI"
      },
      "execution_count": 53,
      "outputs": []
    },
    {
      "cell_type": "code",
      "source": [
        "print(text[:1500])"
      ],
      "metadata": {
        "colab": {
          "base_uri": "https://localhost:8080/"
        },
        "id": "Ea_MxKAUAS3w",
        "outputId": "ec5c0491-259d-422b-ef22-a86a2f57cdd5"
      },
      "execution_count": 54,
      "outputs": [
        {
          "output_type": "stream",
          "name": "stdout",
          "text": [
            "The screen is filled with green, cascading code which gives way to the title, The Matrix.\r\n",
            "\r\n",
            "A phone rings and text appears on the screen: \"Call trans opt: received. 2-19-98 13:24:18 REC: Log>\" As a conversation takes place between Trinity (Carrie-Anne Moss) and Cypher (Joe Pantoliano), two free humans, a table of random green numbers are being scanned and individual numbers selected, creating a series of digits not unlike an ordinary phone number, as if a code is being deciphered or a call is being traced.\r\n",
            "\r\n",
            "Trinity discusses some unknown person. Cypher taunts Trinity, suggesting she enjoys watching him. Trinity counters that \"Morpheus (Laurence Fishburne) says he may be 'the One',\" just as the sound of a number being selected alerts Trinity that someone may be tracing their call. She ends the call.\r\n",
            "\r\n",
            "Armed policemen move down a darkened, decrepit hallway in the Heart O' the City Hotel, their flashlight beam bouncing just ahead of them. They come to room 303, kick down the door and find a woman dressed in black, facing away from them. It's Trinity. She brings her hands up from the laptop she's working on at their command.\r\n",
            "\r\n",
            "Outside the hotel a car drives up and three agents appear in neatly pressed black suits. They are Agent Smith (Hugo Weaving), Agent Brown (Paul Goddard), and Agent Jones (Robert Taylor). Agent Smith and the presiding police lieutenant argue. Agent Smith admonishes the policeman that they were given specific orders to contact the agents first, for their\n"
          ]
        }
      ]
    },
    {
      "cell_type": "code",
      "source": [
        "print('headlines:')\n",
        "print(summarize(text, ratio=0.005))"
      ],
      "metadata": {
        "colab": {
          "base_uri": "https://localhost:8080/"
        },
        "id": "emyAuhNxAWfo",
        "outputId": "2d5ea436-16d0-4224-b2bf-e354ac2dc2df"
      },
      "execution_count": 55,
      "outputs": [
        {
          "output_type": "stream",
          "name": "stdout",
          "text": [
            "headlines:\n",
            "Morpheus, Trinity, Neo, Apoc, Switch, Mouse and Cypher are jacked into the Matrix.\n",
            "Trinity brings the helicopter down to the floor that Morpheus is on and Neo opens fire on the three Agents.\n"
          ]
        }
      ]
    },
    {
      "cell_type": "code",
      "source": [
        "print('headlines:')\n",
        "print(summarize(text, ratio=0.005, split=True))"
      ],
      "metadata": {
        "colab": {
          "base_uri": "https://localhost:8080/"
        },
        "id": "WDjFzHKpAlqw",
        "outputId": "8d581926-b861-4e6c-d8cb-7f1d031c7cc8"
      },
      "execution_count": 56,
      "outputs": [
        {
          "output_type": "stream",
          "name": "stdout",
          "text": [
            "headlines:\n",
            "['Morpheus, Trinity, Neo, Apoc, Switch, Mouse and Cypher are jacked into the Matrix.', 'Trinity brings the helicopter down to the floor that Morpheus is on and Neo opens fire on the three Agents.']\n"
          ]
        }
      ]
    },
    {
      "cell_type": "code",
      "source": [
        "print('headlines:')\n",
        "print(summarize(text, words=50))"
      ],
      "metadata": {
        "colab": {
          "base_uri": "https://localhost:8080/"
        },
        "id": "Iw6Z8ugAApzQ",
        "outputId": "a0510469-44bf-4c48-fe4c-ff1607301abe"
      },
      "execution_count": 57,
      "outputs": [
        {
          "output_type": "stream",
          "name": "stdout",
          "text": [
            "headlines:\n",
            "Trinity takes Neo to Morpheus.\n",
            "Morpheus, Trinity, Neo, Apoc, Switch, Mouse and Cypher are jacked into the Matrix.\n",
            "Trinity brings the helicopter down to the floor that Morpheus is on and Neo opens fire on the three Agents.\n"
          ]
        }
      ]
    },
    {
      "cell_type": "markdown",
      "source": [
        "# 회고\n",
        "\n",
        "### 분석단계, 정제단계, 정규화와 불용어제거, 데이터셋 분리, 인코딩 과정이 빠짐없이 체계적으로 진행되었는가?\n",
        "- 실습에서 사용된 전처리 외에 필요한 전처리 분석에 실패하였습니다. 이것이 화근이 되었는지는 모르겠지만, 실습 때에도 학습 시간이 오래걸렸었는데, 이번 Exploration의 데이터는 실습 데이터보다 더 많은 데이터들이 사용되어 차마 제시간 내에 학습하지도 못한 채 노드를 마무리 하게 되었습니다. 다시 말해, 시간적 핑계도 있지만, 데이터 전처리를 제대로 해주지 못하여 학습시간이 더 과하게 들어간것으로 추정됩니다.\n",
        "\n",
        "### 모델학습이 안정적으로 수렴되었음을 그래프를 통해 확인하였으며, 실제 요약문과 유사한 요약문장을 얻을 수 있었는가?\n",
        "- 너무 마음이 아픕니다.. 이렇게 학습이 오래걸릴 줄 알았더라면, 우선 기본 시나리오에서 학습을 돌리고 다시 처음부터 훑을걸 그랬습니다.. Early Stapping을 사용하긴 하였지만, 최소 3개의 에포크는 돌아갸야 과적합되면 멈추던지 하기 때문에, 시간관계상 에포크를 2개만 주어 실험할 수 밖에 없었습니다.. 때문에 학습이 제대로 실행되지 않았기 때문에 전혀 유사하지 않은 엉뚱한 문장이 나왔습니다.. ㅠㅠ\n",
        "\n",
        "### 두 요약 결과를 문법완성도 측면과 핵심단어 포함 측면으로 나누어 비교분석 결과를 제시하였는가?\n",
        "- 시도는 하였으나... 역시나 좋은 결과를 보이지 못하였습니다..\n",
        "---\n",
        "### 이번 프로젝트에서 어려웠던점\n",
        "- 이전에 다뤘던 실습 혹은 Exploration 에서는 다뤄 보지 못했던 seq2seq 혹은 LSTM 혹은 컨텍스트 벡터 등이 제게는 다소 생소하였기 때문에 전체적인 흐름을 파악하는데 어려움을 겼었습니다. 떄문에 전처리 및 학습과정이 매끄럽지 못하였고, 거기에 더하여 시간 분배 실패로 학습을 충분히 하지 못하여서 제대로 된 결과를 내지 못하였습니다..\n",
        "\n",
        "### 알아낸 점 혹은 모호한점\n",
        "- 시각화 할 수 있었다는점, 그리고 추상적 요약과 추출적 요약에 대해 알게되었습니다. 하지만 전처리를 더 했더라면, 그리고 학습을 충분히 하였더라면 어떤 변화가 있었을지에 대한 의문이 남았습니다..\n",
        "\n",
        "### 루브릭 평가 지표를 맞추기 위해 시도한 것들\n",
        "ㅠㅠ 시간에 쫓겨 완성하려하였기에.. 루브릭 기준으로만 완성하려 하였습니다\n",
        "- 가장 기본적인 텍스트 전처리를 진행하였고\n",
        "- 모델을 충분히 돌려 모델학습이 안정적으로 수렴됨을 보이려 하였으나, 모델을 다 돌리게 되면 제출시간이 늦게되어 고작 2애포크만 시도하였습니다.. 역시나 안정적인 그래프는 얻지 못하였습니다..\n",
        "- 마지막 추출척 요약까지 완성을 시키려했으나 애초에 추상적 요약을 제대로 하지 못해 좋은 결과를 얻지 못하였습니다..\n",
        "\n",
        "### 지표를 달성하지 못했을 때 이유에 관한 추정.\n",
        "- 전부 다 망하지 않았나 싶습니다. 1. 기본 전처리 외에 추가 전처리를 하지 않았기 때문에 전처리를 제대로 하지 못하였기 때문이라 할 수 있습니다. 2. 시간분배를 충분히 하지 못하였기 때문에 학습을 다 하지 못하였고, 그로인해 매우 불안정한 학습 결과가 나오게 되었습니다. 3. 좋은 추상적 요약에 대한 결과를 얻지 못하였기때문에 추출적 요약과의 비교를 제대로 완성하지 못하였습니다.\n",
        "\n",
        "### 자기다짐\n",
        "- 명절이라는 핑계로 이번 노드는 제대로 공부하지도, 제대로 프로그램을 만들지도 못하였습니다. 이에 매우 반성하며 이번 주말을 할애하여 꼼꼼히 살펴본 뒤 제출한 이후에도 다시 보아 완성 시킬 수 있도록 하겠습니다.\n"
      ],
      "metadata": {
        "id": "4kH9QeKcAtPp"
      }
    },
    {
      "cell_type": "code",
      "source": [
        ""
      ],
      "metadata": {
        "id": "qk_ZVfZrY3Mr"
      },
      "execution_count": null,
      "outputs": []
    }
  ]
}