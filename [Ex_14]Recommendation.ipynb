{
 "cells": [
  {
   "cell_type": "markdown",
   "id": "4153557e",
   "metadata": {},
   "source": [
    "# Exploration 14"
   ]
  },
  {
   "cell_type": "markdown",
   "id": "18499160",
   "metadata": {},
   "source": [
    "# 1) 데이터 준비와 전처리"
   ]
  },
  {
   "cell_type": "markdown",
   "id": "c616d04c",
   "metadata": {},
   "source": [
    "Movielens 데이터는 rating.dat 안에 이미 인덱싱까지 완료된 사용자-영화-평점 데이터가 깔끔하게 정리되어 있습니다."
   ]
  },
  {
   "cell_type": "code",
   "execution_count": 1,
   "id": "1c0403a0",
   "metadata": {},
   "outputs": [
    {
     "data": {
      "text/html": [
       "<div>\n",
       "<style scoped>\n",
       "    .dataframe tbody tr th:only-of-type {\n",
       "        vertical-align: middle;\n",
       "    }\n",
       "\n",
       "    .dataframe tbody tr th {\n",
       "        vertical-align: top;\n",
       "    }\n",
       "\n",
       "    .dataframe thead th {\n",
       "        text-align: right;\n",
       "    }\n",
       "</style>\n",
       "<table border=\"1\" class=\"dataframe\">\n",
       "  <thead>\n",
       "    <tr style=\"text-align: right;\">\n",
       "      <th></th>\n",
       "      <th>user_id</th>\n",
       "      <th>movie_id</th>\n",
       "      <th>ratings</th>\n",
       "      <th>timestamp</th>\n",
       "    </tr>\n",
       "  </thead>\n",
       "  <tbody>\n",
       "    <tr>\n",
       "      <th>0</th>\n",
       "      <td>1</td>\n",
       "      <td>1193</td>\n",
       "      <td>5</td>\n",
       "      <td>978300760</td>\n",
       "    </tr>\n",
       "    <tr>\n",
       "      <th>1</th>\n",
       "      <td>1</td>\n",
       "      <td>661</td>\n",
       "      <td>3</td>\n",
       "      <td>978302109</td>\n",
       "    </tr>\n",
       "    <tr>\n",
       "      <th>2</th>\n",
       "      <td>1</td>\n",
       "      <td>914</td>\n",
       "      <td>3</td>\n",
       "      <td>978301968</td>\n",
       "    </tr>\n",
       "    <tr>\n",
       "      <th>3</th>\n",
       "      <td>1</td>\n",
       "      <td>3408</td>\n",
       "      <td>4</td>\n",
       "      <td>978300275</td>\n",
       "    </tr>\n",
       "    <tr>\n",
       "      <th>4</th>\n",
       "      <td>1</td>\n",
       "      <td>2355</td>\n",
       "      <td>5</td>\n",
       "      <td>978824291</td>\n",
       "    </tr>\n",
       "    <tr>\n",
       "      <th>...</th>\n",
       "      <td>...</td>\n",
       "      <td>...</td>\n",
       "      <td>...</td>\n",
       "      <td>...</td>\n",
       "    </tr>\n",
       "    <tr>\n",
       "      <th>295</th>\n",
       "      <td>5</td>\n",
       "      <td>3728</td>\n",
       "      <td>2</td>\n",
       "      <td>978244568</td>\n",
       "    </tr>\n",
       "    <tr>\n",
       "      <th>296</th>\n",
       "      <td>5</td>\n",
       "      <td>229</td>\n",
       "      <td>3</td>\n",
       "      <td>978246528</td>\n",
       "    </tr>\n",
       "    <tr>\n",
       "      <th>297</th>\n",
       "      <td>5</td>\n",
       "      <td>6</td>\n",
       "      <td>2</td>\n",
       "      <td>978245916</td>\n",
       "    </tr>\n",
       "    <tr>\n",
       "      <th>298</th>\n",
       "      <td>5</td>\n",
       "      <td>3006</td>\n",
       "      <td>3</td>\n",
       "      <td>978245422</td>\n",
       "    </tr>\n",
       "    <tr>\n",
       "      <th>299</th>\n",
       "      <td>5</td>\n",
       "      <td>2858</td>\n",
       "      <td>4</td>\n",
       "      <td>978241390</td>\n",
       "    </tr>\n",
       "  </tbody>\n",
       "</table>\n",
       "<p>300 rows × 4 columns</p>\n",
       "</div>"
      ],
      "text/plain": [
       "     user_id  movie_id  ratings  timestamp\n",
       "0          1      1193        5  978300760\n",
       "1          1       661        3  978302109\n",
       "2          1       914        3  978301968\n",
       "3          1      3408        4  978300275\n",
       "4          1      2355        5  978824291\n",
       "..       ...       ...      ...        ...\n",
       "295        5      3728        2  978244568\n",
       "296        5       229        3  978246528\n",
       "297        5         6        2  978245916\n",
       "298        5      3006        3  978245422\n",
       "299        5      2858        4  978241390\n",
       "\n",
       "[300 rows x 4 columns]"
      ]
     },
     "execution_count": 1,
     "metadata": {},
     "output_type": "execute_result"
    }
   ],
   "source": [
    "import pandas as pd\n",
    "import os\n",
    "rating_file_path=os.getenv('HOME') + '/aiffel/recommendata_iu/data/ml-1m/ratings.dat'\n",
    "ratings_cols = ['user_id', 'movie_id', 'ratings', 'timestamp']\n",
    "ratings = pd.read_csv(rating_file_path, sep='::', names=ratings_cols, engine='python', encoding = \"ISO-8859-1\")\n",
    "orginal_data_size = len(ratings)\n",
    "ratings.head(300)"
   ]
  },
  {
   "cell_type": "code",
   "execution_count": 2,
   "id": "bdeeb532",
   "metadata": {},
   "outputs": [
    {
     "name": "stdout",
     "output_type": "stream",
     "text": [
      "orginal_data_size: 1000209, filtered_data_size: 836478\n",
      "Ratio of Remaining Data is 83.63%\n"
     ]
    }
   ],
   "source": [
    "# 3점 이상만 남깁니다.\n",
    "ratings = ratings[ratings['ratings']>=3]\n",
    "filtered_data_size = len(ratings)\n",
    "\n",
    "print(f'orginal_data_size: {orginal_data_size}, filtered_data_size: {filtered_data_size}')\n",
    "print(f'Ratio of Remaining Data is {filtered_data_size / orginal_data_size:.2%}')"
   ]
  },
  {
   "cell_type": "code",
   "execution_count": 3,
   "id": "3ba31cff",
   "metadata": {},
   "outputs": [],
   "source": [
    "# ratings 컬럼의 이름을 counts로 바꿉니다.\n",
    "ratings.rename(columns={'ratings':'counts'}, inplace=True)"
   ]
  },
  {
   "cell_type": "code",
   "execution_count": 4,
   "id": "5b495fa4",
   "metadata": {},
   "outputs": [
    {
     "data": {
      "text/plain": [
       "0          5\n",
       "1          3\n",
       "2          3\n",
       "3          4\n",
       "4          5\n",
       "          ..\n",
       "1000203    3\n",
       "1000205    5\n",
       "1000206    5\n",
       "1000207    4\n",
       "1000208    4\n",
       "Name: counts, Length: 836478, dtype: int64"
      ]
     },
     "execution_count": 4,
     "metadata": {},
     "output_type": "execute_result"
    }
   ],
   "source": [
    "ratings['counts']"
   ]
  },
  {
   "cell_type": "code",
   "execution_count": 5,
   "id": "98eaaea3",
   "metadata": {},
   "outputs": [
    {
     "data": {
      "text/html": [
       "<div>\n",
       "<style scoped>\n",
       "    .dataframe tbody tr th:only-of-type {\n",
       "        vertical-align: middle;\n",
       "    }\n",
       "\n",
       "    .dataframe tbody tr th {\n",
       "        vertical-align: top;\n",
       "    }\n",
       "\n",
       "    .dataframe thead th {\n",
       "        text-align: right;\n",
       "    }\n",
       "</style>\n",
       "<table border=\"1\" class=\"dataframe\">\n",
       "  <thead>\n",
       "    <tr style=\"text-align: right;\">\n",
       "      <th></th>\n",
       "      <th>movie_id</th>\n",
       "      <th>title</th>\n",
       "      <th>genre</th>\n",
       "    </tr>\n",
       "  </thead>\n",
       "  <tbody>\n",
       "    <tr>\n",
       "      <th>0</th>\n",
       "      <td>1</td>\n",
       "      <td>Toy Story (1995)</td>\n",
       "      <td>Animation|Children's|Comedy</td>\n",
       "    </tr>\n",
       "    <tr>\n",
       "      <th>1</th>\n",
       "      <td>2</td>\n",
       "      <td>Jumanji (1995)</td>\n",
       "      <td>Adventure|Children's|Fantasy</td>\n",
       "    </tr>\n",
       "    <tr>\n",
       "      <th>2</th>\n",
       "      <td>3</td>\n",
       "      <td>Grumpier Old Men (1995)</td>\n",
       "      <td>Comedy|Romance</td>\n",
       "    </tr>\n",
       "    <tr>\n",
       "      <th>3</th>\n",
       "      <td>4</td>\n",
       "      <td>Waiting to Exhale (1995)</td>\n",
       "      <td>Comedy|Drama</td>\n",
       "    </tr>\n",
       "    <tr>\n",
       "      <th>4</th>\n",
       "      <td>5</td>\n",
       "      <td>Father of the Bride Part II (1995)</td>\n",
       "      <td>Comedy</td>\n",
       "    </tr>\n",
       "    <tr>\n",
       "      <th>5</th>\n",
       "      <td>6</td>\n",
       "      <td>Heat (1995)</td>\n",
       "      <td>Action|Crime|Thriller</td>\n",
       "    </tr>\n",
       "    <tr>\n",
       "      <th>6</th>\n",
       "      <td>7</td>\n",
       "      <td>Sabrina (1995)</td>\n",
       "      <td>Comedy|Romance</td>\n",
       "    </tr>\n",
       "    <tr>\n",
       "      <th>7</th>\n",
       "      <td>8</td>\n",
       "      <td>Tom and Huck (1995)</td>\n",
       "      <td>Adventure|Children's</td>\n",
       "    </tr>\n",
       "    <tr>\n",
       "      <th>8</th>\n",
       "      <td>9</td>\n",
       "      <td>Sudden Death (1995)</td>\n",
       "      <td>Action</td>\n",
       "    </tr>\n",
       "    <tr>\n",
       "      <th>9</th>\n",
       "      <td>10</td>\n",
       "      <td>GoldenEye (1995)</td>\n",
       "      <td>Action|Adventure|Thriller</td>\n",
       "    </tr>\n",
       "  </tbody>\n",
       "</table>\n",
       "</div>"
      ],
      "text/plain": [
       "   movie_id                               title                         genre\n",
       "0         1                    Toy Story (1995)   Animation|Children's|Comedy\n",
       "1         2                      Jumanji (1995)  Adventure|Children's|Fantasy\n",
       "2         3             Grumpier Old Men (1995)                Comedy|Romance\n",
       "3         4            Waiting to Exhale (1995)                  Comedy|Drama\n",
       "4         5  Father of the Bride Part II (1995)                        Comedy\n",
       "5         6                         Heat (1995)         Action|Crime|Thriller\n",
       "6         7                      Sabrina (1995)                Comedy|Romance\n",
       "7         8                 Tom and Huck (1995)          Adventure|Children's\n",
       "8         9                 Sudden Death (1995)                        Action\n",
       "9        10                    GoldenEye (1995)     Action|Adventure|Thriller"
      ]
     },
     "execution_count": 5,
     "metadata": {},
     "output_type": "execute_result"
    }
   ],
   "source": [
    "# 영화 제목을 보기 위해 메타 데이터를 읽어옵니다.\n",
    "movie_file_path=os.getenv('HOME') + '/aiffel/recommendata_iu/data/ml-1m/movies.dat'\n",
    "cols = ['movie_id', 'title', 'genre',] \n",
    "movies = pd.read_csv(movie_file_path, sep='::', names=cols, engine='python', encoding='ISO-8859-1')\n",
    "movies.head(10)"
   ]
  },
  {
   "cell_type": "code",
   "execution_count": 6,
   "id": "e04dde9e",
   "metadata": {},
   "outputs": [
    {
     "name": "stdout",
     "output_type": "stream",
     "text": [
      "[[1 'Toy Story (1995)' \"Animation|Children's|Comedy\"]\n",
      " [2 'Jumanji (1995)' \"Adventure|Children's|Fantasy\"]\n",
      " [3 'Grumpier Old Men (1995)' 'Comedy|Romance']\n",
      " ...\n",
      " [3950 'Tigerland (2000)' 'Drama']\n",
      " [3951 'Two Family House (2000)' 'Drama']\n",
      " [3952 'Contender, The (2000)' 'Drama|Thriller']]\n",
      "1\n",
      "Toy Story (1995)\n"
     ]
    }
   ],
   "source": [
    "print(movies.values)\n",
    "print(movies.values[0][0])\n",
    "print(movies.values[0][1])"
   ]
  },
  {
   "cell_type": "code",
   "execution_count": 7,
   "id": "23963bca",
   "metadata": {},
   "outputs": [],
   "source": [
    "# movie_id 를 통해 title을 얻을 수 있도록 dictionary 생성\n",
    "movie_dic = {}\n",
    "for i in range(len(movies)):\n",
    "    movie_dic[movies.values[i][0]] = movies.values[i][1]"
   ]
  },
  {
   "cell_type": "code",
   "execution_count": 8,
   "id": "05aa1da3",
   "metadata": {},
   "outputs": [],
   "source": [
    "# ratings에 새로운 열 추가\n",
    "mv_title = []\n",
    "for i in range(len(ratings)):\n",
    "    mv_title.append(movie_dic[ratings.values[i][1]])\n",
    "\n",
    "ratings['title'] = mv_title"
   ]
  },
  {
   "cell_type": "code",
   "execution_count": 9,
   "id": "5ba4a8f6",
   "metadata": {},
   "outputs": [
    {
     "data": {
      "text/html": [
       "<div>\n",
       "<style scoped>\n",
       "    .dataframe tbody tr th:only-of-type {\n",
       "        vertical-align: middle;\n",
       "    }\n",
       "\n",
       "    .dataframe tbody tr th {\n",
       "        vertical-align: top;\n",
       "    }\n",
       "\n",
       "    .dataframe thead th {\n",
       "        text-align: right;\n",
       "    }\n",
       "</style>\n",
       "<table border=\"1\" class=\"dataframe\">\n",
       "  <thead>\n",
       "    <tr style=\"text-align: right;\">\n",
       "      <th></th>\n",
       "      <th>user_id</th>\n",
       "      <th>movie_id</th>\n",
       "      <th>counts</th>\n",
       "      <th>timestamp</th>\n",
       "      <th>title</th>\n",
       "    </tr>\n",
       "  </thead>\n",
       "  <tbody>\n",
       "    <tr>\n",
       "      <th>0</th>\n",
       "      <td>1</td>\n",
       "      <td>1193</td>\n",
       "      <td>5</td>\n",
       "      <td>978300760</td>\n",
       "      <td>One Flew Over the Cuckoo's Nest (1975)</td>\n",
       "    </tr>\n",
       "    <tr>\n",
       "      <th>1</th>\n",
       "      <td>1</td>\n",
       "      <td>661</td>\n",
       "      <td>3</td>\n",
       "      <td>978302109</td>\n",
       "      <td>James and the Giant Peach (1996)</td>\n",
       "    </tr>\n",
       "    <tr>\n",
       "      <th>2</th>\n",
       "      <td>1</td>\n",
       "      <td>914</td>\n",
       "      <td>3</td>\n",
       "      <td>978301968</td>\n",
       "      <td>My Fair Lady (1964)</td>\n",
       "    </tr>\n",
       "    <tr>\n",
       "      <th>3</th>\n",
       "      <td>1</td>\n",
       "      <td>3408</td>\n",
       "      <td>4</td>\n",
       "      <td>978300275</td>\n",
       "      <td>Erin Brockovich (2000)</td>\n",
       "    </tr>\n",
       "    <tr>\n",
       "      <th>4</th>\n",
       "      <td>1</td>\n",
       "      <td>2355</td>\n",
       "      <td>5</td>\n",
       "      <td>978824291</td>\n",
       "      <td>Bug's Life, A (1998)</td>\n",
       "    </tr>\n",
       "  </tbody>\n",
       "</table>\n",
       "</div>"
      ],
      "text/plain": [
       "   user_id  movie_id  counts  timestamp  \\\n",
       "0        1      1193       5  978300760   \n",
       "1        1       661       3  978302109   \n",
       "2        1       914       3  978301968   \n",
       "3        1      3408       4  978300275   \n",
       "4        1      2355       5  978824291   \n",
       "\n",
       "                                    title  \n",
       "0  One Flew Over the Cuckoo's Nest (1975)  \n",
       "1        James and the Giant Peach (1996)  \n",
       "2                     My Fair Lady (1964)  \n",
       "3                  Erin Brockovich (2000)  \n",
       "4                    Bug's Life, A (1998)  "
      ]
     },
     "execution_count": 9,
     "metadata": {},
     "output_type": "execute_result"
    }
   ],
   "source": [
    "ratings.head()"
   ]
  },
  {
   "cell_type": "markdown",
   "id": "b8335f94",
   "metadata": {},
   "source": [
    "여기까지가 전처리입니다. 이후에는 이전 스텝에 소개했던 것과 동일한 방식으로 MF model을 구성하여 내가 좋아할 만한 영화를 추천해 볼 수 있습니다."
   ]
  },
  {
   "cell_type": "markdown",
   "id": "e2f9cba9",
   "metadata": {},
   "source": [
    "# 2) 분석해 봅시다."
   ]
  },
  {
   "cell_type": "markdown",
   "id": "1cd41911",
   "metadata": {},
   "source": [
    "- ratings에 있는 유니크한 영화 개수\n",
    "- ratings에 있는 유니크한 사용자 수\n",
    "- 가장 인기 있는 영화 30개(인기순)"
   ]
  },
  {
   "cell_type": "code",
   "execution_count": 10,
   "id": "02b1696d",
   "metadata": {},
   "outputs": [
    {
     "data": {
      "text/plain": [
       "3628"
      ]
     },
     "execution_count": 10,
     "metadata": {},
     "output_type": "execute_result"
    }
   ],
   "source": [
    "# ratings에 있는 유니크한 영화 개수\n",
    "ratings['movie_id'].nunique()"
   ]
  },
  {
   "cell_type": "code",
   "execution_count": 11,
   "id": "81cd6002",
   "metadata": {},
   "outputs": [
    {
     "data": {
      "text/plain": [
       "3628"
      ]
     },
     "execution_count": 11,
     "metadata": {},
     "output_type": "execute_result"
    }
   ],
   "source": [
    "ratings['title'].nunique()"
   ]
  },
  {
   "cell_type": "code",
   "execution_count": 12,
   "id": "bce4b3ed",
   "metadata": {},
   "outputs": [
    {
     "data": {
      "text/plain": [
       "6039"
      ]
     },
     "execution_count": 12,
     "metadata": {},
     "output_type": "execute_result"
    }
   ],
   "source": [
    "# ratings에 있는 유니크한 사용자 수\n",
    "ratings['user_id'].nunique()"
   ]
  },
  {
   "cell_type": "code",
   "execution_count": 13,
   "id": "bacf246d",
   "metadata": {},
   "outputs": [
    {
     "data": {
      "text/plain": [
       "'American Beauty (1999)'"
      ]
     },
     "execution_count": 13,
     "metadata": {},
     "output_type": "execute_result"
    }
   ],
   "source": [
    "movie_dic[2858]"
   ]
  },
  {
   "cell_type": "code",
   "execution_count": 14,
   "id": "34f6d760",
   "metadata": {},
   "outputs": [
    {
     "data": {
      "text/plain": [
       "title\n",
       "American Beauty (1999)                                   3211\n",
       "Star Wars: Episode IV - A New Hope (1977)                2910\n",
       "Star Wars: Episode V - The Empire Strikes Back (1980)    2885\n",
       "Star Wars: Episode VI - Return of the Jedi (1983)        2716\n",
       "Saving Private Ryan (1998)                               2561\n",
       "Terminator 2: Judgment Day (1991)                        2509\n",
       "Silence of the Lambs, The (1991)                         2498\n",
       "Raiders of the Lost Ark (1981)                           2473\n",
       "Back to the Future (1985)                                2460\n",
       "Matrix, The (1999)                                       2434\n",
       "Jurassic Park (1993)                                     2413\n",
       "Sixth Sense, The (1999)                                  2385\n",
       "Fargo (1996)                                             2371\n",
       "Braveheart (1995)                                        2314\n",
       "Men in Black (1997)                                      2297\n",
       "Schindler's List (1993)                                  2257\n",
       "Princess Bride, The (1987)                               2252\n",
       "Shakespeare in Love (1998)                               2213\n",
       "L.A. Confidential (1997)                                 2210\n",
       "Shawshank Redemption, The (1994)                         2194\n",
       "Godfather, The (1972)                                    2167\n",
       "Groundhog Day (1993)                                     2121\n",
       "E.T. the Extra-Terrestrial (1982)                        2102\n",
       "Being John Malkovich (1999)                              2066\n",
       "Ghostbusters (1984)                                      2051\n",
       "Pulp Fiction (1994)                                      2030\n",
       "Forrest Gump (1994)                                      2022\n",
       "Terminator, The (1984)                                   2019\n",
       "Toy Story (1995)                                         2000\n",
       "Fugitive, The (1993)                                     1941\n",
       "Name: user_id, dtype: int64"
      ]
     },
     "execution_count": 14,
     "metadata": {},
     "output_type": "execute_result"
    }
   ],
   "source": [
    "# 가장 인기 있는 영화 30개(인기순)\n",
    "movie_count = ratings.groupby('title')['user_id'].count()\n",
    "movie_count_30 = movie_count.sort_values(ascending=False).head(30)\n",
    "movie_count_30"
   ]
  },
  {
   "cell_type": "markdown",
   "id": "71d15100",
   "metadata": {},
   "source": [
    "title이 보이지 않아서, 타이틀을 보이게끔 만들어 주었다."
   ]
  },
  {
   "cell_type": "code",
   "execution_count": 15,
   "id": "6d2d9919",
   "metadata": {},
   "outputs": [],
   "source": [
    "# 위의 랭크의 movie_id가 아닌 title을 붙여주려 아래 코드를 하였지만\n",
    "# 결국 ratings 의 열을 추가함으로써 아래 코드 불필요\n",
    "\n",
    "# list_a = []\n",
    "# list_b = []\n",
    "# for i in range(len(movie_count_30)):\n",
    "#     list_a.append(movie_count_30.values[i])\n",
    "#     list_b.append(movies['title'][movie_count_30.index[i]-1])\n",
    "\n",
    "# for i in range(len(movie_count_30)):\n",
    "#     movie_count_30_wt = pd.Series(list_a, index = list_b)\n",
    "\n",
    "# movie_count_30_wt"
   ]
  },
  {
   "cell_type": "markdown",
   "id": "a6f62ba8",
   "metadata": {},
   "source": [
    "# 3) 내가 선호하는 영화를 5가지 골라서 ratings에 추가해 줍니다."
   ]
  },
  {
   "cell_type": "code",
   "execution_count": 16,
   "id": "2b624203",
   "metadata": {},
   "outputs": [
    {
     "data": {
      "text/html": [
       "<div>\n",
       "<style scoped>\n",
       "    .dataframe tbody tr th:only-of-type {\n",
       "        vertical-align: middle;\n",
       "    }\n",
       "\n",
       "    .dataframe tbody tr th {\n",
       "        vertical-align: top;\n",
       "    }\n",
       "\n",
       "    .dataframe thead th {\n",
       "        text-align: right;\n",
       "    }\n",
       "</style>\n",
       "<table border=\"1\" class=\"dataframe\">\n",
       "  <thead>\n",
       "    <tr style=\"text-align: right;\">\n",
       "      <th></th>\n",
       "      <th>user_id</th>\n",
       "      <th>movie_id</th>\n",
       "      <th>counts</th>\n",
       "      <th>timestamp</th>\n",
       "      <th>title</th>\n",
       "    </tr>\n",
       "  </thead>\n",
       "  <tbody>\n",
       "    <tr>\n",
       "      <th>1000203</th>\n",
       "      <td>6040</td>\n",
       "      <td>1090.0</td>\n",
       "      <td>3</td>\n",
       "      <td>956715518.0</td>\n",
       "      <td>Platoon (1986)</td>\n",
       "    </tr>\n",
       "    <tr>\n",
       "      <th>1000205</th>\n",
       "      <td>6040</td>\n",
       "      <td>1094.0</td>\n",
       "      <td>5</td>\n",
       "      <td>956704887.0</td>\n",
       "      <td>Crying Game, The (1992)</td>\n",
       "    </tr>\n",
       "    <tr>\n",
       "      <th>1000206</th>\n",
       "      <td>6040</td>\n",
       "      <td>562.0</td>\n",
       "      <td>5</td>\n",
       "      <td>956704746.0</td>\n",
       "      <td>Welcome to the Dollhouse (1995)</td>\n",
       "    </tr>\n",
       "    <tr>\n",
       "      <th>1000207</th>\n",
       "      <td>6040</td>\n",
       "      <td>1096.0</td>\n",
       "      <td>4</td>\n",
       "      <td>956715648.0</td>\n",
       "      <td>Sophie's Choice (1982)</td>\n",
       "    </tr>\n",
       "    <tr>\n",
       "      <th>1000208</th>\n",
       "      <td>6040</td>\n",
       "      <td>1097.0</td>\n",
       "      <td>4</td>\n",
       "      <td>956715569.0</td>\n",
       "      <td>E.T. the Extra-Terrestrial (1982)</td>\n",
       "    </tr>\n",
       "    <tr>\n",
       "      <th>0</th>\n",
       "      <td>Hong</td>\n",
       "      <td>NaN</td>\n",
       "      <td>5</td>\n",
       "      <td>NaN</td>\n",
       "      <td>Daeboo</td>\n",
       "    </tr>\n",
       "    <tr>\n",
       "      <th>1</th>\n",
       "      <td>Hong</td>\n",
       "      <td>NaN</td>\n",
       "      <td>5</td>\n",
       "      <td>NaN</td>\n",
       "      <td>The Matrix</td>\n",
       "    </tr>\n",
       "    <tr>\n",
       "      <th>2</th>\n",
       "      <td>Hong</td>\n",
       "      <td>NaN</td>\n",
       "      <td>5</td>\n",
       "      <td>NaN</td>\n",
       "      <td>Interstellar</td>\n",
       "    </tr>\n",
       "    <tr>\n",
       "      <th>3</th>\n",
       "      <td>Hong</td>\n",
       "      <td>NaN</td>\n",
       "      <td>5</td>\n",
       "      <td>NaN</td>\n",
       "      <td>Leon</td>\n",
       "    </tr>\n",
       "    <tr>\n",
       "      <th>4</th>\n",
       "      <td>Hong</td>\n",
       "      <td>NaN</td>\n",
       "      <td>5</td>\n",
       "      <td>NaN</td>\n",
       "      <td>Joker</td>\n",
       "    </tr>\n",
       "  </tbody>\n",
       "</table>\n",
       "</div>"
      ],
      "text/plain": [
       "        user_id  movie_id  counts    timestamp  \\\n",
       "1000203    6040    1090.0       3  956715518.0   \n",
       "1000205    6040    1094.0       5  956704887.0   \n",
       "1000206    6040     562.0       5  956704746.0   \n",
       "1000207    6040    1096.0       4  956715648.0   \n",
       "1000208    6040    1097.0       4  956715569.0   \n",
       "0          Hong       NaN       5          NaN   \n",
       "1          Hong       NaN       5          NaN   \n",
       "2          Hong       NaN       5          NaN   \n",
       "3          Hong       NaN       5          NaN   \n",
       "4          Hong       NaN       5          NaN   \n",
       "\n",
       "                                     title  \n",
       "1000203                     Platoon (1986)  \n",
       "1000205            Crying Game, The (1992)  \n",
       "1000206    Welcome to the Dollhouse (1995)  \n",
       "1000207             Sophie's Choice (1982)  \n",
       "1000208  E.T. the Extra-Terrestrial (1982)  \n",
       "0                                   Daeboo  \n",
       "1                               The Matrix  \n",
       "2                             Interstellar  \n",
       "3                                     Leon  \n",
       "4                                    Joker  "
      ]
     },
     "execution_count": 16,
     "metadata": {},
     "output_type": "execute_result"
    }
   ],
   "source": [
    "# 내가 좋아하는 영화 5개\n",
    "my_favorite = ['Daeboo' , 'The Matrix' ,'Interstellar' ,'Leon' ,'Joker']\n",
    "\n",
    "# 'Hong'이라는 user_id가 영화에 별점 5점씩.\n",
    "my_movie = pd.DataFrame({'user_id': ['Hong']*5, 'title': my_favorite, 'counts':[5]*5})\n",
    "\n",
    "if not ratings.isin({'user_id':['Hong']})['user_id'].any():  # user_id에 'Hong'이라는 데이터가 없다면\n",
    "    ratings = ratings.append(my_movie)                      # 위에 임의로 만든 my_favorite 데이터를 추가해 줍니다. \n",
    "\n",
    "ratings.tail(10)       # 잘 추가되었는지 확인해 봅시다."
   ]
  },
  {
   "cell_type": "code",
   "execution_count": 17,
   "id": "1f9948c5",
   "metadata": {},
   "outputs": [],
   "source": [
    "# 고유한 유저, 아티스트를 찾아내는 코드\n",
    "user_unique = ratings['user_id'].unique()\n",
    "title_unique = ratings['title'].unique()\n",
    "\n",
    "# 유저, 아티스트 indexing 하는 코드 idx는 index의 약자입니다.\n",
    "user_to_idx = {v:k for k,v in enumerate(user_unique)}\n",
    "title_to_idx = {v:k for k,v in enumerate(title_unique)}"
   ]
  },
  {
   "cell_type": "code",
   "execution_count": 18,
   "id": "4fe405da",
   "metadata": {},
   "outputs": [
    {
     "name": "stdout",
     "output_type": "stream",
     "text": [
      "6039\n",
      "3632\n"
     ]
    }
   ],
   "source": [
    "# 인덱싱이 잘 되었는지 확인해 봅니다. \n",
    "print(user_to_idx['Hong'])    # 358869명의 유저 중 마지막으로 추가된 유저이니 358868이 나와야 합니다. \n",
    "print(title_to_idx['Joker'])"
   ]
  },
  {
   "cell_type": "code",
   "execution_count": 19,
   "id": "0f486377",
   "metadata": {},
   "outputs": [
    {
     "name": "stdout",
     "output_type": "stream",
     "text": [
      "user_id column indexing OK!!\n",
      "title column indexing OK!!\n"
     ]
    },
    {
     "data": {
      "text/html": [
       "<div>\n",
       "<style scoped>\n",
       "    .dataframe tbody tr th:only-of-type {\n",
       "        vertical-align: middle;\n",
       "    }\n",
       "\n",
       "    .dataframe tbody tr th {\n",
       "        vertical-align: top;\n",
       "    }\n",
       "\n",
       "    .dataframe thead th {\n",
       "        text-align: right;\n",
       "    }\n",
       "</style>\n",
       "<table border=\"1\" class=\"dataframe\">\n",
       "  <thead>\n",
       "    <tr style=\"text-align: right;\">\n",
       "      <th></th>\n",
       "      <th>user_id</th>\n",
       "      <th>movie_id</th>\n",
       "      <th>counts</th>\n",
       "      <th>timestamp</th>\n",
       "      <th>title</th>\n",
       "    </tr>\n",
       "  </thead>\n",
       "  <tbody>\n",
       "    <tr>\n",
       "      <th>0</th>\n",
       "      <td>0</td>\n",
       "      <td>0</td>\n",
       "      <td>5</td>\n",
       "      <td>978300760.0</td>\n",
       "      <td>One Flew Over the Cuckoo's Nest (1975)</td>\n",
       "    </tr>\n",
       "    <tr>\n",
       "      <th>1</th>\n",
       "      <td>0</td>\n",
       "      <td>1</td>\n",
       "      <td>3</td>\n",
       "      <td>978302109.0</td>\n",
       "      <td>James and the Giant Peach (1996)</td>\n",
       "    </tr>\n",
       "    <tr>\n",
       "      <th>2</th>\n",
       "      <td>0</td>\n",
       "      <td>2</td>\n",
       "      <td>3</td>\n",
       "      <td>978301968.0</td>\n",
       "      <td>My Fair Lady (1964)</td>\n",
       "    </tr>\n",
       "    <tr>\n",
       "      <th>3</th>\n",
       "      <td>0</td>\n",
       "      <td>3</td>\n",
       "      <td>4</td>\n",
       "      <td>978300275.0</td>\n",
       "      <td>Erin Brockovich (2000)</td>\n",
       "    </tr>\n",
       "    <tr>\n",
       "      <th>4</th>\n",
       "      <td>0</td>\n",
       "      <td>4</td>\n",
       "      <td>5</td>\n",
       "      <td>978824291.0</td>\n",
       "      <td>Bug's Life, A (1998)</td>\n",
       "    </tr>\n",
       "    <tr>\n",
       "      <th>...</th>\n",
       "      <td>...</td>\n",
       "      <td>...</td>\n",
       "      <td>...</td>\n",
       "      <td>...</td>\n",
       "      <td>...</td>\n",
       "    </tr>\n",
       "    <tr>\n",
       "      <th>0</th>\n",
       "      <td>6039</td>\n",
       "      <td>3628</td>\n",
       "      <td>5</td>\n",
       "      <td>NaN</td>\n",
       "      <td>Daeboo</td>\n",
       "    </tr>\n",
       "    <tr>\n",
       "      <th>1</th>\n",
       "      <td>6039</td>\n",
       "      <td>3629</td>\n",
       "      <td>5</td>\n",
       "      <td>NaN</td>\n",
       "      <td>The Matrix</td>\n",
       "    </tr>\n",
       "    <tr>\n",
       "      <th>2</th>\n",
       "      <td>6039</td>\n",
       "      <td>3630</td>\n",
       "      <td>5</td>\n",
       "      <td>NaN</td>\n",
       "      <td>Interstellar</td>\n",
       "    </tr>\n",
       "    <tr>\n",
       "      <th>3</th>\n",
       "      <td>6039</td>\n",
       "      <td>3631</td>\n",
       "      <td>5</td>\n",
       "      <td>NaN</td>\n",
       "      <td>Leon</td>\n",
       "    </tr>\n",
       "    <tr>\n",
       "      <th>4</th>\n",
       "      <td>6039</td>\n",
       "      <td>3632</td>\n",
       "      <td>5</td>\n",
       "      <td>NaN</td>\n",
       "      <td>Joker</td>\n",
       "    </tr>\n",
       "  </tbody>\n",
       "</table>\n",
       "<p>836483 rows × 5 columns</p>\n",
       "</div>"
      ],
      "text/plain": [
       "    user_id  movie_id  counts    timestamp  \\\n",
       "0         0         0       5  978300760.0   \n",
       "1         0         1       3  978302109.0   \n",
       "2         0         2       3  978301968.0   \n",
       "3         0         3       4  978300275.0   \n",
       "4         0         4       5  978824291.0   \n",
       "..      ...       ...     ...          ...   \n",
       "0      6039      3628       5          NaN   \n",
       "1      6039      3629       5          NaN   \n",
       "2      6039      3630       5          NaN   \n",
       "3      6039      3631       5          NaN   \n",
       "4      6039      3632       5          NaN   \n",
       "\n",
       "                                     title  \n",
       "0   One Flew Over the Cuckoo's Nest (1975)  \n",
       "1         James and the Giant Peach (1996)  \n",
       "2                      My Fair Lady (1964)  \n",
       "3                   Erin Brockovich (2000)  \n",
       "4                     Bug's Life, A (1998)  \n",
       "..                                     ...  \n",
       "0                                   Daeboo  \n",
       "1                               The Matrix  \n",
       "2                             Interstellar  \n",
       "3                                     Leon  \n",
       "4                                    Joker  \n",
       "\n",
       "[836483 rows x 5 columns]"
      ]
     },
     "execution_count": 19,
     "metadata": {},
     "output_type": "execute_result"
    }
   ],
   "source": [
    "# indexing을 통해 데이터 컬럼 내 값을 바꾸는 코드\n",
    "# dictionary 자료형의 get 함수는 https://wikidocs.net/16 을 참고하세요.\n",
    "\n",
    "# user_to_idx.get을 통해 user_id 컬럼의 모든 값을 인덱싱한 Series를 구해 봅시다. \n",
    "# 혹시 정상적으로 인덱싱되지 않은 row가 있다면 인덱스가 NaN이 될 테니 dropna()로 제거합니다. \n",
    "temp_user_data = ratings['user_id'].map(user_to_idx.get).dropna()\n",
    "if len(temp_user_data) == len(ratings):   # 모든 row가 정상적으로 인덱싱되었다면\n",
    "    print('user_id column indexing OK!!')\n",
    "    ratings['user_id'] = temp_user_data   # data['user_id']을 인덱싱된 Series로 교체해 줍니다. \n",
    "else:\n",
    "    print('user_id column indexing Fail!!')\n",
    "\n",
    "# title_to_idx을 통해 title 컬럼도 동일한 방식으로 인덱싱해 줍니다. \n",
    "temp_title_data = ratings['title'].map(title_to_idx.get).dropna()\n",
    "if len(temp_title_data) == len(ratings):\n",
    "    print('title column indexing OK!!')\n",
    "    ratings['movie_id'] = temp_title_data\n",
    "else:\n",
    "    print('title column indexing Fail!!')\n",
    "\n",
    "ratings"
   ]
  },
  {
   "cell_type": "markdown",
   "id": "9a52cfec",
   "metadata": {},
   "source": [
    "# 4) CSR matrix를 직접 만들어 봅시다."
   ]
  },
  {
   "cell_type": "code",
   "execution_count": 20,
   "id": "c6871205",
   "metadata": {},
   "outputs": [
    {
     "data": {
      "text/plain": [
       "<6040x3633 sparse matrix of type '<class 'numpy.int64'>'\n",
       "\twith 836483 stored elements in Compressed Sparse Row format>"
      ]
     },
     "execution_count": 20,
     "metadata": {},
     "output_type": "execute_result"
    }
   ],
   "source": [
    "from scipy.sparse import csr_matrix\n",
    "\n",
    "num_user = ratings['user_id'].nunique()\n",
    "num_movie_id = ratings['movie_id'].nunique()\n",
    "\n",
    "csr_data = csr_matrix((ratings.counts, (ratings.user_id, ratings.movie_id)), shape= (num_user, num_movie_id))\n",
    "csr_data"
   ]
  },
  {
   "cell_type": "markdown",
   "id": "74ca7916",
   "metadata": {},
   "source": [
    "# 5) als_model = AlternatingLeastSquares모델을 직접 구성하여 훈련시켜 봅시다."
   ]
  },
  {
   "cell_type": "code",
   "execution_count": 21,
   "id": "8d04f3e2",
   "metadata": {},
   "outputs": [],
   "source": [
    "from implicit.als import AlternatingLeastSquares\n",
    "import os\n",
    "import numpy as np\n",
    "\n",
    "# implicit 라이브러리에서 권장하고 있는 부분입니다.\n",
    "os.environ['OPENBLAS_NUM_THREADS']='1'\n",
    "os.environ['KMP_DUPLICATE_LIB_OK']='True'\n",
    "os.environ['MKL_NUM_THREADS']='1'"
   ]
  },
  {
   "cell_type": "code",
   "execution_count": 97,
   "id": "8871a46b",
   "metadata": {},
   "outputs": [],
   "source": [
    "# Implicit AlternatingLeastSquares 모델의 선언\n",
    "als_model = AlternatingLeastSquares(factors=200, regularization=0.01, use_gpu=False, iterations=20, dtype=np.float32)"
   ]
  },
  {
   "cell_type": "markdown",
   "id": "aa472a5f",
   "metadata": {},
   "source": [
    "1. factors : 유저와 아이템의 벡터를 몇 차원으로 할 것인지\n",
    "2. regularization : 과적합을 방지하기 위해 정규화 값을 얼마나 사용할 것인지\n",
    "3. use_gpu : GPU를 사용할 것인지\n",
    "4. iterations : epochs와 같은 의미입니다. 데이터를 몇 번 반복해서 학습할 것인지"
   ]
  },
  {
   "cell_type": "code",
   "execution_count": 98,
   "id": "b7357d41",
   "metadata": {},
   "outputs": [
    {
     "data": {
      "text/plain": [
       "<3633x6040 sparse matrix of type '<class 'numpy.int64'>'\n",
       "\twith 836483 stored elements in Compressed Sparse Column format>"
      ]
     },
     "execution_count": 98,
     "metadata": {},
     "output_type": "execute_result"
    }
   ],
   "source": [
    "# als 모델은 input으로 (item X user 꼴의 matrix를 받기 때문에 Transpose해줍니다.)\n",
    "csr_data_transpose = csr_data.T\n",
    "csr_data_transpose"
   ]
  },
  {
   "cell_type": "code",
   "execution_count": 99,
   "id": "c175a202",
   "metadata": {},
   "outputs": [
    {
     "data": {
      "application/vnd.jupyter.widget-view+json": {
       "model_id": "e0673a8974af437d8800345f749982f2",
       "version_major": 2,
       "version_minor": 0
      },
      "text/plain": [
       "  0%|          | 0/20 [00:00<?, ?it/s]"
      ]
     },
     "metadata": {},
     "output_type": "display_data"
    }
   ],
   "source": [
    "# 모델 훈련\n",
    "als_model.fit(csr_data_transpose)"
   ]
  },
  {
   "cell_type": "markdown",
   "id": "2010f19a",
   "metadata": {},
   "source": [
    "# 6) 내가 선호하는 5가지 영화 중 하나와 그 외의 영화 하나를 골라 훈련된 모델이 예측한 나의 선호도를 파악해 보세요."
   ]
  },
  {
   "cell_type": "code",
   "execution_count": 100,
   "id": "d443af59",
   "metadata": {},
   "outputs": [
    {
     "name": "stdout",
     "output_type": "stream",
     "text": [
      "슝=3\n"
     ]
    }
   ],
   "source": [
    "Hong, Joker = user_to_idx['Hong'], title_to_idx['Joker']\n",
    "Hong_vector, Joker_vector = als_model.user_factors[Hong], als_model.item_factors[Joker]\n",
    "\n",
    "print('슝=3')"
   ]
  },
  {
   "cell_type": "code",
   "execution_count": 101,
   "id": "335c9134",
   "metadata": {},
   "outputs": [
    {
     "data": {
      "text/plain": [
       "array([-0.08537461, -0.11525011,  0.04184633,  0.08173399, -0.00789307,\n",
       "       -0.01487048, -0.03378157,  0.03326793, -0.10368451,  0.09617941,\n",
       "        0.0004333 , -0.09776039, -0.04150296, -0.10821933, -0.04119677,\n",
       "        0.04559693, -0.05176141,  0.09579128, -0.11060125, -0.01929901,\n",
       "        0.04458833,  0.00406039, -0.09182119, -0.059975  , -0.0338031 ,\n",
       "        0.02200707,  0.03779413,  0.19063815,  0.03907008,  0.11574916,\n",
       "       -0.07529662, -0.01197916,  0.09288327,  0.01425293, -0.00186133,\n",
       "        0.07354088, -0.01053798,  0.03122463,  0.12905753, -0.02571228,\n",
       "       -0.04529758,  0.01750619,  0.01618068,  0.00668929, -0.07933883,\n",
       "       -0.0825027 ,  0.04808204, -0.0137686 ,  0.02453987,  0.11350194,\n",
       "        0.1336938 ,  0.0216976 , -0.07830973, -0.05449667,  0.07451212,\n",
       "        0.04298631,  0.00282762,  0.0060198 ,  0.17321438,  0.05070091,\n",
       "        0.02217843, -0.1276341 , -0.0175557 , -0.10125414, -0.04588213,\n",
       "       -0.0941361 ,  0.07202464,  0.09712252,  0.14419712,  0.082941  ,\n",
       "       -0.03320473,  0.00061019,  0.08458766,  0.0918923 , -0.10894864,\n",
       "       -0.08799912,  0.10540786, -0.05917211, -0.0450022 ,  0.08233171,\n",
       "       -0.01672034, -0.08977993,  0.06200803,  0.00222193, -0.01565888,\n",
       "       -0.10164822,  0.01654847,  0.04170683,  0.11422833,  0.05140825,\n",
       "        0.00418501,  0.02612363,  0.10717579, -0.0664582 , -0.07155268,\n",
       "       -0.01645661,  0.12184576,  0.07514839,  0.05459428, -0.02830103,\n",
       "       -0.02589386,  0.02779091, -0.02840056,  0.07254188,  0.0066261 ,\n",
       "        0.08136996,  0.06961584, -0.09398036, -0.01097496,  0.04090812,\n",
       "       -0.09329776,  0.04516855, -0.0282954 ,  0.0370877 ,  0.01550903,\n",
       "        0.02131766, -0.09433377,  0.00671613, -0.01333784, -0.05276485,\n",
       "       -0.0638629 , -0.00726263, -0.04312368,  0.16495886,  0.05221625,\n",
       "        0.15202014, -0.0567441 ,  0.04455251,  0.0411002 ,  0.03664091,\n",
       "       -0.04891948, -0.11053245,  0.03788742,  0.00378103,  0.02266468,\n",
       "        0.03430276,  0.01109786,  0.02136655,  0.00822531,  0.02369946,\n",
       "       -0.09225148, -0.02173419, -0.09756014, -0.05862444,  0.01717851,\n",
       "       -0.01773187,  0.05894841,  0.01601056, -0.06233822,  0.10349085,\n",
       "       -0.11373037, -0.02581907, -0.03575221, -0.02107618, -0.05211461,\n",
       "        0.11456975, -0.09684945, -0.03616671,  0.06091866,  0.10503499,\n",
       "       -0.04833156, -0.01490006,  0.05295644,  0.11974498, -0.11907967,\n",
       "       -0.00821183, -0.03087407,  0.00809572,  0.10705469, -0.00895251,\n",
       "        0.02172141, -0.09887519,  0.01874278, -0.07437941,  0.01197743,\n",
       "       -0.07269344, -0.05716837, -0.04448961,  0.08029302, -0.17011896,\n",
       "        0.06575748,  0.15134747,  0.02997189,  0.01049725,  0.08941195,\n",
       "        0.01007454, -0.03259803, -0.06379026, -0.1771515 , -0.09067254,\n",
       "       -0.10505134, -0.06364983, -0.0064198 ,  0.08704305, -0.06891506,\n",
       "       -0.20757312,  0.03252417, -0.02515531, -0.03682996, -0.10237066],\n",
       "      dtype=float32)"
      ]
     },
     "execution_count": 101,
     "metadata": {},
     "output_type": "execute_result"
    }
   ],
   "source": [
    "Hong_vector"
   ]
  },
  {
   "cell_type": "code",
   "execution_count": 102,
   "id": "1d538bc3",
   "metadata": {},
   "outputs": [
    {
     "data": {
      "text/plain": [
       "array([ 2.4401497e-03,  1.2331012e-03,  4.9678460e-03,  5.2804621e-03,\n",
       "        2.8377080e-03,  4.6096388e-03,  3.0166269e-03,  3.8998898e-03,\n",
       "        1.6083467e-03,  5.1354659e-03,  3.8123094e-03,  2.4202121e-03,\n",
       "        3.0622720e-03,  8.1780285e-04,  3.5488559e-03,  4.4878586e-03,\n",
       "        1.8512206e-03,  5.1624565e-03,  1.4656000e-03,  3.2149856e-03,\n",
       "        3.7024159e-03,  3.4263944e-03,  9.7280176e-04,  2.2841888e-03,\n",
       "        1.9965053e-03,  3.0310862e-03,  3.7288994e-03,  6.7250035e-03,\n",
       "        3.5174079e-03,  6.0352767e-03,  2.5317373e-03,  3.6653879e-03,\n",
       "        4.5249439e-03,  4.7527291e-03,  2.7951640e-03,  5.5978950e-03,\n",
       "        3.9607906e-03,  4.5210449e-03,  5.7414197e-03,  2.8262192e-03,\n",
       "        2.4493553e-03,  4.1213040e-03,  3.5179511e-03,  2.9041839e-03,\n",
       "        3.0989779e-04,  1.0195842e-03,  5.0453153e-03,  2.1483651e-03,\n",
       "        3.8492351e-03,  6.2156417e-03,  4.6127220e-03,  4.1880687e-03,\n",
       "        1.9419889e-03,  2.5171754e-03,  4.2232806e-03,  3.4746351e-03,\n",
       "        2.9593476e-03,  3.7636191e-03,  5.4519973e-03,  3.0583120e-03,\n",
       "        3.4374311e-03,  1.7419030e-03,  2.0385578e-03,  1.1155044e-03,\n",
       "        1.7420499e-03,  1.4771575e-03,  4.3999315e-03,  4.7637909e-03,\n",
       "        6.1228010e-03,  5.9084264e-03,  2.7548345e-03,  3.8948408e-03,\n",
       "        5.4108682e-03,  5.0799595e-03,  2.1613007e-03,  2.4576995e-03,\n",
       "        5.1184166e-03,  1.9585923e-03,  4.5249620e-03,  5.1479135e-03,\n",
       "        3.0958070e-03,  2.3031079e-03,  4.7310744e-03,  4.9276687e-03,\n",
       "        3.7843555e-03,  2.5756850e-03,  3.3483505e-03,  2.9143526e-03,\n",
       "        5.4726317e-03,  5.0333682e-03,  3.3762883e-03,  4.0577012e-03,\n",
       "        5.1782262e-03,  1.8114208e-03,  2.3224344e-03,  2.4329140e-03,\n",
       "        5.9604808e-03,  4.7082920e-03,  4.5678867e-03,  3.8447231e-03,\n",
       "        2.3723571e-03,  2.7643221e-03,  2.5118969e-03,  5.1365984e-03,\n",
       "        3.6462396e-03,  5.1551713e-03,  4.5327130e-03, -6.9507456e-05,\n",
       "        3.0221057e-03,  3.2696966e-03,  1.2891954e-03,  4.2678863e-03,\n",
       "        2.9641513e-03,  3.6895548e-03,  4.3828199e-03,  4.8206602e-03,\n",
       "        2.5425511e-03,  2.4988328e-03,  2.2698049e-03,  3.0431119e-03,\n",
       "        4.3532671e-03,  3.8579744e-03,  3.8673722e-03,  6.5259202e-03,\n",
       "        3.1702372e-03,  5.3818678e-03,  2.2890694e-03,  3.8994201e-03,\n",
       "        4.4084759e-03,  4.0712496e-03,  3.4249350e-03,  1.7727808e-03,\n",
       "        5.4548946e-03,  3.0279323e-03,  2.8044339e-03,  3.7351700e-03,\n",
       "        3.0451838e-03,  4.6832189e-03,  3.8908243e-03,  4.0847063e-03,\n",
       "        1.8376793e-03,  2.3544941e-03,  2.5193936e-03,  2.4422626e-03,\n",
       "        3.4431764e-03,  2.3884156e-03,  5.2450323e-03,  3.7959972e-03,\n",
       "        1.5223995e-03,  4.8357812e-03,  1.6648914e-03,  3.4033451e-03,\n",
       "        2.3482093e-03,  2.1208359e-03,  2.1411376e-03,  5.5254260e-03,\n",
       "        2.9364009e-03,  2.3314646e-03,  4.3049841e-03,  5.9056063e-03,\n",
       "        1.6689401e-03,  3.3033069e-03,  4.0161912e-03,  4.6646143e-03,\n",
       "        3.2957046e-06,  3.5761106e-03,  3.3583099e-03,  4.2598587e-03,\n",
       "        5.0142366e-03,  5.1903259e-03,  3.3525028e-03,  2.3766183e-03,\n",
       "        4.5052669e-03,  9.5577526e-04,  3.0968324e-03,  3.0694804e-03,\n",
       "        2.8029352e-03,  2.3265344e-03,  4.6103396e-03,  5.6441459e-06,\n",
       "        4.3689841e-03,  5.4666325e-03,  3.6882607e-03,  5.0867354e-03,\n",
       "        4.7773910e-03,  3.2114687e-03,  2.3599325e-03,  2.8807931e-03,\n",
       "       -2.4484898e-04,  2.2381213e-03,  9.7114040e-04,  3.9890921e-03,\n",
       "        4.5191068e-03,  5.3634392e-03,  1.9840316e-03, -1.9222638e-04,\n",
       "        4.2257733e-03,  3.4156134e-03,  2.5132459e-03,  1.6861820e-03],\n",
       "      dtype=float32)"
      ]
     },
     "execution_count": 102,
     "metadata": {},
     "output_type": "execute_result"
    }
   ],
   "source": [
    "Joker_vector"
   ]
  },
  {
   "cell_type": "code",
   "execution_count": 103,
   "id": "c9410f14",
   "metadata": {},
   "outputs": [
    {
     "data": {
      "text/plain": [
       "0.017990163"
      ]
     },
     "execution_count": 103,
     "metadata": {},
     "output_type": "execute_result"
    }
   ],
   "source": [
    "# Hong과 Joker를 내적하는 코드\n",
    "np.dot(Hong_vector, Joker_vector)"
   ]
  },
  {
   "cell_type": "code",
   "execution_count": 104,
   "id": "f17c10e7",
   "metadata": {},
   "outputs": [
    {
     "data": {
      "text/plain": [
       "0.018842101"
      ]
     },
     "execution_count": 104,
     "metadata": {},
     "output_type": "execute_result"
    }
   ],
   "source": [
    "Leon = title_to_idx['Leon']\n",
    "Leon_vector = als_model.item_factors[Leon]\n",
    "np.dot(Hong_vector, Leon_vector)"
   ]
  },
  {
   "cell_type": "markdown",
   "id": "5798fb3b",
   "metadata": {},
   "source": [
    "# 7) 내가 좋아하는 영화와 비슷한 영화를 추천받아 봅시다."
   ]
  },
  {
   "cell_type": "code",
   "execution_count": 105,
   "id": "7189345c",
   "metadata": {},
   "outputs": [
    {
     "data": {
      "text/plain": [
       "[(3628, 0.99999994),\n",
       " (3632, 0.99999994),\n",
       " (3629, 0.9999988),\n",
       " (3630, 0.99999666),\n",
       " (3631, 0.99994403),\n",
       " (3615, 0.99912083),\n",
       " (3531, 0.9984845),\n",
       " (3035, 0.99819624),\n",
       " (3088, 0.9977483),\n",
       " (3549, 0.9975962),\n",
       " (3591, 0.99753404),\n",
       " (3570, 0.9974574),\n",
       " (3420, 0.9972963),\n",
       " (3589, 0.9972597),\n",
       " (3053, 0.99717796)]"
      ]
     },
     "execution_count": 105,
     "metadata": {},
     "output_type": "execute_result"
    }
   ],
   "source": [
    "favorite_movie = 'Joker'\n",
    "movie_id = title_to_idx[favorite_movie]\n",
    "similar_movie = als_model.similar_items(movie_id, N=15)\n",
    "similar_movie"
   ]
  },
  {
   "cell_type": "code",
   "execution_count": 106,
   "id": "4c437ad9",
   "metadata": {},
   "outputs": [
    {
     "data": {
      "text/plain": [
       "['Daeboo',\n",
       " 'Joker',\n",
       " 'The Matrix',\n",
       " 'Interstellar',\n",
       " 'Leon',\n",
       " 'Chain of Fools (2000)',\n",
       " 'Aiqing wansui (1994)',\n",
       " 'For Ever Mozart (1996)',\n",
       " 'Open Season (1996)',\n",
       " 'Make Them Die Slowly (Cannibal Ferox) (1980)',\n",
       " \"Heaven's Burning (1997)\",\n",
       " 'Loser (1991)',\n",
       " 'Jeanne and the Perfect Guy (Jeanne et le garçon formidable) (1998)',\n",
       " 'Soft Toilet Seats (1999)',\n",
       " 'Sunchaser, The (1996)']"
      ]
     },
     "execution_count": 106,
     "metadata": {},
     "output_type": "execute_result"
    }
   ],
   "source": [
    "#title_to_idx 를 뒤집어, index로부터 title 이름을 얻는 dict를 생성합니다. \n",
    "idx_to_title = {v:k for k,v in title_to_idx.items()}\n",
    "[idx_to_title[i[0]] for i in similar_movie]"
   ]
  },
  {
   "cell_type": "code",
   "execution_count": 108,
   "id": "05a3ad72",
   "metadata": {},
   "outputs": [
    {
     "name": "stdout",
     "output_type": "stream",
     "text": [
      "슝=3\n"
     ]
    }
   ],
   "source": [
    "# 함수로 만들기\n",
    "def get_similar_title(movie_name: str):\n",
    "    movie_id = title_to_idx[movie_name]\n",
    "    similar_movie = als_model.similar_items(movie_id)\n",
    "    similar_movie = [idx_to_title[i[0]] for i in similar_movie]\n",
    "    return similar_movie\n",
    "\n",
    "print(\"슝=3\")"
   ]
  },
  {
   "cell_type": "code",
   "execution_count": 112,
   "id": "e4de73e0",
   "metadata": {},
   "outputs": [
    {
     "data": {
      "text/plain": [
       "['Loser (1991)',\n",
       " 'The Matrix',\n",
       " 'Daeboo',\n",
       " 'Joker',\n",
       " 'Interstellar',\n",
       " 'Leon',\n",
       " 'Chain of Fools (2000)',\n",
       " 'Aiqing wansui (1994)',\n",
       " 'Soft Toilet Seats (1999)',\n",
       " 'Open Season (1996)']"
      ]
     },
     "execution_count": 112,
     "metadata": {},
     "output_type": "execute_result"
    }
   ],
   "source": [
    "get_similar_title('Loser (1991)')"
   ]
  },
  {
   "cell_type": "markdown",
   "id": "bae80248",
   "metadata": {},
   "source": [
    "# 8) 내가 가장 좋아할 만한 영화들을 추천받아 봅시다."
   ]
  },
  {
   "cell_type": "code",
   "execution_count": 113,
   "id": "c6223c48",
   "metadata": {},
   "outputs": [
    {
     "data": {
      "text/plain": [
       "[(126, 0.029659528),\n",
       " (706, 0.028280737),\n",
       " (228, 0.026950791),\n",
       " (851, 0.026266616),\n",
       " (1523, 0.025484707),\n",
       " (2515, 0.024428526),\n",
       " (817, 0.024230957),\n",
       " (946, 0.023882747),\n",
       " (1553, 0.023631537),\n",
       " (2250, 0.02339926),\n",
       " (1135, 0.023101792),\n",
       " (1716, 0.022877868),\n",
       " (1143, 0.022647873),\n",
       " (1634, 0.022522487),\n",
       " (2336, 0.022416618),\n",
       " (3418, 0.022339216),\n",
       " (726, 0.022255087),\n",
       " (2987, 0.021940025),\n",
       " (832, 0.02185981),\n",
       " (2886, 0.021839507)]"
      ]
     },
     "execution_count": 113,
     "metadata": {},
     "output_type": "execute_result"
    }
   ],
   "source": [
    "user = user_to_idx['Hong']\n",
    "# recommend에서는 user*item CSR Matrix를 받습니다.\n",
    "movie_recommended = als_model.recommend(user, csr_data, N=20, filter_already_liked_items=True)\n",
    "movie_recommended"
   ]
  },
  {
   "cell_type": "code",
   "execution_count": 114,
   "id": "33b08c15",
   "metadata": {},
   "outputs": [
    {
     "data": {
      "text/plain": [
       "['Shakespeare in Love (1998)',\n",
       " 'L.A. Story (1991)',\n",
       " 'X-Files: Fight the Future, The (1998)',\n",
       " 'Iron Giant, The (1999)',\n",
       " 'Flying Tigers (1942)',\n",
       " 'Life and Times of Hank Greenberg, The (1998)',\n",
       " 'Sneakers (1992)',\n",
       " 'Parenthood (1989)',\n",
       " 'Slipper and the Rose, The (1976)',\n",
       " 'Blood on the Sun (1945)',\n",
       " 'For All Mankind (1989)',\n",
       " \"Angela's Ashes (1999)\",\n",
       " 'Do the Right Thing (1989)',\n",
       " 'Everest (1998)',\n",
       " 'Stalingrad (1993)',\n",
       " 'I Love You, I Love You Not (1996)',\n",
       " 'Blair Witch Project, The (1999)',\n",
       " 'Grandfather, The (El Abuelo) (1998)',\n",
       " 'Jakob the Liar (1999)',\n",
       " 'New Age, The (1994)']"
      ]
     },
     "execution_count": 114,
     "metadata": {},
     "output_type": "execute_result"
    }
   ],
   "source": [
    "[idx_to_title[i[0]] for i in movie_recommended]"
   ]
  },
  {
   "cell_type": "markdown",
   "id": "45a01f7d",
   "metadata": {},
   "source": [
    "AlternatingLeastSquares 클래스에 구현된 explain 메서드를 사용하면 제가 기록을 남긴 데이터 중 이 추천에 기여한 정도를 확인할 수 있습니다."
   ]
  },
  {
   "cell_type": "code",
   "execution_count": 129,
   "id": "0c0b2708",
   "metadata": {},
   "outputs": [],
   "source": [
    "Everest = title_to_idx['Everest (1998)']\n",
    "explain = als_model.explain(user, csr_data, itemid=Everest)"
   ]
  },
  {
   "cell_type": "markdown",
   "id": "527a0d0a",
   "metadata": {},
   "source": [
    "이 method는 추천한 콘텐츠의 점수에 기여한 다른 콘텐츠와 기여도(합이 콘텐츠의 점수가 됩니다.)를 반환합니다. "
   ]
  },
  {
   "cell_type": "code",
   "execution_count": 130,
   "id": "0a138a37",
   "metadata": {},
   "outputs": [
    {
     "data": {
      "text/plain": [
       "[('The Matrix', 0.004705807698421714),\n",
       " ('Leon', 0.004451247672594641),\n",
       " ('Daeboo', 0.004223749387509762),\n",
       " ('Joker', 0.004218785995173475),\n",
       " ('Interstellar', 0.004076339923804315)]"
      ]
     },
     "execution_count": 130,
     "metadata": {},
     "output_type": "execute_result"
    }
   ],
   "source": [
    "[(idx_to_title[i[0]], i[1]) for i in explain[1]]"
   ]
  },
  {
   "cell_type": "markdown",
   "id": "875ab193",
   "metadata": {},
   "source": [
    "# 회고\n",
    "\n",
    "## 이번 프로젝트에서 어려웠던 점\n",
    "#### 이번 프로젝트에서 어려웠던 점은, 내적 수치를 높혀야 하나? 만약 그렇다면 어떻게 높히지? 였습니다.\n",
    "- 우선, 학습 후에 정확도 같은 개념이 있지 않아, 수치적으로 볼 수 있는 부분이 유일하게 내적인데, 아티스트를 찾는 실습을 하였을 때는, 0.49 정도의 비교적 높은 내적 값이 나왔 었습니다. 하지만 제가 만든 영화 추천 내적같은경우에는, 심하면 e-15 정도나, 잘 나와도 지금 보시는 것 처럼 0.017 정도가 최선이었습니다. LMS에서 설명하기로는, 1이 나온다고 좋다고 볼 수는 없고, 이에 대한 검증이 필요하며, 또한 객관적이 평가가 어려우므로, 정답은 없다고 했는데, 이 부분이 이해하기 어려웠습니다.\n",
    "- 또한, 우선 나름대로 최적을 값을 찾는다며 factors와, iterations값을 조정해 보았는데, 정말 놀랍게도.. 조정하는 값이 의미가 있나? 싶을정도로 값을 계속 바꾸어보아도, 혹은 같은 값으로 똑같이 학습하여도, 좋은 값이 나오지 못하였습니다.\n",
    "\n",
    "## 프로젝트를 진행하면서 알아낸 점 혹은 아직 모호한 점\n",
    "#### 추천시스템의 이론적인 부분에 대해 알 수 있었습니다.\n",
    "- 완벽하게 이해하지는 못하였지만, 항상 유튜브나 넷플릭스나, 혹은 음악을 감상할 때에 어떤 방법으로 추천을 해주는지 내부적인 상황이 궁금하였는데, 이번 LMS와 실습을 통해 대략적인 부분을 알 수 있었습니다. 학생시절에 배운 수학의 내적을 이렇게 연관지을 수 있다는 점에서, 저로 하여금 다시 수학책을 펴게 만드는 재미난 순간이었습니다.\n",
    "#### 정확도에 대해 모호합니다.\n",
    "- 우선 위의 실습 같은경우에는, 개인적으로 모르는 영화도 많기에, 주관적으로 판단하고 싶었지만, 어떤 영화인지를 알 수 없기에 모호한 부분이 있었습니다. 또한, 내적의 값이 하이퍼 파라미터 값과는 무관하게 큰 폭의 차이를 갖고 있어서 어떤 의미가 있는지 역시 모호하였습니다.\n",
    "- 다양한 내적 값을 가지고 다양하게 추천을 받아 보았는데, 전혀 다른 영화리스트를 보여줘서, 그리고 그 영화가 어떤 영화인지 알 수 없었기에, 정확도나 혹은 어떤 값을 어떻게 수정해야하는지에 대한 값이 잡히지 않아 다소 답답하였습니다.\n",
    "- 하지만 한편으론.. 유튜브나 노래나 그런것도 마찬가지로 추천해줘도 마음에 들지 않는부분이 많기 때문에 지금 제가 구현한 추천시스템이 현재 제가 이용하고 있는 추천시스템과 유사하다고 느끼기도 하였습니다 ㅎㅎ\n",
    "\n",
    "## 루브릭 평가 지표를 맞추기 위해 시도한 것들.\n",
    "#### 사용자와 아이템 개수를 바탕으로 정확한 사이즈로 만들었다.\n",
    "- 처음 오픈한 ratings 데이터에는 title이 아닌 moive_id 만 기록되어 있었고, 두 번째 오픈한 movies 데이터에는 movie_id 와 title이 적혀있었습니다. 이를 이용하여, ratings 데이터에 movie_id에 걸맞는 title 열을 추가하였습니다. 이를 바탕으로 개수를 확인할 수 있었고, 혹시나 값이 틀리지 않았는지 재 검수도 하였습니다.\n",
    "\n",
    "#### 시용자와 아이템 벡터 내적수치가 의미있게 형성되었다.\n",
    "- 이 부분이 위에 말씀드린 가장 모호한 부분입니다. 수치적으로 의미가 있는지, 하이퍼 파라미터 값이 고정이어도 왜 내적 수치는 큰 폭을 변하는지에 대한 원인을 알 지 못하였습니다. 하지만 나름대로 다양한 값을 수정해 가며, 제 데이터 내에서 제가 할 수 있는 가장 높은 값을 찾아 추천을 받아 보았습니다.\n",
    "\n",
    "#### MF모델이 예측한 유저 선호도 및 아이템간 유사도, 기여도가 의미있게 측정되었다\n",
    "- 어떤 점수가 유의미한 측정이 되었다고 말할 수 잌ㅅ는지 잘 모르겠습니다. 하지만 얼핏 보아도 유사도가 의미있는 측정이 되었다고 볼 수 없을것 같습니다. 우선 LMS 가장 마지막에, `filter_already_liked_items=True` 에 대한 버그가 있다고 쓰여있는데, 그 때문인지 이미 제가 본 영화 5개만 측정해 주었습니다. 이를 바꾸어 보려하였으나, 다른것을 건들 수가 없어 실패하였습니다.\n",
    "\n",
    "## 만약에 루브릭 평가 관련 지표를 달성하지 못했을 때, 이유에 관한 추정\n",
    "#### 내적 수치가 의미있게 형성되지 않았고, 아이템간 유사도, 기여도가 의미있게 측정되지 못한것이 달성하지 못하지 않았나 추정해 봅니다.\n",
    "- 위에서 계속 설명하였듯, 하이퍼 파라미터를 같게하여도, 내적 수치가 큰폭을 변화하고, 최대치가 0.017정도 밖에 되지 않는 다는점에서, 제가 어떤 부분을 건드려야 이 값이향상하는지 알 수 없었기에 의미있는 값을 보여주지 못한것 같습니다. 그와 같은 이유로 인해 루브릭 평가 지표를 달성하지 못한 추정이 된다고 말하였습니다.\n",
    "\n",
    "## 자기 다짐\n",
    "- 이번 노드를 통하여 제가 실 생활에서 가장 밀접하게 경험하고 있다는 부분에 대해 내부적인 이론에 대해 알 수 있었고, 또한 수학공부를 할 때에 배웠던 내적 수치에 대한 활용을 알 수 있어서 한편으로는 너무 재미있었습니다. 하지만 이번 노드는 영화 관련 노드이고, 알지 못하는 영화들이 많았기에 추천해준 영화들에 대한 정확도는 물론 객관하하기 힘들지만, 제 자신이 알기가 쉽지 않았기에 어렵게 느껴졌습니다. 게다가 내적 값을 어느정도까지는 향상시키는 것이 맞다는 생각이 드는데, 어떤 식으로 어떤 방법으로 향상시킬 수 있을지에 대한 답을 아직 찾지 못한것이 마음이 걸립니다. 때문에 다음에도 추천관련 노드가 나왔을 때 이번 노드를 바탕으로 내적값의 의미와 유사도, 그리고 향상 시킬 수 있는 방법 등을 좀 더 공부해 볼 예정입니다.\n",
    "\n",
    "감사합니다."
   ]
  },
  {
   "cell_type": "code",
   "execution_count": null,
   "id": "8b83154e",
   "metadata": {},
   "outputs": [],
   "source": []
  }
 ],
 "metadata": {
  "kernelspec": {
   "display_name": "Python 3 (ipykernel)",
   "language": "python",
   "name": "python3"
  },
  "language_info": {
   "codemirror_mode": {
    "name": "ipython",
    "version": 3
   },
   "file_extension": ".py",
   "mimetype": "text/x-python",
   "name": "python",
   "nbconvert_exporter": "python",
   "pygments_lexer": "ipython3",
   "version": "3.9.7"
  }
 },
 "nbformat": 4,
 "nbformat_minor": 5
}
