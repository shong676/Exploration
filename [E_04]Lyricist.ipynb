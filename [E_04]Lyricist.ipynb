{
 "cells": [
  {
   "cell_type": "markdown",
   "id": "bb6583a2",
   "metadata": {},
   "source": [
    "# 1조 홍성진 Exploration 04"
   ]
  },
  {
   "cell_type": "markdown",
   "id": "afe0fc5a",
   "metadata": {},
   "source": [
    "# 모듈 불러오기\n"
   ]
  },
  {
   "cell_type": "code",
   "execution_count": 1,
   "id": "3c21b2db",
   "metadata": {},
   "outputs": [],
   "source": [
    "import os, re\n",
    "import numpy as np\n",
    "import tensorflow as tf\n",
    "\n",
    "import glob"
   ]
  },
  {
   "cell_type": "markdown",
   "id": "16caa6ca",
   "metadata": {},
   "source": [
    "## 데이터 읽어오기"
   ]
  },
  {
   "cell_type": "code",
   "execution_count": 2,
   "id": "4cbf7b19",
   "metadata": {},
   "outputs": [
    {
     "name": "stdout",
     "output_type": "stream",
     "text": [
      "데이터 크기: 187088\n",
      "Examples:\n",
      " ['Yes and lover, lover, lover, lover, lover, lover, lover come back to me. Un Canadien Errant (A wandering Canadian,)', 'Banni de ses foyers, (banned from his hearths,)', 'Parcourait en pleurant (travelled while crying)', 'Des pays etrangers. (in foreign lands.)', 'Parcourait en pleurant (travelled while crying)', 'Des pays etrangers. (in foreign lands.)', 'Un jour, triste et pensif, (One day, sad and pensive,)', 'Assis au bord des flots, (sitting by the flowing waters,)', 'Au courant fugitif (to the fleeing current)', 'Il adressa ces mots: (he addressed these words:)']\n"
     ]
    }
   ],
   "source": [
    "txt_file_path = os.getenv(\"HOME\") + '/aiffel/lyricist/data/lyrics/*'\n",
    "\n",
    "txt_list = glob.glob(txt_file_path)\n",
    "raw_corpus = []\n",
    "\n",
    "# 여러개의 txt 파일을 모두 읽어서 raw_corpus 에 담습니다.\n",
    "for txt_file in txt_list:\n",
    "    with open(txt_file, \"r\", encoding='UTF8') as f: #cp949 에러가 나서 encoding='UTF8'를 추가해 주었다.\n",
    "        raw = f.read().splitlines()\n",
    "        raw_corpus.extend(raw)\n",
    "\n",
    "print(\"데이터 크기:\", len(raw_corpus))\n",
    "print(\"Examples:\\n\", raw_corpus[1290:1300])"
   ]
  },
  {
   "cell_type": "markdown",
   "id": "6f999d7b",
   "metadata": {},
   "source": [
    "## 데이터 정제"
   ]
  },
  {
   "cell_type": "code",
   "execution_count": 3,
   "id": "bb0d8153",
   "metadata": {},
   "outputs": [
    {
     "name": "stdout",
     "output_type": "stream",
     "text": [
      "<start> this is sample sentence . isn't it ? <end>\n"
     ]
    }
   ],
   "source": [
    "def preprocess_sentence(stc):\n",
    "    stc = stc.lower().strip() #1. 소문자로 바꾸고, 양쪽 공백을 지웁니다.\n",
    "    stc = re.sub(r\"([?.!,¿])\", r\" \\1 \",stc) #2. 특수문자 양쪽에 공백을 널습니다.\n",
    "    stc = re.sub(r'[\" \"]+', \" \", stc) # 3. 여러개의 공백은 하나의 공백으로 바꿉니다.\n",
    "    stc = re.sub(r\"[^a-zA-Z?.!,¿']+\", \" \",stc) # 4. a-z, A-z, ? ,, !, ¿가 아닌 모든 문자를 하나의 공백으로 바꿉니다.\n",
    "    stc = stc.strip() # 다시 양쪽 공백을 지웁니다.\n",
    "    stc = '<start> ' + stc + ' <end>' # 문장 시작에는 <start>, 끝에는 <end>를 추가합니다.\n",
    "    return stc\n",
    "\n",
    "#문장 필터링이 잘 되는지 확인.\n",
    "print(preprocess_sentence(\"(This @_is ;;;sample        sentence. isn't it?)\"))"
   ]
  },
  {
   "cell_type": "code",
   "execution_count": 4,
   "id": "0cd09d7f",
   "metadata": {},
   "outputs": [
    {
     "data": {
      "text/plain": [
       "[\"<start> out of my life girl , you don't understand what you do to me <end>\",\n",
       " '<start> mesmo a bela e a fera sentimento assim <end>',\n",
       " '<start> showing my ass , growing up then started traveling <end>',\n",
       " '<start> what am i supposed to do to make you want me properly ? <end>',\n",
       " '<start> the law can t touch her at all <end>',\n",
       " '<start> i spot hiphop in the ocean im gon save it <end>',\n",
       " \"<start> what's your name ? <end>\",\n",
       " '<start> it might just happen <end>',\n",
       " '<start> did they know right then and there what the power was worth ? <end>',\n",
       " '<start> and they tell him , <end>']"
      ]
     },
     "execution_count": 4,
     "metadata": {},
     "output_type": "execute_result"
    }
   ],
   "source": [
    "corpus = [] # 정제된 문장을 이곳에 모으기\n",
    "\n",
    "set_corpus = set(raw_corpus) #중복 제외\n",
    "for sentence in set_corpus:\n",
    "    #원하지 않는 문장 건너 뛰기.\n",
    "    if len(sentence) == 0: continue\n",
    "    # if sentence[-1] == \":\": continue 대본이 아닌 가사에는 굳이 필요없음.\n",
    "#     if sentence.count(\" \")-(sentence.count(\"?\")+sentence.count(\".\")+sentence.count(\"!\")+sentence.count(\"¿\")+sentence.count(\",\")) > 15:\n",
    "#         #print(\"removed: \\n\",sentence,\"DONE. \\n\") # 삭제된 문장을 잠시 확인하였음.\n",
    "#         continue #토큰의 개수가 15개를 넘어가는 문장 학습데이터에서 제외\n",
    "    \n",
    "    \n",
    "    #정제 후 담기\n",
    "    preprocessed_sentence = preprocess_sentence(sentence)\n",
    "    word = sentence.split() #토큰이 15개가 넘어가면 학습 데이터에서 제외\n",
    "    if len(word) > 15:\n",
    "        #print(word)\n",
    "        continue\n",
    "    \n",
    "    else:\n",
    "        corpus.append(preprocessed_sentence)\n",
    "\n",
    "#정제 결과 10개정도 확인\n",
    "corpus[:10]"
   ]
  },
  {
   "cell_type": "markdown",
   "id": "227e42ab",
   "metadata": {},
   "source": [
    "## Tokenize 하기"
   ]
  },
  {
   "cell_type": "code",
   "execution_count": 5,
   "id": "4d7841cc",
   "metadata": {},
   "outputs": [
    {
     "name": "stdout",
     "output_type": "stream",
     "text": [
      "[[    2    55    17 ...     0     0     0]\n",
      " [    2 11382     9 ...     0     0     0]\n",
      " [    2  2723    12 ...     0     0     0]\n",
      " ...\n",
      " [    2    74    96 ...     0     0     0]\n",
      " [    2   203   260 ...     0     0     0]\n",
      " [    2    40    20 ...     0     0     0]] <keras_preprocessing.text.Tokenizer object at 0x7f52b366c400>\n",
      "\n",
      " ====================================================================== \n",
      " [[    2    55    17    12   107    82     4     7    34   426    41     7\n",
      "     44    10    11     3     0     0     0     0     0     0     0     0\n",
      "      0     0     0     0     0     0     0     0]\n",
      " [    2 11382     9 11383   608     9  7680     1     1     3     0     0\n",
      "      0     0     0     0     0     0     0     0     0     0     0     0\n",
      "      0     0     0     0     0     0     0     0]\n",
      " [    2  2723    12   208     4  1854    30    84   546  1984     3     0\n",
      "      0     0     0     0     0     0     0     0     0     0     0     0\n",
      "      0     0     0     0     0     0     0     0]]\n"
     ]
    }
   ],
   "source": [
    "def tokenize(corpus):\n",
    "    tokenizer = tf.keras.preprocessing.text.Tokenizer(\n",
    "        num_words = 12000, #12000이상\n",
    "        filters = '', #이미 했기 때문에 필요없음.\n",
    "        oov_token = \"<unk>\" # num_words 에 포함되지 않으면 <unk>\n",
    "    )\n",
    "    \n",
    "    tokenizer.fit_on_texts(corpus) #tokenizer 내부의 corpus를 이용한 단어장 완성\n",
    "    \n",
    "    tensor = tokenizer.texts_to_sequences(corpus) #tokenizer을 이용해 corpus를 Tensor로 변환\n",
    "    \n",
    "    #시퀀스가 짧다면, 문장 뒤나 앞에 패딩을 붙여 길이를 맞춰줍니다.\n",
    "    #문장 뒤에 패딩을 맞추고 싶으면 padding = 'post'\n",
    "    #문자 앞에 패딩을 맞추고 싶으면 padding = 'pre'\n",
    "    tensor = tf.keras.preprocessing.sequence.pad_sequences(tensor, padding='post')\n",
    "    \n",
    "    print(tensor,tokenizer)\n",
    "    return tensor, tokenizer\n",
    "\n",
    "tensor, tokenizer = tokenize(corpus)\n",
    "\n",
    "print(\"\\n\",'='*70,\"\\n\",tensor[:3, :-1])"
   ]
  },
  {
   "cell_type": "markdown",
   "id": "7a4c4f55",
   "metadata": {},
   "source": [
    "## Tokenizer 사전 확인"
   ]
  },
  {
   "cell_type": "code",
   "execution_count": 17,
   "id": "e93a6de0",
   "metadata": {},
   "outputs": [
    {
     "name": "stdout",
     "output_type": "stream",
     "text": [
      "28540\n",
      "1 : <unk>\t2 : <start>\t3 : <end>\t4 : ,\t5 : the\t6 : i\t7 : you\t8 : and\t9 : a\t10 : to\t11 : me\t12 : my\t13 : in\t14 : it\t15 : .\t16 : that\t17 : of\t18 : on\t19 : your\t20 : i'm\t"
     ]
    }
   ],
   "source": [
    "print(len(tokenizer.index_word))\n",
    "for idx in tokenizer.index_word:\n",
    "    print(idx, \":\", tokenizer.index_word[idx], end ='\\t')\n",
    "    \n",
    "    if idx >= 20: break\n"
   ]
  },
  {
   "cell_type": "markdown",
   "id": "e58eb9ee",
   "metadata": {},
   "source": [
    "## 평가 데이터 셋 소스와 타겟으로 분리 1"
   ]
  },
  {
   "cell_type": "code",
   "execution_count": 7,
   "id": "ef8615e3",
   "metadata": {},
   "outputs": [
    {
     "name": "stdout",
     "output_type": "stream",
     "text": [
      "[  2  55  17  12 107  82   4   7  34 426  41   7  44  10  11   3   0   0\n",
      "   0   0   0   0   0   0   0   0   0   0   0   0   0   0]\n",
      "[ 55  17  12 107  82   4   7  34 426  41   7  44  10  11   3   0   0   0\n",
      "   0   0   0   0   0   0   0   0   0   0   0   0   0   0]\n"
     ]
    }
   ],
   "source": [
    "#tensor에서 마지막 토큰을 잘라내서 소스 문장을 생성\n",
    "#마지막 토큰은 <end>가 아닌, <pad>일 가능성이 높다.\n",
    "\n",
    "src_input = tensor[:,:-1]\n",
    "#tensor에서 <start>를 잘라내서 타겟 문장을 생성\n",
    "trg_input = tensor[:,1:]\n",
    "\n",
    "print(src_input[0])\n",
    "print(trg_input[0])"
   ]
  },
  {
   "cell_type": "markdown",
   "id": "b70851df",
   "metadata": {},
   "source": [
    "## 데이터셋 객체를 생성"
   ]
  },
  {
   "cell_type": "code",
   "execution_count": 8,
   "id": "57ae69a7",
   "metadata": {},
   "outputs": [
    {
     "data": {
      "text/plain": [
       "<BatchDataset shapes: ((256, 32), (256, 32)), types: (tf.int32, tf.int32)>"
      ]
     },
     "execution_count": 8,
     "metadata": {},
     "output_type": "execute_result"
    }
   ],
   "source": [
    "BUFFER_SIZE = len(src_input)\n",
    "BATCH_SIZE = 256\n",
    "steps_per_epoch = len(src_input) // BATCH_SIZE\n",
    "\n",
    "# tokenizer가 구축한 단어사전 내 12000개와, 여기 포함되지 않은 0:<pad>를 포함하여, 12001개.\n",
    "VOCAB_SIZE = tokenizer.num_words + 1\n",
    "\n",
    "# 준비한 데이터 소스로부터 데이터셋을 만듭니다.\n",
    "# 데이터셋에 대해서는 아래 문서를 참고\n",
    "# https://www.tensorflow.org/api_docs/python/tf/data/Dataset\n",
    "dataset = tf.data.Dataset.from_tensor_slices((src_input, trg_input)) #courpus텐서를 tf.data.Dataset 객체로 변환.\n",
    "dataset = dataset.shuffle(BUFFER_SIZE)\n",
    "dataset = dataset.batch(BATCH_SIZE, drop_remainder=True)\n",
    "dataset"
   ]
  },
  {
   "cell_type": "markdown",
   "id": "c0070ad1",
   "metadata": {},
   "source": [
    "## 평가 데이터 셋 소스와 타겟으로 분리 2"
   ]
  },
  {
   "cell_type": "code",
   "execution_count": 9,
   "id": "ea5f8b75",
   "metadata": {},
   "outputs": [],
   "source": [
    "from sklearn.model_selection import train_test_split\n",
    "\n",
    "enc_train, enc_val, dec_train, dec_val = train_test_split(src_input,\n",
    "                                                         trg_input,\n",
    "                                                         test_size = 0.2,\n",
    "                                                         shuffle = True,\n",
    "                                                         random_state  = 99)"
   ]
  },
  {
   "cell_type": "code",
   "execution_count": 10,
   "id": "8e7a256e",
   "metadata": {},
   "outputs": [
    {
     "name": "stdout",
     "output_type": "stream",
     "text": [
      "Source Train: (89681, 32)\n",
      "Target Train: (89681, 32)\n"
     ]
    }
   ],
   "source": [
    "print(\"Source Train:\", enc_train.shape)\n",
    "print(\"Target Train:\", dec_train.shape)"
   ]
  },
  {
   "cell_type": "markdown",
   "id": "e437596a",
   "metadata": {},
   "source": [
    "## 인공지능 만들기"
   ]
  },
  {
   "cell_type": "code",
   "execution_count": 11,
   "id": "54dbf27f",
   "metadata": {},
   "outputs": [],
   "source": [
    "class TextGenerator(tf.keras.Model):\n",
    "    def __init__(self, vocab_size, embedding_size, hidden_size):\n",
    "        super().__init__()\n",
    "        \n",
    "        self.embedding = tf.keras.layers.Embedding(vocab_size, embedding_size)\n",
    "        self.rnn_1 = tf.keras.layers.LSTM(hidden_size, return_sequences=True)\n",
    "        self.rnn_2 = tf.keras.layers.LSTM(hidden_size, return_sequences=True)\n",
    "        self.linear = tf.keras.layers.Dense(vocab_size)\n",
    "        \n",
    "    def call(self, x):\n",
    "        out = self.embedding(x)\n",
    "        out = self.rnn_1(out)\n",
    "        out = self.rnn_2(out)\n",
    "        out = self.linear(out)\n",
    "        \n",
    "        return out\n",
    "    \n",
    "embedding_size = 256 #워드벡터의 차원수. 즉, 단어가 추상적으로 표현되는 크기.\n",
    "hidden_size = 1024 #얼마나 많은 일꾼을 둘 것인가? 같은데이터를 가지고 각자의 생각을 갖는다.\n",
    "lyricist = TextGenerator(tokenizer.num_words + 1, embedding_size , hidden_size)"
   ]
  },
  {
   "cell_type": "code",
   "execution_count": 12,
   "id": "93773b55",
   "metadata": {},
   "outputs": [
    {
     "data": {
      "text/plain": [
       "<tf.Tensor: shape=(256, 32, 12001), dtype=float32, numpy=\n",
       "array([[[-1.50271386e-04, -6.50537841e-05, -2.88962852e-04, ...,\n",
       "          1.72114214e-05,  1.10579633e-04,  6.44221873e-05],\n",
       "        [-1.94001492e-04,  1.27035382e-04, -3.29822738e-04, ...,\n",
       "         -9.44565545e-05,  2.18683868e-04,  2.42243405e-04],\n",
       "        [-2.72103149e-04,  3.15279554e-04, -2.83152127e-04, ...,\n",
       "         -2.94811936e-04,  3.16738558e-04,  2.22071219e-04],\n",
       "        ...,\n",
       "        [ 2.37131972e-04, -2.50920653e-03,  8.02296796e-04, ...,\n",
       "         -5.00246603e-03, -4.43833051e-06, -8.32079723e-03],\n",
       "        [ 1.94075605e-04, -2.64868955e-03,  7.80237315e-04, ...,\n",
       "         -5.08231716e-03,  7.12486290e-05, -8.44028220e-03],\n",
       "        [ 1.60147843e-04, -2.77428911e-03,  7.57639413e-04, ...,\n",
       "         -5.14460262e-03,  1.40535194e-04, -8.53389408e-03]],\n",
       "\n",
       "       [[-1.50271386e-04, -6.50537841e-05, -2.88962852e-04, ...,\n",
       "          1.72114214e-05,  1.10579633e-04,  6.44221873e-05],\n",
       "        [-1.10269430e-05, -3.06040311e-04, -6.32705516e-04, ...,\n",
       "         -2.80845910e-04,  8.03216244e-05,  5.11356338e-04],\n",
       "        [ 2.66717310e-04, -4.63099364e-04, -6.18461287e-04, ...,\n",
       "         -1.02622100e-04, -9.49875321e-05,  6.68630120e-04],\n",
       "        ...,\n",
       "        [ 5.11155486e-05, -2.39501800e-03,  1.61682442e-03, ...,\n",
       "         -2.96496111e-03, -6.69950561e-04, -5.39126527e-03],\n",
       "        [ 4.22586818e-05, -2.51517282e-03,  1.54613261e-03, ...,\n",
       "         -3.37756635e-03, -6.61073020e-04, -6.06093043e-03],\n",
       "        [ 2.64094942e-05, -2.61569559e-03,  1.45755359e-03, ...,\n",
       "         -3.73565243e-03, -6.19222817e-04, -6.61717262e-03]],\n",
       "\n",
       "       [[-1.50271386e-04, -6.50537841e-05, -2.88962852e-04, ...,\n",
       "          1.72114214e-05,  1.10579633e-04,  6.44221873e-05],\n",
       "        [-2.02221359e-04, -1.15990013e-04, -2.18480534e-04, ...,\n",
       "          5.20759640e-05,  2.94322963e-05,  2.59285589e-04],\n",
       "        [-2.11768653e-04,  8.62154120e-05, -4.60899064e-05, ...,\n",
       "         -5.40480651e-05,  8.13683218e-05,  4.60909912e-04],\n",
       "        ...,\n",
       "        [ 1.02003003e-04, -3.37115023e-03,  5.80012624e-04, ...,\n",
       "         -5.28733293e-03,  4.33193520e-04, -8.76311678e-03],\n",
       "        [ 1.08350418e-04, -3.41518340e-03,  5.68679068e-04, ...,\n",
       "         -5.29115368e-03,  4.55571833e-04, -8.77929665e-03],\n",
       "        [ 1.14591559e-04, -3.45344353e-03,  5.58821484e-04, ...,\n",
       "         -5.29310852e-03,  4.74454282e-04, -8.79275426e-03]],\n",
       "\n",
       "       ...,\n",
       "\n",
       "       [[-1.50271386e-04, -6.50537841e-05, -2.88962852e-04, ...,\n",
       "          1.72114214e-05,  1.10579633e-04,  6.44221873e-05],\n",
       "        [-1.52614841e-04,  9.08849324e-05, -2.79205211e-04, ...,\n",
       "         -1.85575336e-05, -1.15039955e-04,  8.53874590e-05],\n",
       "        [-6.55687836e-05,  2.30567734e-04, -2.33157218e-04, ...,\n",
       "          8.59304855e-05, -8.50336219e-05, -4.67942446e-05],\n",
       "        ...,\n",
       "        [ 1.29212844e-04, -3.30627989e-03,  5.89198840e-04, ...,\n",
       "         -5.29188942e-03,  4.94139269e-04, -8.77199508e-03],\n",
       "        [ 1.28143569e-04, -3.35636386e-03,  5.79394458e-04, ...,\n",
       "         -5.29857818e-03,  5.08946076e-04, -8.78707506e-03],\n",
       "        [ 1.28388157e-04, -3.40056280e-03,  5.70745673e-04, ...,\n",
       "         -5.30202733e-03,  5.21047565e-04, -8.79919156e-03]],\n",
       "\n",
       "       [[-1.50271386e-04, -6.50537841e-05, -2.88962852e-04, ...,\n",
       "          1.72114214e-05,  1.10579633e-04,  6.44221873e-05],\n",
       "        [-3.06999806e-04,  3.18968741e-05, -5.56699350e-04, ...,\n",
       "         -2.03316726e-04,  2.22129849e-04,  1.76444082e-04],\n",
       "        [-4.83515818e-04,  4.35252034e-04, -6.75246061e-04, ...,\n",
       "         -2.80175038e-04,  2.64074450e-04,  3.90987581e-04],\n",
       "        ...,\n",
       "        [ 1.37629075e-04, -3.16179264e-03,  5.74778765e-04, ...,\n",
       "         -5.17517468e-03,  3.79426958e-04, -8.67823977e-03],\n",
       "        [ 1.31807639e-04, -3.22815054e-03,  5.66091097e-04, ...,\n",
       "         -5.20226033e-03,  4.10455599e-04, -8.71056784e-03],\n",
       "        [ 1.28335145e-04, -3.28737078e-03,  5.58402971e-04, ...,\n",
       "         -5.22286538e-03,  4.36895352e-04, -8.73656478e-03]],\n",
       "\n",
       "       [[-1.50271386e-04, -6.50537841e-05, -2.88962852e-04, ...,\n",
       "          1.72114214e-05,  1.10579633e-04,  6.44221873e-05],\n",
       "        [-1.21797479e-04, -2.06899087e-04, -1.49660889e-04, ...,\n",
       "          1.55681686e-04,  2.28225777e-04,  1.53433502e-04],\n",
       "        [-9.57089214e-05, -1.48706633e-04, -1.38091622e-04, ...,\n",
       "          2.21223032e-04,  2.72919831e-04,  3.51993949e-05],\n",
       "        ...,\n",
       "        [ 2.71622889e-06, -3.28804506e-03,  5.79377695e-04, ...,\n",
       "         -5.25745377e-03,  4.67322709e-04, -8.78428668e-03],\n",
       "        [ 2.04530097e-05, -3.34157096e-03,  5.67714276e-04, ...,\n",
       "         -5.27198939e-03,  4.88353893e-04, -8.79700761e-03],\n",
       "        [ 3.69672962e-05, -3.38829146e-03,  5.57630556e-04, ...,\n",
       "         -5.28194522e-03,  5.05698321e-04, -8.80698767e-03]]],\n",
       "      dtype=float32)>"
      ]
     },
     "execution_count": 12,
     "metadata": {},
     "output_type": "execute_result"
    }
   ],
   "source": [
    "#데이터셋에서 데이터 한 배치만 불러온다.\n",
    "for src_sample, trg_sample in dataset.take(1): break\n",
    "\n",
    "lyricist(src_sample) # 한 배치만 불러온 데이터를 모델에 넣어봅니다."
   ]
  },
  {
   "cell_type": "code",
   "execution_count": 13,
   "id": "f41368ff",
   "metadata": {},
   "outputs": [
    {
     "name": "stdout",
     "output_type": "stream",
     "text": [
      "Model: \"text_generator\"\n",
      "_________________________________________________________________\n",
      "Layer (type)                 Output Shape              Param #   \n",
      "=================================================================\n",
      "embedding (Embedding)        multiple                  3072256   \n",
      "_________________________________________________________________\n",
      "lstm (LSTM)                  multiple                  5246976   \n",
      "_________________________________________________________________\n",
      "lstm_1 (LSTM)                multiple                  8392704   \n",
      "_________________________________________________________________\n",
      "dense (Dense)                multiple                  12301025  \n",
      "=================================================================\n",
      "Total params: 29,012,961\n",
      "Trainable params: 29,012,961\n",
      "Non-trainable params: 0\n",
      "_________________________________________________________________\n"
     ]
    }
   ],
   "source": [
    "lyricist.summary()"
   ]
  },
  {
   "cell_type": "code",
   "execution_count": 14,
   "id": "f7f05e4d",
   "metadata": {},
   "outputs": [
    {
     "name": "stdout",
     "output_type": "stream",
     "text": [
      "Epoch 1/5\n",
      "437/437 [==============================] - 164s 370ms/step - loss: 1.7903\n",
      "Epoch 2/5\n",
      "437/437 [==============================] - 176s 402ms/step - loss: 1.4976\n",
      "Epoch 3/5\n",
      "437/437 [==============================] - 177s 405ms/step - loss: 1.4276\n",
      "Epoch 4/5\n",
      "437/437 [==============================] - 177s 404ms/step - loss: 1.3777\n",
      "Epoch 5/5\n",
      "437/437 [==============================] - 177s 404ms/step - loss: 1.3376\n"
     ]
    },
    {
     "data": {
      "text/plain": [
       "<keras.callbacks.History at 0x7f51ee4b4e20>"
      ]
     },
     "execution_count": 14,
     "metadata": {},
     "output_type": "execute_result"
    }
   ],
   "source": [
    "#Loss\n",
    "# 알고싶으면 아래 문서 참조\n",
    "# https://www.tensorflow.org/api_docs/python/tf/keras/optimizers\n",
    "# https://www.tensorflow.org/api_docs/python/tf/keras/losses\n",
    "optimizer = tf.keras.optimizers.Adam()\n",
    "loss = tf.keras.losses.SparseCategoricalCrossentropy(\n",
    "    from_logits=True, reduction='none')\n",
    "\n",
    "lyricist.compile(loss = loss, optimizer = optimizer)\n",
    "lyricist.fit(dataset, epochs = 5)"
   ]
  },
  {
   "cell_type": "code",
   "execution_count": 15,
   "id": "e7c81550",
   "metadata": {},
   "outputs": [],
   "source": [
    "def generate_text(lyricist, tokenizer, init_sentence=\"<start>\", max_len=32):\n",
    "    # 테스트를 위해서 입력받은 init_sentence도 텐서로 변환합니다\n",
    "    test_input = tokenizer.texts_to_sequences([init_sentence])\n",
    "    test_tensor = tf.convert_to_tensor(test_input, dtype=tf.int64)\n",
    "    end_token = tokenizer.word_index[\"<end>\"]\n",
    "\n",
    "    # 단어 하나씩 예측해 문장을 만듭니다\n",
    "    #    1. 입력받은 문장의 텐서를 입력합니다\n",
    "    #    2. 예측된 값 중 가장 높은 확률인 word index를 뽑아냅니다\n",
    "    #    3. 2에서 예측된 word index를 문장 뒤에 붙입니다\n",
    "    #    4. 모델이 <end>를 예측했거나, max_len에 도달했다면 문장 생성을 마칩니다\n",
    "    while True:\n",
    "        # 1\n",
    "        predict = lyricist(test_tensor) \n",
    "        # 2\n",
    "        predict_word = tf.argmax(tf.nn.softmax(predict, axis=-1), axis=-1)[:, -1] \n",
    "        # 3 \n",
    "        test_tensor = tf.concat([test_tensor, tf.expand_dims(predict_word, axis=0)], axis=-1)\n",
    "        # 4\n",
    "        if predict_word.numpy()[0] == end_token: break\n",
    "        if test_tensor.shape[1] >= max_len: break\n",
    "\n",
    "    generated = \"\"\n",
    "    # tokenizer를 이용해 word index를 단어로 하나씩 변환합니다 \n",
    "    for word_index in test_tensor[0].numpy():\n",
    "        generated += tokenizer.index_word[word_index] + \" \"\n",
    "\n",
    "    return generated"
   ]
  },
  {
   "cell_type": "code",
   "execution_count": 16,
   "id": "02636ae9",
   "metadata": {},
   "outputs": [
    {
     "data": {
      "text/plain": [
       "\"<start> i love you , i don't know what i do <end> \""
      ]
     },
     "execution_count": 16,
     "metadata": {},
     "output_type": "execute_result"
    }
   ],
   "source": [
    "generate_text(lyricist, tokenizer, init_sentence=\"<start> I love \", max_len=32)"
   ]
  },
  {
   "cell_type": "markdown",
   "id": "7123aa06",
   "metadata": {},
   "source": [
    "# 회고"
   ]
  },
  {
   "cell_type": "markdown",
   "id": "ef53ac57",
   "metadata": {},
   "source": [
    "    이번 프로젝트를 하며 가장 어려웠던 점은, enc_train.shape 과, dec_train.shape 을 맞추는 것이었습니다.\n",
    "    처음 노드를 보았을 때, 각각 Source Train: (124960,14), Target Train: (124960,14)를 얻도록 검토해 보라고 해서, 그 부분에서 많은 갈등이 있었습니다. 후에 노드가 바뀌어 그 구간이 사라졌지만, 어쨋든 저는 혹시 그 부분을 줄이거나 늘릴 수 있다면, 어떤방법이 있을까 고민을 많이하였습니다. 앞 부분을 표시하는 124960 은, 중간에 학습 문장수를 줄이면서 같이 줄었지만, 뒤의 14부분은 줄이는데에 실패하였습니다. 하지만 조사를 하며 알아낸 점이 있기에 절대 시간낭비라는 생각은 하지 않습니다. 우선, 노드 마지막 부분에 말씀해주신 14라는 부분은 노드 4-5. 부분에서 알아낼 수 있었습니다. max_len가 14로 맞춰 져 있었다는 말일텐데, 저는 그 부분이 32로 나왔었습니다. 안그래도, 패딩후에 실험삼아 tensor의 개수를 세 보았는데 32로 일치하였고, 이부분이 같다는 점을 알아 내었습니다.\n",
    "\n",
    "    이번 노드는 제게 흥미로운 부분들이 많았기에, 다양한 실험들을 했다고 할 수 있는데, 그로인해 모호한 점이 많았습니다.\n",
    "    먼저, 위에 말씀드린 max_len를 직접 조작할 수 있는지가 궁금하였고, 그로 인한 따라오는 궁금증 으로는, 왜 32로 고정되었을까? 입니다. 처음 생각했을 때에는 토큰의 개수가 15개가 넘어가는 문장은 학습데이터에서 제외했으므로, 패딩을 한 후의 tensor 역시 최대 15개 일 줄았으나, 그러지 않았다는점이 궁금하였습니다.\n",
    "    다음으로 궁금한 점은, 단어장의 크기입니다. 분명 단어장의 크기를 12000으로 조절하였음에도, 패딩을 포함하여 12001임에도, 토큰의 총 개수가 28540개로 나오는 점이 궁금하였습니다.\n",
    "    마지막으로 아직까지 해결하지 못한 문제는, 마지막 output에 <unk>이 섞여서 나온다는 점입니다. <unk>은 단어장 12000개에 포함되지 않는 단어임은 알고있습니다. 하지만 왜 이 단어가 마지막 테스트 하는 부분에서 끼어서 나올까가 궁금했습니다. 사실 마지막 부분에 generate_tex(model, tokenizer .... ) 이런식으로 썼었는데, 노드 마지막에서 제공해 준 대로 generate_text(lyricist, ....) 로 model에서 lyricist로 바꾸어 주었는데, 그랬더니 <unk> 현상은 사라지는대신, 같은 단어를 여러번 반복하는 또 다른 의문점을 만드는 일이 생기고 말았었습니다. 다시 고쳐지기는 했으나, 어떤 원인으로인해 생인 현상인지를 아직 찾지 못하였다는 점이 참으로 슬픕니다...\n",
    "\n",
    "    이번 루브릭 지표를 맞추기 위해 시도한 것들로는 결과에 <unk>같은 문장이 나오지 않게 하기 위해 노력하였고, 결과 값에 계속 같은 패턴의 단어를 반복적으로 사용하는것이, '노래 가사' 라는 특성상, 같은 가사가 두번 이상 반복되는 경우가 많을 것 같아서, splitline으로 나누어 둔 줄 가사 list를 set으로 바꿔 줌 으로써 중복 list를 없애버려 학습에 도움이 되도록 해 보았습니다. 또한, don't, i'm, it's 등의 ' 특수문자가 있어서 기본 노드에서 가져 온 특수문자 제서 파트에 '가 정상적으로 출력이 되도록 만들었습니다. 토큰의 개수가 15개를 넘지 않게 하기 위해, split이라는 함수를 사용하여, sentence내의 문장을 우선 띄어쓰기를 기준으로 잘라내어 15 단어가 넘으면, 토큰화에서 제거하였습니다. validation loss 값이 2.2 이하로 떨어지게 하기 위하여 embeddig size 와 hidden size 등을 조정해 보았습니다.\n",
    "    만약 루브릭 평가 관련 지표를 달성하지 못하였다면, 위에 아직 알아내지 못한 max_len를 조절할 수 있는지가 아직 의문이 남은 점, 그리고 마지막 결과 가사가 매끄럽지 못한 부분들이 루브릭 관련 지표를 달성하지 못하게 만들지 않았나 고려해 봅니다.\n",
    "    \n",
    "감사합니다."
   ]
  }
 ],
 "metadata": {
  "kernelspec": {
   "display_name": "Python 3 (ipykernel)",
   "language": "python",
   "name": "python3"
  },
  "language_info": {
   "codemirror_mode": {
    "name": "ipython",
    "version": 3
   },
   "file_extension": ".py",
   "mimetype": "text/x-python",
   "name": "python",
   "nbconvert_exporter": "python",
   "pygments_lexer": "ipython3",
   "version": "3.9.7"
  }
 },
 "nbformat": 4,
 "nbformat_minor": 5
}
